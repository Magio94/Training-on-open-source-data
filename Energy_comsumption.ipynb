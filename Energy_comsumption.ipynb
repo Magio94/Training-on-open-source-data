{
 "cells": [
  {
   "cell_type": "code",
   "execution_count": 17,
   "outputs": [],
   "source": [
    "import geopandas as gpd, numpy as np\n",
    "import pandas as pd\n",
    "import rasterio as rio\n",
    "from shapely.geometry import LineString, Point"
   ],
   "metadata": {
    "collapsed": false,
    "ExecuteTime": {
     "end_time": "2023-11-08T10:25:23.326905200Z",
     "start_time": "2023-11-08T10:25:23.290241600Z"
    }
   },
   "id": "d8f015eccebfe0be"
  },
  {
   "cell_type": "code",
   "execution_count": 19,
   "outputs": [],
   "source": [
    "# Carica il GeoDataFrame lineare\n",
    "gdf = gpd.read_file('C:\\\\Users\\\\niett\\\\Downloads\\\\shp_linea.shp')  # Assicurati di usare il tuo percorso corretto al file\n",
    "\n",
    "# Carica il DEM\n",
    "with rio.open('DEM/dem_resample.tif') as src:  # Anche qui usa il tuo percorso al DEM\n",
    "    affine = src.transform\n",
    "    elevation = src.read(1)  # Assumi che il DEM abbia una sola banda\n",
    "\n",
    "def get_elevation(x, y):\n",
    "    row, col = rio.transform.rowcol(affine, x, y)\n",
    "    return elevation[row, col]\n",
    "\n",
    "def interpolate_points(line, interval):\n",
    "    # Calcola il numero di segmenti in base alla lunghezza della linea e all'intervallo\n",
    "    length = line.length\n",
    "    \n",
    "    # Interpola i punti lungo la linea\n",
    "    points = [line.interpolate(distance) for distance in np.arange(0, length, interval)]\n",
    "    if not line.is_closed:\n",
    "        last_point = line.boundary.geoms[-1]  # Ottiene l'ultimo punto\n",
    "        points.append(last_point)\n",
    "    return points\n",
    "\n",
    "def extract_segments_and_elevations(line, pixel_size):\n",
    "    interpolated_points = interpolate_points(line, pixel_size)\n",
    "    elevations = [get_elevation(p.x, p.y) for p in interpolated_points]\n",
    "    elevation_differences = [j - i for i, j in zip(elevations[:-1], elevations[1:])]\n",
    "    \n",
    "    # Crea segmenti e associa le differenze di elevazione\n",
    "    segments = [LineString([interpolated_points[i], interpolated_points[i+1]]) for i in range(len(interpolated_points) - 1)]\n",
    "    \n",
    "    return pd.DataFrame({'geometry': segments, 'elevation_difference': elevation_differences})\n",
    "\n",
    "# Calcola la dimensione del pixel dal DEM\n",
    "pixel_size = src.res[0]  # Assumi che il raster abbia la stessa risoluzione in x e y\n",
    "\n",
    "# Applica la funzione a ogni geometria nel GeoDataFrame\n",
    "segments_list = gdf['geometry'].apply(lambda geom: extract_segments_and_elevations(geom, pixel_size))\n",
    "\n",
    "# Concatena tutti i DataFrames in uno solo\n",
    "segments_df = pd.concat(segments_list.tolist()).reset_index(drop=True)\n",
    "\n",
    "# Crea un GeoDataFrame dai segmenti\n",
    "segments_gdf = gpd.GeoDataFrame(segments_df, geometry='geometry')\n",
    "segments_gdf.crs = gdf.crs  # Assicurati di assegnare il sistema di riferimento corretto"
   ],
   "metadata": {
    "collapsed": false,
    "ExecuteTime": {
     "end_time": "2023-11-08T10:28:02.243790600Z",
     "start_time": "2023-11-08T10:28:02.021403500Z"
    }
   },
   "id": "bebce4902fe96975"
  },
  {
   "cell_type": "code",
   "execution_count": 20,
   "outputs": [
    {
     "data": {
      "text/plain": "                                               geometry  elevation_difference\n0     LINESTRING (564732.318 4928435.168, 564937.715...             32.419861\n1     LINESTRING (564937.715 4928577.688, 565143.112...            -93.663788\n2     LINESTRING (565143.112 4928720.209, 565348.509...             48.302917\n3     LINESTRING (565348.509 4928862.729, 565553.906...            -45.006104\n4     LINESTRING (565553.906 4929005.249, 565759.303...             -1.873901\n...                                                 ...                   ...\n1134  LINESTRING (750784.533 4891275.451, 750897.574...             46.122627\n1135  LINESTRING (750897.574 4891052.467, 751010.614...             13.971512\n1136  LINESTRING (751010.614 4890829.483, 751123.655...            -33.122108\n1137  LINESTRING (751123.655 4890606.499, 751236.695...             31.066200\n1138  LINESTRING (751236.695 4890383.515, 751303.089...             37.357300\n\n[1139 rows x 2 columns]",
      "text/html": "<div>\n<style scoped>\n    .dataframe tbody tr th:only-of-type {\n        vertical-align: middle;\n    }\n\n    .dataframe tbody tr th {\n        vertical-align: top;\n    }\n\n    .dataframe thead th {\n        text-align: right;\n    }\n</style>\n<table border=\"1\" class=\"dataframe\">\n  <thead>\n    <tr style=\"text-align: right;\">\n      <th></th>\n      <th>geometry</th>\n      <th>elevation_difference</th>\n    </tr>\n  </thead>\n  <tbody>\n    <tr>\n      <th>0</th>\n      <td>LINESTRING (564732.318 4928435.168, 564937.715...</td>\n      <td>32.419861</td>\n    </tr>\n    <tr>\n      <th>1</th>\n      <td>LINESTRING (564937.715 4928577.688, 565143.112...</td>\n      <td>-93.663788</td>\n    </tr>\n    <tr>\n      <th>2</th>\n      <td>LINESTRING (565143.112 4928720.209, 565348.509...</td>\n      <td>48.302917</td>\n    </tr>\n    <tr>\n      <th>3</th>\n      <td>LINESTRING (565348.509 4928862.729, 565553.906...</td>\n      <td>-45.006104</td>\n    </tr>\n    <tr>\n      <th>4</th>\n      <td>LINESTRING (565553.906 4929005.249, 565759.303...</td>\n      <td>-1.873901</td>\n    </tr>\n    <tr>\n      <th>...</th>\n      <td>...</td>\n      <td>...</td>\n    </tr>\n    <tr>\n      <th>1134</th>\n      <td>LINESTRING (750784.533 4891275.451, 750897.574...</td>\n      <td>46.122627</td>\n    </tr>\n    <tr>\n      <th>1135</th>\n      <td>LINESTRING (750897.574 4891052.467, 751010.614...</td>\n      <td>13.971512</td>\n    </tr>\n    <tr>\n      <th>1136</th>\n      <td>LINESTRING (751010.614 4890829.483, 751123.655...</td>\n      <td>-33.122108</td>\n    </tr>\n    <tr>\n      <th>1137</th>\n      <td>LINESTRING (751123.655 4890606.499, 751236.695...</td>\n      <td>31.066200</td>\n    </tr>\n    <tr>\n      <th>1138</th>\n      <td>LINESTRING (751236.695 4890383.515, 751303.089...</td>\n      <td>37.357300</td>\n    </tr>\n  </tbody>\n</table>\n<p>1139 rows × 2 columns</p>\n</div>"
     },
     "execution_count": 20,
     "metadata": {},
     "output_type": "execute_result"
    }
   ],
   "source": [
    "segments_gdf"
   ],
   "metadata": {
    "collapsed": false,
    "ExecuteTime": {
     "end_time": "2023-11-08T10:28:03.720283Z",
     "start_time": "2023-11-08T10:28:03.712735100Z"
    }
   },
   "id": "3332a5408796d32b"
  },
  {
   "cell_type": "code",
   "execution_count": 21,
   "outputs": [
    {
     "name": "stderr",
     "output_type": "stream",
     "text": [
      "C:\\Users\\niett\\AppData\\Local\\Temp\\ipykernel_13620\\3779152106.py:1: UserWarning: Column names longer than 10 characters will be truncated when saved to ESRI Shapefile.\n",
      "  segments_gdf.to_file('linea.shp')\n"
     ]
    }
   ],
   "source": [
    "segments_gdf.to_file('linea.shp')"
   ],
   "metadata": {
    "collapsed": false,
    "ExecuteTime": {
     "end_time": "2023-11-08T10:28:35.642537300Z",
     "start_time": "2023-11-08T10:28:35.559597500Z"
    }
   },
   "id": "2b72de77da29a921"
  },
  {
   "cell_type": "code",
   "execution_count": 22,
   "outputs": [],
   "source": [
    "# Carica il raster della velocità del vento\n",
    "wind_raster_path = 'Storico meteo/Raster_export/average_normalized_raster.tif'\n",
    "with rio.open(wind_raster_path) as wind_src:\n",
    "    wind_affine = wind_src.transform\n",
    "    wind_speed = wind_src.read(1)\n",
    "\n",
    "# Funzione per ottenere la velocità del vento\n",
    "def get_wind_speed(x, y):\n",
    "    row, col = rio.transform.rowcol(wind_affine, x, y)\n",
    "    return wind_speed[row, col]\n",
    "\n",
    "# Modifica la funzione per estrarre anche la velocità media del vento per segmento\n",
    "def extract_segments_elevation_and_wind(line, pixel_size):\n",
    "    interpolated_points = interpolate_points(line, pixel_size)\n",
    "    elevations = [get_elevation(p.x, p.y) for p in interpolated_points]\n",
    "    wind_speeds = [get_wind_speed(p.x, p.y) for p in interpolated_points]\n",
    "    \n",
    "    elevation_differences = [j - i for i, j in zip(elevations[:-1], elevations[1:])]\n",
    "    average_wind_speeds = [np.mean(wind_speeds[i:i+2]) for i in range(len(wind_speeds)-1)]  # Media tra i punti adiacenti\n",
    "\n",
    "    # Crea segmenti e associa le differenze di elevazione e la media della velocità del vento\n",
    "    segments = [LineString([interpolated_points[i], interpolated_points[i+1]]) for i in range(len(interpolated_points) - 1)]\n",
    "    \n",
    "    return pd.DataFrame({'geometry': segments, 'elevation_difference': elevation_differences, 'average_wind_speed': average_wind_speeds})\n",
    "\n",
    "# Applica la funzione modificata al tuo GeoDataFrame\n",
    "segments_with_wind_list = gdf['geometry'].apply(lambda geom: extract_segments_elevation_and_wind(geom, pixel_size))\n",
    "\n",
    "# Concatena tutti i DataFrames in uno solo\n",
    "segments_with_wind_df = pd.concat(segments_with_wind_list.tolist()).reset_index(drop=True)\n",
    "\n",
    "# Crea un nuovo GeoDataFrame dai segmenti con informazioni aggiuntive sulla velocità del vento\n",
    "segments_with_wind_gdf = gpd.GeoDataFrame(segments_with_wind_df, geometry='geometry')\n",
    "segments_with_wind_gdf.crs = gdf.crs"
   ],
   "metadata": {
    "collapsed": false,
    "ExecuteTime": {
     "end_time": "2023-11-08T10:47:52.268433600Z",
     "start_time": "2023-11-08T10:47:52.136267500Z"
    }
   },
   "id": "e07f221f6bdfd537"
  },
  {
   "cell_type": "code",
   "execution_count": 23,
   "outputs": [
    {
     "data": {
      "text/plain": "                                               geometry  elevation_difference  \\\n0     LINESTRING (564732.318 4928435.168, 564937.715...             32.419861   \n1     LINESTRING (564937.715 4928577.688, 565143.112...            -93.663788   \n2     LINESTRING (565143.112 4928720.209, 565348.509...             48.302917   \n3     LINESTRING (565348.509 4928862.729, 565553.906...            -45.006104   \n4     LINESTRING (565553.906 4929005.249, 565759.303...             -1.873901   \n...                                                 ...                   ...   \n1134  LINESTRING (750784.533 4891275.451, 750897.574...             46.122627   \n1135  LINESTRING (750897.574 4891052.467, 751010.614...             13.971512   \n1136  LINESTRING (751010.614 4890829.483, 751123.655...            -33.122108   \n1137  LINESTRING (751123.655 4890606.499, 751236.695...             31.066200   \n1138  LINESTRING (751236.695 4890383.515, 751303.089...             37.357300   \n\n      average_wind_speed  \n0               0.657223  \n1               0.428541  \n2               0.200042  \n3               0.200210  \n4               0.200042  \n...                  ...  \n1134            0.342288  \n1135            0.342288  \n1136            0.573236  \n1137            0.342689  \n1138            0.342689  \n\n[1139 rows x 3 columns]",
      "text/html": "<div>\n<style scoped>\n    .dataframe tbody tr th:only-of-type {\n        vertical-align: middle;\n    }\n\n    .dataframe tbody tr th {\n        vertical-align: top;\n    }\n\n    .dataframe thead th {\n        text-align: right;\n    }\n</style>\n<table border=\"1\" class=\"dataframe\">\n  <thead>\n    <tr style=\"text-align: right;\">\n      <th></th>\n      <th>geometry</th>\n      <th>elevation_difference</th>\n      <th>average_wind_speed</th>\n    </tr>\n  </thead>\n  <tbody>\n    <tr>\n      <th>0</th>\n      <td>LINESTRING (564732.318 4928435.168, 564937.715...</td>\n      <td>32.419861</td>\n      <td>0.657223</td>\n    </tr>\n    <tr>\n      <th>1</th>\n      <td>LINESTRING (564937.715 4928577.688, 565143.112...</td>\n      <td>-93.663788</td>\n      <td>0.428541</td>\n    </tr>\n    <tr>\n      <th>2</th>\n      <td>LINESTRING (565143.112 4928720.209, 565348.509...</td>\n      <td>48.302917</td>\n      <td>0.200042</td>\n    </tr>\n    <tr>\n      <th>3</th>\n      <td>LINESTRING (565348.509 4928862.729, 565553.906...</td>\n      <td>-45.006104</td>\n      <td>0.200210</td>\n    </tr>\n    <tr>\n      <th>4</th>\n      <td>LINESTRING (565553.906 4929005.249, 565759.303...</td>\n      <td>-1.873901</td>\n      <td>0.200042</td>\n    </tr>\n    <tr>\n      <th>...</th>\n      <td>...</td>\n      <td>...</td>\n      <td>...</td>\n    </tr>\n    <tr>\n      <th>1134</th>\n      <td>LINESTRING (750784.533 4891275.451, 750897.574...</td>\n      <td>46.122627</td>\n      <td>0.342288</td>\n    </tr>\n    <tr>\n      <th>1135</th>\n      <td>LINESTRING (750897.574 4891052.467, 751010.614...</td>\n      <td>13.971512</td>\n      <td>0.342288</td>\n    </tr>\n    <tr>\n      <th>1136</th>\n      <td>LINESTRING (751010.614 4890829.483, 751123.655...</td>\n      <td>-33.122108</td>\n      <td>0.573236</td>\n    </tr>\n    <tr>\n      <th>1137</th>\n      <td>LINESTRING (751123.655 4890606.499, 751236.695...</td>\n      <td>31.066200</td>\n      <td>0.342689</td>\n    </tr>\n    <tr>\n      <th>1138</th>\n      <td>LINESTRING (751236.695 4890383.515, 751303.089...</td>\n      <td>37.357300</td>\n      <td>0.342689</td>\n    </tr>\n  </tbody>\n</table>\n<p>1139 rows × 3 columns</p>\n</div>"
     },
     "execution_count": 23,
     "metadata": {},
     "output_type": "execute_result"
    }
   ],
   "source": [
    "segments_with_wind_gdf"
   ],
   "metadata": {
    "collapsed": false,
    "ExecuteTime": {
     "end_time": "2023-11-08T10:47:57.459382900Z",
     "start_time": "2023-11-08T10:47:57.427747100Z"
    }
   },
   "id": "f2c577ef33c75cfa"
  },
  {
   "cell_type": "code",
   "execution_count": 27,
   "outputs": [],
   "source": [
    "def calcola_consumo_energetico(segmento, elevazione_differenza, velocità_vento_media):\n",
    "    # Sostituisci i seguenti valori con quelli effettivi dalla formula del paper.\n",
    "    # Esempio di parametri che potrebbero essere nella formula:\n",
    "    costo_energetico_base = 1.0  # energia di base consumata per metro\n",
    "    fattore_elevazione = 0.1  # energia addizionale consumata per metro di elevazione\n",
    "    fattore_vento = 0.05  # energia addizionale consumata per unità di velocità del vento\n",
    "\n",
    "    # Calcola la lunghezza del segmento\n",
    "    lunghezza_segmento = segmento.length\n",
    "\n",
    "    # Applica la formula dal paper scientifico\n",
    "    consumo_energetico = (costo_energetico_base +\n",
    "                          fattore_elevazione * elevazione_differenza +\n",
    "                          fattore_vento * velocità_vento_media) * lunghezza_segmento\n",
    "\n",
    "    return consumo_energetico"
   ],
   "metadata": {
    "collapsed": false,
    "ExecuteTime": {
     "end_time": "2023-11-08T11:06:09.108772600Z",
     "start_time": "2023-11-08T11:06:09.084025300Z"
    }
   },
   "id": "10e412fe5b6b9f46"
  },
  {
   "cell_type": "code",
   "execution_count": 37,
   "outputs": [],
   "source": [
    "# Calcolo del consumo energetico per ogni segmento\n",
    "segments_with_wind_gdf['consumo_energetico'] = segments_with_wind_gdf.apply(\n",
    "    lambda row: calcola_consumo_energetico(row['geometry'], row['elevation_difference'], row['average_wind_speed']),\n",
    "    axis=1\n",
    ")\n",
    "\n",
    "segments_with_wind_gdf['consumo_energetico_abs'] = segments_with_wind_gdf['consumo_energetico'].abs()"
   ],
   "metadata": {
    "collapsed": false,
    "ExecuteTime": {
     "end_time": "2023-11-08T11:10:51.709341900Z",
     "start_time": "2023-11-08T11:10:51.704819900Z"
    }
   },
   "id": "87fa6600eade7bdf"
  },
  {
   "cell_type": "code",
   "execution_count": 38,
   "outputs": [],
   "source": [
    "consumo_energetico_totale = segments_with_wind_gdf['consumo_energetico_abs'].sum()"
   ],
   "metadata": {
    "collapsed": false,
    "ExecuteTime": {
     "end_time": "2023-11-08T11:10:56.858220800Z",
     "start_time": "2023-11-08T11:10:56.856713700Z"
    }
   },
   "id": "e7c80910b102b367"
  },
  {
   "cell_type": "code",
   "execution_count": 39,
   "outputs": [
    {
     "data": {
      "text/plain": "466644.47863828845"
     },
     "execution_count": 39,
     "metadata": {},
     "output_type": "execute_result"
    }
   ],
   "source": [
    "consumo_energetico_totale"
   ],
   "metadata": {
    "collapsed": false,
    "ExecuteTime": {
     "end_time": "2023-11-08T11:10:57.056591200Z",
     "start_time": "2023-11-08T11:10:57.049864800Z"
    }
   },
   "id": "ce292eec3b6ce00b"
  },
  {
   "cell_type": "code",
   "execution_count": 40,
   "outputs": [
    {
     "data": {
      "text/plain": "                                               geometry  elevation_difference  \\\n0     LINESTRING (564732.318 4928435.168, 564937.715...             32.419861   \n1     LINESTRING (564937.715 4928577.688, 565143.112...            -93.663788   \n2     LINESTRING (565143.112 4928720.209, 565348.509...             48.302917   \n3     LINESTRING (565348.509 4928862.729, 565553.906...            -45.006104   \n4     LINESTRING (565553.906 4929005.249, 565759.303...             -1.873901   \n...                                                 ...                   ...   \n1134  LINESTRING (750784.533 4891275.451, 750897.574...             46.122627   \n1135  LINESTRING (750897.574 4891052.467, 751010.614...             13.971512   \n1136  LINESTRING (751010.614 4890829.483, 751123.655...            -33.122108   \n1137  LINESTRING (751123.655 4890606.499, 751236.695...             31.066200   \n1138  LINESTRING (751236.695 4890383.515, 751303.089...             37.357300   \n\n      average_wind_speed  consumo_energetico  consumo_energetico_abs  \n0               0.657223         1068.711807             1068.711807  \n1               0.428541        -2086.237939             2086.237939  \n2               0.200042         1460.073458             1460.073458  \n3               0.200210         -872.649968              872.649968  \n4               0.200042          205.652987              205.652987  \n...                  ...                 ...                     ...  \n1134            0.342288         1407.344286             1407.344286  \n1135            0.342288          603.566400              603.566400  \n1136            0.573236         -570.887258              570.887258  \n1137            0.342689         1030.938616             1030.938616  \n1138            0.342689          697.897515              697.897515  \n\n[1139 rows x 5 columns]",
      "text/html": "<div>\n<style scoped>\n    .dataframe tbody tr th:only-of-type {\n        vertical-align: middle;\n    }\n\n    .dataframe tbody tr th {\n        vertical-align: top;\n    }\n\n    .dataframe thead th {\n        text-align: right;\n    }\n</style>\n<table border=\"1\" class=\"dataframe\">\n  <thead>\n    <tr style=\"text-align: right;\">\n      <th></th>\n      <th>geometry</th>\n      <th>elevation_difference</th>\n      <th>average_wind_speed</th>\n      <th>consumo_energetico</th>\n      <th>consumo_energetico_abs</th>\n    </tr>\n  </thead>\n  <tbody>\n    <tr>\n      <th>0</th>\n      <td>LINESTRING (564732.318 4928435.168, 564937.715...</td>\n      <td>32.419861</td>\n      <td>0.657223</td>\n      <td>1068.711807</td>\n      <td>1068.711807</td>\n    </tr>\n    <tr>\n      <th>1</th>\n      <td>LINESTRING (564937.715 4928577.688, 565143.112...</td>\n      <td>-93.663788</td>\n      <td>0.428541</td>\n      <td>-2086.237939</td>\n      <td>2086.237939</td>\n    </tr>\n    <tr>\n      <th>2</th>\n      <td>LINESTRING (565143.112 4928720.209, 565348.509...</td>\n      <td>48.302917</td>\n      <td>0.200042</td>\n      <td>1460.073458</td>\n      <td>1460.073458</td>\n    </tr>\n    <tr>\n      <th>3</th>\n      <td>LINESTRING (565348.509 4928862.729, 565553.906...</td>\n      <td>-45.006104</td>\n      <td>0.200210</td>\n      <td>-872.649968</td>\n      <td>872.649968</td>\n    </tr>\n    <tr>\n      <th>4</th>\n      <td>LINESTRING (565553.906 4929005.249, 565759.303...</td>\n      <td>-1.873901</td>\n      <td>0.200042</td>\n      <td>205.652987</td>\n      <td>205.652987</td>\n    </tr>\n    <tr>\n      <th>...</th>\n      <td>...</td>\n      <td>...</td>\n      <td>...</td>\n      <td>...</td>\n      <td>...</td>\n    </tr>\n    <tr>\n      <th>1134</th>\n      <td>LINESTRING (750784.533 4891275.451, 750897.574...</td>\n      <td>46.122627</td>\n      <td>0.342288</td>\n      <td>1407.344286</td>\n      <td>1407.344286</td>\n    </tr>\n    <tr>\n      <th>1135</th>\n      <td>LINESTRING (750897.574 4891052.467, 751010.614...</td>\n      <td>13.971512</td>\n      <td>0.342288</td>\n      <td>603.566400</td>\n      <td>603.566400</td>\n    </tr>\n    <tr>\n      <th>1136</th>\n      <td>LINESTRING (751010.614 4890829.483, 751123.655...</td>\n      <td>-33.122108</td>\n      <td>0.573236</td>\n      <td>-570.887258</td>\n      <td>570.887258</td>\n    </tr>\n    <tr>\n      <th>1137</th>\n      <td>LINESTRING (751123.655 4890606.499, 751236.695...</td>\n      <td>31.066200</td>\n      <td>0.342689</td>\n      <td>1030.938616</td>\n      <td>1030.938616</td>\n    </tr>\n    <tr>\n      <th>1138</th>\n      <td>LINESTRING (751236.695 4890383.515, 751303.089...</td>\n      <td>37.357300</td>\n      <td>0.342689</td>\n      <td>697.897515</td>\n      <td>697.897515</td>\n    </tr>\n  </tbody>\n</table>\n<p>1139 rows × 5 columns</p>\n</div>"
     },
     "execution_count": 40,
     "metadata": {},
     "output_type": "execute_result"
    }
   ],
   "source": [
    "segments_with_wind_gdf"
   ],
   "metadata": {
    "collapsed": false,
    "ExecuteTime": {
     "end_time": "2023-11-08T11:10:58.462892Z",
     "start_time": "2023-11-08T11:10:58.451628800Z"
    }
   },
   "id": "716eccb20dd391bf"
  },
  {
   "cell_type": "code",
   "execution_count": null,
   "outputs": [],
   "source": [],
   "metadata": {
    "collapsed": false
   },
   "id": "5e82d62d31f5bf7d"
  }
 ],
 "metadata": {
  "kernelspec": {
   "display_name": "Python 3",
   "language": "python",
   "name": "python3"
  },
  "language_info": {
   "codemirror_mode": {
    "name": "ipython",
    "version": 2
   },
   "file_extension": ".py",
   "mimetype": "text/x-python",
   "name": "python",
   "nbconvert_exporter": "python",
   "pygments_lexer": "ipython2",
   "version": "2.7.6"
  }
 },
 "nbformat": 4,
 "nbformat_minor": 5
}
