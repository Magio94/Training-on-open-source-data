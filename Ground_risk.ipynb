{
 "cells": [
  {
   "cell_type": "code",
   "execution_count": 1,
   "outputs": [],
   "source": [
    "import geopandas as gpd, pandas as pd, rasterio as rio, json,  numpy as np, matplotlib.pyplot as plt, math\n",
    "from rasterio.transform import from_origin\n",
    "from rasterio.features import rasterize\n",
    "from rasterio.enums import Resampling\n",
    "from rasterio.transform import rowcol\n",
    "from shapely.geometry import Polygon\n",
    "from scipy.integrate import odeint\n",
    "from shapely.geometry import Point\n",
    "from rasterio.plot import show\n",
    "from rasterio.mask import mask"
   ],
   "metadata": {
    "collapsed": false,
    "ExecuteTime": {
     "end_time": "2023-12-04T15:49:59.205761800Z",
     "start_time": "2023-12-04T15:49:58.337203600Z"
    }
   },
   "id": "d0df2346fd84c5fa"
  },
  {
   "cell_type": "code",
   "execution_count": 2,
   "outputs": [],
   "source": [
    "# add the administrative borders paths\n",
    "province_borders_path = \"Limiti01012023/ProvCM01012023/ProvCM01012023_WGS84.shp\"\n",
    "region_borders_path = \"Limiti01012023/Reg01012023/Reg01012023_WGS84.shp\"\n",
    "\n",
    "# load the administrative borders\n",
    "region_borders = gpd.read_file(region_borders_path)\n",
    "province_borders = gpd.read_file(province_borders_path)\n",
    "\n",
    "#filter vector data for the area of interest\n",
    "emilia = region_borders[region_borders['DEN_REG'] == 'Emilia-Romagna']"
   ],
   "metadata": {
    "collapsed": false,
    "ExecuteTime": {
     "end_time": "2023-12-04T15:50:00.652461900Z",
     "start_time": "2023-12-04T15:49:59.205761800Z"
    }
   },
   "id": "65f94d2c4de84a1a"
  },
  {
   "cell_type": "code",
   "execution_count": 3,
   "outputs": [],
   "source": [
    "emilia_census_data = pd.read_csv('Census_data/2021_provisional/Dati_regionali_2021/R08_indicatori_2021_sezioni.csv', encoding='latin-1', sep=';')"
   ],
   "metadata": {
    "collapsed": false,
    "ExecuteTime": {
     "end_time": "2023-12-04T15:50:00.812979200Z",
     "start_time": "2023-12-04T15:50:00.652461900Z"
    }
   },
   "id": "8ff99e190bba2e68"
  },
  {
   "cell_type": "code",
   "execution_count": 4,
   "outputs": [],
   "source": [
    "gdf_census = gpd.read_file('Census_data/2011/R08_11_WGS84/R08_11_WGS84.shp')"
   ],
   "metadata": {
    "collapsed": false,
    "ExecuteTime": {
     "end_time": "2023-12-04T15:50:10.019742200Z",
     "start_time": "2023-12-04T15:50:00.812979200Z"
    }
   },
   "id": "8048009790e126c"
  },
  {
   "cell_type": "code",
   "execution_count": 5,
   "outputs": [],
   "source": [
    "# Esegui il join tra df e gdf sulla colonna comune\n",
    "gdf = gdf_census.merge(emilia_census_data, on='SEZ2011', how='left')"
   ],
   "metadata": {
    "collapsed": false,
    "ExecuteTime": {
     "end_time": "2023-12-04T15:50:10.083834700Z",
     "start_time": "2023-12-04T15:50:10.020742400Z"
    }
   },
   "id": "8273401cdcb56a45"
  },
  {
   "cell_type": "code",
   "execution_count": 6,
   "outputs": [],
   "source": [
    "# fill nan data to be readable\n",
    "for i in gdf.columns:\n",
    "    if gdf[i].dtype == int:\n",
    "        gdf[i] = gdf[i].fillna(0).astype(int)"
   ],
   "metadata": {
    "collapsed": false,
    "ExecuteTime": {
     "end_time": "2023-12-04T15:50:10.102461800Z",
     "start_time": "2023-12-04T15:50:10.083834700Z"
    }
   },
   "id": "9fe302b0aa363667"
  },
  {
   "cell_type": "code",
   "execution_count": 7,
   "outputs": [],
   "source": [
    "# Calcola la densità di popolazione per ogni poligono\n",
    "# Calcola l'area in metri quadrati\n",
    "gdf['area_m2'] = gdf.geometry.area\n",
    "\n",
    "# Converti l'area in chilometri quadrati\n",
    "gdf['area_km2'] = gdf['area_m2'] / 1e6\n",
    "\n",
    "gdf['pop_density'] = gdf['P1'] / gdf['area_km2']"
   ],
   "metadata": {
    "collapsed": false,
    "ExecuteTime": {
     "end_time": "2023-12-04T15:50:10.127607100Z",
     "start_time": "2023-12-04T15:50:10.096401500Z"
    }
   },
   "id": "3482fb97995ce60b"
  },
  {
   "cell_type": "code",
   "execution_count": null,
   "outputs": [],
   "source": [
    "#gdf.to_file('Census_data/join.shp')"
   ],
   "metadata": {
    "collapsed": false
   },
   "id": "606bba56a067aff6"
  },
  {
   "cell_type": "markdown",
   "source": [
    "## Rasterize the census data to raster"
   ],
   "metadata": {
    "collapsed": false
   },
   "id": "a7b60b3a0b2fc618"
  },
  {
   "cell_type": "code",
   "execution_count": null,
   "outputs": [],
   "source": [
    "# Sostituisci i valori NaN con 0 nella colonna 'pop_density'\n",
    "gdf['pop_density'] = gdf['pop_density'].fillna(0)\n",
    "\n",
    "# Apri il raster di riferimento per ottenere i dettagli sulla griglia\n",
    "with rio.open(\"DEM/Emilia-Romagna1.tif\") as src:\n",
    "    bounds = src.bounds\n",
    "    pixel_size_x, pixel_size_y = src.res  # Risoluzione in x e y\n",
    "    width = src.width\n",
    "    height = src.height\n",
    "    transform = rio.transform.from_bounds(*bounds, width, height)\n",
    "\n",
    "# Funzione per ottenere il valore da rasterizzare\n",
    "def get_val(geom, val):\n",
    "    return val\n",
    "\n",
    "# Crea un array vuoto per il raster\n",
    "raster = np.zeros((height, width), dtype=np.float32)\n",
    "\n",
    "# Rasterizza per la densità della popolazione\n",
    "rasterized_pop_density = rasterize(\n",
    "    ((row.geometry, get_val(row.geometry, row['pop_density'])) for idx, row in gdf.iterrows()),\n",
    "    out=raster,\n",
    "    transform=transform,\n",
    "    fill=0,\n",
    "    all_touched=True,\n",
    "    dtype='float32'\n",
    ")\n",
    "\n",
    "# Rasterizza per la maschera di \"emilia\"\n",
    "rasterized_mask = rasterize(\n",
    "    ((geom, 1) for geom in emilia['geometry']),\n",
    "    out_shape=(height, width),\n",
    "    transform=transform,\n",
    "    fill=0,\n",
    "    all_touched=True,\n",
    "    dtype='float32'\n",
    ")\n",
    "\n",
    "# Applica la maschera al raster della densità della popolazione\n",
    "masked_raster = np.where(rasterized_mask == 1, rasterized_pop_density, np.nan)\n",
    "\n",
    "# Salva il raster con la maschera applicata\n",
    "with rio.open(\n",
    "    'Census_data/masked_pop_density.tif', 'w',\n",
    "    driver='GTiff',\n",
    "    height=masked_raster.shape[0],\n",
    "    width=masked_raster.shape[1],\n",
    "    count=1,\n",
    "    dtype=masked_raster.dtype,\n",
    "    crs=src.crs,\n",
    "    transform=transform,\n",
    ") as dst:\n",
    "    dst.write(masked_raster, 1)"
   ],
   "metadata": {
    "collapsed": false
   },
   "id": "9c2f55ff3d0d457b"
  },
  {
   "cell_type": "code",
   "execution_count": null,
   "outputs": [],
   "source": [
    "def mask_raster_with_geodataframe(raster_path, gdf, output_path):\n",
    "    # Carica il raster\n",
    "    with rio.open(raster_path) as src:\n",
    "        # Converti le geometrie del GeoDataFrame in formati accettati da rio\n",
    "        geometries = [feature[\"geometry\"] for _, feature in gdf.iterrows()]\n",
    "        out_image, out_transform = mask(src, geometries, crop=True)\n",
    "\n",
    "        # Salva il raster mascherato\n",
    "        out_meta = src.meta.copy()\n",
    "        out_meta.update({\"driver\": \"GTiff\",\n",
    "                         \"height\": out_image.shape[1],\n",
    "                         \"width\": out_image.shape[2],\n",
    "                         \"transform\": out_transform})\n",
    "\n",
    "        with rio.open(output_path, \"w\", **out_meta) as dest:\n",
    "            dest.write(out_image)"
   ],
   "metadata": {
    "collapsed": false
   },
   "id": "758639222c89c735"
  },
  {
   "cell_type": "code",
   "execution_count": null,
   "outputs": [],
   "source": [
    "# Esempio di utilizzo\n",
    "mask_raster_with_geodataframe('Census_data/masked_pop_density.tif', emilia,\n",
    "                              'Census_data/masked_pop_density_mask.tif')"
   ],
   "metadata": {
    "collapsed": false
   },
   "id": "3a65e6572e212eef"
  },
  {
   "cell_type": "markdown",
   "source": [
    "### Rasterize buildings"
   ],
   "metadata": {
    "collapsed": false
   },
   "id": "4acdb10b621a56da"
  },
  {
   "cell_type": "code",
   "execution_count": null,
   "outputs": [],
   "source": [
    "%%time\n",
    "\n",
    "buildings = gpd.read_file('Buildings_data/volumetria_edifici_uniti.shp')"
   ],
   "metadata": {
    "collapsed": false
   },
   "id": "b45b6f2d29b20b1"
  },
  {
   "cell_type": "code",
   "execution_count": null,
   "outputs": [],
   "source": [
    "# Apri il raster di riferimento per ottenere i dettagli sulla griglia\n",
    "with rio.open(\"DEM/Emilia-Romagna1.tif\") as src:\n",
    "    bounds = src.bounds\n",
    "    pixel_size_x, pixel_size_y = src.res  # Risoluzione in x e y\n",
    "    width = src.width\n",
    "    height = src.height\n",
    "    transform = src.transform\n",
    "\n",
    "    # Crea un array vuoto per il raster degli edifici\n",
    "    raster = np.zeros((height, width), dtype=np.float32)\n",
    "\n",
    "    # Rasterizza gli edifici per l'altezza (H_UVL)\n",
    "    shapes = ((geom, height) for geom, height in zip(buildings.geometry, buildings['H_UVL']))\n",
    "    rasterized_buildings = rasterize(shapes, out=raster, transform=transform, fill=0, all_touched=True, dtype='float32')"
   ],
   "metadata": {
    "collapsed": false
   },
   "id": "286c0895b3f2e014"
  },
  {
   "cell_type": "code",
   "execution_count": null,
   "outputs": [],
   "source": [
    "# Specifica il percorso e il nome del file TIFF di output\n",
    "output_path = 'Buildings_data/buildings_raster.tif'\n",
    "\n",
    "# Apri un nuovo file TIFF in modalità scrittura\n",
    "with rio.open(output_path, 'w', driver='GTiff', height=height, width=width, count=1, dtype='float32', crs=src.crs, transform=transform) as dst:\n",
    "    # Scrivi il raster modificato nel file TIFF\n",
    "    dst.write(rasterized_buildings, 1)"
   ],
   "metadata": {
    "collapsed": false
   },
   "id": "607eaf84fdc9e666"
  },
  {
   "cell_type": "markdown",
   "source": [
    "## Sommo dem + edifici"
   ],
   "metadata": {
    "collapsed": false
   },
   "id": "1c569610c6ae8248"
  },
  {
   "cell_type": "code",
   "execution_count": null,
   "outputs": [],
   "source": [
    "def sum_rasters(raster1_path, raster2_path, output_path):\n",
    "    # Apri il primo raster\n",
    "    with rio.open(raster1_path) as src1:\n",
    "        raster1 = src1.read(1)\n",
    "\n",
    "        # Sostituisci i valori nodata con 0\n",
    "        nodata1 = src1.nodata\n",
    "        raster1[raster1 == nodata1] = 0\n",
    "\n",
    "        # Apri il secondo raster\n",
    "        with rio.open(raster2_path) as src2:\n",
    "            # Assicurati che i raster abbiano le stesse dimensioni\n",
    "            raster2 = src2.read(\n",
    "                1, \n",
    "                out_shape=(src1.height, src1.width),\n",
    "                resampling=Resampling.nearest\n",
    "            )\n",
    "\n",
    "            # Sostituisci i valori nodata con 0 (se presente)\n",
    "            nodata2 = src2.nodata\n",
    "            if nodata2 is not None:\n",
    "                raster2[raster2 == nodata2] = 0\n",
    "\n",
    "            # Somma i raster\n",
    "            result = raster1 + raster2\n",
    "\n",
    "            # Salva il raster risultante\n",
    "            profile = src1.profile\n",
    "            with rio.open(output_path, 'w', **profile) as dst:\n",
    "                dst.write(result, 1)\n",
    "\n",
    "# Esempio di utilizzo\n",
    "sum_rasters('DEM/Emilia-Romagna1.tif', 'Buildings_data/buildings_raster.tif', 'Buildings_data/DEM_plus_buildings_raster.tif')"
   ],
   "metadata": {
    "collapsed": false
   },
   "id": "9377d40259ac390"
  },
  {
   "cell_type": "code",
   "execution_count": null,
   "outputs": [],
   "source": [
    "# Esempio di utilizzo\n",
    "mask_raster_with_geodataframe('Buildings_data/DEM_plus_buildings_raster.tif', emilia, 'Buildings_data/DEM_plus_buildings_raster_mask.tif')"
   ],
   "metadata": {
    "collapsed": false
   },
   "id": "c3bf00196f369f9f"
  },
  {
   "cell_type": "markdown",
   "source": [
    "## Impact risk"
   ],
   "metadata": {
    "collapsed": false
   },
   "id": "ab0f77a58eb4c3a2"
  },
  {
   "cell_type": "markdown",
   "source": [
    "### First trial"
   ],
   "metadata": {
    "collapsed": false
   },
   "id": "f924b88753768f2a"
  },
  {
   "cell_type": "code",
   "execution_count": 8,
   "outputs": [
    {
     "data": {
      "text/plain": "<Figure size 1000x600 with 1 Axes>",
      "image/png": "[encoded data removed]"
     },
     "metadata": {},
     "output_type": "display_data"
    },
    {
     "data": {
      "text/plain": "(8.64864864864865, 57.8891545124992, 88.21144112249702)"
     },
     "execution_count": 8,
     "metadata": {},
     "output_type": "execute_result"
    }
   ],
   "source": [
    "# Constants\n",
    "m = 1.0  # Mass of the UAV (kg)\n",
    "g = 9.81  # Gravitational acceleration (m/s^2)\n",
    "c = 0.1  # Drag coefficient\n",
    "vxi = 10  # Initial horizontal velocity (m/s)\n",
    "vyi = 0  # Initial vertical velocity (m/s)\n",
    "initial_altitude = 500  # Starting altitude (meters)\n",
    "\n",
    "# Function for the system of differential equations\n",
    "def system(y, t, m, g, c, vxi):\n",
    "    x, vx, vy = y\n",
    "    dvx_dt = -c * vx / m\n",
    "    dvy_dt = -g + c * vy / m\n",
    "    return [vx, dvx_dt, dvy_dt]\n",
    "\n",
    "# Initial conditions: x0, vx0, vy0\n",
    "y0 = [0, vxi, vyi]\n",
    "\n",
    "# Time points where we evaluate the solution\n",
    "t = np.linspace(0, 15, 1000)  # Increased time range\n",
    "\n",
    "# Solve the system of differential equations\n",
    "sol = odeint(system, y0, t, args=(m, g, c, vxi))\n",
    "\n",
    "# Extract the x and y positions and velocities\n",
    "x = sol[:, 0]\n",
    "vx = sol[:, 1]\n",
    "vy = sol[:, 2]\n",
    "y = initial_altitude + np.cumsum(vy) * (t[1] - t[0])  # Properly integrate vy over time\n",
    "\n",
    "# Find the time and velocities of impact\n",
    "impact_index = np.argmax(y < 0)\n",
    "impact_time = t[impact_index]\n",
    "impact_x = x[impact_index]\n",
    "impact_vx = vx[impact_index]\n",
    "impact_vy = vy[impact_index]\n",
    "\n",
    "# Calculate the impact angle in degrees\n",
    "impact_angle = np.arctan2(abs(impact_vy), impact_vx) * (180 / np.pi)\n",
    "\n",
    "# Plotting the trajectory\n",
    "plt.figure(figsize=(10, 6))\n",
    "plt.plot(x[:impact_index], y[:impact_index], label=\"UAV Trajectory\")\n",
    "plt.axhline(y=0, color='r', linestyle='--', label=\"Ground Level\")\n",
    "plt.title(\"UAV Trajectory in Ballistic Descent\")\n",
    "plt.xlabel(\"Horizontal Distance (m)\")\n",
    "plt.ylabel(\"Altitude (m)\")\n",
    "plt.legend()\n",
    "plt.grid(True)\n",
    "plt.show()\n",
    "\n",
    "impact_time, impact_x, impact_angle"
   ],
   "metadata": {
    "collapsed": false,
    "ExecuteTime": {
     "end_time": "2023-12-04T15:50:26.102564900Z",
     "start_time": "2023-12-04T15:50:25.977664100Z"
    }
   },
   "id": "68c22e380113bf0a"
  },
  {
   "cell_type": "markdown",
   "source": [
    "### Second trial"
   ],
   "metadata": {
    "collapsed": false
   },
   "id": "ab84573ed23aff92"
  },
  {
   "cell_type": "code",
   "execution_count": 9,
   "outputs": [],
   "source": [
    "def converti_km_h_in_m_s(velocita_km_h):\n",
    "    return velocita_km_h / 3.6"
   ],
   "metadata": {
    "collapsed": false,
    "ExecuteTime": {
     "end_time": "2023-12-04T15:50:27.076336500Z",
     "start_time": "2023-12-04T15:50:27.065260900Z"
    }
   },
   "id": "d93e2e1e49a2381e"
  },
  {
   "cell_type": "code",
   "execution_count": 10,
   "outputs": [],
   "source": [
    "velocita_km_h = 120"
   ],
   "metadata": {
    "collapsed": false,
    "ExecuteTime": {
     "end_time": "2023-12-04T15:50:27.077290400Z",
     "start_time": "2023-12-04T15:50:27.068119700Z"
    }
   },
   "id": "c7ec236eb9cecee5"
  },
  {
   "cell_type": "code",
   "execution_count": 11,
   "outputs": [],
   "source": [
    "# Constants and initial conditions\n",
    "m = 1.0  # Mass of the UAV (kg)\n",
    "g = 9.81  # Gravitational acceleration (m/s^2)\n",
    "c = 0.1  # Drag coefficient\n",
    "vxi = 10 #converti_km_h_in_m_s(velocita_km_h)  # Initial horizontal velocity (m/s)\n",
    "altitude = 500  # Initial altitude of the drone (m)\n",
    "dt = 0.01  # Time step for the simulation"
   ],
   "metadata": {
    "collapsed": false,
    "ExecuteTime": {
     "end_time": "2023-12-04T15:50:27.078290200Z",
     "start_time": "2023-12-04T15:50:27.071773900Z"
    }
   },
   "id": "beaa16139ec302b"
  },
  {
   "cell_type": "code",
   "execution_count": 14,
   "outputs": [
    {
     "data": {
      "text/plain": "<Figure size 1200x800 with 3 Axes>",
      "image/png": "[encoded data removed]"
     },
     "metadata": {},
     "output_type": "display_data"
    },
    {
     "name": "stdout",
     "output_type": "stream",
     "text": [
      "Tempo di Caduta: 5.539999999999926 secondi\n",
      "Distanza Orizzontale Percorsa: 42.514073816694435 metri\n",
      "Angolo d'Impatto: 83.96421133041045 gradi\n",
      "Energia Cinetica all'Impatto: 1493.3308803077057 joule\n"
     ]
    }
   ],
   "source": [
    "# Funzioni per le velocità e la distanza\n",
    "def vx(t):\n",
    "    return vxi * np.exp(-c/m * t)\n",
    "\n",
    "def y_adjusted(t):\n",
    "    return altitude - 0.5 * g * t**2\n",
    "\n",
    "# Re-inizializzazione dei dati della simulazione\n",
    "time = 0\n",
    "x_total, y_total_adjusted = 0, altitude\n",
    "times_adjusted, x_positions_adjusted, y_positions_adjusted = [], [], []\n",
    "\n",
    "while y_total_adjusted > 0:\n",
    "    time += dt\n",
    "    x_total += vx(time) * dt\n",
    "    y_total_adjusted = y_adjusted(time)\n",
    "\n",
    "    times_adjusted.append(time)\n",
    "    x_positions_adjusted.append(x_total)\n",
    "    y_positions_adjusted.append(y_total_adjusted)\n",
    "\n",
    "# Calcolo del tempo di caduta\n",
    "tempo_di_caduta = times_adjusted[-1]\n",
    "\n",
    "# Calcolo della distanza orizzontale prima dell'impatto\n",
    "distanza_orizzontale = x_positions_adjusted[-1]\n",
    "\n",
    "# Calcolo dell'angolo d'impatto\n",
    "vx_impact = vx(tempo_di_caduta)\n",
    "vy_impact = g * tempo_di_caduta\n",
    "angolo_d_impact = math.atan2(vy_impact, vx_impact)\n",
    "angolo_d_impact_gradi = math.degrees(angolo_d_impact)\n",
    "\n",
    "# Calcolo dell'energia cinetica all'impatto\n",
    "velocita_totale_impact = math.sqrt(vx_impact**2 + vy_impact**2)\n",
    "energia_cinetica_impact = 0.5 * m * velocita_totale_impact**2\n",
    "\n",
    "# Plotting\n",
    "plt.figure(figsize=(12, 8))\n",
    "\n",
    "# Distanza Orizzontale nel Tempo\n",
    "plt.subplot(2, 2, 1)\n",
    "plt.plot(times_adjusted, x_positions_adjusted, label=\"Distanza Orizzontale\")\n",
    "plt.xlabel(\"Tempo (s)\")\n",
    "plt.ylabel(\"Distanza (m)\")\n",
    "plt.title(\"Distanza Orizzontale vs Tempo\")\n",
    "plt.grid(True)\n",
    "plt.legend()\n",
    "\n",
    "# Distanza Verticale nel Tempo\n",
    "plt.subplot(2, 2, 2)\n",
    "plt.plot(times_adjusted, y_positions_adjusted, label=\"Distanza Verticale\")\n",
    "plt.xlabel(\"Tempo (s)\")\n",
    "plt.ylabel(\"Distanza (m)\")\n",
    "plt.title(\"Distanza Verticale vs Tempo\")\n",
    "plt.grid(True)\n",
    "plt.legend()\n",
    "\n",
    "# Traiettoria UAV\n",
    "plt.subplot(2, 1, 2)\n",
    "plt.plot(x_positions_adjusted, y_positions_adjusted, label=\"Traiettoria UAV\")\n",
    "plt.axhline(y=0, color='r', linestyle='--', label=\"Livello del Terreno\")\n",
    "plt.xlabel(\"Distanza Orizzontale (m)\")\n",
    "plt.ylabel(\"Distanza Verticale (m)\")\n",
    "plt.title(\"Traiettoria UAV in Discesa Balistica\")\n",
    "plt.grid(True)\n",
    "plt.legend()\n",
    "\n",
    "plt.tight_layout()\n",
    "plt.show()\n",
    "\n",
    "# Stampa dei risultati\n",
    "print(f\"Tempo di Caduta: {tempo_di_caduta} secondi\")\n",
    "print(f\"Distanza Orizzontale Percorsa: {distanza_orizzontale} metri\")\n",
    "print(f\"Angolo d'Impatto: {angolo_d_impact_gradi} gradi\")\n",
    "print(f\"Energia Cinetica all'Impatto: {energia_cinetica_impact} joule\")"
   ],
   "metadata": {
    "collapsed": false,
    "ExecuteTime": {
     "end_time": "2023-12-04T15:51:56.097196500Z",
     "start_time": "2023-12-04T15:51:55.835145800Z"
    }
   },
   "id": "fe3dde8fcaa07343"
  },
  {
   "cell_type": "markdown",
   "source": [
    "## Raster ballistic trajectory 360°"
   ],
   "metadata": {
    "collapsed": false
   },
   "id": "ec7aeba391611299"
  },
  {
   "cell_type": "code",
   "execution_count": 15,
   "outputs": [
    {
     "data": {
      "text/plain": "<Figure size 1000x1000 with 2 Axes>",
      "image/png": "[encoded data removed]"
     },
     "metadata": {},
     "output_type": "display_data"
    }
   ],
   "source": [
    "# Caricare il raster e ottenere la risoluzione spaziale\n",
    "file_raster = 'Buildings_data/Parma_DEM_plus_buildings_raster_mask_5m.tif'  # Sostituisci con il percorso del tuo file raster\n",
    "with rio.open(file_raster) as src:\n",
    "    risoluzione_spaziale = src.res[0]  # Assumendo che la risoluzione sia uguale in x e y\n",
    "    profile = src.profile  # Ottieni il profilo del raster originale\n",
    "\n",
    "# Constants and initial conditions for ballistic trajectory\n",
    "m = 1.0  # Mass of the UAV (kg)\n",
    "g = 9.81  # Gravitational acceleration (m/s^2)\n",
    "c = 0.1  # Drag coefficient\n",
    "vxi = 10  # Initial horizontal velocity (m/s)\n",
    "altitude = 150  # Initial altitude of the drone (m)\n",
    "dt = 0.01  # Time step for the simulation\n",
    "limite_distanza_verticale = -2000  # -2000 metri\n",
    "\n",
    "# Funzioni per le velocità e la distanza\n",
    "def vx(t):\n",
    "    return vxi * np.exp(-c/m * t)\n",
    "\n",
    "def y_adjusted(t):\n",
    "    return altitude - 0.5 * g * t**2\n",
    "\n",
    "# Calcolo della traiettoria balistica\n",
    "time = 0\n",
    "x_total, y_total_adjusted = 0, altitude\n",
    "x_positions = []\n",
    "\n",
    "while y_total_adjusted > limite_distanza_verticale:\n",
    "    time += dt\n",
    "    x_total += vx(time) * dt\n",
    "    y_total_adjusted = y_adjusted(time)\n",
    "    x_positions.append(x_total)\n",
    "\n",
    "# Massima distanza orizzontale raggiunta\n",
    "max_distanza_orizzontale = max(x_positions)\n",
    "\n",
    "# Calcolo delle dimensioni della matrice basate sulla risoluzione spaziale\n",
    "dimensione_matrice_orizzontale = int(np.ceil(max_distanza_orizzontale / risoluzione_spaziale))\n",
    "dimensione_matrice = 2 * dimensione_matrice_orizzontale  # Per coprire tutte le direzioni\n",
    "\n",
    "# Creazione della matrice\n",
    "matrice_distanze = np.full((dimensione_matrice, dimensione_matrice), np.nan)\n",
    "\n",
    "# Calcolo del centro della matrice\n",
    "centro = dimensione_matrice // 2\n",
    "\n",
    "# Riempimento della matrice con la distanza verticale calcolata\n",
    "for i in range(dimensione_matrice):\n",
    "    for j in range(dimensione_matrice):\n",
    "        distanza_orizzontale = np.sqrt((i - centro + 0.5)**2 + (j - centro + 0.5)**2) * risoluzione_spaziale\n",
    "        \n",
    "        if distanza_orizzontale <= max_distanza_orizzontale:\n",
    "            # Calcola la distanza verticale corrispondente\n",
    "            t = distanza_orizzontale / vxi\n",
    "            distanza_verticale = y_adjusted(t)\n",
    "            matrice_distanze[i, j] = distanza_verticale\n",
    "\n",
    "\n",
    "# Visualizzazione della matrice\n",
    "plt.figure(figsize=(10, 10))\n",
    "plt.imshow(matrice_distanze, origin='lower', extent=[-max_distanza_orizzontale, max_distanza_orizzontale, -max_distanza_orizzontale, max_distanza_orizzontale])\n",
    "plt.colorbar(label='Distanza Verticale (m)')\n",
    "plt.title('Distanze Verticali in Tutte le Direzioni')\n",
    "plt.show()"
   ],
   "metadata": {
    "collapsed": false,
    "ExecuteTime": {
     "end_time": "2023-12-04T15:51:57.222432200Z",
     "start_time": "2023-12-04T15:51:56.969450300Z"
    }
   },
   "id": "8e655791f1f6366f"
  },
  {
   "cell_type": "markdown",
   "source": [
    "## Raster ballistic trajectory 360° DEM adapted"
   ],
   "metadata": {
    "collapsed": false
   },
   "id": "2df2142546bdcb62"
  },
  {
   "cell_type": "markdown",
   "source": [
    "### Get balistict trajectory from select point extracting the elevation"
   ],
   "metadata": {
    "collapsed": false
   },
   "id": "9b8a145b7b62cdd0"
  },
  {
   "cell_type": "code",
   "execution_count": 16,
   "outputs": [
    {
     "data": {
      "text/plain": "<Figure size 1000x1000 with 2 Axes>",
      "image/png": "[encoded data removed]"
     },
     "metadata": {},
     "output_type": "display_data"
    }
   ],
   "source": [
    "# Carica la DEM\n",
    "file_raster = 'Buildings_data/Parma_DEM_plus_buildings_raster_mask_5m.tif'\n",
    "with rio.open(file_raster) as src:\n",
    "    dem_data = src.read(1)  # Legge il primo layer della DEM\n",
    "    nodata = src.nodata  # Valore di nodata\n",
    "    res = src.res[0]  # Risoluzione spaziale\n",
    "\n",
    "# Seleziona il pixel di partenza\n",
    "start_x, start_y = dem_data.shape[1] // 2, dem_data.shape[0] // 2\n",
    "elevazione_iniziale = dem_data[start_y, start_x] if dem_data[start_y, start_x] != nodata else 0\n",
    "\n",
    "# Parametri per la traiettoria balistica\n",
    "m = 1.0\n",
    "g = 9.81\n",
    "c = 0.1\n",
    "vxi = 10\n",
    "altitude_base = 150  # Altitudine di base del drone\n",
    "dt = 0.01\n",
    "limite_distanza_verticale = -2000  # Limite di distanza verticale\n",
    "\n",
    "# Funzioni per le velocità e la distanza\n",
    "def vx(t):\n",
    "    return vxi * np.exp(-c/m * t)\n",
    "\n",
    "def y_adjusted(t, elevazione_iniziale):\n",
    "    return altitude_base + elevazione_iniziale - 0.5 * g * t**2\n",
    "\n",
    "# Calcolo della traiettoria balistica\n",
    "time = 0\n",
    "x_total, y_total_adjusted = 0, altitude_base + elevazione_iniziale\n",
    "x_positions = []\n",
    "\n",
    "while y_total_adjusted > limite_distanza_verticale:\n",
    "    time += dt\n",
    "    x_total += vx(time) * dt\n",
    "    y_total_adjusted = y_adjusted(time, elevazione_iniziale)\n",
    "    x_positions.append(x_total)\n",
    "\n",
    "# Massima distanza orizzontale raggiunta\n",
    "max_distanza_orizzontale = max(x_positions)\n",
    "\n",
    "# Calcolo delle dimensioni della matrice basate sulla risoluzione spaziale\n",
    "dimensione_matrice_orizzontale = int(np.ceil(max_distanza_orizzontale / res))\n",
    "dimensione_matrice = 2 * dimensione_matrice_orizzontale\n",
    "\n",
    "# Creazione della matrice\n",
    "matrice_distanze = np.full((dimensione_matrice, dimensione_matrice), np.nan)\n",
    "\n",
    "# Riempimento della matrice con la distanza verticale calcolata\n",
    "for i in range(dimensione_matrice):\n",
    "    for j in range(dimensione_matrice):\n",
    "        distanza_orizzontale = np.sqrt((i - dimensione_matrice // 2 + 0.5)**2 + (j - dimensione_matrice // 2 + 0.5)**2) * res\n",
    "\n",
    "        if distanza_orizzontale <= max_distanza_orizzontale:\n",
    "            t = distanza_orizzontale / vxi\n",
    "            distanza_verticale = y_adjusted(t, elevazione_iniziale)\n",
    "            matrice_distanze[i, j] = distanza_verticale\n",
    "\n",
    "# Visualizzazione della matrice\n",
    "plt.figure(figsize=(10, 10))\n",
    "plt.imshow(matrice_distanze, origin='lower', extent=[-max_distanza_orizzontale, max_distanza_orizzontale, -max_distanza_orizzontale, max_distanza_orizzontale])\n",
    "plt.colorbar(label='Distanza Verticale (m)')\n",
    "plt.title('Distanze Verticali in Tutte le Direzioni con Elevazione Iniziale')\n",
    "plt.show()"
   ],
   "metadata": {
    "collapsed": false,
    "ExecuteTime": {
     "end_time": "2023-12-04T15:51:58.815332300Z",
     "start_time": "2023-12-04T15:51:58.340483400Z"
    }
   },
   "id": "987bf234e23a7023"
  },
  {
   "cell_type": "markdown",
   "source": [
    "### Raster balistic trajectory - elevation"
   ],
   "metadata": {
    "collapsed": false
   },
   "id": "9285dbf9f847669e"
  },
  {
   "cell_type": "code",
   "execution_count": 17,
   "outputs": [
    {
     "data": {
      "text/plain": "<Figure size 1000x1000 with 2 Axes>",
      "image/png": "[encoded data removed]"
     },
     "metadata": {},
     "output_type": "display_data"
    }
   ],
   "source": [
    "# Calcolo degli offset per allineare le matrici\n",
    "offset_x = start_x - matrice_distanze.shape[1] // 2\n",
    "offset_y = start_y - matrice_distanze.shape[0] // 2\n",
    "\n",
    "# Creazione della matrice di sottrazione\n",
    "sottrazione_matrice = np.full(matrice_distanze.shape, np.nan)\n",
    "\n",
    "# Sottrai la matrice_distanze dalla DEM solo dove sovrappongono\n",
    "for i in range(matrice_distanze.shape[0]):\n",
    "    for j in range(matrice_distanze.shape[1]):\n",
    "        dem_x = j + offset_x\n",
    "        dem_y = i + offset_y\n",
    "        if 0 <= dem_x < dem_data.shape[1] and 0 <= dem_y < dem_data.shape[0]:\n",
    "            if not np.isnan(matrice_distanze[i, j]):\n",
    "                valore_dem = dem_data[dem_y, dem_x] if dem_data[dem_y, dem_x] != nodata else 0\n",
    "                sottrazione_matrice[i, j] = valore_dem - matrice_distanze[i, j]\n",
    "\n",
    "# Visualizzazione della matrice risultante\n",
    "plt.figure(figsize=(10, 10))\n",
    "plt.imshow(sottrazione_matrice, cmap='viridis', vmin=np.nanmin(sottrazione_matrice), vmax=np.nanmax(sottrazione_matrice))\n",
    "plt.colorbar(label='Differenza di Altitudine (m)')\n",
    "plt.title('Differenza di Altitudine tra DEM e Matrice delle Distanze')\n",
    "plt.show()"
   ],
   "metadata": {
    "collapsed": false,
    "ExecuteTime": {
     "end_time": "2023-12-04T15:52:02.741869600Z",
     "start_time": "2023-12-04T15:52:02.599723400Z"
    }
   },
   "id": "c1c3498d454367e5"
  },
  {
   "cell_type": "markdown",
   "source": [
    "### Get values under or equal to 0 "
   ],
   "metadata": {
    "collapsed": false
   },
   "id": "c6f9c0cf21069a8"
  },
  {
   "cell_type": "code",
   "execution_count": 18,
   "outputs": [
    {
     "data": {
      "text/plain": "<Figure size 1000x1000 with 2 Axes>",
      "image/png": "[encoded data removed]"
     },
     "metadata": {},
     "output_type": "display_data"
    }
   ],
   "source": [
    "# Creazione della matrice binaria\n",
    "matrice_binaria = np.where(sottrazione_matrice < 0, 1, 0)\n",
    "\n",
    "# Visualizzazione della matrice binaria\n",
    "plt.figure(figsize=(10, 10))\n",
    "plt.imshow(matrice_binaria, cmap='gray')\n",
    "plt.colorbar(label='Area di Possibile Impatto (1 = Impatto, 0 = No Impatto)')\n",
    "plt.title('Matrice Binaria delle Aree di Possibile Impatto')\n",
    "plt.show()"
   ],
   "metadata": {
    "collapsed": false,
    "ExecuteTime": {
     "end_time": "2023-12-04T16:10:46.066783700Z",
     "start_time": "2023-12-04T16:10:45.933253600Z"
    }
   },
   "id": "def25207fee3100c"
  },
  {
   "cell_type": "markdown",
   "source": [
    "### Function to get a raster with areas with more impact"
   ],
   "metadata": {
    "collapsed": false
   },
   "id": "fb8670fff76f08b8"
  },
  {
   "cell_type": "code",
   "execution_count": 19,
   "outputs": [],
   "source": [
    "def calcola_traiettoria_e_matrice(res, m, g, c, vxi, altitude_base, limite_distanza_verticale):\n",
    "    def y_adjusted(t):\n",
    "        return altitude_base - 0.5 * g * t ** 2\n",
    "\n",
    "    def vx(t):\n",
    "        return vxi * np.exp(-c / m * t)\n",
    "\n",
    "    time = 0\n",
    "    y_position = altitude_base\n",
    "    distanza_orizzontale_percorsa = 0\n",
    "\n",
    "    while y_position > limite_distanza_verticale:\n",
    "        # Calcola la velocità orizzontale al tempo corrente\n",
    "        velocita_orizzontale_attuale = vx(time)\n",
    "\n",
    "        # Aggiorna dt in base alla velocità orizzontale attuale\n",
    "        dt = res / velocita_orizzontale_attuale\n",
    "        time += dt\n",
    "        y_position = y_adjusted(time)\n",
    "        distanza_orizzontale_percorsa += velocita_orizzontale_attuale * dt\n",
    "\n",
    "    dimensione_matrice_orizzontale = int(np.ceil(distanza_orizzontale_percorsa / res))\n",
    "    dimensione_matrice = 2 * dimensione_matrice_orizzontale\n",
    "    matrice_distanze = np.full((dimensione_matrice, dimensione_matrice), np.nan)\n",
    "\n",
    "    centro = dimensione_matrice // 2\n",
    "    for i in range(dimensione_matrice):\n",
    "        for j in range(dimensione_matrice):\n",
    "            distanza_orizzontale = np.sqrt((i - centro) ** 2 + (j - centro) ** 2) * res\n",
    "            if distanza_orizzontale <= distanza_orizzontale_percorsa:\n",
    "                t = distanza_orizzontale / vxi  # Questo potrebbe essere aggiornato per riflettere la decelerazione\n",
    "                altitudine = y_adjusted(t)\n",
    "                matrice_distanze[i, j] = altitudine\n",
    "\n",
    "    return matrice_distanze\n",
    "\n",
    "def calcola_sottrazione_e_matrice_binaria(dem_data, matrice_distanze, nodata, start_x, start_y):\n",
    "    offset_x = start_x - matrice_distanze.shape[1] // 2\n",
    "    offset_y = start_y - matrice_distanze.shape[0] // 2\n",
    "    sottrazione_matrice = np.full(matrice_distanze.shape, np.nan)\n",
    "    for i in range(matrice_distanze.shape[0]):\n",
    "        for j in range(matrice_distanze.shape[1]):\n",
    "            dem_x = j + offset_x\n",
    "            dem_y = i + offset_y\n",
    "            if 0 <= dem_x < dem_data.shape[1] and 0 <= dem_y < dem_data.shape[0]:\n",
    "                if not np.isnan(matrice_distanze[i, j]):\n",
    "                    valore_dem = dem_data[dem_y, dem_x] if dem_data[dem_y, dem_x] != nodata else 0\n",
    "                    sottrazione_matrice[i, j] = valore_dem - matrice_distanze[i, j]\n",
    "    matrice_binaria = np.where(sottrazione_matrice < 0, 1, 0)\n",
    "    return sottrazione_matrice, matrice_binaria\n",
    "\n",
    "def salva_come_raster(matrice, nome_file_raster, start_x, start_y, transform, crs):\n",
    "    # Calcola la metà delle dimensioni della matrice\n",
    "    metà_larghezza = matrice.shape[1] / 2\n",
    "    metà_altezza = matrice.shape[0] / 2\n",
    "\n",
    "    # Sposta il punto d'origine verso il basso di una quantità pari all'altezza della matrice\n",
    "    new_origin_x = transform[2] + (start_x - metà_larghezza) * transform[0]\n",
    "    new_origin_y = transform[5] + (start_y + metà_altezza) * transform[4] - matrice.shape[0] * transform[4]\n",
    "\n",
    "    # Crea un nuovo profilo per il file raster\n",
    "    new_profile = {\n",
    "        'driver': 'GTiff',\n",
    "        'dtype': 'float32',\n",
    "        'nodata': None,\n",
    "        'width': matrice.shape[1],\n",
    "        'height': matrice.shape[0],\n",
    "        'count': 1,\n",
    "        'crs': crs,\n",
    "        'transform': from_origin(new_origin_x, new_origin_y, transform[0], -transform[4])\n",
    "    }\n",
    "\n",
    "    # Salva la matrice come file raster\n",
    "    with rio.open(nome_file_raster, 'w', **new_profile) as dst:\n",
    "        dst.write(matrice.astype(rio.float32), 1)"
   ],
   "metadata": {
    "collapsed": false,
    "ExecuteTime": {
     "end_time": "2023-12-04T16:32:39.637750400Z",
     "start_time": "2023-12-04T16:32:39.633405500Z"
    }
   },
   "id": "7c1acdf2c268384"
  },
  {
   "cell_type": "markdown",
   "source": [
    "### Other functions"
   ],
   "metadata": {
    "collapsed": false
   },
   "id": "62ad672846d82e45"
  },
  {
   "cell_type": "code",
   "execution_count": 21,
   "outputs": [],
   "source": [
    "def bresenham_line(x0, y0, x1, y1):\n",
    "    \"\"\"Genera i punti lungo una linea retta da (x0, y0) a (x1, y1) usando l'algoritmo di Bresenham.\"\"\"\n",
    "    dx = x1 - x0\n",
    "    dy = y1 - y0\n",
    "    x, y = x0, y0\n",
    "\n",
    "    ix = 1 if dx > 0 else -1\n",
    "    iy = 1 if dy > 0 else -1\n",
    "    dx = abs(dx)\n",
    "    dy = abs(dy)\n",
    "\n",
    "    if dx > dy:\n",
    "        err = dx / 2.0\n",
    "        while x != x1:\n",
    "            yield x, y\n",
    "            err -= dy\n",
    "            if err < 0:\n",
    "                y += iy\n",
    "                err += dx\n",
    "            x += ix\n",
    "    else:\n",
    "        err = dy / 2.0\n",
    "        while y != y1:\n",
    "            yield x, y\n",
    "            err -= dx\n",
    "            if err < 0:\n",
    "                x += ix\n",
    "                err += dy\n",
    "            y += iy\n",
    "\n",
    "    yield x1, y1\n",
    "\n",
    "def aggiorna_visibilita_bresenham(matrice_binaria, centro_x, centro_y):\n",
    "    altezza, larghezza = matrice_binaria.shape\n",
    "\n",
    "    for y in range(altezza):\n",
    "        for x in range(larghezza):\n",
    "            visibile = True\n",
    "            for punto_x, punto_y in bresenham_line(centro_x, centro_y, x, y):\n",
    "                if 0 <= punto_y < altezza and 0 <= punto_x < larghezza:\n",
    "                    if matrice_binaria[punto_y, punto_x] == 0:\n",
    "                        visibile = False\n",
    "                        break\n",
    "                else:\n",
    "                    break\n",
    "\n",
    "            if not visibile:\n",
    "                matrice_binaria[y, x] = 0\n",
    "\n",
    "    return matrice_binaria\n",
    "\n",
    "def calcola_sottrazione_e_matrice_binaria(dem_data, matrice_distanze, nodata, centro_x, centro_y):\n",
    "    offset_x = centro_x - matrice_distanze.shape[1] // 2\n",
    "    offset_y = centro_y - matrice_distanze.shape[0] // 2\n",
    "    sottrazione_matrice = np.full(matrice_distanze.shape, np.nan)\n",
    "\n",
    "    for i in range(matrice_distanze.shape[0]):\n",
    "        for j in range(matrice_distanze.shape[1]):\n",
    "            dem_x = j + offset_x\n",
    "            dem_y = i + offset_y\n",
    "            if 0 <= dem_x < dem_data.shape[1] and 0 <= dem_y < dem_data.shape[0]:\n",
    "                if not np.isnan(matrice_distanze[i, j]):\n",
    "                    valore_dem = dem_data[dem_y, dem_x] if dem_data[dem_y, dem_x] != nodata else 0\n",
    "                    sottrazione_matrice[i, j] = valore_dem - matrice_distanze[i, j]\n",
    "\n",
    "    matrice_binaria = np.where(sottrazione_matrice < 0, 1, 0)\n",
    "\n",
    "    # Aggiorna la matrice binaria utilizzando le coordinate di start come centro\n",
    "    matrice_binaria_aggiornata = aggiorna_visibilita_bresenham(matrice_binaria, centro_x, centro_y)\n",
    "\n",
    "    return sottrazione_matrice, matrice_binaria, matrice_binaria_aggiornata"
   ],
   "metadata": {
    "collapsed": false,
    "ExecuteTime": {
     "end_time": "2023-12-04T16:33:03.086345900Z",
     "start_time": "2023-12-04T16:33:03.075821300Z"
    }
   },
   "id": "75274c36b0be54c6"
  },
  {
   "cell_type": "code",
   "execution_count": 22,
   "outputs": [],
   "source": [
    "def coordinate_geografiche_a_raster(transform, latitudine_desiderata, longitudine_desiderata):\n",
    "    start_y, start_x = rowcol(transform, latitudine_desiderata, longitudine_desiderata)\n",
    "    return start_y, start_x"
   ],
   "metadata": {
    "collapsed": false,
    "ExecuteTime": {
     "end_time": "2023-12-04T16:33:03.987716900Z",
     "start_time": "2023-12-04T16:33:03.979715900Z"
    }
   },
   "id": "e139df5ee719d67c"
  },
  {
   "cell_type": "code",
   "execution_count": 23,
   "outputs": [
    {
     "ename": "CPLE_AppDefinedError",
     "evalue": "Deleting DEM/sottrazione_align.tif failed: Permission denied",
     "output_type": "error",
     "traceback": [
      "\u001B[1;31m---------------------------------------------------------------------------\u001B[0m",
      "\u001B[1;31mCPLE_AppDefinedError\u001B[0m                      Traceback (most recent call last)",
      "Cell \u001B[1;32mIn[23], line 33\u001B[0m\n\u001B[0;32m     31\u001B[0m \u001B[38;5;66;03m# Salva le matrici come raster\u001B[39;00m\n\u001B[0;32m     32\u001B[0m nome_file_raster_sottrazione \u001B[38;5;241m=\u001B[39m \u001B[38;5;124m'\u001B[39m\u001B[38;5;124mDEM/sottrazione_align.tif\u001B[39m\u001B[38;5;124m'\u001B[39m\n\u001B[1;32m---> 33\u001B[0m salva_come_raster(sottrazione_matrice, nome_file_raster_sottrazione, start_x, start_y, transform, crs)\n\u001B[0;32m     35\u001B[0m nome_file_raster_distanza \u001B[38;5;241m=\u001B[39m \u001B[38;5;124m'\u001B[39m\u001B[38;5;124mDEM/matrice_distanza.tif\u001B[39m\u001B[38;5;124m'\u001B[39m\n\u001B[0;32m     36\u001B[0m salva_come_raster(matrice_distanze, nome_file_raster_distanza, start_x, start_y, transform, crs)\n",
      "Cell \u001B[1;32mIn[19], line 74\u001B[0m, in \u001B[0;36msalva_come_raster\u001B[1;34m(matrice, nome_file_raster, start_x, start_y, transform, crs)\u001B[0m\n\u001B[0;32m     62\u001B[0m new_profile \u001B[38;5;241m=\u001B[39m {\n\u001B[0;32m     63\u001B[0m     \u001B[38;5;124m'\u001B[39m\u001B[38;5;124mdriver\u001B[39m\u001B[38;5;124m'\u001B[39m: \u001B[38;5;124m'\u001B[39m\u001B[38;5;124mGTiff\u001B[39m\u001B[38;5;124m'\u001B[39m,\n\u001B[0;32m     64\u001B[0m     \u001B[38;5;124m'\u001B[39m\u001B[38;5;124mdtype\u001B[39m\u001B[38;5;124m'\u001B[39m: \u001B[38;5;124m'\u001B[39m\u001B[38;5;124mfloat32\u001B[39m\u001B[38;5;124m'\u001B[39m,\n\u001B[1;32m   (...)\u001B[0m\n\u001B[0;32m     70\u001B[0m     \u001B[38;5;124m'\u001B[39m\u001B[38;5;124mtransform\u001B[39m\u001B[38;5;124m'\u001B[39m: from_origin(new_origin_x, new_origin_y, transform[\u001B[38;5;241m0\u001B[39m], \u001B[38;5;241m-\u001B[39mtransform[\u001B[38;5;241m4\u001B[39m])\n\u001B[0;32m     71\u001B[0m }\n\u001B[0;32m     73\u001B[0m \u001B[38;5;66;03m# Salva la matrice come file raster\u001B[39;00m\n\u001B[1;32m---> 74\u001B[0m \u001B[38;5;28;01mwith\u001B[39;00m rio\u001B[38;5;241m.\u001B[39mopen(nome_file_raster, \u001B[38;5;124m'\u001B[39m\u001B[38;5;124mw\u001B[39m\u001B[38;5;124m'\u001B[39m, \u001B[38;5;241m*\u001B[39m\u001B[38;5;241m*\u001B[39mnew_profile) \u001B[38;5;28;01mas\u001B[39;00m dst:\n\u001B[0;32m     75\u001B[0m     dst\u001B[38;5;241m.\u001B[39mwrite(matrice\u001B[38;5;241m.\u001B[39mastype(rio\u001B[38;5;241m.\u001B[39mfloat32), \u001B[38;5;241m1\u001B[39m)\n",
      "File \u001B[1;32m~\\anaconda3\\Lib\\site-packages\\rasterio\\env.py:451\u001B[0m, in \u001B[0;36mensure_env_with_credentials.<locals>.wrapper\u001B[1;34m(*args, **kwds)\u001B[0m\n\u001B[0;32m    448\u001B[0m     session \u001B[38;5;241m=\u001B[39m DummySession()\n\u001B[0;32m    450\u001B[0m \u001B[38;5;28;01mwith\u001B[39;00m env_ctor(session\u001B[38;5;241m=\u001B[39msession):\n\u001B[1;32m--> 451\u001B[0m     \u001B[38;5;28;01mreturn\u001B[39;00m f(\u001B[38;5;241m*\u001B[39margs, \u001B[38;5;241m*\u001B[39m\u001B[38;5;241m*\u001B[39mkwds)\n",
      "File \u001B[1;32m~\\anaconda3\\Lib\\site-packages\\rasterio\\__init__.py:329\u001B[0m, in \u001B[0;36mopen\u001B[1;34m(fp, mode, driver, width, height, count, crs, transform, dtype, nodata, sharing, **kwargs)\u001B[0m\n\u001B[0;32m    327\u001B[0m writer \u001B[38;5;241m=\u001B[39m get_writer_for_driver(driver)\n\u001B[0;32m    328\u001B[0m \u001B[38;5;28;01mif\u001B[39;00m writer \u001B[38;5;129;01mis\u001B[39;00m \u001B[38;5;129;01mnot\u001B[39;00m \u001B[38;5;28;01mNone\u001B[39;00m:\n\u001B[1;32m--> 329\u001B[0m     dataset \u001B[38;5;241m=\u001B[39m writer(\n\u001B[0;32m    330\u001B[0m         path,\n\u001B[0;32m    331\u001B[0m         mode,\n\u001B[0;32m    332\u001B[0m         driver\u001B[38;5;241m=\u001B[39mdriver,\n\u001B[0;32m    333\u001B[0m         width\u001B[38;5;241m=\u001B[39mwidth,\n\u001B[0;32m    334\u001B[0m         height\u001B[38;5;241m=\u001B[39mheight,\n\u001B[0;32m    335\u001B[0m         count\u001B[38;5;241m=\u001B[39mcount,\n\u001B[0;32m    336\u001B[0m         crs\u001B[38;5;241m=\u001B[39mcrs,\n\u001B[0;32m    337\u001B[0m         transform\u001B[38;5;241m=\u001B[39mtransform,\n\u001B[0;32m    338\u001B[0m         dtype\u001B[38;5;241m=\u001B[39mdtype,\n\u001B[0;32m    339\u001B[0m         nodata\u001B[38;5;241m=\u001B[39mnodata,\n\u001B[0;32m    340\u001B[0m         sharing\u001B[38;5;241m=\u001B[39msharing,\n\u001B[0;32m    341\u001B[0m         \u001B[38;5;241m*\u001B[39m\u001B[38;5;241m*\u001B[39mkwargs\n\u001B[0;32m    342\u001B[0m     )\n\u001B[0;32m    343\u001B[0m \u001B[38;5;28;01melse\u001B[39;00m:\n\u001B[0;32m    344\u001B[0m     \u001B[38;5;28;01mraise\u001B[39;00m DriverCapabilityError(\n\u001B[0;32m    345\u001B[0m         \u001B[38;5;124m\"\u001B[39m\u001B[38;5;124mWriter does not exist for driver: \u001B[39m\u001B[38;5;132;01m%s\u001B[39;00m\u001B[38;5;124m\"\u001B[39m \u001B[38;5;241m%\u001B[39m \u001B[38;5;28mstr\u001B[39m(driver)\n\u001B[0;32m    346\u001B[0m     )\n",
      "File \u001B[1;32mrasterio\\_io.pyx:1464\u001B[0m, in \u001B[0;36mrasterio._io.DatasetWriterBase.__init__\u001B[1;34m()\u001B[0m\n",
      "File \u001B[1;32mrasterio\\_io.pyx:330\u001B[0m, in \u001B[0;36mrasterio._io._delete_dataset_if_exists\u001B[1;34m()\u001B[0m\n",
      "File \u001B[1;32mrasterio\\_err.pyx:195\u001B[0m, in \u001B[0;36mrasterio._err.exc_wrap_int\u001B[1;34m()\u001B[0m\n",
      "\u001B[1;31mCPLE_AppDefinedError\u001B[0m: Deleting DEM/sottrazione_align.tif failed: Permission denied"
     ]
    }
   ],
   "source": [
    "# Esempio di utilizzo delle funzioni\n",
    "file_raster = 'Buildings_data/Parma_DEM_plus_buildings_raster_mask_5m.tif'\n",
    "\n",
    "with rio.open(file_raster) as src:\n",
    "    dem_data = src.read(1)\n",
    "    nodata = src.nodata\n",
    "    res = src.res[0]\n",
    "    crs = src.crs\n",
    "    transform = src.transform\n",
    "    #start_x, start_y = dem_data.shape[1] // 3, dem_data.shape[0] // 2\n",
    "    \n",
    "    latitudine_desiderata = 604993.6\n",
    "    longitudine_desiderata = 4962068.8\n",
    "    start_y, start_x = coordinate_geografiche_a_raster(transform, latitudine_desiderata, longitudine_desiderata)\n",
    "    \n",
    "    # Parametri per la traiettoria balistica\n",
    "    m = 1.0\n",
    "    g = 9.81\n",
    "    c = 0.1\n",
    "    vxi = 10\n",
    "    altitude_base = 400\n",
    "    dt = 1\n",
    "    limite_distanza_verticale = -1000\n",
    "\n",
    "    # Calcola la matrice di distanze\n",
    "    matrice_distanze = calcola_traiettoria_e_matrice(res, m, g, c, vxi, altitude_base, limite_distanza_verticale)\n",
    "\n",
    "    # Calcola la sottrazione e crea la matrice binaria\n",
    "    sottrazione_matrice, matrice_binaria, matrice_binaria_aggiornata = calcola_sottrazione_e_matrice_binaria(dem_data, matrice_distanze, nodata, start_x, start_y)\n",
    "\n",
    "    # Salva le matrici come raster\n",
    "    nome_file_raster_sottrazione = 'DEM/sottrazione_align.tif'\n",
    "    salva_come_raster(sottrazione_matrice, nome_file_raster_sottrazione, start_x, start_y, transform, crs)\n",
    "\n",
    "    nome_file_raster_distanza = 'DEM/matrice_distanza.tif'\n",
    "    salva_come_raster(matrice_distanze, nome_file_raster_distanza, start_x, start_y, transform, crs)\n",
    "\n",
    "    nome_file_raster_binario = 'DEM/matrice_binaria.tif'\n",
    "    salva_come_raster(matrice_binaria, nome_file_raster_binario, start_x, start_y, transform, crs)\n",
    "    \n",
    "    nome_file_raster_binario_aggiornato = 'DEM/matrice_binaria_aggiornata.tif'\n",
    "    salva_come_raster(matrice_binaria_aggiornata, nome_file_raster_binario_aggiornato, start_x, start_y, transform, crs)"
   ],
   "metadata": {
    "collapsed": false,
    "ExecuteTime": {
     "end_time": "2023-12-04T16:33:04.225836200Z",
     "start_time": "2023-12-04T16:33:03.982716300Z"
    }
   },
   "id": "32f66176a9f073c6"
  },
  {
   "cell_type": "code",
   "execution_count": null,
   "outputs": [],
   "source": [
    "# Carica la DEM\n",
    "file_raster = 'Buildings_data/Parma_DEM_plus_buildings_raster_mask_5m.tif'\n",
    "with rio.open(file_raster) as src:\n",
    "    dem_data = src.read(1)  # Legge il primo layer della DEM\n",
    "    transform = src.transform  # Ottieni il transform per la conversione delle coordinate\n",
    "\n",
    "    # Converti le coordinate del pixel in coordinate geografiche\n",
    "    center_lon, center_lat = rio.transform.xy(transform, start_y, start_x, offset='center')\n",
    "\n",
    "    # Crea un GeoDataFrame\n",
    "    gdf = gpd.GeoDataFrame(geometry=[Point(center_lon, center_lat)], crs=src.crs)\n",
    "\n",
    "    # Salva il GeoDataFrame come file SHP\n",
    "    gdf.to_file('DEM/center_point.shp')"
   ],
   "metadata": {
    "collapsed": false,
    "ExecuteTime": {
     "start_time": "2023-12-04T16:32:58.557856400Z"
    }
   },
   "id": "f70a0a42c8bfc8ab"
  },
  {
   "cell_type": "code",
   "execution_count": null,
   "outputs": [],
   "source": [
    "# Definisci i percorsi ai file delle matrici binarie e dello shapefile\n",
    "path_matrice_binaria = 'DEM/matrice_binaria.tif'\n",
    "path_matrice_binaria_aggiornata = 'DEM/matrice_binaria_aggiornata.tif'\n",
    "path_shapefile = 'DEM/center_point.shp'\n",
    "\n",
    "# Carica lo shapefile utilizzando geopandas\n",
    "gdf = gpd.read_file(path_shapefile)\n",
    "\n",
    "# Crea una figura con due subplot affiancati\n",
    "fig, (ax1, ax2) = plt.subplots(1, 2, figsize=(15, 7))\n",
    "\n",
    "# Carica e visualizza la prima matrice binaria nel primo subplot\n",
    "with rio.open(path_matrice_binaria) as src1:\n",
    "    # Se necessario, trasforma lo shapefile nello stesso CRS del raster\n",
    "    # Questo è importante se il CRS dello shapefile è diverso da quello del raster\n",
    "    gdf = gdf.to_crs(src1.crs)\n",
    "\n",
    "    # Visualizza la prima matrice binaria nel primo subplot\n",
    "    show(src1, ax=ax1, cmap='gray')\n",
    "\n",
    "    # Disegna i punti (o altre geometrie) dello shapefile sul primo subplot\n",
    "    gdf.plot(ax=ax1, marker='o', color='red', markersize=10)\n",
    "\n",
    "# Carica e visualizza la seconda matrice binaria nel secondo subplot\n",
    "with rio.open(path_matrice_binaria_aggiornata) as src2:\n",
    "    # Se necessario, trasforma lo shapefile nello stesso CRS del raster\n",
    "    # Questo è importante se il CRS dello shapefile è diverso da quello del raster\n",
    "    gdf = gdf.to_crs(src2.crs)\n",
    "\n",
    "    # Visualizza la seconda matrice binaria nel secondo subplot sovrapponendola alla prima\n",
    "    show(src2, ax=ax2, cmap='gray', alpha=0.5)  # Usa alpha per rendere la sovrapposizione trasparente\n",
    "\n",
    "# Mostra il plot con i due subplot affiancati\n",
    "plt.show()"
   ],
   "metadata": {
    "collapsed": false
   },
   "id": "1c5708619a9b7bed"
  },
  {
   "cell_type": "markdown",
   "source": [
    "## Loop without multiprocessing"
   ],
   "metadata": {
    "collapsed": false
   },
   "id": "c4712f6d3c614763"
  },
  {
   "cell_type": "code",
   "execution_count": null,
   "outputs": [],
   "source": [
    "%%time\n",
    "\n",
    "# Parametri per la traiettoria balistica\n",
    "m = 1.0\n",
    "g = 9.81\n",
    "c = 0.1\n",
    "vxi = 12\n",
    "altitude_base = 400\n",
    "limite_distanza_verticale = -1000\n",
    "\n",
    "# Carica la DEM\n",
    "file_raster = 'DEM/Emilia-Romagna1.tif'\n",
    "with rio.open(file_raster) as src:\n",
    "    dem_data = src.read(1)\n",
    "    nodata = src.nodata\n",
    "    res = src.res[0]\n",
    "    crs = src.crs\n",
    "    transform = src.transform\n",
    "\n",
    "    # Inizializza una matrice di conteggio delle dimensioni della DEM\n",
    "    conteggio_impatti = np.zeros_like(dem_data, dtype=int)\n",
    "\n",
    "    # Calcola la matrice di traiettoria una volta\n",
    "    matrice_distanze = calcola_traiettoria_e_matrice(res, m, g, c, vxi, altitude_base, limite_distanza_verticale)\n",
    "\n",
    "    # Numero totale di pixel\n",
    "    total_pixels = dem_data.shape[0] * dem_data.shape[1]\n",
    "    print(f\"Inizio elaborazione di {total_pixels} pixel.\")\n",
    "\n",
    "    # Loop sui pixel della DEM\n",
    "    for y in range(dem_data.shape[0]):\n",
    "        for x in range(dem_data.shape[1]):\n",
    "            # Calcola la matrice binaria per il pixel corrente\n",
    "            sottrazione_matrice, _, matrice_binaria = calcola_sottrazione_e_matrice_binaria(dem_data, matrice_distanze, nodata, x, y)\n",
    "\n",
    "            # Aggiorna la matrice di conteggio\n",
    "            for i in range(matrice_binaria.shape[0]):\n",
    "                for j in range(matrice_binaria.shape[1]):\n",
    "                    # Calcola le coordinate corrispondenti nella DEM\n",
    "                    dem_x = x + j - matrice_binaria.shape[1] // 2\n",
    "                    dem_y = y + i - matrice_binaria.shape[0] // 2\n",
    "                    if 0 <= dem_x < dem_data.shape[1] and 0 <= dem_y < dem_data.shape[0]:\n",
    "                        conteggio_impatti[dem_y, dem_x] += matrice_binaria[i, j]\n",
    "\n",
    "            # Stampa l'avanzamento ogni 10000 pixel processati\n",
    "            current_pixel = y * dem_data.shape[1] + x\n",
    "            if current_pixel % 10000 == 0:\n",
    "                print(f\"Elaborati {current_pixel} su {total_pixels} pixel.\")\n",
    "\n",
    "    # Salva la matrice di conteggio come raster\n",
    "    output_raster = 'DEM/conteggio_impatti.tif'\n",
    "    salva_come_raster(conteggio_impatti, output_raster, dem_data.shape[1] // 2, dem_data.shape[0] // 2, transform, crs)\n",
    "\n",
    "    print(\"Elaborazione completata.\")"
   ],
   "metadata": {
    "collapsed": false
   },
   "id": "b40995375091f18d"
  },
  {
   "cell_type": "markdown",
   "source": [
    "## Loop with multiprocessing"
   ],
   "metadata": {
    "collapsed": false
   },
   "id": "4c137bd06754f9df"
  },
  {
   "cell_type": "code",
   "execution_count": null,
   "outputs": [
    {
     "name": "stdout",
     "output_type": "stream",
     "text": [
      "Partizione DEM/partizioni\\partizione_0_0.tif creata.\n",
      "Partizione DEM/partizioni\\partizione_0_1.tif creata.\n",
      "Partizione DEM/partizioni\\partizione_0_2.tif creata.\n",
      "Partizione DEM/partizioni\\partizione_0_3.tif creata.\n",
      "Partizione DEM/partizioni\\partizione_0_4.tif creata.\n",
      "Partizione DEM/partizioni\\partizione_1_0.tif creata.\n",
      "Partizione DEM/partizioni\\partizione_1_1.tif creata.\n",
      "Partizione DEM/partizioni\\partizione_1_2.tif creata.\n",
      "Partizione DEM/partizioni\\partizione_1_3.tif creata.\n",
      "Partizione DEM/partizioni\\partizione_1_4.tif creata.\n",
      "Partizione DEM/partizioni\\partizione_2_0.tif creata.\n",
      "Partizione DEM/partizioni\\partizione_2_1.tif creata.\n",
      "Partizione DEM/partizioni\\partizione_2_2.tif creata.\n",
      "Partizione DEM/partizioni\\partizione_2_3.tif creata.\n",
      "Partizione DEM/partizioni\\partizione_2_4.tif creata.\n",
      "Partizione DEM/partizioni\\partizione_3_0.tif creata.\n",
      "Partizione DEM/partizioni\\partizione_3_1.tif creata.\n",
      "Partizione DEM/partizioni\\partizione_3_2.tif creata.\n",
      "Partizione DEM/partizioni\\partizione_3_3.tif creata.\n",
      "Partizione DEM/partizioni\\partizione_3_4.tif creata.\n",
      "Partizione DEM/partizioni\\partizione_4_0.tif creata.\n",
      "Partizione DEM/partizioni\\partizione_4_1.tif creata.\n",
      "Partizione DEM/partizioni\\partizione_4_2.tif creata.\n",
      "Partizione DEM/partizioni\\partizione_4_3.tif creata.\n",
      "Partizione DEM/partizioni\\partizione_4_4.tif creata.\n",
      "Inizio: genera_nomi_partizioni\n"
     ]
    }
   ],
   "source": [
    "%%time\n",
    "\n",
    "import rasterio as rio, os\n",
    "from rasterio import windows\n",
    "import numpy as np\n",
    "import multiprocessing\n",
    "\n",
    "def suddividi_raster(file_raster_originale, num_partizioni_per_lato, output_folder):\n",
    "    with rio.open(file_raster_originale) as src:\n",
    "        larghezza, altezza = src.width // num_partizioni_per_lato, src.height // num_partizioni_per_lato\n",
    "        for i in range(num_partizioni_per_lato):\n",
    "            for j in range(num_partizioni_per_lato):\n",
    "                window = windows.Window(col_off=i*larghezza, row_off=j*altezza, width=larghezza, height=altezza)\n",
    "                transform = src.window_transform(window)\n",
    "                output_raster = os.path.join(output_folder, f\"partizione_{i}_{j}.tif\")\n",
    "                with rio.open(output_raster, 'w', driver='GTiff', height=altezza, width=larghezza,\n",
    "                              count=1, dtype=src.dtypes[0], crs=src.crs, transform=transform) as dst:\n",
    "                    data = src.read(1, window=window)\n",
    "                    dst.write(data, 1)\n",
    "                print(f\"Partizione {output_raster} creata.\")\n",
    "\n",
    "def calcola_traiettoria_e_matrice(res, m, g, c, vxi, altitude_base, limite_distanza_verticale):\n",
    "    print(\"Inizio: calcola_traiettoria_e_matrice\")\n",
    "\n",
    "    def y_adjusted(t):\n",
    "        return altitude_base - 0.5 * g * t ** 2\n",
    "\n",
    "    def vx(t):\n",
    "        return vxi * np.exp(-c / m * t)\n",
    "\n",
    "    time = 0\n",
    "    y_position = altitude_base\n",
    "    distanza_orizzontale_percorsa = 0\n",
    "\n",
    "    while y_position > limite_distanza_verticale:\n",
    "        # Calcola la velocità orizzontale al tempo corrente\n",
    "        velocita_orizzontale_attuale = vx(time)\n",
    "\n",
    "        # Aggiorna dt in base alla velocità orizzontale attuale\n",
    "        dt = res / velocita_orizzontale_attuale\n",
    "        time += dt\n",
    "        y_position = y_adjusted(time)\n",
    "        distanza_orizzontale_percorsa += velocita_orizzontale_attuale * dt\n",
    "\n",
    "    dimensione_matrice_orizzontale = int(np.ceil(distanza_orizzontale_percorsa / res))\n",
    "    dimensione_matrice = 2 * dimensione_matrice_orizzontale\n",
    "    matrice_distanze = np.full((dimensione_matrice, dimensione_matrice), np.nan)\n",
    "\n",
    "    centro = dimensione_matrice // 2\n",
    "    for i in range(dimensione_matrice):\n",
    "        for j in range(dimensione_matrice):\n",
    "            distanza_orizzontale = np.sqrt((i - centro) ** 2 + (j - centro) ** 2) * res\n",
    "            if distanza_orizzontale <= distanza_orizzontale_percorsa:\n",
    "                t = distanza_orizzontale / vxi  # Questo potrebbe essere aggiornato per riflettere la decelerazione\n",
    "                altitudine = y_adjusted(t)\n",
    "                matrice_distanze[i, j] = altitudine\n",
    "\n",
    "    return matrice_distanze\n",
    "\n",
    "def bresenham_line(x0, y0, x1, y1):\n",
    "    print(\"Inizio: bresenham_line\")\n",
    "    \n",
    "    \"\"\"Genera i punti lungo una linea retta da (x0, y0) a (x1, y1) usando l'algoritmo di Bresenham.\"\"\"\n",
    "    dx = x1 - x0\n",
    "    dy = y1 - y0\n",
    "    x, y = x0, y0\n",
    "\n",
    "    ix = 1 if dx > 0 else -1\n",
    "    iy = 1 if dy > 0 else -1\n",
    "    dx = abs(dx)\n",
    "    dy = abs(dy)\n",
    "\n",
    "    if dx > dy:\n",
    "        err = dx / 2.0\n",
    "        while x != x1:\n",
    "            yield x, y\n",
    "            err -= dy\n",
    "            if err < 0:\n",
    "                y += iy\n",
    "                err += dx\n",
    "            x += ix\n",
    "    else:\n",
    "        err = dy / 2.0\n",
    "        while y != y1:\n",
    "            yield x, y\n",
    "            err -= dx\n",
    "            if err < 0:\n",
    "                x += ix\n",
    "                err += dy\n",
    "            y += iy\n",
    "\n",
    "    yield x1, y1\n",
    "\n",
    "def aggiorna_visibilita_bresenham(matrice_binaria, centro_x, centro_y):\n",
    "    print(\"Inizio: aggiorna_visibilita_bresenham\")\n",
    "    altezza, larghezza = matrice_binaria.shape\n",
    "\n",
    "    for y in range(altezza):\n",
    "        for x in range(larghezza):\n",
    "            visibile = True\n",
    "            for punto_x, punto_y in bresenham_line(centro_x, centro_y, x, y):\n",
    "                if 0 <= punto_y < altezza and 0 <= punto_x < larghezza:\n",
    "                    if matrice_binaria[punto_y, punto_x] == 0:\n",
    "                        visibile = False\n",
    "                        break\n",
    "                else:\n",
    "                    break\n",
    "\n",
    "            if not visibile:\n",
    "                matrice_binaria[y, x] = 0\n",
    "\n",
    "    return matrice_binaria\n",
    "\n",
    "def calcola_sottrazione_e_matrice_binaria(dem_data, matrice_distanze, nodata, centro_x, centro_y):\n",
    "    print(\"Inizio: calcola_sottrazione_e_matrice_binaria\")\n",
    "    offset_x = centro_x - matrice_distanze.shape[1] // 2\n",
    "    offset_y = centro_y - matrice_distanze.shape[0] // 2\n",
    "    sottrazione_matrice = np.full(matrice_distanze.shape, np.nan)\n",
    "\n",
    "    for i in range(matrice_distanze.shape[0]):\n",
    "        for j in range(matrice_distanze.shape[1]):\n",
    "            dem_x = j + offset_x\n",
    "            dem_y = i + offset_y\n",
    "            if 0 <= dem_x < dem_data.shape[1] and 0 <= dem_y < dem_data.shape[0]:\n",
    "                if not np.isnan(matrice_distanze[i, j]):\n",
    "                    valore_dem = dem_data[dem_y, dem_x] if dem_data[dem_y, dem_x] != nodata else 0\n",
    "                    sottrazione_matrice[i, j] = valore_dem - matrice_distanze[i, j]\n",
    "\n",
    "    matrice_binaria = np.where(sottrazione_matrice < 0, 1, 0)\n",
    "\n",
    "    # Aggiorna la matrice binaria utilizzando le coordinate di start come centro\n",
    "    matrice_binaria_aggiornata = aggiorna_visibilita_bresenham(matrice_binaria, centro_x, centro_y)\n",
    "\n",
    "    return sottrazione_matrice, matrice_binaria, matrice_binaria_aggiornata\n",
    "\n",
    "def salva_come_raster(dati, output_raster, transform, crs):\n",
    "    print(\"Inizio: salva_come_raster\")\n",
    "    with rio.open(output_raster, 'w', driver='GTiff', height=dati.shape[0],\n",
    "                  width=dati.shape[1], count=1, dtype=dati.dtype,\n",
    "                  crs=crs, transform=transform) as dst:\n",
    "        dst.write(dati, 1)\n",
    "\n",
    "def elabora_dem_partizionata(file_raster, output_raster, m, g, c, vxi, altitude_base, limite_distanza_verticale):\n",
    "    print(\"Inizio: elabora_dem_partizionata\")\n",
    "    with rio.open(file_raster) as src:\n",
    "        dem_data = src.read(1)\n",
    "        nodata = src.nodata\n",
    "        res = src.res[0]\n",
    "        crs = src.crs\n",
    "        transform = src.transform\n",
    "\n",
    "        conteggio_impatti = np.zeros_like(dem_data, dtype=int)\n",
    "        matrice_distanze = calcola_traiettoria_e_matrice(res, m, g, c, vxi, altitude_base, limite_distanza_verticale)\n",
    "\n",
    "        total_pixels = dem_data.shape[0] * dem_data.shape[1]\n",
    "        pixels_processed = 0\n",
    "\n",
    "        for y in range(dem_data.shape[0]):\n",
    "            for x in range(dem_data.shape[1]):\n",
    "                _, _, matrice_binaria = calcola_sottrazione_e_matrice_binaria(dem_data, matrice_distanze, nodata, x, y)\n",
    "\n",
    "                for i in range(matrice_binaria.shape[0]):\n",
    "                    for j in range(matrice_binaria.shape[1]):\n",
    "                        dem_x = x + j - matrice_binaria.shape[1] // 2\n",
    "                        dem_y = y + i - matrice_binaria.shape[0] // 2\n",
    "                        if 0 <= dem_x < dem_data.shape[1] and 0 <= dem_y < dem_data.shape[0]:\n",
    "                            conteggio_impatti[dem_y, dem_x] += matrice_binaria[i, j]\n",
    "\n",
    "                pixels_processed += 1\n",
    "                if pixels_processed % 10000 == 0:\n",
    "                    print(f\"Elaborazione: {pixels_processed} su {total_pixels} pixel completata.\")\n",
    "\n",
    "        salva_come_raster(conteggio_impatti, output_raster, transform, crs)\n",
    "        print(f\"Elaborazione completata per il file {file_raster}.\")\n",
    "\n",
    "\n",
    "def processa_partizione(args):\n",
    "    print(\"Inizio: processa_partizione\")\n",
    "    try:\n",
    "        return elabora_dem_partizionata(*args)\n",
    "    except Exception as e:\n",
    "        print(f\"Errore in processa_partizione: {e}\")\n",
    "        raise\n",
    "\n",
    "def genera_nomi_partizioni(num_partizioni, output_folder):\n",
    "    print(\"Inizio: genera_nomi_partizioni\")\n",
    "    partizioni = []\n",
    "    for i in range(num_partizioni):\n",
    "        for j in range(num_partizioni):\n",
    "            file_raster = f\"{output_folder}/partizione_{i}_{j}.tif\"\n",
    "            output_raster = f\"conteggio_impatti_partizione_{i}_{j}.tif\"\n",
    "            partizioni.append((file_raster, output_raster))\n",
    "    return partizioni\n",
    "\n",
    "if __name__ == \"__main__\":\n",
    "    m, g, c, vxi, altitude_base, limite_distanza_verticale = 1.0, 9.81, 0.1, 12, 400, -1000\n",
    "    num_partizioni_per_lato = 5  # Imposta il numero di partizioni per lato per una griglia 5x5\n",
    "    file_raster_originale = 'DEM/Emilia-Romagna1.tif'  # Percorso del file raster originale\n",
    "    output_folder = 'DEM/partizioni'  # Cartella di destinazione per le partizioni\n",
    "    \n",
    "    # Crea la directory di output se non esiste\n",
    "    if not os.path.exists(output_folder):\n",
    "        os.makedirs(output_folder)\n",
    "\n",
    "    # Suddividi il raster originale\n",
    "    suddividi_raster(file_raster_originale, num_partizioni_per_lato, output_folder)\n",
    "\n",
    "    # Prepara le partizioni per l'elaborazione parallela\n",
    "    partizioni = genera_nomi_partizioni(num_partizioni_per_lato, output_folder)\n",
    "\n",
    "    # Esegui l'elaborazione in parallelo\n",
    "    with multiprocessing.Pool() as pool:\n",
    "        task_args = [(partizione[0], partizione[1], m, g, c, vxi, altitude_base, limite_distanza_verticale) for partizione in partizioni]\n",
    "        try:\n",
    "            # Il metodo 'map' aspetta che tutti i task siano completati\n",
    "            pool.map(processa_partizione, task_args)\n",
    "            print(\"Elaborazione completata con successo\")\n",
    "        except Exception as e:\n",
    "            print(f\"Si sono verificati degli errori nell'elaborazione: {e}\")\n",
    "        finally:\n",
    "            pool.close()\n",
    "            pool.join()"
   ],
   "metadata": {
    "collapsed": false,
    "is_executing": true,
    "ExecuteTime": {
     "start_time": "2023-12-03T22:08:43.181070300Z"
    }
   },
   "id": "4b6cb5985f3ed2bd"
  },
  {
   "cell_type": "markdown",
   "source": [
    "# Complicate code (stop here)"
   ],
   "metadata": {
    "collapsed": false
   },
   "id": "6158592a82e76ba8"
  },
  {
   "cell_type": "markdown",
   "source": [
    "## Code without function"
   ],
   "metadata": {
    "collapsed": false
   },
   "id": "a09927fdb94e4a13"
  },
  {
   "cell_type": "code",
   "execution_count": null,
   "outputs": [],
   "source": [
    "# Constants and initial conditions\n",
    "m = 1.0  # Mass of the UAV (kg)\n",
    "g = 9.81  # Gravitational acceleration (m/s^2)\n",
    "c = 0.1  # Drag coefficient\n",
    "vxi = 10  # Initial horizontal velocity (m/s)\n",
    "relative_altitude = 150  # Relative altitude of the drone (m)\n",
    "dt = 0.01  # Time step for the simulation\n",
    "movement_angle = 45  # Movement angle in degrees, 0 is eastward, 90 is northward\n",
    "\n",
    "# Load the DEM and read its data\n",
    "dem_file = 'DEM/Emilia-Romagna1.tif'  # Path to the uploaded DEM file\n",
    "with rio.open(dem_file) as dem:\n",
    "    # Get dimensions of the raster\n",
    "    width, height = dem.width, dem.height\n",
    "\n",
    "    # Calculate the coordinates of the central pixel\n",
    "    central_x, central_y = width // 2, height // 2\n",
    "\n",
    "    # Read the elevation at the center\n",
    "    start_elevation = dem.read(1)[central_y, central_x]\n",
    "\n",
    "    # Store the entire DEM data in dem_data\n",
    "    dem_data = dem.read(1)\n",
    "\n",
    "    # Obtain the resolution of the DEM\n",
    "    dem_resolution = dem.transform[0]  # Pixel width in meters\n",
    "\n",
    "# Calculate initial absolute altitude (z-coordinate)\n",
    "absolute_altitude = relative_altitude + start_elevation\n",
    "\n",
    "# Convert movement angle to radians for calculation\n",
    "angle_rad = np.radians(movement_angle)\n",
    "\n",
    "# Functions for velocities and distance\n",
    "def vx(t):\n",
    "    return vxi * np.exp(-c/m * t)\n",
    "\n",
    "def z_adjusted(t, start_altitude):\n",
    "    return start_altitude - 0.5 * g * t**2\n",
    "\n",
    "# Initialize simulation data with the starting position and initial values\n",
    "time = 0\n",
    "x_pixel_index, y_pixel_index = central_x, central_y  # Starting at the central pixel\n",
    "times_adjusted = [time]\n",
    "x_positions_meters = [central_x * dem_resolution]  # Convert starting pixel to meters\n",
    "y_positions_meters = [central_y * dem_resolution]  # Convert starting pixel to meters\n",
    "z_positions = [absolute_altitude]\n",
    "terrain_elevations = [dem_data[central_y, central_x]]\n",
    "horizontal_distances = [0]\n",
    "\n",
    "# Rest of the simulation loop\n",
    "while True:\n",
    "    time += dt\n",
    "    # Calcola lo spostamento orizzontale totale in metri\n",
    "    total_horizontal_displacement = vx(time) * time\n",
    "\n",
    "    # Calcola le componenti x e y dello spostamento in base all'angolo\n",
    "    x_displacement_meters = total_horizontal_displacement * np.cos(angle_rad)\n",
    "    y_displacement_meters = total_horizontal_displacement * np.sin(angle_rad)\n",
    "\n",
    "    # Calcola la posizione corrente in metri e convertila in indici dei pixel\n",
    "    x_position_meters = x_displacement_meters + (central_x * dem_resolution)\n",
    "    y_position_meters = y_displacement_meters + (central_y * dem_resolution)\n",
    "    x_pixel_index = int(x_position_meters / dem_resolution)\n",
    "    y_pixel_index = int(y_position_meters / dem_resolution)\n",
    "\n",
    "    # Assicurati che gli indici siano entro i limiti\n",
    "    x_pixel_index = max(0, min(x_pixel_index, width - 1))\n",
    "    y_pixel_index = max(0, min(y_pixel_index, height - 1))\n",
    "\n",
    "    # Calcola la distanza orizzontale dalla posizione iniziale\n",
    "    horizontal_distance = np.sqrt((x_position_meters - x_positions_meters[0])**2 + (y_position_meters - y_positions_meters[0])**2)\n",
    "    horizontal_distances.append(horizontal_distance)\n",
    "\n",
    "    # Get terrain elevation\n",
    "    terrain_elevation = dem_data[y_pixel_index, x_pixel_index]\n",
    "    terrain_elevations.append(terrain_elevation)\n",
    "\n",
    "    # Calculate the drone's altitude (z-coordinate)\n",
    "    z_position = z_adjusted(time, absolute_altitude)\n",
    "    z_positions.append(z_position)\n",
    "\n",
    "    # Append data to lists\n",
    "    times_adjusted.append(time)\n",
    "    x_positions_meters.append(x_position_meters)\n",
    "    y_positions_meters.append(y_position_meters)\n",
    "\n",
    "    # Check if the drone's altitude is zero or negative (end of flight)\n",
    "    if z_position <= terrain_elevation:\n",
    "        print(\"Drone has completed its flight.\")\n",
    "        break\n",
    "\n",
    "# Example output for verification\n",
    "for i in range(0, len(times_adjusted)):\n",
    "    print(f\"Time: {times_adjusted[i]}s, Horizontal Distance: {horizontal_distances[i]}m, Vertical Distance: {z_positions[i]}m, Terrain elevation: {terrain_elevations[i]}m\")"
   ],
   "metadata": {
    "collapsed": false
   },
   "id": "aa07f6418a35d82d"
  },
  {
   "cell_type": "markdown",
   "source": [
    "## Code with function"
   ],
   "metadata": {
    "collapsed": false
   },
   "id": "720cdb4379754ee1"
  },
  {
   "cell_type": "code",
   "execution_count": null,
   "outputs": [],
   "source": [
    "def pixel_to_coords(x, y, transform):\n",
    "    # Converti le coordinate dei pixel in coordinate geografiche\n",
    "    coords = rio.transform.xy(transform, y, x, offset='center')  # Restituisce (longitudine, latitudine)\n",
    "    return coords\n",
    "\n",
    "def simulate_uav_flight(dem, start_x, start_y, m, g, c, vxi, relative_altitude, dt, movement_angle):\n",
    "    # Leggi i dati DEM e ottieni le dimensioni\n",
    "    dem_data = dem.read(1)\n",
    "    width, height = dem_data.shape\n",
    "    dem_resolution = dem.transform[0]\n",
    "    \n",
    "    # Calcola l'elevazione di partenza e l'altitudine assoluta iniziale\n",
    "    start_elevation = dem_data[start_y, start_x]\n",
    "    absolute_altitude = relative_altitude + start_elevation\n",
    "    angle_rad = np.radians(movement_angle)\n",
    "\n",
    "    # Funzioni per calcolare la velocità e l'altitudine\n",
    "    def vx(t):\n",
    "        return vxi * np.exp(-c/m * t)\n",
    "\n",
    "    def z_adjusted(t, start_altitude):\n",
    "        return start_altitude - 0.5 * g * t**2\n",
    "\n",
    "    # Inizializza i dati della simulazione\n",
    "    time = 0\n",
    "    total_horizontal_displacement = 0\n",
    "    times_adjusted = [time]\n",
    "    x_positions_meters = [start_x * dem_resolution]\n",
    "    y_positions_meters = [start_y * dem_resolution]\n",
    "    z_positions = [absolute_altitude]\n",
    "    terrain_elevations = [start_elevation]\n",
    "    horizontal_distances = [0]\n",
    "    \n",
    "    # Ciclo di simulazione\n",
    "    while True:\n",
    "        time += dt\n",
    "        horizontal_velocity = vx(time)\n",
    "        x_displacement_meters = horizontal_velocity * np.cos(angle_rad) * dt\n",
    "        y_displacement_meters = horizontal_velocity * np.sin(angle_rad) * dt\n",
    "\n",
    "        total_horizontal_displacement += np.sqrt(x_displacement_meters**2 + y_displacement_meters**2)\n",
    "        horizontal_distance = total_horizontal_displacement\n",
    "\n",
    "        x_position_meters = x_positions_meters[-1] + x_displacement_meters\n",
    "        y_position_meters = y_positions_meters[-1] + y_displacement_meters\n",
    "\n",
    "        x_pixel_index = int(x_position_meters / dem_resolution)\n",
    "        y_pixel_index = int(y_position_meters / dem_resolution)\n",
    "        x_pixel_index = max(0, min(x_pixel_index, width - 1))\n",
    "        y_pixel_index = max(0, min(y_pixel_index, height - 1))\n",
    "\n",
    "        terrain_elevation = dem_data[y_pixel_index, x_pixel_index]\n",
    "        z_position = z_adjusted(time, absolute_altitude)\n",
    "\n",
    "        if z_position <= terrain_elevation:\n",
    "            geographic_coords = pixel_to_coords(x_pixel_index, y_pixel_index, dem.transform)\n",
    "            break\n",
    "\n",
    "        # Aggiorna le liste dei dati\n",
    "        times_adjusted.append(time)\n",
    "        horizontal_distances.append(horizontal_distance)\n",
    "        x_positions_meters.append(x_position_meters)\n",
    "        y_positions_meters.append(y_position_meters)\n",
    "        z_positions.append(z_position)\n",
    "        terrain_elevations.append(terrain_elevation)\n",
    "\n",
    "    return times_adjusted, horizontal_distances, z_positions, terrain_elevations, geographic_coords"
   ],
   "metadata": {
    "collapsed": false
   },
   "id": "b32db336890403ca"
  },
  {
   "cell_type": "code",
   "execution_count": null,
   "outputs": [],
   "source": [
    "# Utilizzo della funzione\n",
    "dem_file = 'DEM/Emilia-Romagna1.tif'\n",
    "with rio.open(dem_file) as dem:\n",
    "    start_x, start_y = dem.width // 2, dem.height // 2\n",
    "    \n",
    "    m = 1.0\n",
    "    g = 9.81\n",
    "    c = 0.1\n",
    "    vxi = 10\n",
    "    relative_altitude = 500\n",
    "    dt = 0.01\n",
    "    movement_angle = 45\n",
    "    \n",
    "    times_adjusted, horizontal_distances, z_positions, terrain_elevations, geographic_coords = simulate_uav_flight(dem, start_x, start_y, m, g, c, vxi, relative_altitude, dt, movement_angle)"
   ],
   "metadata": {
    "collapsed": false
   },
   "id": "f9509c52a27c04aa"
  },
  {
   "cell_type": "code",
   "execution_count": null,
   "outputs": [],
   "source": [
    "# Output di esempio per la verifica\n",
    "for i in range(0, len(times_adjusted)):\n",
    "    print(f\"Time: {times_adjusted[i]}s, Horizontal Distance: {horizontal_distances[i]}m, Vertical Distance: {z_positions[i]}m, Terrain elevation: {terrain_elevations[i]}m\")"
   ],
   "metadata": {
    "collapsed": false
   },
   "id": "65f0524bc63e7b32"
  },
  {
   "cell_type": "code",
   "execution_count": null,
   "outputs": [],
   "source": [
    "# Plotting\n",
    "plt.figure(figsize=(12, 8))\n",
    "\n",
    "# Distanza Orizzontale nel Tempo\n",
    "plt.subplot(2, 2, 1)\n",
    "plt.plot(times_adjusted, horizontal_distances, label=\"Distanza Orizzontale\")\n",
    "plt.xlabel(\"Tempo (s)\")\n",
    "plt.ylabel(\"Distanza (m)\")\n",
    "plt.title(\"Distanza Orizzontale vs Tempo\")\n",
    "plt.grid(True)\n",
    "plt.legend()\n",
    "\n",
    "# Altezza del Drone sopra il Livello del Mare\n",
    "plt.subplot(2, 2, 2)\n",
    "plt.plot(times_adjusted, z_positions, label=\"Altezza sopra il Livello del Mare\")\n",
    "plt.xlabel(\"Tempo (s)\")\n",
    "plt.ylabel(\"Altezza (m)\")\n",
    "plt.title(\"Altezza del Drone sopra il Livello del Mare\")\n",
    "plt.grid(True)\n",
    "plt.legend()\n",
    "\n",
    "# Traiettoria UAV con Linea del Terreno\n",
    "plt.subplot(2, 1, 2)\n",
    "plt.plot(horizontal_distances, z_positions, label=\"Traiettoria UAV\")\n",
    "plt.plot(horizontal_distances, terrain_elevations, label=\"Linea del Terreno\", color='brown', linestyle='--')\n",
    "plt.xlabel(\"Distanza Orizzontale (m)\")\n",
    "plt.ylabel(\"Altezza (m) sopra il Livello del Mare\")\n",
    "plt.title(\"Traiettoria UAV in Discesa Balistica\")\n",
    "plt.grid(True)\n",
    "plt.legend()\n",
    "\n",
    "plt.tight_layout()\n",
    "plt.show()"
   ],
   "metadata": {
    "collapsed": false
   },
   "id": "64a4597e7f12e803"
  },
  {
   "cell_type": "code",
   "execution_count": null,
   "outputs": [],
   "source": [
    "# Carica la DEM una volta e utilizzala per tutte le simulazioni\n",
    "dem_file_path = 'DEM/Emilia-Romagna1.tif'\n",
    "with rio.open(dem_file_path) as dem:\n",
    "    start_x, start_y = dem.width // 2, dem.height // 2\n",
    "    m = 1.0\n",
    "    g = 9.81\n",
    "    c = 0.1\n",
    "    vxi = 10\n",
    "    relative_altitude = 400\n",
    "    dt = 0.01\n",
    "\n",
    "    # Lista per memorizzare i punti di impatto\n",
    "    impact_points = []\n",
    "\n",
    "    # Simulazione per ogni angolo\n",
    "    for angle in np.arange(0, 360, 11.25):\n",
    "        _, _, _, _, geographic_coords = simulate_uav_flight(dem, start_x, start_y, m, g, c, vxi, relative_altitude, dt, angle)\n",
    "\n",
    "        # Aggiungi il punto di impatto alla lista\n",
    "        impact_point = geographic_coords  # Questo sarà una tupla (longitudine, latitudine)\n",
    "        impact_points.append(impact_point)\n",
    "\n",
    "    # Costruisci un poligono dai punti di impatto\n",
    "    impact_polygon = Polygon(impact_points)\n",
    "\n",
    "    # Costruisci un GeoDataFrame con lo stesso sistema di coordinate della DEM\n",
    "    gdf = gpd.GeoDataFrame(geometry=[impact_polygon], crs=dem.crs)\n",
    "\n",
    "    # Aggiungi un buffer di 1 metro\n",
    "    gdf['geometry'] = gdf.buffer(1)"
   ],
   "metadata": {
    "collapsed": false
   },
   "id": "bdc7c1640d72e1da"
  },
  {
   "cell_type": "code",
   "execution_count": null,
   "outputs": [],
   "source": [
    "# Visualizza il GeoDataFrame\n",
    "gdf.plot()"
   ],
   "metadata": {
    "collapsed": false
   },
   "id": "e6d199fda2a3ac6f"
  },
  {
   "cell_type": "code",
   "execution_count": null,
   "outputs": [],
   "source": [
    "gdf.to_file('polygon_impact.shp')"
   ],
   "metadata": {
    "collapsed": false
   },
   "id": "e21b3687f36764cc"
  },
  {
   "cell_type": "code",
   "execution_count": null,
   "outputs": [],
   "source": [
    "import concurrent.futures\n",
    "\n",
    "def process_pixel(x, y, dem, params):\n",
    "    # Ottieni i parametri dalla struttura 'params'\n",
    "    m = params['m']\n",
    "    g = params['g']\n",
    "    c = params['c']\n",
    "    vxi = params['vxi']\n",
    "    relative_altitude = params['relative_altitude']\n",
    "    dt = params['dt']\n",
    "\n",
    "    impact_points = []\n",
    "    for angle in np.arange(0, 360, 11.25):\n",
    "        _, _, _, _, geographic_coords = simulate_uav_flight(dem, x, y, m, g, c, vxi, relative_altitude, dt, angle)\n",
    "        impact_points.append(geographic_coords)\n",
    "\n",
    "    impact_polygon = Polygon(impact_points)\n",
    "    return (x, y, impact_polygon)\n",
    "\n",
    "def main():\n",
    "    dem_file_path = 'DEM/DEM_Parma.tif'\n",
    "    with rio.open(dem_file_path) as dem:\n",
    "        dem_data = dem.read(1)\n",
    "        nodata = dem.nodata\n",
    "\n",
    "        params = {'m': 1.0, 'g': 9.81, 'c': 0.1, 'vxi': 10, 'relative_altitude': 400, 'dt': 0.01}\n",
    "        tasks = [(x, y, dem, params) for y in range(dem.height) for x in range(dem.width) if dem_data[y, x] != nodata]\n",
    "\n",
    "        with concurrent.futures.ProcessPoolExecutor() as executor:\n",
    "            results = executor.map(lambda p: process_pixel(*p), tasks)\n",
    "\n",
    "        count_matrix = np.zeros_like(dem_data, dtype=int)\n",
    "        for x, y, impact_polygon in results:\n",
    "            for check_y in range(dem.height):\n",
    "                for check_x in range(dem.width):\n",
    "                    if dem_data[check_y, check_x] != nodata:\n",
    "                        point = Point(dem.xy(check_y, check_x))\n",
    "                        if point.within(impact_polygon):\n",
    "                            count_matrix[check_y, check_x] += 1\n",
    "\n",
    "    with rio.open('impact_count.tif', 'w', **dem.meta) as dst:\n",
    "        dst.write(count_matrix, 1)\n",
    "\n",
    "if __name__ == \"__main__\":\n",
    "    main()"
   ],
   "metadata": {
    "collapsed": false
   },
   "id": "ba801afca691c0c1"
  },
  {
   "cell_type": "code",
   "execution_count": null,
   "outputs": [],
   "source": [
    "import concurrent.futures\n",
    "\n",
    "def process_pixel(x, y, dem_file_path, params):\n",
    "    with rio.open(dem_file_path) as dem:\n",
    "        m, g, c, vxi, relative_altitude, dt = params\n",
    "\n",
    "        impact_points = []\n",
    "        for angle in np.arange(0, 360, 11.25):\n",
    "            _, _, _, _, geographic_coords = simulate_uav_flight(dem, x, y, m, g, c, vxi, relative_altitude, dt, angle)\n",
    "            impact_points.append(geographic_coords)\n",
    "\n",
    "        impact_polygon = Polygon(impact_points)\n",
    "    \n",
    "    return (x, y, impact_polygon)\n",
    "\n",
    "def main():\n",
    "    dem_file_path = 'DEM/DEM_Parma.tif'\n",
    "    with rio.open(dem_file_path) as dem:\n",
    "        dem_data = dem.read(1)\n",
    "        nodata = dem.nodata\n",
    "\n",
    "        params = (1.0, 9.81, 0.1, 10, 400, 0.01)\n",
    "        tasks = [(x, y, dem_file_path, params) for y in range(dem.height) for x in range(dem.width) if dem_data[y, x] != nodata]\n",
    "\n",
    "        count_matrix = np.zeros_like(dem_data, dtype=int)\n",
    "\n",
    "        with concurrent.futures.ProcessPoolExecutor() as executor:\n",
    "            futures = [executor.submit(process_pixel, *task) for task in tasks]\n",
    "            for future in concurrent.futures.as_completed(futures):\n",
    "                x, y, impact_polygon = future.result()\n",
    "                for check_y in range(dem.height):\n",
    "                    for check_x in range(dem.width):\n",
    "                        if dem_data[check_y, check_x] != nodata:\n",
    "                            point = Point(dem.xy(check_y, check_x))\n",
    "                            if point.within(impact_polygon):\n",
    "                                count_matrix[check_y, check_x] += 1\n",
    "\n",
    "    with rio.open('impact_count.tif', 'w', **dem.meta) as dst:\n",
    "        dst.write(count_matrix, 1)\n",
    "\n",
    "if __name__ == \"__main__\":\n",
    "    main()"
   ],
   "metadata": {
    "collapsed": false
   },
   "id": "1e034d65ccc04789"
  },
  {
   "cell_type": "code",
   "execution_count": null,
   "outputs": [],
   "source": [],
   "metadata": {
    "collapsed": false
   },
   "id": "50e9f8e29c8806de"
  }
 ],
 "metadata": {
  "kernelspec": {
   "display_name": "Python 3",
   "language": "python",
   "name": "python3"
  },
  "language_info": {
   "codemirror_mode": {
    "name": "ipython",
    "version": 2
   },
   "file_extension": ".py",
   "mimetype": "text/x-python",
   "name": "python",
   "nbconvert_exporter": "python",
   "pygments_lexer": "ipython2",
   "version": "2.7.6"
  }
 },
 "nbformat": 4,
 "nbformat_minor": 5
}
