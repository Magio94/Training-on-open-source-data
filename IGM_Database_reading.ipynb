{
 "cells": [
  {
   "cell_type": "code",
   "execution_count": 8,
   "outputs": [],
   "source": [
    "import os, fiona, pandas as pd, geopandas as gpd, requests\n",
    "from bs4 import BeautifulSoup"
   ],
   "metadata": {
    "collapsed": false,
    "ExecuteTime": {
     "end_time": "2023-12-06T16:12:15.624954500Z",
     "start_time": "2023-12-06T16:12:14.976040500Z"
    }
   },
   "id": "91bb506ce142b857"
  },
  {
   "cell_type": "code",
   "execution_count": 9,
   "outputs": [
    {
     "name": "stdout",
     "output_type": "stream",
     "text": [
      "Non è stato possibile elencare i layer in IGM_Data/BO_dbsn_3J0M0f/Bologna_dbsn.gdb: 'IGM_Data/BO_dbsn_3J0M0f/Bologna_dbsn.gdb' not recognized as a supported file format.\n",
      "Non è stato possibile elencare i layer in IGM_Data/FC_dbsn_3N3H0u/Forli'-Cesena_dbsn.gdb: 'IGM_Data/FC_dbsn_3N3H0u/Forli'-Cesena_dbsn.gdb' not recognized as a supported file format.\n",
      "Non è stato possibile elencare i layer in IGM_Data/FE_dbsn_6l2Z6x/Ferrara_dbsn.gdb: 'IGM_Data/FE_dbsn_6l2Z6x/Ferrara_dbsn.gdb' not recognized as a supported file format.\n",
      "Non è stato possibile elencare i layer in IGM_Data/MO_dbsn_1z8t1l/Modena_dbsn.gdb: 'IGM_Data/MO_dbsn_1z8t1l/Modena_dbsn.gdb' not recognized as a supported file format.\n",
      "Non è stato possibile elencare i layer in IGM_Data/PC_dbsn_9N1E3y/Piacenza_dbsn.gdb: 'IGM_Data/PC_dbsn_9N1E3y/Piacenza_dbsn.gdb' not recognized as a supported file format.\n",
      "Non è stato possibile elencare i layer in IGM_Data/PR_dbsn_4J0E3N/Parma_dbsn.gdb: 'IGM_Data/PR_dbsn_4J0E3N/Parma_dbsn.gdb' not recognized as a supported file format.\n",
      "Non è stato possibile elencare i layer in IGM_Data/RA_dbsn_4G3X0S/Ravenna_dbsn.gdb: 'IGM_Data/RA_dbsn_4G3X0S/Ravenna_dbsn.gdb' not recognized as a supported file format.\n",
      "Non è stato possibile elencare i layer in IGM_Data/RE_dbsn_5V1L1E/Reggio nell'Emilia_dbsn.gdb: 'IGM_Data/RE_dbsn_5V1L1E/Reggio nell'Emilia_dbsn.gdb' not recognized as a supported file format.\n",
      "Non è stato possibile elencare i layer in IGM_Data/RN_dbsn_6l6I9R/Rimini_dbsn.gdb: 'IGM_Data/RN_dbsn_6l6I9R/Rimini_dbsn.gdb' not recognized as a supported file format.\n"
     ]
    }
   ],
   "source": [
    "folder_path = 'IGM_Data'\n",
    "\n",
    "# Liste per tenere traccia dei percorsi dei file .gdb e dei layer unici\n",
    "gdb_path_list = []\n",
    "unique_layers = set()\n",
    "\n",
    "# Trova tutti i file .gdb nella cartella e i loro layer unici\n",
    "for root, dirs, files in os.walk(folder_path):\n",
    "    for dir in dirs:\n",
    "        if dir.endswith('.gdb'):\n",
    "            gdb_path = os.path.join(root, dir)\n",
    "            gdb_path_list.append(gdb_path)  # Aggiungi il percorso alla lista dei percorsi .gdb\n",
    "            try:\n",
    "                layers = fiona.listlayers(gdb_path)\n",
    "                unique_layers.update(layers)  # Aggiungi i layer al set dei layer unici\n",
    "            except Exception as e:\n",
    "                print(f\"Non è stato possibile elencare i layer in {gdb_path}: {e}\")\n",
    "\n",
    "# Converti il set dei layer unici in una lista\n",
    "unique_layers_list = list(unique_layers)"
   ],
   "metadata": {
    "collapsed": false,
    "ExecuteTime": {
     "end_time": "2023-12-06T16:12:24.927718700Z",
     "start_time": "2023-12-06T16:12:15.624954500Z"
    }
   },
   "id": "bec0954cc7bb025b"
  },
  {
   "cell_type": "code",
   "execution_count": null,
   "outputs": [],
   "source": [
    "# URL della pagina da cui estrarre le informazioni\n",
    "url = \"https://www.igmi.org/dbsn_supporto/dbsn/\"\n",
    "\n",
    "# Scarica il contenuto della pagina\n",
    "response = requests.get(url)\n",
    "\n",
    "# Imposta la codifica corretta per la risposta, se conosciuta\n",
    "response.encoding = 'utf-8'\n",
    "\n",
    "soup = BeautifulSoup(response.text, 'html.parser')\n",
    "\n",
    "# Dizionario per conservare le informazioni estratte\n",
    "layer_info = {}\n",
    "\n",
    "for layer in unique_layers_list:\n",
    "    # Cerca il titolo del layer nel contenuto della pagina\n",
    "    layer_element = soup.find(lambda tag: tag.name == \"h5\" and layer in tag.text)\n",
    "    if layer_element:\n",
    "        # Trova la tabella HTML successiva\n",
    "        table = layer_element.find_next('table')\n",
    "\n",
    "        # Se la tabella è trovata, leggila con pandas\n",
    "        if table:\n",
    "            df = pd.read_html(str(table), encoding='utf-8')[0]\n",
    "            df['Layer'] = layer  # Aggiungi il nome del layer\n",
    "            layer_info[layer] = df\n",
    "\n",
    "# Unisci tutti i DataFrame in layer_info in un unico DataFrame\n",
    "all_layers_df = pd.concat(layer_info.values(), ignore_index=True)\n",
    "\n",
    "# Specifica il percorso locale dove salvare le tabelle\n",
    "local_path = 'IGM_Data'\n",
    "file_name = 'tables_IGM_DBSM_description.csv'\n",
    "file_path = os.path.join(local_path, file_name)\n",
    "\n",
    "# Controlla se il file esiste già\n",
    "if not os.path.exists(file_path):\n",
    "    # Assicurati che la directory esista\n",
    "    os.makedirs(local_path, exist_ok=True)\n",
    "\n",
    "    # Salva la tabella unita come file CSV\n",
    "    all_layers_df.to_csv(file_path, index=False)\n",
    "    print(f\"File salvato come {file_path}\")\n",
    "else:\n",
    "    # Leggi il file CSV se esiste già\n",
    "    all_layers_df = pd.read_csv(file_path)\n",
    "    print(f\"Il file {file_name} esiste già in {local_path}\")"
   ],
   "metadata": {
    "collapsed": false,
    "ExecuteTime": {
     "end_time": "2023-12-05T14:00:40.819801100Z",
     "start_time": "2023-12-05T14:00:38.327839300Z"
    }
   },
   "id": "b9e19ddab4d0e991"
  },
  {
   "cell_type": "code",
   "execution_count": null,
   "outputs": [],
   "source": [
    "import requests\n",
    "from bs4 import BeautifulSoup\n",
    "import pandas as pd\n",
    "\n",
    "# URL della pagina da cui estrarre le informazioni\n",
    "url = \"https://www.igmi.org/dbsn_supporto/dbsn/\"\n",
    "\n",
    "# Scarica il contenuto della pagina\n",
    "response = requests.get(url)\n",
    "\n",
    "# Imposta la codifica corretta per la risposta, se conosciuta\n",
    "response.encoding = 'utf-8'\n",
    "\n",
    "soup = BeautifulSoup(response.text, 'html.parser')\n",
    "\n",
    "# Dizionario per conservare le informazioni estratte\n",
    "layer_info = {}\n",
    "\n",
    "for layer in unique_layers_list:\n",
    "    # Cerca il titolo del layer nel contenuto della pagina\n",
    "    layer_element = soup.find(lambda tag: tag.name == \"h5\" and layer in tag.text)\n",
    "    if layer_element:\n",
    "        # Trova la tabella HTML successiva\n",
    "        table = layer_element.find_next('table')\n",
    "\n",
    "        # Se la tabella è trovata, leggila con pandas\n",
    "        if table:\n",
    "            df = pd.read_html(str(table), encoding='utf-8')[0]\n",
    "            df['Layer'] = layer  # Aggiungi il nome del layer\n",
    "            layer_info[layer] = df\n",
    "\n",
    "# Unisci tutti i DataFrame in layer_info in un unico DataFrame\n",
    "all_layers_df = pd.concat(layer_info.values(), ignore_index=True)"
   ],
   "metadata": {
    "collapsed": false
   }
  },
  {
   "cell_type": "code",
   "execution_count": 11,
   "outputs": [
    {
     "ename": "DriverError",
     "evalue": "'IGM_Data/BO_dbsn_3J0M0f/Bologna_dbsn.gdb' not recognized as a supported file format.",
     "output_type": "error",
     "traceback": [
      "\u001B[0;31m---------------------------------------------------------------------------\u001B[0m",
      "\u001B[0;31mCPLE_OpenFailedError\u001B[0m                      Traceback (most recent call last)",
      "\u001B[0;32mfiona/_shim.pyx\u001B[0m in \u001B[0;36mfiona._shim.gdal_open_vector\u001B[0;34m()\u001B[0m\n",
      "\u001B[0;32mfiona/_err.pyx\u001B[0m in \u001B[0;36mfiona._err.exc_wrap_pointer\u001B[0;34m()\u001B[0m\n",
      "\u001B[0;31mCPLE_OpenFailedError\u001B[0m: 'IGM_Data/BO_dbsn_3J0M0f/Bologna_dbsn.gdb' not recognized as a supported file format.",
      "\nDuring handling of the above exception, another exception occurred:\n",
      "\u001B[0;31mDriverError\u001B[0m                               Traceback (most recent call last)",
      "\u001B[0;32m/var/folders/sm/yz45ppn11tz_wcf1s1w5rt6w0000gn/T/ipykernel_5672/365114596.py\u001B[0m in \u001B[0;36m<module>\u001B[0;34m\u001B[0m\n\u001B[1;32m      7\u001B[0m \u001B[0;34m\u001B[0m\u001B[0m\n\u001B[1;32m      8\u001B[0m \u001B[0;32mfor\u001B[0m \u001B[0mgdb_path\u001B[0m \u001B[0;32min\u001B[0m \u001B[0mgdb_path_list\u001B[0m\u001B[0;34m:\u001B[0m\u001B[0;34m\u001B[0m\u001B[0;34m\u001B[0m\u001B[0m\n\u001B[0;32m----> 9\u001B[0;31m     \u001B[0mlayers\u001B[0m \u001B[0;34m=\u001B[0m \u001B[0mfiona\u001B[0m\u001B[0;34m.\u001B[0m\u001B[0mlistlayers\u001B[0m\u001B[0;34m(\u001B[0m\u001B[0mgdb_path\u001B[0m\u001B[0;34m)\u001B[0m\u001B[0;34m\u001B[0m\u001B[0;34m\u001B[0m\u001B[0m\n\u001B[0m\u001B[1;32m     10\u001B[0m     \u001B[0;32mfor\u001B[0m \u001B[0mlayer\u001B[0m \u001B[0;32min\u001B[0m \u001B[0mlayers\u001B[0m\u001B[0;34m:\u001B[0m\u001B[0;34m\u001B[0m\u001B[0;34m\u001B[0m\u001B[0m\n\u001B[1;32m     11\u001B[0m         \u001B[0;32mif\u001B[0m \u001B[0mlayer\u001B[0m \u001B[0;32min\u001B[0m \u001B[0munique_layers_list\u001B[0m\u001B[0;34m:\u001B[0m\u001B[0;34m\u001B[0m\u001B[0;34m\u001B[0m\u001B[0m\n",
      "\u001B[0;32m~/opt/anaconda3/lib/python3.9/site-packages/fiona/env.py\u001B[0m in \u001B[0;36mwrapper\u001B[0;34m(*args, **kwargs)\u001B[0m\n\u001B[1;32m    415\u001B[0m             \u001B[0;32mwith\u001B[0m \u001B[0mEnv\u001B[0m\u001B[0;34m.\u001B[0m\u001B[0mfrom_defaults\u001B[0m\u001B[0;34m(\u001B[0m\u001B[0msession\u001B[0m\u001B[0;34m=\u001B[0m\u001B[0msession\u001B[0m\u001B[0;34m)\u001B[0m\u001B[0;34m:\u001B[0m\u001B[0;34m\u001B[0m\u001B[0;34m\u001B[0m\u001B[0m\n\u001B[1;32m    416\u001B[0m                 \u001B[0mlog\u001B[0m\u001B[0;34m.\u001B[0m\u001B[0mdebug\u001B[0m\u001B[0;34m(\u001B[0m\u001B[0;34m\"Credentialized: {!r}\"\u001B[0m\u001B[0;34m.\u001B[0m\u001B[0mformat\u001B[0m\u001B[0;34m(\u001B[0m\u001B[0mgetenv\u001B[0m\u001B[0;34m(\u001B[0m\u001B[0;34m)\u001B[0m\u001B[0;34m)\u001B[0m\u001B[0;34m)\u001B[0m\u001B[0;34m\u001B[0m\u001B[0;34m\u001B[0m\u001B[0m\n\u001B[0;32m--> 417\u001B[0;31m                 \u001B[0;32mreturn\u001B[0m \u001B[0mf\u001B[0m\u001B[0;34m(\u001B[0m\u001B[0;34m*\u001B[0m\u001B[0margs\u001B[0m\u001B[0;34m,\u001B[0m \u001B[0;34m**\u001B[0m\u001B[0mkwargs\u001B[0m\u001B[0;34m)\u001B[0m\u001B[0;34m\u001B[0m\u001B[0;34m\u001B[0m\u001B[0m\n\u001B[0m\u001B[1;32m    418\u001B[0m     \u001B[0;32mreturn\u001B[0m \u001B[0mwrapper\u001B[0m\u001B[0;34m\u001B[0m\u001B[0;34m\u001B[0m\u001B[0m\n\u001B[1;32m    419\u001B[0m \u001B[0;34m\u001B[0m\u001B[0m\n",
      "\u001B[0;32m~/opt/anaconda3/lib/python3.9/site-packages/fiona/__init__.py\u001B[0m in \u001B[0;36mlistlayers\u001B[0;34m(fp, vfs)\u001B[0m\n\u001B[1;32m    360\u001B[0m             \u001B[0mpobj\u001B[0m \u001B[0;34m=\u001B[0m \u001B[0mparse_path\u001B[0m\u001B[0;34m(\u001B[0m\u001B[0mfp\u001B[0m\u001B[0;34m)\u001B[0m\u001B[0;34m\u001B[0m\u001B[0;34m\u001B[0m\u001B[0m\n\u001B[1;32m    361\u001B[0m \u001B[0;34m\u001B[0m\u001B[0m\n\u001B[0;32m--> 362\u001B[0;31m         \u001B[0;32mreturn\u001B[0m \u001B[0m_listlayers\u001B[0m\u001B[0;34m(\u001B[0m\u001B[0mvsi_path\u001B[0m\u001B[0;34m(\u001B[0m\u001B[0mpobj\u001B[0m\u001B[0;34m)\u001B[0m\u001B[0;34m)\u001B[0m\u001B[0;34m\u001B[0m\u001B[0;34m\u001B[0m\u001B[0m\n\u001B[0m\u001B[1;32m    363\u001B[0m \u001B[0;34m\u001B[0m\u001B[0m\n\u001B[1;32m    364\u001B[0m \u001B[0;34m\u001B[0m\u001B[0m\n",
      "\u001B[0;32mfiona/ogrext.pyx\u001B[0m in \u001B[0;36mfiona.ogrext._listlayers\u001B[0;34m()\u001B[0m\n",
      "\u001B[0;32mfiona/_shim.pyx\u001B[0m in \u001B[0;36mfiona._shim.gdal_open_vector\u001B[0;34m()\u001B[0m\n",
      "\u001B[0;31mDriverError\u001B[0m: 'IGM_Data/BO_dbsn_3J0M0f/Bologna_dbsn.gdb' not recognized as a supported file format."
     ]
    }
   ],
   "source": [
    "# Directory dove salvare i file shapefile estratti\n",
    "output_shp_directory = 'IGM_Data/shp_extracted'\n",
    "os.makedirs(output_shp_directory, exist_ok=True)\n",
    "\n",
    "# Dizionario per accumulare i GeoDataFrame per ciascun layer\n",
    "gdf_accumulator = {layer: [] for layer in unique_layers_list}\n",
    "\n",
    "for gdb_path in gdb_path_list:\n",
    "    layers = fiona.listlayers(gdb_path)\n",
    "    for layer in layers:\n",
    "        if layer in unique_layers_list:\n",
    "            try:\n",
    "                # Leggi il layer come GeoDataFrame\n",
    "                gdf = gpd.read_file(gdb_path, layer=layer)\n",
    "\n",
    "                # Aggiungi il GeoDataFrame all'accumulatore\n",
    "                gdf_accumulator[layer].append(gdf)\n",
    "                print(f\"Processato {layer} del file {gdb_path}\")\n",
    "            except Exception as e:\n",
    "                print(f\"Errore durante l'elaborazione del layer {layer} nel file {gdb_path}: {e}\")\n",
    "\n",
    "# Ora unisci e salva i GeoDataFrame accumulati per ciascun layer\n",
    "for layer, gdf_list in gdf_accumulator.items():\n",
    "    if gdf_list:  # Se c'è almeno un GeoDataFrame per questo layer\n",
    "        merged_gdf = pd.concat(gdf_list, ignore_index=True)\n",
    "\n",
    "        # Salva il risultato come shapefile\n",
    "        output_path = os.path.join(output_shp_directory, f\"{layer}.shp\")\n",
    "        merged_gdf.to_file(output_path)\n",
    "        print(f\"Layer {layer} unito e salvato come shapefile in {output_path}\")"
   ],
   "metadata": {
    "collapsed": false,
    "ExecuteTime": {
     "end_time": "2023-12-05T15:06:32.483410700Z",
     "start_time": "2023-12-05T14:00:54.079424300Z"
    }
   },
   "id": "e5e27f1fc21b216e"
  },
  {
   "cell_type": "code",
   "execution_count": null,
   "outputs": [],
   "source": [],
   "metadata": {
    "collapsed": false
   },
   "id": "edd9569059dbca8f"
  }
 ],
 "metadata": {
  "kernelspec": {
   "display_name": "Python 3",
   "language": "python",
   "name": "python3"
  },
  "language_info": {
   "codemirror_mode": {
    "name": "ipython",
    "version": 2
   },
   "file_extension": ".py",
   "mimetype": "text/x-python",
   "name": "python",
   "nbconvert_exporter": "python",
   "pygments_lexer": "ipython2",
   "version": "2.7.6"
  }
 },
 "nbformat": 4,
 "nbformat_minor": 5
}
