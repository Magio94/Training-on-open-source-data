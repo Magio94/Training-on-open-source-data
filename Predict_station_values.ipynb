{
 "cells": [
  {
   "cell_type": "code",
   "execution_count": 1,
   "outputs": [],
   "source": [
    "import pandas as pd, geopandas as gpd\n",
    "from sklearn.experimental import enable_iterative_imputer\n",
    "from sklearn.impute import IterativeImputer"
   ],
   "metadata": {
    "collapsed": false,
    "ExecuteTime": {
     "end_time": "2023-10-27T13:46:45.769063100Z",
     "start_time": "2023-10-27T13:46:45.581906400Z"
    }
   },
   "id": "6e990cc6582b9d85"
  },
  {
   "cell_type": "markdown",
   "source": [
    "## Open the data"
   ],
   "metadata": {
    "collapsed": false
   },
   "id": "2541f7ee3b242d5c"
  },
  {
   "cell_type": "code",
   "execution_count": 2,
   "outputs": [
    {
     "name": "stdout",
     "output_type": "stream",
     "text": [
      "CPU times: total: 29.9 s\n",
      "Wall time: 59.3 s\n"
     ]
    }
   ],
   "source": [
    "%%time\n",
    "\n",
    "# open .csv with all the years\n",
    "final_df = pd.read_csv(\"Storico meteo/Processed_data/variables_all_years2.csv\")"
   ],
   "metadata": {
    "collapsed": false,
    "ExecuteTime": {
     "end_time": "2023-10-27T13:47:45.127316200Z",
     "start_time": "2023-10-27T13:46:45.764593500Z"
    }
   },
   "id": "initial_id"
  },
  {
   "cell_type": "markdown",
   "source": [
    "The information available are:\n",
    "\n",
    "B10004: PRESSURE, PA\n",
    "B11001: WIND DIRECTION, DEGREE\n",
    "B11002: WIND SPEED, M/S\n",
    "B12101: TEMPERATURE/DRY-BULB TEMPERATURE\n",
    "B13003: RELATIVE HUMIDITY, %\n",
    "B13011: TOTAL PRECIPITATION / TOTAL WATER EQUIVALENT, KG/M**2"
   ],
   "metadata": {
    "collapsed": false
   },
   "id": "cd84020f6dcfaaa"
  },
  {
   "cell_type": "markdown",
   "source": [
    "## Check missing data and exploring the df"
   ],
   "metadata": {
    "collapsed": false
   },
   "id": "5d60e223f62d99c6"
  },
  {
   "cell_type": "code",
   "execution_count": 3,
   "outputs": [],
   "source": [
    "# Assuming that the DataFrame has a 'date' column containing datetime objects\n",
    "# Make sure that the 'date' column is a datetime object:\n",
    "final_df['date'] = pd.to_datetime(final_df['date'])\n",
    "\n",
    "# Filter the DataFrame to include only the whole hours\n",
    "hourly_data = final_df[final_df['date'].dt.minute == 0].reset_index(drop=True)\n",
    "\n",
    "# Replace 'selected_columns' with the list of columns you want to consider\n",
    "selected_columns = ['B10004', 'B11001', 'B11002', 'B12101', 'B13003', 'B13011_1_3600']\n",
    "\n",
    "# Filter the DataFrame only for rows where the selected columns do not contain NaN values\n",
    "df_hourly_data_clean = hourly_data[hourly_data[selected_columns].notna().all(axis=1)]\n",
    "\n",
    "# Assuming your DataFrame is named 'final_df' and you want to remove columns 'B13011_1_900', 'B13011_1_86400' and 'B13011_1_1800'\n",
    "df_hourly_data_clean = df_hourly_data_clean.drop(['B13011_1_900', 'B13011_1_86400', 'B13011_1_1800'], axis=1).reset_index(drop=True)\n",
    "\n",
    "# Assuming your DataFrame is named 'final_df' and you want to change the name of the column 'old_column_name' to 'new_column_name'\n",
    "df_hourly_data_clean = df_hourly_data_clean.rename(columns={'B13011_1_3600': 'B13011'})\n",
    "\n",
    "# Create a \"date\" column of datetime type without the UTC timezone.\n",
    "df_hourly_data_clean['date'] = pd.to_datetime(df_hourly_data_clean['date']).dt.tz_localize(None)\n",
    "\n",
    "# Extract the year from the \"date\" column and create a new \"year\" column.\n",
    "df_hourly_data_clean['year'] = df_hourly_data_clean['date'].dt.year\n",
    "\n",
    "# Add a column with the name of the month\n",
    "df_hourly_data_clean['month_name'] = df_hourly_data_clean['date'].dt.strftime('%B')\n",
    "\n",
    "# Convert the 'B12101' column from Kelvin to Celsius\n",
    "df_hourly_data_clean['B12101_C'] = df_hourly_data_clean['B12101'] - 273.15"
   ],
   "metadata": {
    "collapsed": false,
    "ExecuteTime": {
     "end_time": "2023-10-27T13:48:40.882609700Z",
     "start_time": "2023-10-27T13:47:45.154225Z"
    }
   },
   "id": "32baf3e1946069e3"
  },
  {
   "cell_type": "code",
   "execution_count": 4,
   "outputs": [
    {
     "name": "stdout",
     "output_type": "stream",
     "text": [
      "Colonna 'B10004' ha 23020400 valori NaN, che corrispondono al 89.90% del totale.\n",
      "Colonna 'B11001' ha 22649705 valori NaN, che corrispondono al 88.46% del totale.\n",
      "Colonna 'B11002' ha 22684292 valori NaN, che corrispondono al 88.59% del totale.\n",
      "Colonna 'B12101' ha 8699489 valori NaN, che corrispondono al 33.97% del totale.\n",
      "Colonna 'B13003' ha 18928462 valori NaN, che corrispondono al 73.92% del totale.\n",
      "Colonna 'B13011_1_3600' ha 1307709 valori NaN, che corrispondono al 5.11% del totale.\n"
     ]
    }
   ],
   "source": [
    "# Itera attraverso la lista delle colonne e calcola la percentuale di valori NaN\n",
    "for colonna in selected_columns:\n",
    "    num_nan = hourly_data[colonna].isna().sum()\n",
    "    percentuale_nan = (num_nan / len(hourly_data)) * 100\n",
    "    print(f\"Colonna '{colonna}' ha {num_nan} valori NaN, che corrispondono al {percentuale_nan:.2f}% del totale.\")"
   ],
   "metadata": {
    "collapsed": false,
    "ExecuteTime": {
     "end_time": "2023-10-27T13:48:41.047533900Z",
     "start_time": "2023-10-27T13:48:40.892282400Z"
    }
   },
   "id": "741c931925ca516b"
  },
  {
   "cell_type": "code",
   "execution_count": 5,
   "outputs": [
    {
     "data": {
      "text/plain": "                              name       lon       lat  h_sea  h_bar  \\\n0        Reggio nell'Emilia urbana  44.69781  10.63370   72.0   72.0   \n1        Reggio nell'Emilia urbana  44.69781  10.63370   72.0   72.0   \n2        Reggio nell'Emilia urbana  44.69781  10.63370   72.0   72.0   \n3        Reggio nell'Emilia urbana  44.69781  10.63370   72.0   72.0   \n4        Reggio nell'Emilia urbana  44.69781  10.63370   72.0   72.0   \n...                            ...       ...       ...    ...    ...   \n1681269                  Martorano  44.16614  12.26798   25.0   29.0   \n1681270                  Martorano  44.16614  12.26798   25.0   29.0   \n1681271                  Martorano  44.16614  12.26798   25.0   29.0   \n1681272                  Martorano  44.16614  12.26798   25.0   29.0   \n1681273                  Martorano  44.16614  12.26798   25.0   29.0   \n\n           B10004  B11001  B11002  B12101  B13003  B13011                date  \\\n0        101100.0   235.0     1.4  276.15    53.0     0.0 2012-01-01 00:00:00   \n1        101110.0   193.0     0.7  276.15    54.0     0.0 2012-01-01 01:00:00   \n2        101140.0   160.0     0.4  276.45    52.0     0.0 2012-01-01 02:00:00   \n3        101180.0    67.0     1.0  273.35    66.0     0.0 2012-01-01 03:00:00   \n4        101220.0    86.0     0.7  273.85    63.0     0.0 2012-01-01 04:00:00   \n...           ...     ...     ...     ...     ...     ...                 ...   \n1681269  101540.0   277.0     2.8  276.85    78.0     0.0 2021-01-09 23:00:00   \n1681270  101500.0   279.0     2.9  276.75    80.0     0.0 2021-01-10 00:00:00   \n1681271  101480.0   262.0     3.2  276.55    84.0     0.0 2021-01-10 01:00:00   \n1681272  101490.0   269.0     5.3  275.75    93.0     0.8 2021-01-10 02:00:00   \n1681273  101460.0   260.0     3.5  275.75    96.0     0.6 2021-01-10 03:00:00   \n\n         year month_name  B12101_C  \n0        2012    January       3.0  \n1        2012    January       3.0  \n2        2012    January       3.3  \n3        2012    January       0.2  \n4        2012    January       0.7  \n...       ...        ...       ...  \n1681269  2021    January       3.7  \n1681270  2021    January       3.6  \n1681271  2021    January       3.4  \n1681272  2021    January       2.6  \n1681273  2021    January       2.6  \n\n[1681274 rows x 15 columns]",
      "text/html": "<div>\n<style scoped>\n    .dataframe tbody tr th:only-of-type {\n        vertical-align: middle;\n    }\n\n    .dataframe tbody tr th {\n        vertical-align: top;\n    }\n\n    .dataframe thead th {\n        text-align: right;\n    }\n</style>\n<table border=\"1\" class=\"dataframe\">\n  <thead>\n    <tr style=\"text-align: right;\">\n      <th></th>\n      <th>name</th>\n      <th>lon</th>\n      <th>lat</th>\n      <th>h_sea</th>\n      <th>h_bar</th>\n      <th>B10004</th>\n      <th>B11001</th>\n      <th>B11002</th>\n      <th>B12101</th>\n      <th>B13003</th>\n      <th>B13011</th>\n      <th>date</th>\n      <th>year</th>\n      <th>month_name</th>\n      <th>B12101_C</th>\n    </tr>\n  </thead>\n  <tbody>\n    <tr>\n      <th>0</th>\n      <td>Reggio nell'Emilia urbana</td>\n      <td>44.69781</td>\n      <td>10.63370</td>\n      <td>72.0</td>\n      <td>72.0</td>\n      <td>101100.0</td>\n      <td>235.0</td>\n      <td>1.4</td>\n      <td>276.15</td>\n      <td>53.0</td>\n      <td>0.0</td>\n      <td>2012-01-01 00:00:00</td>\n      <td>2012</td>\n      <td>January</td>\n      <td>3.0</td>\n    </tr>\n    <tr>\n      <th>1</th>\n      <td>Reggio nell'Emilia urbana</td>\n      <td>44.69781</td>\n      <td>10.63370</td>\n      <td>72.0</td>\n      <td>72.0</td>\n      <td>101110.0</td>\n      <td>193.0</td>\n      <td>0.7</td>\n      <td>276.15</td>\n      <td>54.0</td>\n      <td>0.0</td>\n      <td>2012-01-01 01:00:00</td>\n      <td>2012</td>\n      <td>January</td>\n      <td>3.0</td>\n    </tr>\n    <tr>\n      <th>2</th>\n      <td>Reggio nell'Emilia urbana</td>\n      <td>44.69781</td>\n      <td>10.63370</td>\n      <td>72.0</td>\n      <td>72.0</td>\n      <td>101140.0</td>\n      <td>160.0</td>\n      <td>0.4</td>\n      <td>276.45</td>\n      <td>52.0</td>\n      <td>0.0</td>\n      <td>2012-01-01 02:00:00</td>\n      <td>2012</td>\n      <td>January</td>\n      <td>3.3</td>\n    </tr>\n    <tr>\n      <th>3</th>\n      <td>Reggio nell'Emilia urbana</td>\n      <td>44.69781</td>\n      <td>10.63370</td>\n      <td>72.0</td>\n      <td>72.0</td>\n      <td>101180.0</td>\n      <td>67.0</td>\n      <td>1.0</td>\n      <td>273.35</td>\n      <td>66.0</td>\n      <td>0.0</td>\n      <td>2012-01-01 03:00:00</td>\n      <td>2012</td>\n      <td>January</td>\n      <td>0.2</td>\n    </tr>\n    <tr>\n      <th>4</th>\n      <td>Reggio nell'Emilia urbana</td>\n      <td>44.69781</td>\n      <td>10.63370</td>\n      <td>72.0</td>\n      <td>72.0</td>\n      <td>101220.0</td>\n      <td>86.0</td>\n      <td>0.7</td>\n      <td>273.85</td>\n      <td>63.0</td>\n      <td>0.0</td>\n      <td>2012-01-01 04:00:00</td>\n      <td>2012</td>\n      <td>January</td>\n      <td>0.7</td>\n    </tr>\n    <tr>\n      <th>...</th>\n      <td>...</td>\n      <td>...</td>\n      <td>...</td>\n      <td>...</td>\n      <td>...</td>\n      <td>...</td>\n      <td>...</td>\n      <td>...</td>\n      <td>...</td>\n      <td>...</td>\n      <td>...</td>\n      <td>...</td>\n      <td>...</td>\n      <td>...</td>\n      <td>...</td>\n    </tr>\n    <tr>\n      <th>1681269</th>\n      <td>Martorano</td>\n      <td>44.16614</td>\n      <td>12.26798</td>\n      <td>25.0</td>\n      <td>29.0</td>\n      <td>101540.0</td>\n      <td>277.0</td>\n      <td>2.8</td>\n      <td>276.85</td>\n      <td>78.0</td>\n      <td>0.0</td>\n      <td>2021-01-09 23:00:00</td>\n      <td>2021</td>\n      <td>January</td>\n      <td>3.7</td>\n    </tr>\n    <tr>\n      <th>1681270</th>\n      <td>Martorano</td>\n      <td>44.16614</td>\n      <td>12.26798</td>\n      <td>25.0</td>\n      <td>29.0</td>\n      <td>101500.0</td>\n      <td>279.0</td>\n      <td>2.9</td>\n      <td>276.75</td>\n      <td>80.0</td>\n      <td>0.0</td>\n      <td>2021-01-10 00:00:00</td>\n      <td>2021</td>\n      <td>January</td>\n      <td>3.6</td>\n    </tr>\n    <tr>\n      <th>1681271</th>\n      <td>Martorano</td>\n      <td>44.16614</td>\n      <td>12.26798</td>\n      <td>25.0</td>\n      <td>29.0</td>\n      <td>101480.0</td>\n      <td>262.0</td>\n      <td>3.2</td>\n      <td>276.55</td>\n      <td>84.0</td>\n      <td>0.0</td>\n      <td>2021-01-10 01:00:00</td>\n      <td>2021</td>\n      <td>January</td>\n      <td>3.4</td>\n    </tr>\n    <tr>\n      <th>1681272</th>\n      <td>Martorano</td>\n      <td>44.16614</td>\n      <td>12.26798</td>\n      <td>25.0</td>\n      <td>29.0</td>\n      <td>101490.0</td>\n      <td>269.0</td>\n      <td>5.3</td>\n      <td>275.75</td>\n      <td>93.0</td>\n      <td>0.8</td>\n      <td>2021-01-10 02:00:00</td>\n      <td>2021</td>\n      <td>January</td>\n      <td>2.6</td>\n    </tr>\n    <tr>\n      <th>1681273</th>\n      <td>Martorano</td>\n      <td>44.16614</td>\n      <td>12.26798</td>\n      <td>25.0</td>\n      <td>29.0</td>\n      <td>101460.0</td>\n      <td>260.0</td>\n      <td>3.5</td>\n      <td>275.75</td>\n      <td>96.0</td>\n      <td>0.6</td>\n      <td>2021-01-10 03:00:00</td>\n      <td>2021</td>\n      <td>January</td>\n      <td>2.6</td>\n    </tr>\n  </tbody>\n</table>\n<p>1681274 rows × 15 columns</p>\n</div>"
     },
     "execution_count": 5,
     "metadata": {},
     "output_type": "execute_result"
    }
   ],
   "source": [
    "df_hourly_data_clean"
   ],
   "metadata": {
    "collapsed": false,
    "ExecuteTime": {
     "end_time": "2023-10-27T13:48:41.112013800Z",
     "start_time": "2023-10-27T13:48:41.047533900Z"
    }
   },
   "id": "a61b4ecf964c5f7b"
  },
  {
   "cell_type": "markdown",
   "source": [
    "## Check for each variable how many rows I have without counting NaN values and how many stations are remaining"
   ],
   "metadata": {
    "collapsed": false
   },
   "id": "fbfb980a69fc4d84"
  },
  {
   "cell_type": "code",
   "execution_count": 7,
   "outputs": [],
   "source": [
    "# Assuming that the DataFrame has a 'date' column containing datetime objects\n",
    "# Make sure that the 'date' column is a datetime object:\n",
    "final_df['date'] = pd.to_datetime(final_df['date'])\n",
    "\n",
    "# Filter the DataFrame to include only the whole hours\n",
    "hourly_data = final_df[final_df['date'].dt.minute == 0].reset_index(drop=True)\n",
    "\n",
    "# Replace 'selected_columns' with the list of columns you want to consider\n",
    "selected_columns = ['B10004']\n",
    "\n",
    "# Filter the DataFrame only for rows where the selected columns do not contain NaN values\n",
    "B10004_pressure = hourly_data[hourly_data[selected_columns].notna().all(axis=1)].reset_index(drop=True)\n",
    "\n",
    "# Replace 'selected_columns' with the list of columns you want to consider\n",
    "selected_columns = ['B11001', 'B11002']\n",
    "\n",
    "# Filter the DataFrame only for rows where the selected columns do not contain NaN values\n",
    "wind_data = hourly_data[hourly_data[selected_columns].notna().all(axis=1)].reset_index(drop=True)\n",
    "\n",
    "# Replace 'selected_columns' with the list of columns you want to consider\n",
    "selected_columns = ['B12101']\n",
    "\n",
    "# Filter the DataFrame only for rows where the selected columns do not contain NaN values\n",
    "B12101_temperature = hourly_data[hourly_data[selected_columns].notna().all(axis=1)].reset_index(drop=True)\n",
    "\n",
    "# Replace 'selected_columns' with the list of columns you want to consider\n",
    "selected_columns = ['B13003']\n",
    "\n",
    "# Filter the DataFrame only for rows where the selected columns do not contain NaN values\n",
    "B13003_humidity = hourly_data[hourly_data[selected_columns].notna().all(axis=1)].reset_index(drop=True)\n",
    "\n",
    "# Replace 'selected_columns' with the list of columns you want to consider\n",
    "selected_columns = ['B13011_1_3600']\n",
    "\n",
    "# Filter the DataFrame only for rows where the selected columns do not contain NaN values\n",
    "B13011_precipitation = hourly_data[hourly_data[selected_columns].notna().all(axis=1)].reset_index(drop=True)"
   ],
   "metadata": {
    "collapsed": false,
    "ExecuteTime": {
     "start_time": "2023-10-27T13:48:41.322073300Z"
    }
   },
   "id": "6f606a450e0bb025"
  },
  {
   "cell_type": "code",
   "execution_count": 8,
   "outputs": [
    {
     "name": "stdout",
     "output_type": "stream",
     "text": [
      "Variabile: B10004_pressure, Totale di len: 2585498, Valori unici in 'name': 33\n",
      "Variabile: wind_data, Totale di len: 2860835, Valori unici in 'name': 49\n",
      "Variabile: B12101_temperature, Totale di len: 16906409, Valori unici in 'name': 231\n",
      "Variabile: B13003_humidity, Totale di len: 6677436, Valori unici in 'name': 109\n",
      "Variabile: B13011_precipitation, Totale di len: 24298189, Valori unici in 'name': 350\n"
     ]
    }
   ],
   "source": [
    "# Crea una lista con le variabili e i loro dati\n",
    "variables = [\n",
    "    (\"B10004_pressure\", B10004_pressure),\n",
    "    (\"wind_data\", wind_data),\n",
    "    (\"B12101_temperature\", B12101_temperature),\n",
    "    (\"B13003_humidity\", B13003_humidity),\n",
    "    (\"B13011_precipitation\", B13011_precipitation)\n",
    "]\n",
    "\n",
    "# Itera attraverso la lista e stampa il nome della variabile, il totale del len e il numero di valori unici nella colonna 'name'\n",
    "for variable_name, variable_data in variables:\n",
    "    total_len = len(variable_data)\n",
    "    unique_names = len(variable_data['name'].unique())\n",
    "    print(f\"Variabile: {variable_name}, Totale di len: {total_len}, Valori unici in 'name': {unique_names}\")"
   ],
   "metadata": {
    "collapsed": false,
    "ExecuteTime": {
     "start_time": "2023-10-27T13:48:53.991979200Z"
    }
   },
   "id": "779d113809dc585d"
  },
  {
   "cell_type": "code",
   "execution_count": 9,
   "outputs": [
    {
     "name": "stdout",
     "output_type": "stream",
     "text": [
      "Colonna 'B10004' ha 926127 valori NaN, che corrispondono al 3.62% del totale.\n",
      "Colonna 'B11001' ha 0 valori NaN, che corrispondono al 0.00% del totale.\n",
      "Colonna 'B11002' ha 0 valori NaN, che corrispondono al 0.00% del totale.\n",
      "Colonna 'B12101' ha 26303 valori NaN, che corrispondono al 0.10% del totale.\n",
      "Colonna 'B13003' ha 744894 valori NaN, che corrispondono al 2.91% del totale.\n",
      "Colonna 'B13011_1_3600' ha 254836 valori NaN, che corrispondono al 1.00% del totale.\n"
     ]
    }
   ],
   "source": [
    "# Replace 'selected_columns' with the list of columns you want to consider\n",
    "selected_columns = ['B10004', 'B11001', 'B11002', 'B12101', 'B13003', 'B13011_1_3600']\n",
    "\n",
    "# Itera attraverso la lista delle colonne e calcola la percentuale di valori NaN\n",
    "for colonna in selected_columns:\n",
    "    num_nan = wind_data[colonna].isna().sum()\n",
    "    percentuale_nan = (num_nan / len(hourly_data)) * 100\n",
    "    print(f\"Colonna '{colonna}' ha {num_nan} valori NaN, che corrispondono al {percentuale_nan:.2f}% del totale.\")"
   ],
   "metadata": {
    "collapsed": false,
    "ExecuteTime": {
     "start_time": "2023-10-27T13:48:55.523518500Z"
    }
   },
   "id": "35bbea4152e84400"
  },
  {
   "cell_type": "code",
   "execution_count": 34,
   "outputs": [],
   "source": [
    "# Crea una copia del DataFrame originale\n",
    "interpolated_data = wind_data.copy()\n",
    "\n",
    "# Sostituisci i valori 'NaN' con NaN (valori numerici)\n",
    "columns_to_interpolate = ['B10004', 'B12101', 'B13003', 'B13011_1_3600']\n",
    "interpolated_data[columns_to_interpolate] = interpolated_data[columns_to_interpolate].replace('NaN', pd.NA)\n",
    "\n",
    "# Converti le colonne numeriche in float\n",
    "interpolated_data[columns_to_interpolate] = interpolated_data[columns_to_interpolate].astype(float)\n",
    "\n",
    "# Crea un oggetto IterativeImputer\n",
    "imputer = IterativeImputer(random_state=0)\n",
    "\n",
    "# Applica l'imputazione iterativa solo alle colonne da predire\n",
    "interpolated_data[columns_to_interpolate] = imputer.fit_transform(interpolated_data[columns_to_interpolate])"
   ],
   "metadata": {
    "collapsed": false,
    "ExecuteTime": {
     "end_time": "2023-10-27T13:58:05.938691100Z",
     "start_time": "2023-10-27T13:57:59.612180900Z"
    }
   },
   "id": "895a09fa3137f348"
  },
  {
   "cell_type": "code",
   "execution_count": 35,
   "outputs": [],
   "source": [
    "# Assuming your DataFrame is named 'final_df' and you want to remove columns 'B13011_1_900', 'B13011_1_86400' and 'B13011_1_1800'\n",
    "interpolated_data = interpolated_data.drop(['B13011_1_900', 'B13011_1_86400', 'B13011_1_1800'], axis=1).reset_index(drop=True)\n",
    "\n",
    "# Assuming your DataFrame is named 'final_df' and you want to change the name of the column 'old_column_name' to 'new_column_name'\n",
    "interpolated_data = interpolated_data.rename(columns={'B13011_1_3600': 'B13011'})\n",
    "\n",
    "# Extract the year from the \"date\" column and create a new \"year\" column.\n",
    "interpolated_data['year'] = interpolated_data['date'].dt.year\n",
    "\n",
    "# Add a column with the name of the month\n",
    "interpolated_data['month_name'] = interpolated_data['date'].dt.strftime('%B')\n",
    "\n",
    "# Convert the 'B12101' column from Kelvin to Celsius\n",
    "interpolated_data['B12101_C'] = interpolated_data['B12101'] - 273.15"
   ],
   "metadata": {
    "collapsed": false,
    "ExecuteTime": {
     "end_time": "2023-10-27T13:58:15.421950200Z",
     "start_time": "2023-10-27T13:58:05.942223800Z"
    }
   },
   "id": "be6eed494202a895"
  },
  {
   "cell_type": "code",
   "execution_count": 37,
   "outputs": [
    {
     "name": "stdout",
     "output_type": "stream",
     "text": [
      "Colonna 'B10004' ha 0 valori NaN, che corrispondono al 0.00% del totale.\n",
      "Colonna 'B11001' ha 0 valori NaN, che corrispondono al 0.00% del totale.\n",
      "Colonna 'B11002' ha 0 valori NaN, che corrispondono al 0.00% del totale.\n",
      "Colonna 'B12101' ha 0 valori NaN, che corrispondono al 0.00% del totale.\n",
      "Colonna 'B13003' ha 0 valori NaN, che corrispondono al 0.00% del totale.\n",
      "Colonna 'B13011' ha 0 valori NaN, che corrispondono al 0.00% del totale.\n",
      "Colonna 'date' ha 0 valori NaN, che corrispondono al 0.00% del totale.\n"
     ]
    }
   ],
   "source": [
    "# Replace 'selected_columns' with the list of columns you want to consider\n",
    "selected_columns = ['B10004', 'B11001', 'B11002', 'B12101', 'B13003', 'B13011', 'date']\n",
    "\n",
    "# Itera attraverso la lista delle colonne e calcola la percentuale di valori NaN\n",
    "for colonna in selected_columns:\n",
    "    num_nan = interpolated_data[colonna].isna().sum()\n",
    "    percentuale_nan = (num_nan / len(hourly_data)) * 100\n",
    "    print(f\"Colonna '{colonna}' ha {num_nan} valori NaN, che corrispondono al {percentuale_nan:.2f}% del totale.\")"
   ],
   "metadata": {
    "collapsed": false,
    "ExecuteTime": {
     "end_time": "2023-10-27T13:58:15.464926200Z",
     "start_time": "2023-10-27T13:58:15.432020500Z"
    }
   },
   "id": "d7d13a0bcb14f5d6"
  },
  {
   "cell_type": "code",
   "execution_count": 36,
   "outputs": [
    {
     "data": {
      "text/plain": "                     name       lon       lat  h_sea  h_bar        B10004  \\\n0                 Colorno  44.94378  10.34959   29.0   29.0  98427.621220   \n1                 Colorno  44.94378  10.34959   29.0   29.0  98431.869231   \n2                 Colorno  44.94378  10.34959   29.0   29.0  98414.845201   \n3                 Colorno  44.94378  10.34959   29.0   29.0  98421.233210   \n4                 Colorno  44.94378  10.34959   29.0   29.0  98475.914610   \n...                   ...       ...       ...    ...    ...           ...   \n2860830  Cesenatico porto  44.20645  12.40132    1.0    1.0  98993.283962   \n2860831  Cesenatico porto  44.20645  12.40132    1.0    1.0  99003.753637   \n2860832  Cesenatico porto  44.20645  12.40132    1.0    1.0  98961.874935   \n2860833  Cesenatico porto  44.20645  12.40132    1.0    1.0  98967.109773   \n2860834  Cesenatico porto  44.20645  12.40132    1.0    1.0  98935.700746   \n\n         B11001  B11002  B12101     B13003    B13011  \\\n0         244.0     1.9  270.55  87.000000  0.000000   \n1         292.0     0.3  271.05  84.000000  0.000000   \n2          44.0     0.9  270.35  87.000000  0.000000   \n3         114.0     1.3  270.45  87.000000  0.000000   \n4         153.0     0.0  270.15  95.000000  0.000000   \n...         ...     ...     ...        ...       ...   \n2860830   310.0     4.7  281.55  77.048417  0.124842   \n2860831   309.0     4.3  281.75  76.758927  0.123831   \n2860832   313.0     3.3  280.95  77.916887  0.127876   \n2860833   303.0     4.9  281.05  77.772142  0.127371   \n2860834   304.0     4.0  280.45  78.640612  0.130405   \n\n                             date  year month_name  B12101_C  \n0       2012-01-01 00:00:00+00:00  2012    January      -2.6  \n1       2012-01-01 01:00:00+00:00  2012    January      -2.1  \n2       2012-01-01 02:00:00+00:00  2012    January      -2.8  \n3       2012-01-01 03:00:00+00:00  2012    January      -2.7  \n4       2012-01-01 04:00:00+00:00  2012    January      -3.0  \n...                           ...   ...        ...       ...  \n2860830 2021-01-31 19:00:00+00:00  2021    January       8.4  \n2860831 2021-01-31 20:00:00+00:00  2021    January       8.6  \n2860832 2021-01-31 21:00:00+00:00  2021    January       7.8  \n2860833 2021-01-31 22:00:00+00:00  2021    January       7.9  \n2860834 2021-01-31 23:00:00+00:00  2021    January       7.3  \n\n[2860835 rows x 15 columns]",
      "text/html": "<div>\n<style scoped>\n    .dataframe tbody tr th:only-of-type {\n        vertical-align: middle;\n    }\n\n    .dataframe tbody tr th {\n        vertical-align: top;\n    }\n\n    .dataframe thead th {\n        text-align: right;\n    }\n</style>\n<table border=\"1\" class=\"dataframe\">\n  <thead>\n    <tr style=\"text-align: right;\">\n      <th></th>\n      <th>name</th>\n      <th>lon</th>\n      <th>lat</th>\n      <th>h_sea</th>\n      <th>h_bar</th>\n      <th>B10004</th>\n      <th>B11001</th>\n      <th>B11002</th>\n      <th>B12101</th>\n      <th>B13003</th>\n      <th>B13011</th>\n      <th>date</th>\n      <th>year</th>\n      <th>month_name</th>\n      <th>B12101_C</th>\n    </tr>\n  </thead>\n  <tbody>\n    <tr>\n      <th>0</th>\n      <td>Colorno</td>\n      <td>44.94378</td>\n      <td>10.34959</td>\n      <td>29.0</td>\n      <td>29.0</td>\n      <td>98427.621220</td>\n      <td>244.0</td>\n      <td>1.9</td>\n      <td>270.55</td>\n      <td>87.000000</td>\n      <td>0.000000</td>\n      <td>2012-01-01 00:00:00+00:00</td>\n      <td>2012</td>\n      <td>January</td>\n      <td>-2.6</td>\n    </tr>\n    <tr>\n      <th>1</th>\n      <td>Colorno</td>\n      <td>44.94378</td>\n      <td>10.34959</td>\n      <td>29.0</td>\n      <td>29.0</td>\n      <td>98431.869231</td>\n      <td>292.0</td>\n      <td>0.3</td>\n      <td>271.05</td>\n      <td>84.000000</td>\n      <td>0.000000</td>\n      <td>2012-01-01 01:00:00+00:00</td>\n      <td>2012</td>\n      <td>January</td>\n      <td>-2.1</td>\n    </tr>\n    <tr>\n      <th>2</th>\n      <td>Colorno</td>\n      <td>44.94378</td>\n      <td>10.34959</td>\n      <td>29.0</td>\n      <td>29.0</td>\n      <td>98414.845201</td>\n      <td>44.0</td>\n      <td>0.9</td>\n      <td>270.35</td>\n      <td>87.000000</td>\n      <td>0.000000</td>\n      <td>2012-01-01 02:00:00+00:00</td>\n      <td>2012</td>\n      <td>January</td>\n      <td>-2.8</td>\n    </tr>\n    <tr>\n      <th>3</th>\n      <td>Colorno</td>\n      <td>44.94378</td>\n      <td>10.34959</td>\n      <td>29.0</td>\n      <td>29.0</td>\n      <td>98421.233210</td>\n      <td>114.0</td>\n      <td>1.3</td>\n      <td>270.45</td>\n      <td>87.000000</td>\n      <td>0.000000</td>\n      <td>2012-01-01 03:00:00+00:00</td>\n      <td>2012</td>\n      <td>January</td>\n      <td>-2.7</td>\n    </tr>\n    <tr>\n      <th>4</th>\n      <td>Colorno</td>\n      <td>44.94378</td>\n      <td>10.34959</td>\n      <td>29.0</td>\n      <td>29.0</td>\n      <td>98475.914610</td>\n      <td>153.0</td>\n      <td>0.0</td>\n      <td>270.15</td>\n      <td>95.000000</td>\n      <td>0.000000</td>\n      <td>2012-01-01 04:00:00+00:00</td>\n      <td>2012</td>\n      <td>January</td>\n      <td>-3.0</td>\n    </tr>\n    <tr>\n      <th>...</th>\n      <td>...</td>\n      <td>...</td>\n      <td>...</td>\n      <td>...</td>\n      <td>...</td>\n      <td>...</td>\n      <td>...</td>\n      <td>...</td>\n      <td>...</td>\n      <td>...</td>\n      <td>...</td>\n      <td>...</td>\n      <td>...</td>\n      <td>...</td>\n      <td>...</td>\n    </tr>\n    <tr>\n      <th>2860830</th>\n      <td>Cesenatico porto</td>\n      <td>44.20645</td>\n      <td>12.40132</td>\n      <td>1.0</td>\n      <td>1.0</td>\n      <td>98993.283962</td>\n      <td>310.0</td>\n      <td>4.7</td>\n      <td>281.55</td>\n      <td>77.048417</td>\n      <td>0.124842</td>\n      <td>2021-01-31 19:00:00+00:00</td>\n      <td>2021</td>\n      <td>January</td>\n      <td>8.4</td>\n    </tr>\n    <tr>\n      <th>2860831</th>\n      <td>Cesenatico porto</td>\n      <td>44.20645</td>\n      <td>12.40132</td>\n      <td>1.0</td>\n      <td>1.0</td>\n      <td>99003.753637</td>\n      <td>309.0</td>\n      <td>4.3</td>\n      <td>281.75</td>\n      <td>76.758927</td>\n      <td>0.123831</td>\n      <td>2021-01-31 20:00:00+00:00</td>\n      <td>2021</td>\n      <td>January</td>\n      <td>8.6</td>\n    </tr>\n    <tr>\n      <th>2860832</th>\n      <td>Cesenatico porto</td>\n      <td>44.20645</td>\n      <td>12.40132</td>\n      <td>1.0</td>\n      <td>1.0</td>\n      <td>98961.874935</td>\n      <td>313.0</td>\n      <td>3.3</td>\n      <td>280.95</td>\n      <td>77.916887</td>\n      <td>0.127876</td>\n      <td>2021-01-31 21:00:00+00:00</td>\n      <td>2021</td>\n      <td>January</td>\n      <td>7.8</td>\n    </tr>\n    <tr>\n      <th>2860833</th>\n      <td>Cesenatico porto</td>\n      <td>44.20645</td>\n      <td>12.40132</td>\n      <td>1.0</td>\n      <td>1.0</td>\n      <td>98967.109773</td>\n      <td>303.0</td>\n      <td>4.9</td>\n      <td>281.05</td>\n      <td>77.772142</td>\n      <td>0.127371</td>\n      <td>2021-01-31 22:00:00+00:00</td>\n      <td>2021</td>\n      <td>January</td>\n      <td>7.9</td>\n    </tr>\n    <tr>\n      <th>2860834</th>\n      <td>Cesenatico porto</td>\n      <td>44.20645</td>\n      <td>12.40132</td>\n      <td>1.0</td>\n      <td>1.0</td>\n      <td>98935.700746</td>\n      <td>304.0</td>\n      <td>4.0</td>\n      <td>280.45</td>\n      <td>78.640612</td>\n      <td>0.130405</td>\n      <td>2021-01-31 23:00:00+00:00</td>\n      <td>2021</td>\n      <td>January</td>\n      <td>7.3</td>\n    </tr>\n  </tbody>\n</table>\n<p>2860835 rows × 15 columns</p>\n</div>"
     },
     "execution_count": 36,
     "metadata": {},
     "output_type": "execute_result"
    }
   ],
   "source": [
    "interpolated_data"
   ],
   "metadata": {
    "collapsed": false,
    "ExecuteTime": {
     "start_time": "2023-10-27T13:58:15.421950200Z"
    }
   },
   "id": "7332d7a329bc0caf"
  },
  {
   "cell_type": "markdown",
   "source": [
    "## Georeference the data"
   ],
   "metadata": {
    "collapsed": false
   },
   "id": "677b2240750ada79"
  },
  {
   "cell_type": "code",
   "execution_count": 39,
   "outputs": [],
   "source": [
    "# Filter the first element for 'lon', 'lat', and 'h_sea' for each unique value in the 'name' column\n",
    "wind_data_stations = wind_data.groupby('name').agg({\n",
    "    'lon': 'first',\n",
    "    'lat': 'first',\n",
    "    'h_sea': 'first'\n",
    "}).reset_index()"
   ],
   "metadata": {
    "collapsed": false,
    "ExecuteTime": {
     "end_time": "2023-10-27T13:58:52.843961800Z",
     "start_time": "2023-10-27T13:58:52.773060700Z"
    }
   },
   "id": "b1415a765f2e6778"
  },
  {
   "cell_type": "code",
   "execution_count": 13,
   "outputs": [],
   "source": [
    "# Create a GeoDataFrame using EPSG 4326 coordinate reference system\n",
    "gdf = gpd.GeoDataFrame(wind_data_stations, \n",
    "                       geometry=gpd.points_from_xy(wind_data_stations.lat, wind_data_stations.lon),\n",
    "                       crs='EPSG:4326')"
   ],
   "metadata": {
    "collapsed": false,
    "ExecuteTime": {
     "end_time": "2023-10-27T13:49:02.461130700Z",
     "start_time": "2023-10-27T13:49:02.413323Z"
    }
   },
   "id": "5a87c6b76bb9b9aa"
  },
  {
   "cell_type": "code",
   "execution_count": 46,
   "outputs": [],
   "source": [
    "# Esegui il join tra i due DataFrame in base a \"colonna_comune\"\n",
    "df_join = gdf.merge(interpolated_data[['name', 'B10004', 'B11001', 'B11002',\n",
    "       'B12101', 'B13003', 'B13011', 'date', 'year', 'month_name', 'B12101_C']], on='name', how='inner')"
   ],
   "metadata": {
    "collapsed": false,
    "ExecuteTime": {
     "end_time": "2023-10-27T14:00:52.583064400Z",
     "start_time": "2023-10-27T14:00:51.552198300Z"
    }
   },
   "id": "4c90c1061827b4"
  },
  {
   "cell_type": "code",
   "execution_count": 47,
   "outputs": [
    {
     "data": {
      "text/plain": "                  name       lon       lat  h_sea                   geometry  \\\n0        Badia Tedalda  43.69223  12.13623  850.0  POINT (12.13623 43.69223)   \n1        Badia Tedalda  43.69223  12.13623  850.0  POINT (12.13623 43.69223)   \n2        Badia Tedalda  43.69223  12.13623  850.0  POINT (12.13623 43.69223)   \n3        Badia Tedalda  43.69223  12.13623  850.0  POINT (12.13623 43.69223)   \n4        Badia Tedalda  43.69223  12.13623  850.0  POINT (12.13623 43.69223)   \n...                ...       ...       ...    ...                        ...   \n2860830        Vignola  44.50405  11.00414  100.0  POINT (11.00414 44.50405)   \n2860831        Vignola  44.50405  11.00414  100.0  POINT (11.00414 44.50405)   \n2860832        Vignola  44.50405  11.00414  100.0  POINT (11.00414 44.50405)   \n2860833        Vignola  44.50405  11.00414  100.0  POINT (11.00414 44.50405)   \n2860834         Volano  44.81287  12.25037    1.0  POINT (12.25037 44.81287)   \n\n           B10004  B11001  B11002  B12101     B13003  B13011  \\\n0         91990.0   247.0     1.3  274.45  85.224830     0.0   \n1         92010.0   247.0     1.5  274.65  84.941426     0.0   \n2         92030.0   243.0     1.8  274.95  84.514106     0.0   \n3         91990.0   252.0     0.6  274.95  84.505248     0.0   \n4         92010.0   273.0     1.9  274.75  84.797510     0.0   \n...           ...     ...     ...     ...        ...     ...   \n2860830  100550.0    57.0     1.3  282.75  91.000000     0.2   \n2860831  100460.0    57.0     1.8  282.75  91.000000     2.6   \n2860832  100410.0    40.0     1.6  282.75  91.000000     0.4   \n2860833  100390.0     6.0     0.5  282.75  91.000000     0.8   \n2860834  101960.0   321.0     0.5  270.45  88.000000     0.0   \n\n                             date  year month_name  B12101_C  \n0       2012-01-01 00:00:00+00:00  2012    January       1.3  \n1       2012-01-01 01:00:00+00:00  2012    January       1.5  \n2       2012-01-01 02:00:00+00:00  2012    January       1.8  \n3       2012-01-01 03:00:00+00:00  2012    January       1.8  \n4       2012-01-01 04:00:00+00:00  2012    January       1.6  \n...                           ...   ...        ...       ...  \n2860830 2021-04-12 02:00:00+00:00  2021      April       9.6  \n2860831 2021-04-12 03:00:00+00:00  2021      April       9.6  \n2860832 2021-04-12 04:00:00+00:00  2021      April       9.6  \n2860833 2021-04-12 05:00:00+00:00  2021      April       9.6  \n2860834 2012-01-01 00:00:00+00:00  2012    January      -2.7  \n\n[2860835 rows x 15 columns]",
      "text/html": "<div>\n<style scoped>\n    .dataframe tbody tr th:only-of-type {\n        vertical-align: middle;\n    }\n\n    .dataframe tbody tr th {\n        vertical-align: top;\n    }\n\n    .dataframe thead th {\n        text-align: right;\n    }\n</style>\n<table border=\"1\" class=\"dataframe\">\n  <thead>\n    <tr style=\"text-align: right;\">\n      <th></th>\n      <th>name</th>\n      <th>lon</th>\n      <th>lat</th>\n      <th>h_sea</th>\n      <th>geometry</th>\n      <th>B10004</th>\n      <th>B11001</th>\n      <th>B11002</th>\n      <th>B12101</th>\n      <th>B13003</th>\n      <th>B13011</th>\n      <th>date</th>\n      <th>year</th>\n      <th>month_name</th>\n      <th>B12101_C</th>\n    </tr>\n  </thead>\n  <tbody>\n    <tr>\n      <th>0</th>\n      <td>Badia Tedalda</td>\n      <td>43.69223</td>\n      <td>12.13623</td>\n      <td>850.0</td>\n      <td>POINT (12.13623 43.69223)</td>\n      <td>91990.0</td>\n      <td>247.0</td>\n      <td>1.3</td>\n      <td>274.45</td>\n      <td>85.224830</td>\n      <td>0.0</td>\n      <td>2012-01-01 00:00:00+00:00</td>\n      <td>2012</td>\n      <td>January</td>\n      <td>1.3</td>\n    </tr>\n    <tr>\n      <th>1</th>\n      <td>Badia Tedalda</td>\n      <td>43.69223</td>\n      <td>12.13623</td>\n      <td>850.0</td>\n      <td>POINT (12.13623 43.69223)</td>\n      <td>92010.0</td>\n      <td>247.0</td>\n      <td>1.5</td>\n      <td>274.65</td>\n      <td>84.941426</td>\n      <td>0.0</td>\n      <td>2012-01-01 01:00:00+00:00</td>\n      <td>2012</td>\n      <td>January</td>\n      <td>1.5</td>\n    </tr>\n    <tr>\n      <th>2</th>\n      <td>Badia Tedalda</td>\n      <td>43.69223</td>\n      <td>12.13623</td>\n      <td>850.0</td>\n      <td>POINT (12.13623 43.69223)</td>\n      <td>92030.0</td>\n      <td>243.0</td>\n      <td>1.8</td>\n      <td>274.95</td>\n      <td>84.514106</td>\n      <td>0.0</td>\n      <td>2012-01-01 02:00:00+00:00</td>\n      <td>2012</td>\n      <td>January</td>\n      <td>1.8</td>\n    </tr>\n    <tr>\n      <th>3</th>\n      <td>Badia Tedalda</td>\n      <td>43.69223</td>\n      <td>12.13623</td>\n      <td>850.0</td>\n      <td>POINT (12.13623 43.69223)</td>\n      <td>91990.0</td>\n      <td>252.0</td>\n      <td>0.6</td>\n      <td>274.95</td>\n      <td>84.505248</td>\n      <td>0.0</td>\n      <td>2012-01-01 03:00:00+00:00</td>\n      <td>2012</td>\n      <td>January</td>\n      <td>1.8</td>\n    </tr>\n    <tr>\n      <th>4</th>\n      <td>Badia Tedalda</td>\n      <td>43.69223</td>\n      <td>12.13623</td>\n      <td>850.0</td>\n      <td>POINT (12.13623 43.69223)</td>\n      <td>92010.0</td>\n      <td>273.0</td>\n      <td>1.9</td>\n      <td>274.75</td>\n      <td>84.797510</td>\n      <td>0.0</td>\n      <td>2012-01-01 04:00:00+00:00</td>\n      <td>2012</td>\n      <td>January</td>\n      <td>1.6</td>\n    </tr>\n    <tr>\n      <th>...</th>\n      <td>...</td>\n      <td>...</td>\n      <td>...</td>\n      <td>...</td>\n      <td>...</td>\n      <td>...</td>\n      <td>...</td>\n      <td>...</td>\n      <td>...</td>\n      <td>...</td>\n      <td>...</td>\n      <td>...</td>\n      <td>...</td>\n      <td>...</td>\n      <td>...</td>\n    </tr>\n    <tr>\n      <th>2860830</th>\n      <td>Vignola</td>\n      <td>44.50405</td>\n      <td>11.00414</td>\n      <td>100.0</td>\n      <td>POINT (11.00414 44.50405)</td>\n      <td>100550.0</td>\n      <td>57.0</td>\n      <td>1.3</td>\n      <td>282.75</td>\n      <td>91.000000</td>\n      <td>0.2</td>\n      <td>2021-04-12 02:00:00+00:00</td>\n      <td>2021</td>\n      <td>April</td>\n      <td>9.6</td>\n    </tr>\n    <tr>\n      <th>2860831</th>\n      <td>Vignola</td>\n      <td>44.50405</td>\n      <td>11.00414</td>\n      <td>100.0</td>\n      <td>POINT (11.00414 44.50405)</td>\n      <td>100460.0</td>\n      <td>57.0</td>\n      <td>1.8</td>\n      <td>282.75</td>\n      <td>91.000000</td>\n      <td>2.6</td>\n      <td>2021-04-12 03:00:00+00:00</td>\n      <td>2021</td>\n      <td>April</td>\n      <td>9.6</td>\n    </tr>\n    <tr>\n      <th>2860832</th>\n      <td>Vignola</td>\n      <td>44.50405</td>\n      <td>11.00414</td>\n      <td>100.0</td>\n      <td>POINT (11.00414 44.50405)</td>\n      <td>100410.0</td>\n      <td>40.0</td>\n      <td>1.6</td>\n      <td>282.75</td>\n      <td>91.000000</td>\n      <td>0.4</td>\n      <td>2021-04-12 04:00:00+00:00</td>\n      <td>2021</td>\n      <td>April</td>\n      <td>9.6</td>\n    </tr>\n    <tr>\n      <th>2860833</th>\n      <td>Vignola</td>\n      <td>44.50405</td>\n      <td>11.00414</td>\n      <td>100.0</td>\n      <td>POINT (11.00414 44.50405)</td>\n      <td>100390.0</td>\n      <td>6.0</td>\n      <td>0.5</td>\n      <td>282.75</td>\n      <td>91.000000</td>\n      <td>0.8</td>\n      <td>2021-04-12 05:00:00+00:00</td>\n      <td>2021</td>\n      <td>April</td>\n      <td>9.6</td>\n    </tr>\n    <tr>\n      <th>2860834</th>\n      <td>Volano</td>\n      <td>44.81287</td>\n      <td>12.25037</td>\n      <td>1.0</td>\n      <td>POINT (12.25037 44.81287)</td>\n      <td>101960.0</td>\n      <td>321.0</td>\n      <td>0.5</td>\n      <td>270.45</td>\n      <td>88.000000</td>\n      <td>0.0</td>\n      <td>2012-01-01 00:00:00+00:00</td>\n      <td>2012</td>\n      <td>January</td>\n      <td>-2.7</td>\n    </tr>\n  </tbody>\n</table>\n<p>2860835 rows × 15 columns</p>\n</div>"
     },
     "execution_count": 47,
     "metadata": {},
     "output_type": "execute_result"
    }
   ],
   "source": [
    "df_join"
   ],
   "metadata": {
    "collapsed": false,
    "ExecuteTime": {
     "end_time": "2023-10-27T14:00:54.753733600Z",
     "start_time": "2023-10-27T14:00:54.722097300Z"
    }
   },
   "id": "d7ca316ab3b5f47f"
  },
  {
   "cell_type": "code",
   "execution_count": 48,
   "outputs": [
    {
     "data": {
      "text/plain": "<Axes: >"
     },
     "execution_count": 48,
     "metadata": {},
     "output_type": "execute_result"
    },
    {
     "data": {
      "text/plain": "<Figure size 640x480 with 1 Axes>",
      "image/png": "[encoded data removed]"
     },
     "metadata": {},
     "output_type": "display_data"
    }
   ],
   "source": [
    "gdf.plot()"
   ],
   "metadata": {
    "collapsed": false,
    "ExecuteTime": {
     "end_time": "2023-10-27T14:01:07.545609800Z",
     "start_time": "2023-10-27T14:01:07.432276400Z"
    }
   },
   "id": "9ad492e510e82e66"
  },
  {
   "cell_type": "code",
   "execution_count": 49,
   "outputs": [],
   "source": [
    "gdf.to_file('Storico meteo/Processed_data/wind_stations.shp')"
   ],
   "metadata": {
    "collapsed": false,
    "ExecuteTime": {
     "end_time": "2023-10-27T14:02:11.019603500Z",
     "start_time": "2023-10-27T14:02:10.722193200Z"
    }
   },
   "id": "cbcf1ddbb7d7eb8b"
  },
  {
   "cell_type": "code",
   "execution_count": 59,
   "outputs": [],
   "source": [
    "interpolated_data.to_csv('Storico meteo/Processed_data/wind_stations_variables.csv')"
   ],
   "metadata": {
    "collapsed": false,
    "ExecuteTime": {
     "end_time": "2023-10-27T14:42:42.546628300Z",
     "start_time": "2023-10-27T14:42:04.379758400Z"
    }
   },
   "id": "b2e8b39d770f978b"
  }
 ],
 "metadata": {
  "kernelspec": {
   "display_name": "Python 3",
   "language": "python",
   "name": "python3"
  },
  "language_info": {
   "codemirror_mode": {
    "name": "ipython",
    "version": 2
   },
   "file_extension": ".py",
   "mimetype": "text/x-python",
   "name": "python",
   "nbconvert_exporter": "python",
   "pygments_lexer": "ipython2",
   "version": "2.7.6"
  }
 },
 "nbformat": 4,
 "nbformat_minor": 5
}
