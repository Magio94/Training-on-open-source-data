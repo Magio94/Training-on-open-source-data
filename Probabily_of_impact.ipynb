{
 "cells": [
  {
   "cell_type": "code",
   "execution_count": 13,
   "outputs": [],
   "source": [
    "import math, rasterio as rio, geopandas as gpd\n",
    "from rasterio.enums import Resampling\n",
    "from rasterio.mask import mask"
   ],
   "metadata": {
    "collapsed": false,
    "ExecuteTime": {
     "end_time": "2023-11-30T15:17:47.117126100Z",
     "start_time": "2023-11-30T15:17:47.085490400Z"
    }
   },
   "id": "8ac2804b18fb7a73"
  },
  {
   "cell_type": "code",
   "execution_count": 3,
   "outputs": [],
   "source": [
    "def calculate_Aexp(r_p, r_uav, h_p, theta):\n",
    "    \"\"\"\n",
    "    Calcola l'area esposta all'impatto (Aexp) con la formula corretta.\n",
    "    :param r_p: Raggio medio di una persona (metri).\n",
    "    :param r_uav: Raggio del UAV (metri).\n",
    "    :param h_p: Altezza media di una persona (metri).\n",
    "    :param theta: Angolo di impatto al suolo (radianti).\n",
    "    :return: Area esposta (metri quadrati).\n",
    "    \"\"\"\n",
    "    return 2 * (r_p + r_uav) / (h_p * math.tan(theta)) + math.pi * (r_p + r_uav)**2\n",
    "\n",
    "def calculate_Pimpact(rho_xy, Aexp):\n",
    "    \"\"\"\n",
    "    Calcola la probabilità di impatto su una persona (Pimpact).\n",
    "    :param rho_xy: Densità della popolazione nella posizione (x, y) (persone per metro quadrato).\n",
    "    :param Aexp: Area esposta all'impatto (metri quadrati).\n",
    "    :return: Probabilità di impatto su una persona.\n",
    "    \"\"\"\n",
    "    return rho_xy * Aexp"
   ],
   "metadata": {
    "collapsed": false,
    "ExecuteTime": {
     "end_time": "2023-11-30T14:53:03.792829100Z",
     "start_time": "2023-11-30T14:53:03.781749700Z"
    }
   },
   "id": "4e7fa7ae273d9050"
  },
  {
   "cell_type": "code",
   "execution_count": 18,
   "outputs": [
    {
     "name": "stdout",
     "output_type": "stream",
     "text": [
      "CPU times: total: 11min 54s\n",
      "Wall time: 19min 43s\n"
     ]
    }
   ],
   "source": [
    "%%time\n",
    "\n",
    "with rio.open('Census_data/masked_pop_density_mask.tif') as dataset:\n",
    "    # Leggi la prima banda (assumendo una sola banda per la densità abitativa)\n",
    "    density_data = dataset.read(1, resampling=Resampling.bilinear)\n",
    "\n",
    "Pimpact_raster = density_data.copy()\n",
    "\n",
    "r_p = 0.3  # es. raggio medio di una persona in metri\n",
    "r_uav = 0.5  # es. raggio del UAV in metri\n",
    "h_p = 1.7  # es. altezza media di una persona in metri\n",
    "theta = math.radians(45)  # es. angolo di impatto in gradi convertito in radianti\n",
    "\n",
    "# Calcolo di Pimpact per ogni pixel\n",
    "\n",
    "for i in range(density_data.shape[0]):\n",
    "    for j in range(density_data.shape[1]):\n",
    "        #if i % 10000 == 0 or j % 10000 == 0:\n",
    "         #   print(f\"Elaborati {i} su {density_data.shape[0]} i e elaborati {j} su {density_data.shape[1]} j\")\n",
    "        rho_xy = density_data[i, j]\n",
    "        Aexp = calculate_Aexp(r_p, r_uav, h_p, theta)\n",
    "        Pimpact_raster[i, j] = calculate_Pimpact(rho_xy, Aexp)\n",
    "\n",
    "# Salvataggio del nuovo raster di Pimpact\n",
    "\n",
    "with rio.open(\n",
    "    'Census_data/Pimpact_raster.tif', 'w', \n",
    "    driver='GTiff',\n",
    "    height=Pimpact_raster.shape[0],\n",
    "    width=Pimpact_raster.shape[1],\n",
    "    count=1,\n",
    "    dtype=Pimpact_raster.dtype,\n",
    "    crs=dataset.crs,\n",
    "    transform=dataset.transform\n",
    ") as new_dataset:\n",
    "    new_dataset.write(Pimpact_raster, 1)"
   ],
   "metadata": {
    "collapsed": false,
    "ExecuteTime": {
     "end_time": "2023-11-30T15:41:25.023812Z",
     "start_time": "2023-11-30T15:21:41.513843300Z"
    }
   },
   "id": "initial_id"
  },
  {
   "cell_type": "code",
   "execution_count": 19,
   "outputs": [],
   "source": [
    "# add the administrative borders paths\n",
    "province_borders_path = \"Limiti01012023/ProvCM01012023/ProvCM01012023_WGS84.shp\"\n",
    "region_borders_path = \"Limiti01012023/Reg01012023/Reg01012023_WGS84.shp\"\n",
    "\n",
    "# load the administrative borders\n",
    "region_borders = gpd.read_file(region_borders_path)\n",
    "province_borders = gpd.read_file(province_borders_path)\n",
    "\n",
    "#filter vector data for the area of interest\n",
    "emilia = region_borders[region_borders['DEN_REG'] == 'Emilia-Romagna']"
   ],
   "metadata": {
    "collapsed": false,
    "ExecuteTime": {
     "end_time": "2023-11-30T15:41:27.029022500Z",
     "start_time": "2023-11-30T15:41:25.010793700Z"
    }
   },
   "id": "16f94ca4632fda1b"
  },
  {
   "cell_type": "code",
   "execution_count": 20,
   "outputs": [],
   "source": [
    "def mask_raster_with_geodataframe(raster_path, gdf, output_path):\n",
    "    # Carica il raster\n",
    "    with rio.open(raster_path) as src:\n",
    "        # Converti le geometrie del GeoDataFrame in formati accettati da rio\n",
    "        geometries = [feature[\"geometry\"] for _, feature in gdf.iterrows()]\n",
    "        out_image, out_transform = mask(src, geometries, crop=True)\n",
    "\n",
    "        # Salva il raster mascherato\n",
    "        out_meta = src.meta.copy()\n",
    "        out_meta.update({\"driver\": \"GTiff\",\n",
    "                         \"height\": out_image.shape[1],\n",
    "                         \"width\": out_image.shape[2],\n",
    "                         \"transform\": out_transform})\n",
    "\n",
    "        with rio.open(output_path, \"w\", **out_meta) as dest:\n",
    "            dest.write(out_image)\n",
    "\n",
    "\n",
    "# Esempio di utilizzo\n",
    "mask_raster_with_geodataframe('Census_data/Pimpact_raster.tif', emilia,\n",
    "                              'Census_data/Pimpact_raster_mask.tif')"
   ],
   "metadata": {
    "collapsed": false,
    "ExecuteTime": {
     "end_time": "2023-11-30T15:41:37.172873200Z",
     "start_time": "2023-11-30T15:41:27.032023Z"
    }
   },
   "id": "618f4637fa4f618"
  },
  {
   "cell_type": "code",
   "execution_count": null,
   "outputs": [],
   "source": [
    "import numpy as np\n",
    "import rasterio\n",
    "\n",
    "# Funzione per calcolare il valore atteso di una variabile raster ponderata dal PDF\n",
    "def expected_value(raster_data, PDF):\n",
    "    \"\"\"\n",
    "    Calcola il valore atteso ponderato di una variabile raster.\n",
    "    \n",
    "    :param raster_data: array NumPy del raster della variabile di interesse.\n",
    "    :param PDF: array NumPy del raster della funzione di densità di probabilità.\n",
    "    :return: valore atteso ponderato della variabile.\n",
    "    \"\"\"\n",
    "    return np.sum(raster_data * PDF)\n",
    "\n",
    "# Funzione per caricare i raster e calcolare Pfatality\n",
    "def calculate_Pfatality_from_rasters(pdf_path, e_imp_path, s_path, alpha, beta):\n",
    "    \"\"\"\n",
    "    Calcola la probabilità di fatalità a partire dai raster della densità di probabilità (PDF),\n",
    "    dell'energia di impatto (E_imp) e del fattore di protezione (S).\n",
    "    \n",
    "    :param pdf_path: percorso al file raster del PDF.\n",
    "    :param e_imp_path: percorso al file raster dell'energia di impatto.\n",
    "    :param s_path: percorso al file raster del fattore di protezione.\n",
    "    :param alpha: energia di impatto per una probabilità di fatalità del 50% quando S=6.\n",
    "    :param beta: energia di impatto per causare una fatalità con S vicino a zero.\n",
    "    :return: array NumPy della probabilità di fatalità.\n",
    "    \"\"\"\n",
    "    # Carica il raster PDF\n",
    "    with rasterio.open(pdf_path) as pdf_dataset:\n",
    "        PDF = pdf_dataset.read(1)\n",
    "    \n",
    "    # Carica il raster dell'energia di impatto\n",
    "    with rasterio.open(e_imp_path) as e_imp_dataset:\n",
    "        E_imp = e_imp_dataset.read(1)\n",
    "    \n",
    "    # Carica il raster del fattore di protezione\n",
    "    with rasterio.open(s_path) as s_dataset:\n",
    "        S = s_dataset.read(1)\n",
    "    \n",
    "    # Calcola i valori attesi per E_imp e S\n",
    "    E_E_imp = expected_value(E_imp, PDF)\n",
    "    E_S = expected_value(S, PDF)\n",
    "    \n",
    "    # Calcola k e Pfatality per ogni cella\n",
    "    k = np.minimum(1, (beta / E_E_imp) ** (3 / E_S))\n",
    "    Pfatality = (1 - k) / (1 - 2 * k + (np.sqrt(alpha / beta) * (beta / E_E_imp) ** (3 / E_S)))\n",
    "    \n",
    "    return Pfatality\n",
    "\n",
    "# Percorsi dei file raster\n",
    "pdf_path = 'path/to/pdf_raster.tif'  # Percorso al file raster della funzione di densità di probabilità\n",
    "e_imp_path = 'path/to/e_imp_raster.tif'  # Percorso al file raster dell'energia di impatto\n",
    "s_path = 'path/to/s_raster.tif'  # Percorso al file raster del fattore di protezione\n",
    "\n",
    "# Valori noti per alpha e beta\n",
    "alpha = 60  # Energia di impatto per una probabilità di fatalità del 50% quando S=6\n",
    "beta = 34   # Energia di impatto per causare una fatalità con S vicino a zero\n",
    "\n",
    "# Calcola Pfatality\n",
    "Pfatality_raster = calculate_Pfatality_from_rasters(pdf_path, e_imp_path, s_path, alpha, beta)\n",
    "\n",
    "# Salva il raster risultante di Pfatality\n",
    "output_path = 'path/to/output_pfatality_raster.tif'  # Percorso al file raster di output per Pfatality\n",
    "with rasterio.open(pdf_path) as src:\n",
    "    profile = src.profile  # Copia il profilo del file sorgente per mantenere i metadati\n",
    "    with rasterio.open(output_path, 'w', **profile) as dst:\n",
    "        dst.write(Pfatality_raster.astype(rasterio.float32), 1)  # Scrive il raster di Pfatality nel file di output"
   ],
   "metadata": {
    "collapsed": false
   },
   "id": "ef75fc53a519cd69"
  }
 ],
 "metadata": {
  "kernelspec": {
   "display_name": "Python 3",
   "language": "python",
   "name": "python3"
  },
  "language_info": {
   "codemirror_mode": {
    "name": "ipython",
    "version": 2
   },
   "file_extension": ".py",
   "mimetype": "text/x-python",
   "name": "python",
   "nbconvert_exporter": "python",
   "pygments_lexer": "ipython2",
   "version": "2.7.6"
  }
 },
 "nbformat": 4,
 "nbformat_minor": 5
}
