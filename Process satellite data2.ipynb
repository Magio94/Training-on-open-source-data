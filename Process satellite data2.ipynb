{
 "cells": [
  {
   "cell_type": "markdown",
   "source": [
    "# Read Copernicus Sentinel 2 data\n",
    "The code was written to simplify the reading of satellite images from the Copernicus portal. In particular, it focuses on downloading data for Sentinel 2. The original folders downloaded from the portal: https://scihub.copernicus.eu/dhus/#/home will be placed in the same folder where the code is run (in our case the Jupyter Notebook)."
   ],
   "metadata": {
    "collapsed": false
   }
  },
  {
   "cell_type": "code",
   "execution_count": null,
   "outputs": [],
   "source": [
    "import os, pandas as pd, geopandas as gpd, numpy as np, rasterio as rio, matplotlib.pyplot as plt\n",
    "\n",
    "from sentinelhub import UtmZoneSplitter\n",
    "from shapely.geometry import Polygon\n",
    "from shapely.geometry import box\n",
    "from rasterio.plot import show\n",
    "from rasterio.mask import mask\n",
    "from osgeo import gdal_array\n",
    "from sklearn import cluster\n",
    "from osgeo import gdal\n",
    "from glob import glob"
   ],
   "metadata": {
    "collapsed": false
   }
  },
  {
   "cell_type": "markdown",
   "source": [
    "## Build the class to call the images"
   ],
   "metadata": {
    "collapsed": false
   }
  },
  {
   "cell_type": "code",
   "execution_count": null,
   "outputs": [],
   "source": [
    "class Read_rasterio:\n",
    "\n",
    "    \"\"\"\n",
    "    The class is used to load the various paths to the files to be read in order to perform some operations directly inside it and recall the files in a simple way. Some operations have been included such as the NDVI, but can be implemented with additional\n",
    "    \"\"\"\n",
    "\n",
    "    def __init__(self, date=None):\n",
    "        # get the absolute path from where the code is running\n",
    "        path = os.getcwd()\n",
    "\n",
    "        # list all the files with a .jp2 format (the one used from Copernicus)\n",
    "        list_files = [os.path.join(dp, f) for dp, dn, filenames in os.walk(path) for f in filenames if os.path.splitext(f)[1] == '.jp2']\n",
    "\n",
    "        # get the files name and relative dates to interrogate the data\n",
    "        list_date = []\n",
    "\n",
    "        if os.environ.get('OS','') == 'Windows_NT':\n",
    "            for x in list_files:\n",
    "                date_ = x.split(\"_\")[2].split('T')[0]\n",
    "                filename = x.split(\"\\\\\")[-1].split('.')[0]\n",
    "                list_date.append([date_, x, filename])\n",
    "        else:\n",
    "            for x in list_files:\n",
    "                date_ = x.split(\"_\")[2].split('T')[0]\n",
    "                filename = x.split(\"/\")[-1].split('.')[0]\n",
    "                list_date.append([date_, x, filename])\n",
    "\n",
    "        # create a dataframe with the list build before\n",
    "        df_paths = pd.DataFrame(list_date)\n",
    "        df_paths.columns = ['Date', 'Paths', 'Filename']\n",
    "        df_paths['Date'] =  pd.to_datetime(df_paths['Date'])\n",
    "\n",
    "        # transform the Date column to datetime type and sort the column\n",
    "        df_paths.sort_values('Date', key = lambda x : pd.to_datetime(x, format='%b').dt.month)\n",
    "\n",
    "        list_years = df_paths['Date'].unique()\n",
    "\n",
    "        self.list_years = list_years\n",
    "        self.df_paths = df_paths\n",
    "\n",
    "        if date != None:\n",
    "            # filter just for one date\n",
    "            df_paths_filtered = df_paths[df_paths['Date'] == date].reset_index(drop=True)\n",
    "            self.df_paths_filtered = df_paths_filtered\n",
    "            self.B02_10m_path = \\\n",
    "                df_paths_filtered[df_paths_filtered['Filename'].str.contains(\"B02_10m\")].reset_index(drop=True)['Paths'][0]\n",
    "            self.B03_10m_path = \\\n",
    "                df_paths_filtered[df_paths_filtered['Filename'].str.contains(\"B03_10m\")].reset_index(drop=True)['Paths'][0]\n",
    "            self.B04_10m_path = \\\n",
    "                df_paths_filtered[df_paths_filtered['Filename'].str.contains(\"B04_10m\")].reset_index(drop=True)['Paths'][0]\n",
    "            self.B08_10m_path = \\\n",
    "                df_paths_filtered[df_paths_filtered['Filename'].str.contains(\"B08_10m\")].reset_index(drop=True)['Paths'][0]\n",
    "            self.true_color_path = \\\n",
    "                df_paths_filtered[df_paths_filtered['Filename'].str.contains(\"TCI_10m\")].reset_index(drop=True)['Paths'][0]\n",
    "            self.B02_10m_filename = \\\n",
    "                df_paths_filtered[df_paths_filtered['Filename'].str.contains(\"B02_10m\")].reset_index(drop=True)['Filename'][0]\n",
    "            self.B03_10m_filename = \\\n",
    "                df_paths_filtered[df_paths_filtered['Filename'].str.contains(\"B03_10m\")].reset_index(drop=True)['Filename'][0]\n",
    "            self.B04_10m_filename = \\\n",
    "                df_paths_filtered[df_paths_filtered['Filename'].str.contains(\"B04_10m\")].reset_index(drop=True)['Filename'][0]\n",
    "            self.B08_10m_filename = \\\n",
    "                df_paths_filtered[df_paths_filtered['Filename'].str.contains(\"B08_10m\")].reset_index(drop=True)['Filename'][0]\n",
    "            self.true_color_filename = \\\n",
    "                df_paths_filtered[df_paths_filtered['Filename'].str.contains(\"TCI_10m\")].reset_index(drop=True)['Filename'][0]\n",
    "            self.B02_10m_date = \\\n",
    "                df_paths_filtered[df_paths_filtered['Filename'].str.contains(\"B02_10m\")].reset_index(drop=True)['Date'][0]\n",
    "            self.B03_10m_date = \\\n",
    "                df_paths_filtered[df_paths_filtered['Filename'].str.contains(\"B03_10m\")].reset_index(drop=True)['Date'][0]\n",
    "            self.B04_10m_date = \\\n",
    "                df_paths_filtered[df_paths_filtered['Filename'].str.contains(\"B04_10m\")].reset_index(drop=True)['Date'][0]\n",
    "            self.B08_10m_date = \\\n",
    "                df_paths_filtered[df_paths_filtered['Filename'].str.contains(\"B08_10m\")].reset_index(drop=True)['Date'][0]\n",
    "            self.true_color_date = \\\n",
    "                df_paths_filtered[df_paths_filtered['Filename'].str.contains(\"TCI_10m\")].reset_index(drop=True)['Date'][0]\n",
    "\n",
    "    def read_rio_10m(self):\n",
    "        '''\n",
    "        A function to call all the files with 10 meters resolution\n",
    "        '''\n",
    "        B02_10m_rio = rio.open(self.B02_10m_path, driver='JP2OpenJPEG')\n",
    "        B03_10m_rio = rio.open(self.B03_10m_path, driver='JP2OpenJPEG')\n",
    "        B04_10m_rio = rio.open(self.B04_10m_path, driver='JP2OpenJPEG')\n",
    "        B08_10m_rio = rio.open(self.B08_10m_path, driver='JP2OpenJPEG')\n",
    "        true_color_rio = rio.open(self.true_color_path, driver='JP2OpenJPEG')\n",
    "\n",
    "        return B02_10m_rio, B03_10m_rio, B04_10m_rio, B08_10m_rio, true_color_rio\n",
    "\n",
    "    def ndvi_function(self):\n",
    "\n",
    "        B04_10m_rio = rio.open(self.B04_10m_path, driver='JP2OpenJPEG')\n",
    "        B08_10m_rio = rio.open(self.B08_10m_path, driver='JP2OpenJPEG')\n",
    "\n",
    "        np.seterr(divide='ignore', invalid='ignore')\n",
    "        red = B04_10m_rio.read(1).astype('float64')\n",
    "        nir = B08_10m_rio.read(1).astype('float64')\n",
    "        ndvi = np.where(\n",
    "            (nir+red)==0.,\n",
    "            0,\n",
    "            (nir-red)/(nir+red)\n",
    "        )\n",
    "\n",
    "        try:\n",
    "            ndviImage = rio.open('ndvi_10m.tif', 'r+', driver ='Gtiff',\n",
    "                                 width=B04_10m_rio.width, height = B04_10m_rio.height,\n",
    "                                 count=1,\n",
    "                                 crs=B08_10m_rio.crs,\n",
    "                                 transform=B04_10m_rio.transform,\n",
    "                                 dtype='float64')\n",
    "\n",
    "            ndviImage.write(ndvi, 1)\n",
    "\n",
    "        except:\n",
    "            ndviImage = rio.open('ndvi_10m.tif', 'w', driver ='Gtiff',\n",
    "                                 width=B04_10m_rio.width, height = B04_10m_rio.height,\n",
    "                                 count=1,\n",
    "                                 crs=B08_10m_rio.crs,\n",
    "                                 transform=B04_10m_rio.transform,\n",
    "                                 dtype='float64')\n",
    "\n",
    "            ndviImage.write(ndvi, 1)\n",
    "\n",
    "        ndviImage.close()\n",
    "\n",
    "        ndvi_read = rio.open('ndvi_10m.tif')\n",
    "        #ndvi_read.close()\n",
    "\n",
    "        return ndvi_read\n",
    "\n",
    "    def clip_raster(self, path_open, path_out, var_geometry):\n",
    "        with rio.open(path_open) as src:\n",
    "            out_image, out_transform = mask(src, var_geometry.geometry, crop=True)\n",
    "            out_meta = src.meta\n",
    "\n",
    "        # Save clipped imagery\n",
    "        out_meta.update({\"driver\": \"GTiff\",\n",
    "                         \"height\": out_image.shape[1],\n",
    "                         \"width\": out_image.shape[2],\n",
    "                         \"transform\": out_transform})\n",
    "\n",
    "        try:\n",
    "            with rio.open(path_out, \"r+\", **out_meta) as dest:\n",
    "                dest.write(out_image)\n",
    "        except:\n",
    "            with rio.open(path_out, \"w\", **out_meta) as dest:\n",
    "                dest.write(out_image)\n",
    "\n",
    "        read_clip = rio.open(path_out)\n",
    "\n",
    "        return read_clip"
   ],
   "metadata": {
    "collapsed": false
   }
  },
  {
   "cell_type": "code",
   "execution_count": null,
   "outputs": [],
   "source": [
    "# call the class to see the files available.\n",
    "band = Read_rasterio()"
   ],
   "metadata": {
    "collapsed": false
   }
  },
  {
   "cell_type": "code",
   "execution_count": null,
   "outputs": [],
   "source": [
    "# check the dates available. This can be useful to call a specific date or just a group\n",
    "band.list_years"
   ],
   "metadata": {
    "collapsed": false
   }
  },
  {
   "cell_type": "code",
   "execution_count": null,
   "outputs": [],
   "source": [
    "# this is an example on how to use the class to get just one date\n",
    "band = Read_rasterio('2019-12-23')"
   ],
   "metadata": {
    "collapsed": false
   }
  },
  {
   "cell_type": "markdown",
   "source": [
    "### Plot the satellite images to check it\n",
    "\n",
    "Upload some information to add to the image. In this case I am adding data on municipal and provincial limits."
   ],
   "metadata": {
    "collapsed": false
   }
  },
  {
   "cell_type": "code",
   "execution_count": null,
   "outputs": [],
   "source": [
    "# path to the shp\n",
    "provinces_path = \"ProvCM01012022/ProvCM01012022_WGS84.shp\"\n",
    "municipalities_path = \"Com01012022/Com01012022_WGS84.shp\"\n",
    "\n",
    "# read the shp with geopandas\n",
    "gdf_provinces = gpd.read_file(provinces_path)\n",
    "gdf_municipalities = gpd.read_file(municipalities_path)"
   ],
   "metadata": {
    "collapsed": false
   }
  },
  {
   "cell_type": "code",
   "execution_count": null,
   "outputs": [],
   "source": [
    "# example on how read all the bands available for the selected date at 10m resolution (would be possible to add others in the class if necessary)\n",
    "B02_10m_rio, B03_10m_rio, B04_10m_rio, B08_10m_rio, true_color_rio = band.read_rio_10m()"
   ],
   "metadata": {
    "collapsed": false
   }
  },
  {
   "cell_type": "code",
   "execution_count": null,
   "outputs": [],
   "source": [
    "fig, ax = plt.subplots(figsize=(15, 15))\n",
    "\n",
    "gdf_provinces.plot(ax=ax, facecolor='None', linewidth=1.6, edgecolor='red', zorder=2)\n",
    "gdf_municipalities.plot(ax=ax, facecolor='None', linewidth=0.5, edgecolor='white', zorder=1)\n",
    "gdf_provinces.apply(lambda x: ax.annotate(text=x['DEN_PROV'], xy=x.geometry.centroid.coords[0], color = \"white\", weight='semibold'), axis=1);\n",
    "\n",
    "show(true_color_rio.read(), transform=true_color_rio.transform, ax=ax)"
   ],
   "metadata": {
    "collapsed": false
   }
  },
  {
   "cell_type": "markdown",
   "source": [
    "### Example NDVI function"
   ],
   "metadata": {
    "collapsed": false
   }
  },
  {
   "cell_type": "code",
   "execution_count": null,
   "outputs": [],
   "source": [
    "ndvi = band.ndvi_function()"
   ],
   "metadata": {
    "collapsed": false
   }
  },
  {
   "cell_type": "code",
   "execution_count": null,
   "outputs": [],
   "source": [
    "# plot the ndvi\n",
    "fig = plt.figure(figsize=(15, 15))\n",
    "show(ndvi, cmap='RdYlGn')"
   ],
   "metadata": {
    "collapsed": false
   }
  },
  {
   "cell_type": "markdown",
   "source": [
    "## Focus on a specific area\n",
    "\n",
    "This section wants to give some examples on how it is possible to select some areas without the use of external tools like QGIS\n",
    "\n",
    "### Check an area by municipalies\n",
    "Could be more than one or by other types of geometries"
   ],
   "metadata": {
    "collapsed": false
   }
  },
  {
   "cell_type": "code",
   "execution_count": null,
   "outputs": [],
   "source": [
    "# select the municipality of interest\n",
    "gdf_municipality = gdf_municipalities[gdf_municipalities['COMUNE'] == 'Alessandria'].reset_index(drop=True)\n",
    "\n",
    "# create a bounding box to cut the rasters on\n",
    "municipality_box = box(*gdf_municipality.total_bounds)\n",
    "\n",
    "# create a geodaframe with the bounding box created\n",
    "gdf_municipality_box = gpd.GeoDataFrame(index=[0], crs=gdf_municipality.crs, geometry=[municipality_box])"
   ],
   "metadata": {
    "collapsed": false
   }
  },
  {
   "cell_type": "code",
   "execution_count": null,
   "outputs": [],
   "source": [
    "# get the dataframe to get the trueColor image path\n",
    "df_paths_filtered = band.df_paths_filtered\n",
    "\n",
    "#get just the path from the dataframe\n",
    "file_path = df_paths_filtered[df_paths_filtered['Filename'].str.contains(\"TCI_10m\")].reset_index(drop=True)['Paths'][0]"
   ],
   "metadata": {
    "collapsed": false
   }
  },
  {
   "cell_type": "code",
   "execution_count": null,
   "outputs": [],
   "source": [
    "# an example on how implement another function inside the class and use it easily to get a clip on a desired area\n",
    "trueColor_img = band.clip_raster(file_path, 'clip_raster.tif', gdf_municipality_box)"
   ],
   "metadata": {
    "collapsed": false
   }
  },
  {
   "cell_type": "code",
   "execution_count": null,
   "outputs": [],
   "source": [
    "# plot the clip\n",
    "fig, ax = plt.subplots(figsize=(15, 15))\n",
    "\n",
    "gdf_municipality.plot(ax=ax, facecolor='None', linewidth=1.6, edgecolor='orange', zorder=2)\n",
    "\n",
    "show(trueColor_img.read(), transform=trueColor_img.transform, ax=ax)"
   ],
   "metadata": {
    "collapsed": false
   }
  },
  {
   "cell_type": "code",
   "execution_count": null,
   "outputs": [],
   "source": [
    "# get the dataframe to get the trueColor image path\n",
    "df_paths_filtered = band.df_paths_filtered\n",
    "\n",
    "#get just the path from the dataframe\n",
    "file_path = df_paths_filtered[df_paths_filtered['Filename'].str.contains(\"B02_10m\")].reset_index(drop=True)['Paths'][0]"
   ],
   "metadata": {
    "collapsed": false
   }
  },
  {
   "cell_type": "code",
   "execution_count": null,
   "outputs": [],
   "source": [
    "# it can be used to clip any band\n",
    "clip_B02_10m = band.clip_raster(file_path, 'clip_B02_10m.tif', gdf_municipality_box)"
   ],
   "metadata": {
    "collapsed": false
   }
  },
  {
   "cell_type": "code",
   "execution_count": null,
   "outputs": [],
   "source": [
    "fig, ax = plt.subplots(figsize=(15, 15))\n",
    "\n",
    "gdf_municipality.plot(ax=ax, facecolor='None', linewidth=1.6, edgecolor='orange', zorder=2)\n",
    "\n",
    "show(clip_B02_10m.read(), transform=clip_B02_10m.transform, ax=ax)"
   ],
   "metadata": {
    "collapsed": false
   }
  },
  {
   "cell_type": "markdown",
   "source": [
    "### Example of NDVI calculation using partially the class"
   ],
   "metadata": {
    "collapsed": false
   }
  },
  {
   "cell_type": "code",
   "execution_count": null,
   "outputs": [],
   "source": [
    "# plot all the wanted bands and clip them\n",
    "out_image_B2, out_transform_B2 = mask(B02_10m_rio, gdf_municipality_box.geometry, crop=True)\n",
    "out_image_B3, out_transform_B3 = mask(B03_10m_rio, gdf_municipality_box.geometry, crop=True)\n",
    "out_image_B4, out_transform_B4 = mask(B04_10m_rio, gdf_municipality_box.geometry, crop=True)\n",
    "out_image_B8, out_transform_B8 = mask(B08_10m_rio, gdf_municipality_box.geometry, crop=True)"
   ],
   "metadata": {
    "collapsed": false
   }
  },
  {
   "cell_type": "code",
   "execution_count": null,
   "outputs": [],
   "source": [
    "# check the clips\n",
    "fig, ax = plt.subplots(nrows=2,ncols=2, figsize=(12,12))\n",
    "\n",
    "show(out_image_B2, transform=out_transform_B2, ax=ax[0,0], cmap='nipy_spectral', title='Band 1')\n",
    "show(out_image_B3, transform=out_transform_B3, ax=ax[0,1], cmap='nipy_spectral', title='Band 2')\n",
    "show(out_image_B4, transform=out_transform_B4, ax=ax[1,0], cmap='nipy_spectral', title='Band 3')\n",
    "show(out_image_B8, transform=out_transform_B8, ax=ax[1,1], cmap='nipy_spectral', title='Band 8')\n",
    "\n",
    "plt.show()"
   ],
   "metadata": {
    "collapsed": false
   }
  },
  {
   "cell_type": "code",
   "execution_count": null,
   "outputs": [],
   "source": [
    "# I left this function out because in this case I felt simplier to work outside the class\n",
    "def ndvi_function(band4, band8):\n",
    "    np.seterr(divide='ignore', invalid='ignore')\n",
    "    red = band4.astype('float64')\n",
    "    nir = band8.astype('float64')\n",
    "    ndvi = np.where(\n",
    "    (nir+red)==0.,\n",
    "    0,\n",
    "    (nir-red)/(nir+red)\n",
    "    )\n",
    "    return ndvi"
   ],
   "metadata": {
    "collapsed": false
   }
  },
  {
   "cell_type": "code",
   "execution_count": null,
   "outputs": [],
   "source": [
    "# calculatig the NDVI just for the clip\n",
    "ndvi_clip = ndvi_function(out_image_B4, out_image_B8)"
   ],
   "metadata": {
    "collapsed": false
   }
  },
  {
   "cell_type": "code",
   "execution_count": null,
   "outputs": [],
   "source": [
    "# plot the NDVI results\n",
    "fig, ax = plt.subplots(figsize=(15, 15))\n",
    "\n",
    "gdf_municipality.plot(ax=ax, facecolor='None', linewidth=1.6, edgecolor='black', zorder=2)\n",
    "\n",
    "show(ndvi_clip, transform=out_transform_B8, ax=ax)"
   ],
   "metadata": {
    "collapsed": false
   }
  },
  {
   "cell_type": "markdown",
   "source": [
    "### Select an area to focus\n",
    "\n",
    "If you need to focus in even more specific areas you can do so with libraries that I found online by dividing the territory into selectable areas."
   ],
   "metadata": {
    "collapsed": false
   }
  },
  {
   "cell_type": "code",
   "execution_count": null,
   "outputs": [],
   "source": [],
   "metadata": {
    "collapsed": false
   }
  },
  {
   "cell_type": "code",
   "execution_count": null,
   "outputs": [],
   "source": [
    "# Get the country's shape in polygon format\n",
    "country_shape = gdf_municipality.geometry.values[-1]\n",
    "\n",
    "# Plot country\n",
    "gdf_municipality.plot()\n",
    "plt.axis('off');\n",
    "\n",
    "# Print size\n",
    "print('Dimension of the area is {0:.0f} x {1:.0f} m2'.format(country_shape.bounds[2] - country_shape.bounds[0],\n",
    "                                                             country_shape.bounds[3] - country_shape.bounds[1]))"
   ],
   "metadata": {
    "collapsed": false
   }
  },
  {
   "cell_type": "code",
   "execution_count": null,
   "outputs": [],
   "source": [
    "# Create the splitter to obtain a list of bboxes\n",
    "bbox_splitter = UtmZoneSplitter([country_shape], gdf_municipality.crs, 1000)\n",
    "\n",
    "bbox_list = np.array(bbox_splitter.get_bbox_list())\n",
    "info_list = np.array(bbox_splitter.get_info_list())\n",
    "\n",
    "# Prepare info of selected EOPatches\n",
    "geometry = [Polygon(bbox.get_polygon()) for bbox in bbox_list]\n",
    "idxs = [info['index'] for info in info_list]\n",
    "idxs_x = [info['index_x'] for info in info_list]\n",
    "idxs_y = [info['index_y'] for info in info_list]\n",
    "\n",
    "gdf = gpd.GeoDataFrame({'index': idxs, 'index_x': idxs_x, 'index_y': idxs_y},\n",
    "                       crs=gdf_municipality.crs,\n",
    "                       geometry=geometry)"
   ],
   "metadata": {
    "collapsed": false
   }
  },
  {
   "cell_type": "code",
   "execution_count": null,
   "outputs": [],
   "source": [
    "# select a 5x5 area (id of center patch)\n",
    "ID = 170\n",
    "\n",
    "# Obtain surrounding 5x5 patches\n",
    "patchIDs = []\n",
    "for idx, [bbox, info] in enumerate(zip(bbox_list, info_list)):\n",
    "    if (abs(info['index_x'] - info_list[ID]['index_x']) <= 2 and\n",
    "        abs(info['index_y'] - info_list[ID]['index_y']) <= 2):\n",
    "        patchIDs.append(idx)\n",
    "\n",
    "# Check if final size is 5x5\n",
    "if len(patchIDs) != 5*5:\n",
    "    print('Warning! Use a different central patch ID, this one is on the border.')\n",
    "\n",
    "# Change the order of the patches (used for plotting later)\n",
    "patchIDs = np.transpose(np.fliplr(np.array(patchIDs).reshape(5, 5))).ravel()\n",
    "\n",
    "# save to shapefile\n",
    "shapefile_name = 'grid_municipality.shp'\n",
    "gdf.to_file(shapefile_name)"
   ],
   "metadata": {
    "collapsed": false
   }
  },
  {
   "cell_type": "code",
   "execution_count": null,
   "outputs": [],
   "source": [
    "# figure\n",
    "fig, ax = plt.subplots(figsize=(30, 30))\n",
    "gdf.plot(ax=ax, facecolor='w',edgecolor='r', alpha=0.5, linewidth=1.6)\n",
    "gdf_municipality.plot(ax=ax, facecolor='w', edgecolor='none',alpha=0.1, )\n",
    "gdf_municipality.plot(ax=ax, facecolor='none', edgecolor='w', linewidth=1.6)\n",
    "\n",
    "ax.set_title('Selected 5x5  tiles from {}'.format(gdf_municipality[\"COMUNE\"][0]), fontsize=25);\n",
    "for bbox, info in zip(bbox_list, info_list):\n",
    "    geo = bbox.geometry\n",
    "    ax.text(geo.centroid.x, geo.centroid.y, info['index'], ha='center', va='center')\n",
    "\n",
    "gdf[gdf.index.isin(patchIDs)].plot(ax=ax,facecolor='g',edgecolor='r',alpha=0.1)\n",
    "\n",
    "show(trueColor_img.read(), transform=trueColor_img.transform, ax=ax)\n",
    "\n",
    "plt.axis('off');"
   ],
   "metadata": {
    "collapsed": false
   }
  },
  {
   "cell_type": "markdown",
   "source": [
    "## Open all the data for each month\n",
    "\n",
    "This section wants to show how to use the class to process rasters sequentially to get a single file with different bands to use for example for a classification."
   ],
   "metadata": {
    "collapsed": false
   }
  },
  {
   "cell_type": "code",
   "execution_count": null,
   "outputs": [],
   "source": [
    "%%time\n",
    "\n",
    "# get a list of the different period present inside the folder and count them to see how many bands there will be inside the new raster\n",
    "list_dates = band.list_years\n",
    "count_bands = len(list_dates)*5\n",
    "\n",
    "# loop each period to get the interested bands\n",
    "for i in list_dates:\n",
    "\n",
    "    # use the class for each period\n",
    "    band = Read_rasterio(i)\n",
    "\n",
    "    # read all the bands available for the selected date at 10m resolution\n",
    "    B02_10m_rio, B03_10m_rio, B04_10m_rio, B08_10m_rio, true_color_rio = band.read_rio_10m()\n",
    "\n",
    "    # cut the original raster on the area of interest\n",
    "    out_image_B2, out_transform_B2 = mask(B02_10m_rio, gdf_municipality_box.geometry, crop=True)\n",
    "    out_image_B3, out_transform_B3 = mask(B03_10m_rio, gdf_municipality_box.geometry, crop=True)\n",
    "    out_image_B4, out_transform_B4 = mask(B04_10m_rio, gdf_municipality_box.geometry, crop=True)\n",
    "    out_image_B8, out_transform_B8 = mask(B08_10m_rio, gdf_municipality_box.geometry, crop=True)\n",
    "    trueColor_clip, trueColor_clip_transform = mask(true_color_rio, gdf_municipality_box.geometry, crop=True)\n",
    "\n",
    "    # generate new classes such as the NDVI to be inserted as an additional band\n",
    "    ndvi_clip = ndvi_function(out_image_B4, out_image_B8)\n",
    "\n",
    "    # get the meta information using a file generated before inside the notebook\n",
    "    out_meta = clip_B02_10m.meta\n",
    "\n",
    "    # change the meta info with our necessities\n",
    "    out_meta.update({\"driver\": \"GTiff\",\n",
    "                     \"height\": clip_B02_10m.height,\n",
    "                     \"width\": clip_B02_10m.width,\n",
    "                     \"transform\": out_transform_B2})\n",
    "\n",
    "    # count for each period the bands to be saved\n",
    "    count = 0\n",
    "    list_file_names = ['band2.tif', 'band3.tif', 'band4.tif', 'band8.tif', 'ndvi.tif']\n",
    "\n",
    "    # combine lists for names and clips to save them properly\n",
    "    for n in [out_image_B2, out_image_B2, out_image_B2, out_image_B2, ndvi_clip]:\n",
    "        with rio.open(list_file_names[count], \"w\", **out_meta) as dest:\n",
    "                dest.write(n.reshape(n.shape[:]))\n",
    "\n",
    "        count += 1\n",
    "\n",
    "        # close the saved raster so they can be overwrite later\n",
    "        dest.close()\n",
    "\n",
    "    # open the generated rasters\n",
    "    b2_1075 = rio.open('band2.tif')\n",
    "    b3_1075 = rio.open('band3.tif')\n",
    "    b4_1075 = rio.open('band4.tif')\n",
    "    b8_1075 = rio.open('band8.tif')\n",
    "    ndvi_clip = rio.open('ndvi.tif')\n",
    "\n",
    "    # save  all the band in a unique file for each period in case we want to go to work for just one period\n",
    "    to_save = rio.open('RGB_NIR_'+str(i).replace('.','_').replace(':','_')+'.tif', 'w', driver ='Gtiff',\n",
    "                       width=b2_1075.width, height = b2_1075.height,\n",
    "                       count=5,\n",
    "                       crs=b2_1075.crs,\n",
    "                       transform=b2_1075.transform,\n",
    "                       dtype=b2_1075.dtypes[0],\n",
    "                       profile=b2_1075.profile)\n",
    "\n",
    "    # write each ban in a specific band inside the file generated before\n",
    "    to_save.write(ndvi_clip.read(1), 5)\n",
    "    to_save.write(b8_1075.read(1), 4)\n",
    "    to_save.write(b2_1075.read(1), 3)\n",
    "    to_save.write(b3_1075.read(1), 2)\n",
    "    to_save.write(b4_1075.read(1), 1)\n",
    "\n",
    "    # close all the bands to be overwrite later in the loop\n",
    "    to_save.close()\n",
    "    b2_1075.close()\n",
    "    b3_1075.close()\n",
    "    b4_1075.close()\n",
    "    b8_1075.close()\n",
    "    ndvi_clip.close()\n",
    "\n",
    "    # open the file created before to be classified\n",
    "    rgb_1075 = gdal.Open('RGB_NIR_'+str(i).replace('.','_').replace(':','_')+'.tif', gdal.GA_ReadOnly)\n",
    "\n",
    "    # get the meta info of the raster and create a numpy array with its dimensions\n",
    "    img = np.zeros((rgb_1075.RasterYSize, rgb_1075.RasterXSize, rgb_1075.RasterCount),\n",
    "                   gdal_array.GDALTypeCodeToNumericTypeCode(rgb_1075.GetRasterBand(1).DataType))\n",
    "\n",
    "    # fill the array\n",
    "    for b in range(img.shape[2]):\n",
    "        img[:, :, b] = rgb_1075.GetRasterBand(b + 1).ReadAsArray()\n",
    "\n",
    "    # generate the new shape\n",
    "    new_shape = (img.shape[0] * img.shape[1], img.shape[2])\n",
    "\n",
    "    # adapt the shape to the sklearn way of reading to classify\n",
    "    X = img[:, :, :13].reshape(new_shape)\n",
    "\n",
    "    # use the kmeans classification\n",
    "    k_means = cluster.KMeans(n_clusters=6)\n",
    "    k_means.fit(X)\n",
    "    X_cluster = k_means.labels_\n",
    "    X_cluster = X_cluster.reshape(img[:, :, 0].shape)\n",
    "\n",
    "    # save the classification\n",
    "    ds = gdal.Open('RGB_NIR_'+str(i).replace('.','_').replace(':','_')+'.tif')\n",
    "    band = ds.GetRasterBand(2)\n",
    "    arr = band.ReadAsArray()\n",
    "    [cols, rows] = arr.shape\n",
    "\n",
    "    format = \"GTiff\"\n",
    "    driver = gdal.GetDriverByName(format)\n",
    "\n",
    "    outDataRaster = driver.Create(\"k_means_\"+str(i).replace('.','_').replace(':','_')+'.tif', rows, cols, 1, gdal.GDT_Byte)\n",
    "    outDataRaster.SetGeoTransform(ds.GetGeoTransform()) ##sets same geotransform as input\n",
    "    outDataRaster.SetProjection(ds.GetProjection())##sets same projection as input+\n",
    "    outDataRaster.GetRasterBand(1).WriteArray(X_cluster)\n",
    "\n",
    "    # remove from memory\n",
    "    outDataRaster.FlushCache()"
   ],
   "metadata": {
    "collapsed": false
   }
  },
  {
   "cell_type": "code",
   "execution_count": null,
   "outputs": [],
   "source": [
    "# plot the last classification of the raster\n",
    "fig, ax = plt.subplots(figsize=(15, 15))\n",
    "\n",
    "gdf_municipality.plot(ax=ax, facecolor='None', linewidth=2, edgecolor='white')\n",
    "\n",
    "show(X_cluster, transform=out_transform_B8, ax=ax, cmap=\"hsv\")"
   ],
   "metadata": {
    "collapsed": false
   }
  },
  {
   "cell_type": "markdown",
   "source": [
    "## Try to reclassify\n",
    "\n",
    "The previous code elaborates the various bands and saves everything for the period. It would also be interesting to try to have all the bands inside the same file, which however becomes heavy to process for most PCs. One possibility to reduce the timing could be to reduce the area or once the classification per period has been carried out to reclassify the various raster classified for each period together.\n",
    "\n",
    "### First trial: classify the rasters already classified for each period together"
   ],
   "metadata": {
    "collapsed": false
   }
  },
  {
   "cell_type": "code",
   "execution_count": null,
   "outputs": [],
   "source": [
    "# read a raster as meta base for the others\n",
    "read_rio = rio.open('k_means_2019-12-23T00_00_00_000000000.tif')"
   ],
   "metadata": {
    "collapsed": false
   }
  },
  {
   "cell_type": "code",
   "execution_count": null,
   "outputs": [],
   "source": [
    "# get all the files elaborated with the k-means algorithm\n",
    "list_classified = glob(\"k_means*.tif\")"
   ],
   "metadata": {
    "collapsed": false
   }
  },
  {
   "cell_type": "code",
   "execution_count": null,
   "outputs": [],
   "source": [
    "# open a raster where save all the bands from the k-mean rasters\n",
    "stdImage = rio.open('k_means_united.tif', 'w',\n",
    "                    driver ='Gtiff',\n",
    "                    width=read_rio.width, height = read_rio.height,\n",
    "                    count=12,\n",
    "                    crs=read_rio.crs,\n",
    "                    transform=read_rio.transform,\n",
    "                    dtype='float64',\n",
    "                    profile=read_rio.profile)\n",
    "\n",
    "# fill the file with all the bands\n",
    "count = 1\n",
    "\n",
    "for i in list_classified:\n",
    "    read_rio = rio.open(i)\n",
    "    stdImage.write(read_rio.read(1).astype('float64'), count)\n",
    "\n",
    "    count += 1\n",
    "\n",
    "# close the new file\n",
    "stdImage.close()"
   ],
   "metadata": {
    "collapsed": false
   }
  },
  {
   "cell_type": "code",
   "execution_count": null,
   "outputs": [],
   "source": [
    "%%time\n",
    "\n",
    "# open the file with all the k-mean bands to be classified\n",
    "img_ds = gdal.Open('k_means_united.tif', gdal.GA_ReadOnly)\n",
    "\n",
    "img = np.zeros((img_ds.RasterYSize, img_ds.RasterXSize, img_ds.RasterCount),\n",
    "gdal_array.GDALTypeCodeToNumericTypeCode(img_ds.GetRasterBand(1).DataType))\n",
    "for b in range(img.shape[2]):\n",
    "    img[:, :, b] = img_ds.GetRasterBand(b + 1).ReadAsArray()\n",
    "\n",
    "new_shape = (img.shape[0] * img.shape[1], img.shape[2])\n",
    "\n",
    "X = img[:, :, :13].reshape(new_shape)\n",
    "\n",
    "k_means = cluster.KMeans(n_clusters=10)\n",
    "k_means.fit(X)\n",
    "\n",
    "X_cluster = k_means.labels_\n",
    "X_cluster = X_cluster.reshape(img[:, :, 0].shape)"
   ],
   "metadata": {
    "collapsed": false
   }
  },
  {
   "cell_type": "code",
   "execution_count": null,
   "outputs": [],
   "source": [
    "#check the result\n",
    "plt.figure(figsize=(20,20))\n",
    "plt.imshow(X_cluster, cmap=\"hsv\")\n",
    "plt.show()"
   ],
   "metadata": {
    "collapsed": false
   }
  },
  {
   "cell_type": "markdown",
   "source": [
    "### Classify all bands"
   ],
   "metadata": {
    "collapsed": false
   }
  },
  {
   "cell_type": "code",
   "execution_count": null,
   "outputs": [],
   "source": [
    "read_rio = rio.open('RGB_NIR_2019-12-23T00_00_00_000000000.tif')"
   ],
   "metadata": {
    "collapsed": false
   }
  },
  {
   "cell_type": "code",
   "execution_count": null,
   "outputs": [],
   "source": [
    "list_classified = glob(\"RGB_NIR*.tif\")"
   ],
   "metadata": {
    "collapsed": false
   }
  },
  {
   "cell_type": "code",
   "execution_count": null,
   "outputs": [],
   "source": [
    "stdImage = rio.open('RGB_NIR_united.tif', 'w',\n",
    "                    driver ='Gtiff',\n",
    "                    width=read_rio.width, height = read_rio.height,\n",
    "                    count=len(list_classified)*5,\n",
    "                    crs=read_rio.crs,\n",
    "                    transform=read_rio.transform,\n",
    "                    dtype='float64',\n",
    "                    profile=read_rio.profile)\n",
    "\n",
    "count = 1\n",
    "\n",
    "for i in list_classified:\n",
    "    read_rio = rio.open(i)\n",
    "    for n in range(1,6):\n",
    "        stdImage.write(read_rio.read(n).astype('float64'), count)\n",
    "\n",
    "    count += 1\n",
    "\n",
    "stdImage.close()"
   ],
   "metadata": {
    "collapsed": false
   }
  },
  {
   "cell_type": "code",
   "execution_count": null,
   "outputs": [],
   "source": [
    "img_ds = rio.open('RGB_NIR_united.tif')"
   ],
   "metadata": {
    "collapsed": false
   }
  },
  {
   "cell_type": "code",
   "execution_count": null,
   "outputs": [],
   "source": [
    "%%time\n",
    "\n",
    "img_ds = gdal.Open('RGB_NIR_united.tif', gdal.GA_ReadOnly)\n",
    "\n",
    "img = np.zeros((img_ds.RasterYSize, img_ds.RasterXSize, img_ds.RasterCount),\n",
    "gdal_array.GDALTypeCodeToNumericTypeCode(img_ds.GetRasterBand(1).DataType))\n",
    "for b in range(img.shape[2]):\n",
    "    img[:, :, b] = img_ds.GetRasterBand(b + 1).ReadAsArray()\n",
    "\n",
    "new_shape = (img.shape[0] * img.shape[1], img.shape[2])\n",
    "\n",
    "X = img[:, :, :61].reshape(new_shape)\n",
    "\n",
    "k_means = cluster.KMeans(n_clusters=4)\n",
    "k_means.fit(X)\n",
    "\n",
    "X_cluster = k_means.labels_\n",
    "X_cluster = X_cluster.reshape(img[:, :, 0].shape)"
   ],
   "metadata": {
    "collapsed": false
   }
  },
  {
   "cell_type": "code",
   "execution_count": null,
   "outputs": [],
   "source": [
    "plt.figure(figsize=(20,20))\n",
    "plt.imshow(X_cluster, cmap=\"hsv\")\n",
    "plt.show()"
   ],
   "metadata": {
    "collapsed": false
   }
  },
  {
   "cell_type": "code",
   "execution_count": null,
   "outputs": [],
   "source": [],
   "metadata": {
    "collapsed": false
   }
  }
 ],
 "metadata": {
  "kernelspec": {
   "display_name": "Python 3",
   "language": "python",
   "name": "python3"
  },
  "language_info": {
   "codemirror_mode": {
    "name": "ipython",
    "version": 2
   },
   "file_extension": ".py",
   "mimetype": "text/x-python",
   "name": "python",
   "nbconvert_exporter": "python",
   "pygments_lexer": "ipython2",
   "version": "2.7.6"
  }
 },
 "nbformat": 4,
 "nbformat_minor": 0
}
