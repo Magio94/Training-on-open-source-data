{
 "cells": [
  {
   "cell_type": "code",
   "execution_count": 1,
   "outputs": [],
   "source": [
    "import geopandas as gpd, pandas as pd"
   ],
   "metadata": {
    "collapsed": false,
    "ExecuteTime": {
     "end_time": "2023-12-12T17:04:30.642296100Z",
     "start_time": "2023-12-12T17:04:30.330538900Z"
    }
   },
   "id": "b80e7250c817861c"
  },
  {
   "cell_type": "code",
   "execution_count": 2,
   "outputs": [],
   "source": [
    "\n",
    "# Path corretti dei file shapefile\n",
    "files = [\n",
    "    \"Aree protette/aree_riequilibrio_ecologico_rer201812/aree_riequilibrio_ecologico_rer201812.shp\",\n",
    "    \"Aree protette/paesaggi_protetti_rer202007/paesaggi_protetti_rer202007.shp\",\n",
    "    \"Aree protette/parchi_riserve_rer202109/parchi_riserve_rer202109.shp\",\n",
    "    \"Aree protette/parchi_riserve_rer202109/zone_parchi_riserve_rer202109.shp\",\n",
    "    \"Aree protette/siczps_rer202111/siczps_rer202111.shp\"\n",
    "]\n",
    "\n",
    "# Caricamento dei GeoDataFrames e correzione delle geometrie non valide\n",
    "gdfs = []\n",
    "for file in files:\n",
    "    gdf = gpd.read_file(file)\n",
    "    gdf['geometry'] = gdf.geometry.buffer(0)  # Correzione delle geometrie\n",
    "    gdfs.append(gdf)\n",
    "\n",
    "# Concatenazione dei GeoDataFrames in uno solo\n",
    "combined_gdf = gpd.GeoDataFrame(pd.concat(gdfs, ignore_index=True))\n",
    "\n",
    "# Dissoluzione di tutte le geometrie in un'unica geometria\n",
    "union_gdf = combined_gdf.dissolve()\n",
    "\n",
    "# Caricamento dei confini della provincia di Bologna\n",
    "bologna_borders = gpd.read_file(\"Limiti01012023/ProvCM01012023/ProvCM01012023_WGS84.shp\")\n",
    "bologna_borders = bologna_borders[bologna_borders['COD_PROV'] == 37].reset_index(drop=True)\n",
    "\n",
    "# Assicurarsi che i CRS corrispondano\n",
    "if union_gdf.crs != bologna_borders.crs:\n",
    "    # Riconvertire il CRS di union_gdf per corrispondere a quello di bologna_borders\n",
    "    union_gdf = union_gdf.to_crs(bologna_borders.crs)\n",
    "\n",
    "# Taglio del GeoDataFrame unificato con i confini di Bologna\n",
    "final_gdf = gpd.clip(union_gdf, bologna_borders)"
   ],
   "metadata": {
    "collapsed": false,
    "ExecuteTime": {
     "end_time": "2023-12-12T17:04:35.261165600Z",
     "start_time": "2023-12-12T17:04:30.642296100Z"
    }
   },
   "id": "initial_id"
  },
  {
   "cell_type": "code",
   "execution_count": 5,
   "outputs": [],
   "source": [
    "# Salva il risultato finale\n",
    "final_gdf.to_file(\"restricted_analysis/bologna_protected_areas.shp\")"
   ],
   "metadata": {
    "collapsed": false,
    "ExecuteTime": {
     "end_time": "2023-12-12T17:05:08.036920700Z",
     "start_time": "2023-12-12T17:05:07.988804700Z"
    }
   },
   "id": "52ae1f980923c34c"
  },
  {
   "cell_type": "code",
   "execution_count": null,
   "outputs": [],
   "source": [],
   "metadata": {
    "collapsed": false
   },
   "id": "e6d221e60cc4419e"
  }
 ],
 "metadata": {
  "kernelspec": {
   "display_name": "Python 3",
   "language": "python",
   "name": "python3"
  },
  "language_info": {
   "codemirror_mode": {
    "name": "ipython",
    "version": 2
   },
   "file_extension": ".py",
   "mimetype": "text/x-python",
   "name": "python",
   "nbconvert_exporter": "python",
   "pygments_lexer": "ipython2",
   "version": "2.7.6"
  }
 },
 "nbformat": 4,
 "nbformat_minor": 5
}
