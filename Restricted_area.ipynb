{
 "cells": [
  {
   "cell_type": "code",
   "execution_count": 1,
   "outputs": [],
   "source": [
    "import geopandas as gpd, pandas as pd, rasterio as rio, os, numpy as np\n",
    "from rasterio.transform import from_origin\n",
    "from rasterio.features import rasterize\n",
    "from rasterio.mask import mask"
   ],
   "metadata": {
    "collapsed": false,
    "ExecuteTime": {
     "end_time": "2023-12-18T07:43:03.266014Z",
     "start_time": "2023-12-18T07:43:01.037075400Z"
    }
   }
  },
  {
   "cell_type": "markdown",
   "source": [
    "## Select area borders"
   ],
   "metadata": {
    "collapsed": false
   }
  },
  {
   "cell_type": "code",
   "execution_count": 2,
   "outputs": [],
   "source": [
    "# select only the study area (Bologna province)\n",
    "read_province_borders = gpd.read_file(\"Limiti01012023/ProvCM01012023/ProvCM01012023_WGS84.shp\")\n",
    "bologna_borders = read_province_borders[read_province_borders['COD_PROV'] == 37].reset_index(drop=True)"
   ],
   "metadata": {
    "collapsed": false,
    "ExecuteTime": {
     "end_time": "2023-12-18T07:43:05.196661500Z",
     "start_time": "2023-12-18T07:43:03.996942500Z"
    }
   }
  },
  {
   "cell_type": "code",
   "execution_count": 3,
   "outputs": [
    {
     "data": {
      "text/plain": "<Axes: >"
     },
     "execution_count": 3,
     "metadata": {},
     "output_type": "execute_result"
    },
    {
     "data": {
      "text/plain": "<Figure size 640x480 with 1 Axes>",
      "image/png": "[encoded data removed]"
     },
     "metadata": {},
     "output_type": "display_data"
    }
   ],
   "source": [
    "bologna_borders.plot()"
   ],
   "metadata": {
    "collapsed": false,
    "ExecuteTime": {
     "end_time": "2023-12-18T07:43:06.014403900Z",
     "start_time": "2023-12-18T07:43:05.196661500Z"
    }
   }
  },
  {
   "cell_type": "markdown",
   "source": [
    "## Load DEM data"
   ],
   "metadata": {
    "collapsed": false
   }
  },
  {
   "cell_type": "code",
   "execution_count": 4,
   "outputs": [],
   "source": [
    "# Carica il raster\n",
    "raster_path = 'DEM/Emilia-Romagna1.tif'\n",
    "\n",
    "raster = rio.open(raster_path)\n",
    "\n",
    "# Estrai le geometrie dal GeoDataFrame\n",
    "geometries = bologna_borders.geometry.values\n",
    "\n",
    "# Applica la maschera al raster\n",
    "out_image, out_transform = mask(raster, geometries, crop=True)\n",
    "\n",
    "# Metadati per il raster risultante\n",
    "out_meta = raster.meta.copy()\n",
    "out_meta.update({\"driver\": \"GTiff\",\n",
    "                 \"height\": out_image.shape[1],\n",
    "                 \"width\": out_image.shape[2],\n",
    "                 \"transform\": out_transform})\n",
    "\n",
    "# Salva il raster risultante\n",
    "output_raster_path = 'restricted_analysis/DEM_Bologna.tif'\n",
    "with rio.open(output_raster_path, 'w', **out_meta) as dest:\n",
    "    dest.write(out_image)"
   ],
   "metadata": {
    "collapsed": false,
    "ExecuteTime": {
     "end_time": "2023-12-18T07:43:09.792993Z",
     "start_time": "2023-12-18T07:43:06.161928200Z"
    }
   }
  },
  {
   "cell_type": "markdown",
   "source": [
    "## Load IGM Data"
   ],
   "metadata": {
    "collapsed": false
   }
  },
  {
   "cell_type": "code",
   "execution_count": 5,
   "outputs": [
    {
     "name": "stdout",
     "output_type": "stream",
     "text": [
      "Il file clipped_argine.shp già esiste. Salto il processo.\n",
      "Il file clipped_condot.shp già esiste. Salto il processo.\n",
      "Il file clipped_op_por.shp già esiste. Salto il processo.\n",
      "Il file clipped_ps_inc.shp già esiste. Salto il processo.\n",
      "Il file clipped_sv_str.shp già esiste. Salto il processo.\n",
      "Il file clipped_ar_vrd.shp già esiste. Salto il processo.\n",
      "Nessuna intersezione trovata per ar_mar.shp\n",
      "Nessuna intersezione trovata per mu_sos.shp\n",
      "Il file clipped_bosco.shp già esiste. Salto il processo.\n",
      "Il file clipped_scarpt.shp già esiste. Salto il processo.\n",
      "Nessuna intersezione trovata per pt_btm.shp\n",
      "Nessuna intersezione trovata per gz_met.shp\n",
      "Nessuna intersezione trovata per el_acq.shp\n",
      "Il file clipped_cv_aes.shp già esiste. Salto il processo.\n",
      "Il file clipped_edi_min.shp già esiste. Salto il processo.\n",
      "Il file clipped_cl_agr.shp già esiste. Salto il processo.\n",
      "Il file clipped_el_idr.shp già esiste. Salto il processo.\n",
      "Il file clipped_provin.shp già esiste. Salto il processo.\n",
      "Il file clipped_cv_dis.shp già esiste. Salto il processo.\n",
      "Nessuna intersezione trovata per nd_idr.shp\n",
      "Il file clipped_ar_nat.shp già esiste. Salto il processo.\n",
      "Il file clipped_el_fer.shp già esiste. Salto il processo.\n",
      "Nessuna intersezione trovata per el_met.shp\n",
      "Il file clipped_el_vms.shp già esiste. Salto il processo.\n",
      "Il file clipped_iz_str.shp già esiste. Salto il processo.\n",
      "Il file clipped_pe_uins.shp già esiste. Salto il processo.\n",
      "Il file clipped_af_acq.shp già esiste. Salto il processo.\n",
      "Il file clipped_sc_dis.shp già esiste. Salto il processo.\n",
      "Nessuna intersezione trovata per acq_ter.shp\n",
      "Il file clipped_edifc.shp già esiste. Salto il processo.\n",
      "Il file clipped_tr_str.shp già esiste. Salto il processo.\n",
      "Nessuna intersezione trovata per gz_trv.shp\n",
      "Il file clipped_gz_fer.shp già esiste. Salto il processo.\n",
      "Il file clipped_invaso.shp già esiste. Salto il processo.\n",
      "Nessuna intersezione trovata per stato.shp\n",
      "Il file clipped_sv_aer.shp già esiste. Salto il processo.\n",
      "Nessuna intersezione trovata per a_scom.shp\n",
      "Il file clipped_cv_liv.shp già esiste. Salto il processo.\n",
      "Il file clipped_attr_sp.shp già esiste. Salto il processo.\n",
      "Il file clipped_mn_int.shp già esiste. Salto il processo.\n",
      "Il file clipped_tralic.shp già esiste. Salto il processo.\n",
      "Nessuna intersezione trovata per el_fun.shp\n",
      "Il file clipped_pt_quo.shp già esiste. Salto il processo.\n",
      "Nessuna intersezione trovata per cascata.shp\n",
      "Il file clipped_v_rete.shp già esiste. Salto il processo.\n",
      "Nessuna intersezione trovata per ln_btm.shp\n",
      "Il file clipped_op_reg.shp già esiste. Salto il processo.\n",
      "Nessuna intersezione trovata per cm_mon.shp\n",
      "Nessuna intersezione trovata per sv_por.shp\n",
      "Il file clipped_caposd.shp già esiste. Salto il processo.\n",
      "Il file clipped_mu_div.shp già esiste. Salto il processo.\n",
      "Il file clipped_tr_ele.shp già esiste. Salto il processo.\n",
      "Nessuna intersezione trovata per bi_ind.shp\n",
      "Nessuna intersezione trovata per ghi_nv.shp\n",
      "Nessuna intersezione trovata per cs_mar.shp\n",
      "Il file clipped_man_tr.shp già esiste. Salto il processo.\n",
      "Il file clipped_z_tin.shp già esiste. Salto il processo.\n",
      "Nessuna intersezione trovata per el_trv.shp\n",
      "Il file clipped_region.shp già esiste. Salto il processo.\n",
      "Il file clipped_mn_mau.shp già esiste. Salto il processo.\n",
      "Il file clipped_loc_sg.shp già esiste. Salto il processo.\n",
      "Il file clipped_ab_cda.shp già esiste. Salto il processo.\n",
      "Nessuna intersezione trovata per nd_ele.shp\n",
      "Il file clipped_sp_acq.shp già esiste. Salto il processo.\n",
      "Nessuna intersezione trovata per acq_in.shp\n",
      "Nessuna intersezione trovata per gz_fun.shp\n",
      "Il file clipped_f_nter.shp già esiste. Salto il processo.\n",
      "Il file clipped_comune.shp già esiste. Salto il processo.\n",
      "Nessuna intersezione trovata per meta.shp\n",
      "Il file clipped_sv_fer.shp già esiste. Salto il processo.\n",
      "Il file clipped_el_fne.shp già esiste. Salto il processo.\n",
      "Il file clipped_alveo.shp già esiste. Salto il processo.\n",
      "Il file clipped_diga.shp già esiste. Salto il processo.\n",
      "Il file clipped_lm_am.shp già esiste. Salto il processo.\n",
      "Il file clipped_mn_ind.shp già esiste. Salto il processo.\n"
     ]
    }
   ],
   "source": [
    "shp_folder_path = 'IGM_Data/shp_extracted'\n",
    "output_folder_path = 'restricted_analysis/IGM_data_clip'\n",
    "\n",
    "for filename in os.listdir(shp_folder_path):\n",
    "    if filename.endswith('.shp'):\n",
    "        shp_path = os.path.join(shp_folder_path, filename)\n",
    "\n",
    "        # Verifica se il file .shp già esiste nell'output folder\n",
    "        output_filename = f'clipped_{filename}'\n",
    "        output_path = os.path.join(output_folder_path, output_filename)\n",
    "        if os.path.exists(output_path):\n",
    "            print(f'Il file {output_filename} già esiste. Salto il processo.')\n",
    "            continue\n",
    "\n",
    "        gdf = gpd.read_file(shp_path)\n",
    "\n",
    "        # Assicurati che i CRS corrispondano\n",
    "        if gdf.crs != bologna_borders.crs:\n",
    "            bologna_borders = bologna_borders.to_crs(gdf.crs)\n",
    "\n",
    "        # Intersezione con la maschera\n",
    "        clipped_gdf = gpd.overlay(gdf, bologna_borders, how='intersection')\n",
    "\n",
    "        # Riassegna il CRS prima di salvare, se necessario\n",
    "        if not clipped_gdf.empty:\n",
    "            clipped_gdf.set_crs(bologna_borders.crs, inplace=True)\n",
    "            clipped_gdf.to_file(output_path)\n",
    "            print(f'File {output_filename} salvato con successo.')\n",
    "        else:\n",
    "            print(f'Nessuna intersezione trovata per {filename}')"
   ],
   "metadata": {
    "collapsed": false,
    "ExecuteTime": {
     "end_time": "2023-12-18T07:43:10.968089400Z",
     "start_time": "2023-12-18T07:43:09.792993Z"
    }
   }
  },
  {
   "cell_type": "markdown",
   "source": [
    "### Load buildings data"
   ],
   "metadata": {
    "collapsed": false
   }
  },
  {
   "cell_type": "code",
   "execution_count": 6,
   "outputs": [],
   "source": [
    "bologna_buildings = gpd.read_file('restricted_analysis/IGM_data_clip/clipped_edifc.shp')"
   ],
   "metadata": {
    "collapsed": false,
    "ExecuteTime": {
     "end_time": "2023-12-18T07:44:09.195106700Z",
     "start_time": "2023-12-18T07:43:10.968089400Z"
    }
   }
  },
  {
   "cell_type": "code",
   "execution_count": 7,
   "outputs": [],
   "source": [
    "\n",
    "# Dizionario completo per la mappatura dei codici\n",
    "uso_to_descrizione = {\n",
    "    '01': 'residenziale',\n",
    "    '0101': 'abitativa',\n",
    "    '02': 'amministrativo',\n",
    "    '0201': 'municipio',\n",
    "    '0202': 'sede provincia',\n",
    "    '0203': 'sede regione',\n",
    "    '0204': 'sede ambasciata o consolato',\n",
    "    '03': 'servizio pubblico',\n",
    "    '0301': 'sanità',\n",
    "    '030101': 'sede di servizio socio assistenziale',\n",
    "    '030102': 'sede di ospedale',\n",
    "    '030103': 'sede servizi sanitari asl',\n",
    "    '030104': 'sede clinica',\n",
    "    '0303': 'istruzione',\n",
    "    '030301': 'sede di scuola',\n",
    "    '030302': 'università',\n",
    "    '030303': 'laboratorio di ricerca',\n",
    "    '0304': 'sede di poste-telegrafi',\n",
    "    '0305': 'sede di tribunale',\n",
    "    '0306': \"sede di forze dell'ordine\",\n",
    "    '0307': 'sede di vigili del fuoco',\n",
    "    '0308': 'casello forestale',\n",
    "    '04': 'militare',\n",
    "    '0401': 'caserma',\n",
    "    '05': 'luogo di culto',\n",
    "    '06': 'servizi di trasporto',\n",
    "    '0601': 'aereo',\n",
    "    '060101': 'stazione passeggeri aeroportuale',\n",
    "    '060102': 'eliporto',\n",
    "    '0602': 'stradale',\n",
    "    '060201': 'stazione autolinee',\n",
    "    '060202': 'parcheggio multipiano o coperto',\n",
    "    '060203': 'edificio accessorio alle strade',\n",
    "    '0603': 'ferroviario',\n",
    "    '060301': 'stazione passeggeri ferroviaria',\n",
    "    '060302': 'deposito ferroviario per vagoni, rimessa locomotive',\n",
    "    '060303': 'casello ferroviario',\n",
    "    '060304': 'fermata ferroviaria',\n",
    "    '060305': 'scalo merci',\n",
    "    '0604': 'altro impianto di trasporto',\n",
    "    '060401': 'stazione marittima',\n",
    "    '060402': 'stazione metropolitana',\n",
    "    '060403': 'stazione tranviaria',\n",
    "    '060404': 'stazione funivia',\n",
    "    '060405': 'stazione cabinovia',\n",
    "    '060406': 'stazione seggiovia',\n",
    "    '060407': 'stazione skilift',\n",
    "    '07': 'commerciale',\n",
    "    '0701': 'sede di banca',\n",
    "    '0702': 'sede di centro commerciale',\n",
    "    '0703': 'mercato',\n",
    "    '0704': 'sede di supermercato, ipermercato',\n",
    "    '08': 'industriale',\n",
    "    '0801': 'stabilimento industriale',\n",
    "    '0802': 'impianto di produzione energia',\n",
    "    '080201': 'centrale elettrica',\n",
    "    '080202': 'centrale termoelettrica',\n",
    "    '080203': 'centrale idroelettrica',\n",
    "    '080204': 'centrale nucleare',\n",
    "    '080206': 'stazione di trasformazione',\n",
    "    '0803': 'impianto tecnologico',\n",
    "    '0804': 'depuratore',\n",
    "    '0805': 'inceneritore',\n",
    "    '0806': 'stazione di telecomunicazioni',\n",
    "    '0807': 'edificio di teleriscaldamento',\n",
    "    '0808': 'edificio di area ecologica',\n",
    "    '09': 'agricolturale',\n",
    "    '0901': 'fattoria',\n",
    "    '0902': 'stalla',\n",
    "    '0903': 'fienile',\n",
    "    '0904': 'allevamento',\n",
    "    '10': 'ricreativo',\n",
    "    '1001': 'sede di attività culturali',\n",
    "    '100101': 'biblioteca',\n",
    "    '100102': 'cinema',\n",
    "    '100103': 'teatro, auditorium',\n",
    "    '100104': 'museo',\n",
    "    '100105': 'pinacoteca',\n",
    "    '1002': 'sede di attività sportive',\n",
    "    '100201': 'piscina coperta',\n",
    "    '100202': 'palestra',\n",
    "    '100203': 'palaghiaccio',\n",
    "    '11': 'carcere, istituto di pena',\n",
    "    '12': 'strutture ricettive',\n",
    "    '1201': 'struttura alberghiera',\n",
    "    '1202': 'sede albergo, locanda',\n",
    "    '1203': 'campeggio',\n",
    "    '1204': 'rifugio montano',\n",
    "    '93': 'non definito',\n",
    "    '95': 'altro'\n",
    "}\n",
    "\n",
    "# Creare una nuova colonna nel DataFrame\n",
    "bologna_buildings['categoria_uso'] = bologna_buildings['edifc_uso'].map(uso_to_descrizione)"
   ],
   "metadata": {
    "collapsed": false,
    "ExecuteTime": {
     "end_time": "2023-12-18T07:44:09.247145400Z",
     "start_time": "2023-12-18T07:44:09.199637400Z"
    }
   }
  },
  {
   "cell_type": "code",
   "execution_count": 45,
   "outputs": [],
   "source": [
    "residential_buildings = bologna_buildings[bologna_buildings['edifc_uso'].isin(['01', '0101'])].reset_index(drop=True)"
   ],
   "metadata": {
    "collapsed": false,
    "ExecuteTime": {
     "end_time": "2023-12-13T10:03:50.097869400Z",
     "start_time": "2023-12-13T10:03:49.888450600Z"
    }
   }
  },
  {
   "cell_type": "code",
   "execution_count": 46,
   "outputs": [],
   "source": [
    "# Crea un buffer di 100 metri\n",
    "buffered_buildings = residential_buildings.buffer(100)\n",
    "\n",
    "# Crea un nuovo GeoDataFrame\n",
    "gdf_buffered = gpd.GeoDataFrame(geometry=buffered_buildings)\n",
    "\n",
    "# Dissolvi tutte le geometrie in una unica\n",
    "dissolved_geometry = gdf_buffered.unary_union\n",
    "\n",
    "# Se vuoi creare un GeoDataFrame con la geometria dissolta\n",
    "dissolved_buffer_buildings = gpd.GeoDataFrame(geometry=[dissolved_geometry], crs=gdf_buffered.crs)"
   ],
   "metadata": {
    "collapsed": false,
    "ExecuteTime": {
     "end_time": "2023-12-13T10:04:14.947716200Z",
     "start_time": "2023-12-13T10:03:50.763087900Z"
    }
   }
  },
  {
   "cell_type": "code",
   "execution_count": 47,
   "outputs": [],
   "source": [
    "#dissolved_buffer_buildings.to_file('dissolved_buffer_buildings.shp')"
   ],
   "metadata": {
    "collapsed": false,
    "ExecuteTime": {
     "end_time": "2023-12-13T10:04:29.897509700Z",
     "start_time": "2023-12-13T10:04:14.947716200Z"
    }
   }
  },
  {
   "cell_type": "code",
   "execution_count": 53,
   "outputs": [],
   "source": [
    "# Carica il raster TIFF esistente\n",
    "with rio.open(\"restricted_analysis/DEM_Bologna.tif\") as src:\n",
    "    bounds = src.bounds\n",
    "    pixel_size_x, pixel_size_y = src.res\n",
    "    width = src.width\n",
    "    height = src.height\n",
    "    transform = src.transform\n",
    "    crs = src.crs\n",
    "\n",
    "# Assumi che 'dissolved_buffer_buildings' sia il tuo GeoDataFrame\n",
    "geometry = dissolved_buffer_buildings.to_crs(crs).geometry[0]\n",
    "\n",
    "# Funzione per ottenere il valore da rasterizzare (in questo caso 1 per la geometria, 0 altrimenti)\n",
    "def get_val(geom):\n",
    "    return 1\n",
    "\n",
    "# Crea un array vuoto per il raster\n",
    "raster = np.zeros((height, width), dtype=np.float32)\n",
    "\n",
    "# Rasterizza la geometria\n",
    "rasterized_geom = rasterize(\n",
    "    [(geometry, get_val(geometry))],\n",
    "    out_shape=(height, width),\n",
    "    transform=transform,\n",
    "    fill=0,\n",
    "    all_touched=True,\n",
    "    default_value=1,\n",
    "    dtype='float32'\n",
    ")\n",
    "\n",
    "# Salva il raster risultante\n",
    "output_raster_file = 'restricted_analysis/bologna_sound_distance_respect_norm.tif'\n",
    "with rio.open(\n",
    "    output_raster_file, 'w',\n",
    "    driver='GTiff',\n",
    "    height=height,\n",
    "    width=width,\n",
    "    count=1,\n",
    "    dtype=rasterized_geom.dtype,\n",
    "    crs=crs,\n",
    "    transform=transform,\n",
    ") as dst:\n",
    "    dst.write(rasterized_geom, 1)"
   ],
   "metadata": {
    "collapsed": false,
    "ExecuteTime": {
     "end_time": "2023-12-13T10:22:56.571739600Z",
     "start_time": "2023-12-13T10:22:53.331857900Z"
    }
   }
  },
  {
   "cell_type": "markdown",
   "source": [
    "## Load Census data"
   ],
   "metadata": {
    "collapsed": false
   }
  },
  {
   "cell_type": "code",
   "execution_count": 52,
   "outputs": [
    {
     "name": "stderr",
     "output_type": "stream",
     "text": [
      "C:\\Users\\niett\\anaconda3\\Lib\\site-packages\\pyproj\\crs\\crs.py:141: FutureWarning: '+init=<authority>:<code>' syntax is deprecated. '<authority>:<code>' is the preferred initialization method. When making the change, be mindful of axis order changes: https://pyproj4.github.io/pyproj/stable/gotchas.html#axis-order-changes-in-proj-6\n",
      "  in_crs_string = _prepare_from_proj_string(in_crs_string)\n",
      "C:\\Users\\niett\\anaconda3\\Lib\\site-packages\\geopandas\\geodataframe.py:1538: PerformanceWarning: DataFrame is highly fragmented.  This is usually the result of calling `frame.insert` many times, which has poor performance.  Consider joining all columns at once using pd.concat(axis=1) instead. To get a de-fragmented frame, use `newframe = frame.copy()`\n",
      "  super().__setitem__(key, value)\n",
      "C:\\Users\\niett\\anaconda3\\Lib\\site-packages\\geopandas\\geodataframe.py:1538: PerformanceWarning: DataFrame is highly fragmented.  This is usually the result of calling `frame.insert` many times, which has poor performance.  Consider joining all columns at once using pd.concat(axis=1) instead. To get a de-fragmented frame, use `newframe = frame.copy()`\n",
      "  super().__setitem__(key, value)\n",
      "C:\\Users\\niett\\anaconda3\\Lib\\site-packages\\geopandas\\geodataframe.py:1538: PerformanceWarning: DataFrame is highly fragmented.  This is usually the result of calling `frame.insert` many times, which has poor performance.  Consider joining all columns at once using pd.concat(axis=1) instead. To get a de-fragmented frame, use `newframe = frame.copy()`\n",
      "  super().__setitem__(key, value)\n",
      "C:\\Users\\niett\\anaconda3\\Lib\\site-packages\\geopandas\\geodataframe.py:1538: PerformanceWarning: DataFrame is highly fragmented.  This is usually the result of calling `frame.insert` many times, which has poor performance.  Consider joining all columns at once using pd.concat(axis=1) instead. To get a de-fragmented frame, use `newframe = frame.copy()`\n",
      "  super().__setitem__(key, value)\n"
     ]
    }
   ],
   "source": [
    "# Carica i dati del censimento\n",
    "emilia_census_data = pd.read_csv('Census_data/2021_provisional/Dati_regionali_2021/R08_indicatori_2021_sezioni.csv',\n",
    "                                 encoding='latin-1', sep=';')\n",
    "\n",
    "# Carica i dati geografici\n",
    "gdf_census = gpd.read_file('Census_data/2011/R08_11_WGS84/R08_11_WGS84.shp')\n",
    "\n",
    "# Esegui il join tra DataFrame e GeoDataFrame sulla colonna comune\n",
    "gdf = gdf_census.merge(emilia_census_data, on='SEZ2011', how='left')\n",
    "\n",
    "# Sostituisci i valori NaN con 0 e converti in int, se necessario\n",
    "for col in gdf.columns:\n",
    "    if gdf[col].dtype == int or gdf[col].dtype == float:\n",
    "        gdf[col] = gdf[col].fillna(0).astype(int)\n",
    "\n",
    "# Calcola l'area in metri quadrati e in chilometri quadrati\n",
    "gdf['area_m2'] = gdf.to_crs({'init': 'epsg:3857'}).area\n",
    "gdf['area_km2'] = gdf['area_m2'] / 1e6\n",
    "\n",
    "# Calcola la densità di popolazione originale in persone per km^2 e m^2\n",
    "gdf['pop_density_km2'] = gdf['P1'] / gdf['area_km2']\n",
    "gdf['pop_density_m2'] = gdf['P1'] / gdf['area_m2']"
   ],
   "metadata": {
    "collapsed": false,
    "ExecuteTime": {
     "end_time": "2023-12-13T10:22:53.331857900Z",
     "start_time": "2023-12-13T10:22:42.328001400Z"
    }
   }
  },
  {
   "cell_type": "code",
   "execution_count": 25,
   "outputs": [
    {
     "name": "stderr",
     "output_type": "stream",
     "text": [
      "C:\\Users\\niett\\AppData\\Local\\Temp\\ipykernel_17608\\48183989.py:18: UserWarning: Column names longer than 10 characters will be truncated when saved to ESRI Shapefile.\n",
      "  clipped_gdf.to_file(output_file, crs=gdf.crs)\n"
     ]
    }
   ],
   "source": [
    "# Nome del file di output\n",
    "output_file = 'restricted_analysis/census_data_bologna.shp'\n",
    "\n",
    "# Verifica se il file esiste\n",
    "if os.path.exists(output_file):\n",
    "    # Carica direttamente il file se esiste\n",
    "    clipped_gdf = gpd.read_file(output_file)\n",
    "else:\n",
    "    # Assicurati che i CRS corrispondano\n",
    "    if gdf.crs != bologna_borders.crs:\n",
    "        print(\"I due CRS sono diversi\")\n",
    "        bologna_borders = bologna_borders.to_crs(gdf.crs)\n",
    "\n",
    "    # Effettua il clip\n",
    "    clipped_gdf = gpd.clip(gdf, bologna_borders)\n",
    "\n",
    "    # Salva il risultato solo se il file non esiste\n",
    "    clipped_gdf.to_file(output_file, crs=gdf.crs)"
   ],
   "metadata": {
    "collapsed": false,
    "ExecuteTime": {
     "end_time": "2023-12-12T10:59:32.956416200Z",
     "start_time": "2023-12-12T10:59:17.955116700Z"
    }
   }
  },
  {
   "cell_type": "markdown",
   "source": [
    "### Prova raster to shp"
   ],
   "metadata": {
    "collapsed": false
   }
  },
  {
   "cell_type": "code",
   "execution_count": 32,
   "outputs": [],
   "source": [
    "# Apri il raster di riferimento per ottenere i dettagli sulla griglia\n",
    "with rio.open(\"restricted_analysis/DEM_Bologna.tif\") as src:\n",
    "    bounds = src.bounds\n",
    "    pixel_size_x, pixel_size_y = src.res  # Risoluzione in x e y\n",
    "    width = src.width\n",
    "    height = src.height\n",
    "    transform = rio.transform.from_bounds(*bounds, width, height)\n",
    "\n",
    "# Calcola la densità adattata alla risoluzione del raster (in persone per cella)\n",
    "clipped_gdf['adjusted_density'] = clipped_gdf['pop_density_km2'] * (pixel_size_x * pixel_size_y / 1e6)\n",
    "\n",
    "# Funzione per ottenere il valore da rasterizzare (senza ulteriori calcoli)\n",
    "def get_val(geom, val):\n",
    "    return val  # Usa direttamente il valore adattato\n",
    "\n",
    "# Crea un array vuoto per il raster\n",
    "raster = np.zeros((height, width), dtype=np.float32)\n",
    "\n",
    "# Rasterizza per la densità della popolazione\n",
    "rasterized_pop_density = rasterize(\n",
    "    ((row.geometry, get_val(row.geometry, row['adjusted_density'])) for idx, row in clipped_gdf.iterrows()),\n",
    "    out=raster,\n",
    "    transform=transform,\n",
    "    fill=0,\n",
    "    all_touched=True,\n",
    "    dtype='float32'\n",
    ")\n",
    "\n",
    "# Salva il raster della densità della popolazione\n",
    "output_raster_file = 'restricted_analysis/pop_density_by_pixel.tif'\n",
    "with rio.open(\n",
    "    output_raster_file, 'w',\n",
    "    driver='GTiff',\n",
    "    height=height,\n",
    "    width=width,\n",
    "    count=1,\n",
    "    dtype=raster.dtype,\n",
    "    crs=src.crs,\n",
    "    transform=transform,\n",
    ") as dst:\n",
    "    dst.write(rasterized_pop_density, 1)"
   ],
   "metadata": {
    "collapsed": false,
    "ExecuteTime": {
     "end_time": "2023-12-12T11:09:43.349047300Z",
     "start_time": "2023-12-12T11:09:34.722420800Z"
    }
   }
  },
  {
   "cell_type": "code",
   "execution_count": 33,
   "outputs": [],
   "source": [
    "def mask_raster_with_geodataframe(raster_path, gdf, output_path):\n",
    "    # Carica il raster\n",
    "    with rio.open(raster_path) as src:\n",
    "        # Converti le geometrie del GeoDataFrame in formati accettati da rio\n",
    "        geometries = [feature[\"geometry\"] for _, feature in gdf.iterrows()]\n",
    "        out_image, out_transform = mask(src, geometries, crop=True)\n",
    "\n",
    "        # Salva il raster mascherato\n",
    "        out_meta = src.meta.copy()\n",
    "        out_meta.update({\"driver\": \"GTiff\",\n",
    "                         \"height\": out_image.shape[1],\n",
    "                         \"width\": out_image.shape[2],\n",
    "                         \"transform\": out_transform})\n",
    "\n",
    "        with rio.open(output_path, \"w\", **out_meta) as dest:\n",
    "            dest.write(out_image)"
   ],
   "metadata": {
    "collapsed": false,
    "ExecuteTime": {
     "end_time": "2023-12-12T11:09:54.431049800Z",
     "start_time": "2023-12-12T11:09:54.420536800Z"
    }
   }
  },
  {
   "cell_type": "code",
   "execution_count": 34,
   "outputs": [],
   "source": [
    "# Esempio di utilizzo\n",
    "mask_raster_with_geodataframe('restricted_analysis/pop_density_by_pixel.tif', bologna_borders, 'restricted_analysis/pop_density_by_pixel_masked.tif')"
   ],
   "metadata": {
    "collapsed": false,
    "ExecuteTime": {
     "end_time": "2023-12-12T11:09:57.099446700Z",
     "start_time": "2023-12-12T11:09:54.992340400Z"
    }
   }
  },
  {
   "cell_type": "markdown",
   "source": [
    "#### Manca un pezzo di codice per ottenere la kernel density (troppo lento con il codice fatto)"
   ],
   "metadata": {
    "collapsed": false
   }
  },
  {
   "cell_type": "code",
   "execution_count": null,
   "outputs": [],
   "source": [],
   "metadata": {
    "collapsed": false
   }
  },
  {
   "cell_type": "markdown",
   "source": [
    "## Load D-flight Data"
   ],
   "metadata": {
    "collapsed": false
   }
  },
  {
   "cell_type": "code",
   "execution_count": 6,
   "outputs": [],
   "source": [
    "d_flight_areas = gpd.read_file('D-flight data/D_flight_clean.shp')"
   ],
   "metadata": {
    "collapsed": false,
    "ExecuteTime": {
     "end_time": "2023-12-12T15:00:42.017027200Z",
     "start_time": "2023-12-12T15:00:41.892324500Z"
    }
   }
  },
  {
   "cell_type": "code",
   "execution_count": 7,
   "outputs": [
    {
     "data": {
      "text/plain": "<Axes: >"
     },
     "execution_count": 7,
     "metadata": {},
     "output_type": "execute_result"
    },
    {
     "data": {
      "text/plain": "<Figure size 640x480 with 1 Axes>",
      "image/png": "[encoded data removed]"
     },
     "metadata": {},
     "output_type": "display_data"
    }
   ],
   "source": [
    "d_flight_areas.plot()"
   ],
   "metadata": {
    "collapsed": false,
    "ExecuteTime": {
     "end_time": "2023-12-12T15:00:42.321221600Z",
     "start_time": "2023-12-12T15:00:42.105394900Z"
    }
   }
  },
  {
   "cell_type": "code",
   "execution_count": 8,
   "outputs": [],
   "source": [
    "result_file_path = 'restricted_analysis/d_flight_bologna_clip.shp'\n",
    "\n",
    "# Verifica se il file risultante già esiste\n",
    "if os.path.exists(result_file_path):\n",
    "    # Se esiste, carica il GeoDataFrame dal file\n",
    "    d_flight_bologna = gpd.read_file(result_file_path)\n",
    "else:\n",
    "    # Se non esiste, esegui il clip come prima\n",
    "    if d_flight_areas.crs != bologna_borders.crs:\n",
    "        d_flight_areas = d_flight_areas.to_crs(bologna_borders.crs)\n",
    "\n",
    "    clip_geometry = bologna_borders.unary_union\n",
    "    d_flight_bologna = gpd.clip(d_flight_areas, clip_geometry)\n",
    "\n",
    "    # Salva il risultato in un file\n",
    "    d_flight_bologna.to_file(result_file_path)"
   ],
   "metadata": {
    "collapsed": false,
    "ExecuteTime": {
     "end_time": "2023-12-12T15:00:42.592467800Z",
     "start_time": "2023-12-12T15:00:42.560448700Z"
    }
   }
  },
  {
   "cell_type": "code",
   "execution_count": 9,
   "outputs": [
    {
     "data": {
      "text/plain": "<Axes: >"
     },
     "execution_count": 9,
     "metadata": {},
     "output_type": "execute_result"
    },
    {
     "data": {
      "text/plain": "<Figure size 640x480 with 1 Axes>",
      "image/png": "[encoded data removed]"
     },
     "metadata": {},
     "output_type": "display_data"
    }
   ],
   "source": [
    "d_flight_bologna.plot()"
   ],
   "metadata": {
    "collapsed": false,
    "ExecuteTime": {
     "end_time": "2023-12-12T15:00:44.031241500Z",
     "start_time": "2023-12-12T15:00:43.903558600Z"
    }
   }
  },
  {
   "cell_type": "code",
   "execution_count": 24,
   "outputs": [],
   "source": [
    "# Leggi il raster DEM per ottenere l'estensione e la risoluzione desiderate\n",
    "with rio.open('restricted_analysis/DEM_Bologna.tif') as src_dem:\n",
    "    transform = src_dem.transform\n",
    "    crs = src_dem.crs\n",
    "    width = src_dem.width\n",
    "    height = src_dem.height\n",
    "\n",
    "# Riproietta il GeoDataFrame nel CRS del raster DEM\n",
    "d_flight_bologna = d_flight_bologna.to_crs(crs)\n",
    "\n",
    "# Crea una nuova directory se non esiste\n",
    "output_directory = 'restricted_analysis'\n",
    "os.makedirs(output_directory, exist_ok=True)\n",
    "\n",
    "# Percorso del raster da creare\n",
    "raster_path = os.path.join(output_directory, 'bologna_d_flight_data.tif')\n",
    "\n",
    "# Crea un nuovo raster per contenere il GeoDataFrame convertito\n",
    "with rio.open(\n",
    "    raster_path,\n",
    "    'w',\n",
    "    driver='GTiff',\n",
    "    height=height,\n",
    "    width=width,\n",
    "    count=1,  # Si assume un raster a banda singola\n",
    "    dtype='float32',\n",
    "    crs=crs,\n",
    "    transform=transform,\n",
    ") as dst:\n",
    "    # Rasterizza il GeoDataFrame usando la stessa estensione e risoluzione del raster DEM\n",
    "    shapes = [(geom, value) for geom, value in zip(d_flight_bologna.geometry, d_flight_bologna['quota_max'])]\n",
    "    burned = rasterize(\n",
    "        shapes=shapes,\n",
    "        out_shape=(height, width),\n",
    "        fill=-9999,  # Valore di riempimento per le aree al di fuori dei poligoni\n",
    "        transform=dst.transform,\n",
    "        dtype='float32',\n",
    "    )\n",
    "\n",
    "    # Scrivi i dati rasterizzati nel raster di output\n",
    "    dst.write(burned, 1)\n",
    "\n",
    "# Leggi il raster originale\n",
    "with rio.open(raster_path) as src:\n",
    "    data = src.read(1)  # Leggi il primo canale\n",
    "    profile = src.profile\n",
    "\n",
    "    # Sostituisci -9999 con NaN\n",
    "    data = np.where(data == -9999, np.nan, data)\n",
    "\n",
    "# Calcola minimo e massimo ignorando NaN\n",
    "min_val = np.nanmin(data)\n",
    "max_val = np.nanmax(data)\n",
    "\n",
    "# Controlla se minimo e massimo sono uguali\n",
    "if max_val - min_val == 0:\n",
    "    transformed_data = np.zeros(data.shape)\n",
    "else:\n",
    "    # Trasforma i dati (inversione), ignorando NaN\n",
    "    transformed_data = (max_val - data) / (max_val - min_val)\n",
    "\n",
    "# Riapplica il valore -9999 dove erano presenti i NaN\n",
    "#transformed_data = np.where(np.isnan(data), -9999, transformed_data)\n",
    "\n",
    "# Percorso del raster normalizzato\n",
    "normalized_raster_path = os.path.join(output_directory, 'bologna_d_flight_data_normalized.tif')\n",
    "\n",
    "# Salva il raster trasformato\n",
    "with rio.open(normalized_raster_path, 'w', **profile) as dst:\n",
    "    dst.write(transformed_data, 1)"
   ],
   "metadata": {
    "collapsed": false,
    "ExecuteTime": {
     "end_time": "2023-12-12T15:37:10.655345100Z",
     "start_time": "2023-12-12T15:37:08.098677800Z"
    }
   }
  },
  {
   "cell_type": "markdown",
   "source": [
    "### Meteo data"
   ],
   "metadata": {
    "collapsed": false
   }
  },
  {
   "cell_type": "code",
   "execution_count": 4,
   "outputs": [],
   "source": [
    "# Apri il raster da mascherare\n",
    "with rio.open('Storico meteo/Raster_export/average_normalized_raster.tif') as src:\n",
    "    out_image, out_transform = mask(src, bologna_borders.geometry, crop=True)\n",
    "    out_meta = src.meta.copy()\n",
    "\n",
    "    # Aggiorna la metadata con le nuove dimensioni\n",
    "    out_meta.update({\n",
    "        \"driver\": \"GTiff\",\n",
    "        \"height\": out_image.shape[1],\n",
    "        \"width\": out_image.shape[2],\n",
    "        \"transform\": out_transform\n",
    "    })\n",
    "\n",
    "    # Salva il raster risultante\n",
    "    with rio.open('restricted_analysis/bologna_wind_average_normalized_raster.tif', 'w', **out_meta) as dest:\n",
    "        dest.write(out_image)"
   ],
   "metadata": {
    "collapsed": false,
    "ExecuteTime": {
     "end_time": "2023-12-12T16:23:48.684233600Z",
     "start_time": "2023-12-12T16:23:48.520521400Z"
    }
   }
  },
  {
   "cell_type": "markdown",
   "source": [
    "### Protected area"
   ],
   "metadata": {
    "collapsed": false
   }
  },
  {
   "cell_type": "code",
   "execution_count": 7,
   "outputs": [],
   "source": [
    "# Carica il file shapefile\n",
    "protected_areas_gdf = gpd.read_file(\"restricted_analysis/bologna_protected_areas.shp\")\n",
    "\n",
    "# Leggi le informazioni dalla griglia di riferimento .tif\n",
    "with rio.open(\"restricted_analysis/DEM_Bologna.tif\") as src:\n",
    "    transform = src.transform\n",
    "    out_shape = (src.height, src.width)\n",
    "    meta = src.meta\n",
    "\n",
    "# Preparazione dei dati per la rasterizzazione\n",
    "shapes = ((geom, 1) for geom in protected_areas_gdf.geometry)\n",
    "\n",
    "# Rasterizzazione\n",
    "rasterized_areas = rasterize(\n",
    "    shapes,\n",
    "    out_shape=out_shape,\n",
    "    transform=transform,\n",
    "    fill=0,\n",
    "    all_touched=True,\n",
    "    dtype='float32'\n",
    ")\n",
    "\n",
    "# Aggiorna il metadata per la nuova matrice raster\n",
    "meta.update(dtype=rio.float32, count=1, compress='lzw')\n",
    "\n",
    "# Scrivi la matrice rasterizzata in un nuovo file .tif\n",
    "with rio.open('restricted_analysis/protected_areas_norm.tif', 'w', **meta) as dst:\n",
    "    dst.write(rasterized_areas, 1)"
   ],
   "metadata": {
    "collapsed": false,
    "ExecuteTime": {
     "end_time": "2023-12-12T17:18:38.636721200Z",
     "start_time": "2023-12-12T17:18:37.347021700Z"
    }
   }
  },
  {
   "cell_type": "markdown",
   "source": [
    "### Multi-criteria calculation"
   ],
   "metadata": {
    "collapsed": false
   }
  },
  {
   "cell_type": "code",
   "execution_count": 35,
   "outputs": [],
   "source": [
    "import rasterio\n",
    "from rasterio.warp import reproject, Resampling\n",
    "import numpy as np\n",
    "import os"
   ],
   "metadata": {
    "collapsed": false,
    "ExecuteTime": {
     "end_time": "2023-12-13T09:50:11.412185Z",
     "start_time": "2023-12-13T09:50:11.406159600Z"
    }
   }
  },
  {
   "cell_type": "code",
   "execution_count": 36,
   "outputs": [],
   "source": [
    "def average_rasters(image_files, output_file):\n",
    "    # Determinare l'estensione massima\n",
    "    extents = []\n",
    "    for path in image_files:\n",
    "        with rasterio.open(path) as src:\n",
    "            extents.append(src.bounds)\n",
    "\n",
    "    min_left = min(ext.left for ext in extents)\n",
    "    min_bottom = min(ext.bottom for ext in extents)\n",
    "    max_right = max(ext.right for ext in extents)\n",
    "    max_top = max(ext.top for ext in extents)\n",
    "\n",
    "    # Calcolare la trasformazione per l'estensione massima\n",
    "    dst_transform, width, height = calculate_default_transform(\n",
    "        rasterio.crs.CRS.from_epsg(4326), rasterio.crs.CRS.from_epsg(4326),\n",
    "        max_right - min_left, max_top - min_bottom,\n",
    "        left=min_left, bottom=min_bottom, right=max_right, top=max_top\n",
    "    )\n",
    "\n",
    "    # Creare un raster di base vuoto\n",
    "    sum_raster = np.zeros((height, width), dtype=np.float32)\n",
    "    count_matrix = np.zeros((height, width), dtype=np.float32)\n",
    "\n",
    "    # Riportare e sommare i raster\n",
    "    for path in image_files:\n",
    "        with rasterio.open(path) as src:\n",
    "            reprojected_raster = np.zeros((height, width), dtype=np.float32)\n",
    "            reproject(\n",
    "                source=rasterio.band(src, 1),\n",
    "                destination=reprojected_raster,\n",
    "                src_transform=src.transform,\n",
    "                src_crs=src.crs,\n",
    "                dst_transform=dst_transform,\n",
    "                dst_crs=rasterio.crs.CRS.from_epsg(4326),\n",
    "                resampling=Resampling.nearest\n",
    "            )\n",
    "            sum_raster += reprojected_raster\n",
    "            count_matrix += (reprojected_raster != 0)\n",
    "\n",
    "    # Calcolare la media\n",
    "    average_raster = sum_raster / np.where(count_matrix == 0, 1, count_matrix)\n",
    "\n",
    "    # Salvare il raster risultante\n",
    "    first_raster = rasterio.open(image_files[0])\n",
    "    out_meta = first_raster.meta.copy()\n",
    "    out_meta.update({\n",
    "        \"driver\": \"GTiff\",\n",
    "        \"height\": height,\n",
    "        \"width\": width,\n",
    "        \"transform\": dst_transform\n",
    "    })\n",
    "\n",
    "    with rasterio.open(output_file, \"w\", **out_meta) as dest:\n",
    "        dest.write(average_raster, 1)"
   ],
   "metadata": {
    "collapsed": false,
    "ExecuteTime": {
     "end_time": "2023-12-13T09:50:11.704199100Z",
     "start_time": "2023-12-13T09:50:11.704199100Z"
    }
   }
  },
  {
   "cell_type": "code",
   "execution_count": 37,
   "outputs": [
    {
     "ename": "CRSError",
     "evalue": "The EPSG code is unknown. PROJ: proj_create_from_database: C:\\Users\\niett\\anaconda3\\Library\\share\\proj\\proj.db lacks DATABASE.LAYOUT.VERSION.MAJOR / DATABASE.LAYOUT.VERSION.MINOR metadata. It comes from another PROJ installation.",
     "output_type": "error",
     "traceback": [
      "\u001B[1;31m---------------------------------------------------------------------------\u001B[0m",
      "\u001B[1;31mCPLE_AppDefinedError\u001B[0m                      Traceback (most recent call last)",
      "File \u001B[1;32mrasterio\\\\crs.pyx:586\u001B[0m, in \u001B[0;36mrasterio.crs.CRS.from_epsg\u001B[1;34m()\u001B[0m\n",
      "File \u001B[1;32mrasterio\\\\_err.pyx:195\u001B[0m, in \u001B[0;36mrasterio._err.exc_wrap_int\u001B[1;34m()\u001B[0m\n",
      "\u001B[1;31mCPLE_AppDefinedError\u001B[0m: PROJ: proj_create_from_database: C:\\Users\\niett\\anaconda3\\Library\\share\\proj\\proj.db lacks DATABASE.LAYOUT.VERSION.MAJOR / DATABASE.LAYOUT.VERSION.MINOR metadata. It comes from another PROJ installation.",
      "\nDuring handling of the above exception, another exception occurred:\n",
      "\u001B[1;31mCRSError\u001B[0m                                  Traceback (most recent call last)",
      "Cell \u001B[1;32mIn[37], line 6\u001B[0m\n\u001B[0;32m      3\u001B[0m image_files \u001B[38;5;241m=\u001B[39m [os\u001B[38;5;241m.\u001B[39mpath\u001B[38;5;241m.\u001B[39mjoin(directory, file) \u001B[38;5;28;01mfor\u001B[39;00m file \u001B[38;5;129;01min\u001B[39;00m os\u001B[38;5;241m.\u001B[39mlistdir(directory) \u001B[38;5;28;01mif\u001B[39;00m \u001B[38;5;124m'\u001B[39m\u001B[38;5;124mnorm\u001B[39m\u001B[38;5;124m'\u001B[39m \u001B[38;5;129;01min\u001B[39;00m file \u001B[38;5;129;01mand\u001B[39;00m file\u001B[38;5;241m.\u001B[39mendswith(\u001B[38;5;124m'\u001B[39m\u001B[38;5;124m.tif\u001B[39m\u001B[38;5;124m'\u001B[39m)]\n\u001B[0;32m      4\u001B[0m output_file \u001B[38;5;241m=\u001B[39m \u001B[38;5;124m'\u001B[39m\u001B[38;5;124maverage_raster.tif\u001B[39m\u001B[38;5;124m'\u001B[39m\n\u001B[1;32m----> 6\u001B[0m average_rasters(image_files, output_file)\n",
      "Cell \u001B[1;32mIn[36], line 15\u001B[0m, in \u001B[0;36maverage_rasters\u001B[1;34m(image_files, output_file)\u001B[0m\n\u001B[0;32m     11\u001B[0m max_top \u001B[38;5;241m=\u001B[39m \u001B[38;5;28mmax\u001B[39m(ext\u001B[38;5;241m.\u001B[39mtop \u001B[38;5;28;01mfor\u001B[39;00m ext \u001B[38;5;129;01min\u001B[39;00m extents)\n\u001B[0;32m     13\u001B[0m \u001B[38;5;66;03m# Calcolare la trasformazione per l'estensione massima\u001B[39;00m\n\u001B[0;32m     14\u001B[0m dst_transform, width, height \u001B[38;5;241m=\u001B[39m calculate_default_transform(\n\u001B[1;32m---> 15\u001B[0m     rasterio\u001B[38;5;241m.\u001B[39mcrs\u001B[38;5;241m.\u001B[39mCRS\u001B[38;5;241m.\u001B[39mfrom_epsg(\u001B[38;5;241m4326\u001B[39m), rasterio\u001B[38;5;241m.\u001B[39mcrs\u001B[38;5;241m.\u001B[39mCRS\u001B[38;5;241m.\u001B[39mfrom_epsg(\u001B[38;5;241m4326\u001B[39m),\n\u001B[0;32m     16\u001B[0m     max_right \u001B[38;5;241m-\u001B[39m min_left, max_top \u001B[38;5;241m-\u001B[39m min_bottom,\n\u001B[0;32m     17\u001B[0m     left\u001B[38;5;241m=\u001B[39mmin_left, bottom\u001B[38;5;241m=\u001B[39mmin_bottom, right\u001B[38;5;241m=\u001B[39mmax_right, top\u001B[38;5;241m=\u001B[39mmax_top\n\u001B[0;32m     18\u001B[0m )\n\u001B[0;32m     20\u001B[0m \u001B[38;5;66;03m# Creare un raster di base vuoto\u001B[39;00m\n\u001B[0;32m     21\u001B[0m sum_raster \u001B[38;5;241m=\u001B[39m np\u001B[38;5;241m.\u001B[39mzeros((height, width), dtype\u001B[38;5;241m=\u001B[39mnp\u001B[38;5;241m.\u001B[39mfloat32)\n",
      "File \u001B[1;32mrasterio\\\\crs.pyx:590\u001B[0m, in \u001B[0;36mrasterio.crs.CRS.from_epsg\u001B[1;34m()\u001B[0m\n",
      "\u001B[1;31mCRSError\u001B[0m: The EPSG code is unknown. PROJ: proj_create_from_database: C:\\Users\\niett\\anaconda3\\Library\\share\\proj\\proj.db lacks DATABASE.LAYOUT.VERSION.MAJOR / DATABASE.LAYOUT.VERSION.MINOR metadata. It comes from another PROJ installation."
     ]
    }
   ],
   "source": [
    "# Uso della funzione\n",
    "directory = './restricted_analysis'\n",
    "image_files = [os.path.join(directory, file) for file in os.listdir(directory) if 'norm' in file and file.endswith('.tif')]\n",
    "output_file = 'average_raster.tif'\n",
    "\n",
    "average_rasters(image_files, output_file)"
   ],
   "metadata": {
    "collapsed": false,
    "ExecuteTime": {
     "end_time": "2023-12-13T09:50:12.308555700Z",
     "start_time": "2023-12-13T09:50:12.120014Z"
    }
   }
  },
  {
   "cell_type": "markdown",
   "source": [
    "## Balistic impact"
   ],
   "metadata": {
    "collapsed": false
   }
  },
  {
   "cell_type": "markdown",
   "source": [
    "### Rasterize buildings data"
   ],
   "metadata": {
    "collapsed": false
   }
  },
  {
   "cell_type": "code",
   "execution_count": null,
   "outputs": [],
   "source": [
    "\n",
    "%%time\n",
    "\n",
    "buildings = gpd.read_file('Buildings_data/volumetria_edifici_uniti.shp')"
   ],
   "metadata": {
    "collapsed": false,
    "ExecuteTime": {
     "end_time": "2023-12-06T07:48:29.609691400Z",
     "start_time": "2023-12-06T07:35:52.003210800Z"
    }
   }
  },
  {
   "cell_type": "code",
   "execution_count": null,
   "outputs": [],
   "source": [
    "buildings = buildings.to_crs(bologna_borders.crs)"
   ],
   "metadata": {
    "collapsed": false,
    "ExecuteTime": {
     "end_time": "2023-12-06T08:00:15.636858400Z",
     "start_time": "2023-12-06T08:00:05.807398100Z"
    }
   }
  },
  {
   "cell_type": "code",
   "execution_count": null,
   "outputs": [],
   "source": [
    "clipped_buildings = gpd.overlay(buildings, bologna_borders, how='intersection')"
   ],
   "metadata": {
    "collapsed": false,
    "ExecuteTime": {
     "end_time": "2023-12-06T08:10:25.046041300Z",
     "start_time": "2023-12-06T08:00:15.636858400Z"
    }
   }
  },
  {
   "cell_type": "code",
   "execution_count": null,
   "outputs": [],
   "source": [
    "# Apri il raster di riferimento e crea un raster degli edifici\n",
    "with rio.open(\"DEM/Emilia-Romagna1.tif\") as src:\n",
    "    transform = src.transform\n",
    "    raster = np.zeros((src.height, src.width), dtype=np.float32)\n",
    "\n",
    "    # Rasterizza gli edifici per l'altezza\n",
    "    shapes = ((geom, value) for geom, value in zip(clipped_buildings.geometry, clipped_buildings['H_UVL']))\n",
    "    rasterized_buildings = rasterize(shapes, out=raster, transform=transform, fill=0, all_touched=True, dtype='float32')\n",
    "\n",
    "    # Definire i metadati per il nuovo raster\n",
    "    raster_meta = src.meta.copy()\n",
    "    raster_meta.update({\n",
    "        'driver': 'GTiff',\n",
    "        'height': rasterized_buildings.shape[0],\n",
    "        'width': rasterized_buildings.shape[1],\n",
    "        'count': 1,\n",
    "        'dtype': rasterized_buildings.dtype\n",
    "    })\n",
    "\n",
    "    # Salvare il raster\n",
    "    with rio.open('restricted_analysis/buildings_high_rasterize.tif', 'w', **raster_meta) as dst:\n",
    "        dst.write(rasterized_buildings, 1)"
   ],
   "metadata": {
    "collapsed": false,
    "ExecuteTime": {
     "end_time": "2023-12-06T08:11:02.611011800Z",
     "start_time": "2023-12-06T08:10:25.051055200Z"
    }
   }
  },
  {
   "cell_type": "markdown",
   "source": [
    "### DEM + buildings raster"
   ],
   "metadata": {
    "collapsed": false
   }
  },
  {
   "cell_type": "code",
   "execution_count": null,
   "outputs": [],
   "source": [
    "def sum_rasters(raster1_path, raster2_path, output_path):\n",
    "    # Apri il primo raster\n",
    "    with rio.open(raster1_path) as src1:\n",
    "        raster1 = src1.read(1)\n",
    "\n",
    "        # Sostituisci i valori nodata con 0\n",
    "        nodata1 = src1.nodata\n",
    "        raster1[raster1 == nodata1] = 0\n",
    "\n",
    "        # Apri il secondo raster\n",
    "        with rio.open(raster2_path) as src2:\n",
    "            # Assicurati che i raster abbiano le stesse dimensioni\n",
    "            raster2 = src2.read(\n",
    "                1,\n",
    "                out_shape=(src1.height, src1.width),\n",
    "                resampling=Resampling.nearest\n",
    "            )\n",
    "\n",
    "            # Sostituisci i valori nodata con 0 (se presente)\n",
    "            nodata2 = src2.nodata\n",
    "            if nodata2 is not None:\n",
    "                raster2[raster2 == nodata2] = 0\n",
    "\n",
    "            # Somma i raster\n",
    "            result = raster1 + raster2\n",
    "\n",
    "            # Salva il raster risultante\n",
    "            profile = src1.profile\n",
    "            with rio.open(output_path, 'w', **profile) as dst:\n",
    "                dst.write(result, 1)\n",
    "\n",
    "\n",
    "# Esempio di utilizzo\n",
    "sum_rasters('restricted_analysis/DEM_Bologna.tif', 'restricted_analysis/buildings_high_rasterize.tif',\n",
    "            'restricted_analysis/DEM_plus_buildings_raster_Bologna.tif')"
   ],
   "metadata": {
    "collapsed": false,
    "ExecuteTime": {
     "end_time": "2023-12-06T07:48:31.478607900Z",
     "start_time": "2023-12-06T07:48:31.463502900Z"
    }
   }
  },
  {
   "cell_type": "markdown",
   "source": [
    "### Balistic functions"
   ],
   "metadata": {
    "collapsed": false
   }
  },
  {
   "cell_type": "code",
   "execution_count": null,
   "outputs": [],
   "source": [
    "# Funzione per trasformare le coordinate geografiche in coordinate del raster\n",
    "def transform_coordinates(x, y, raster):\n",
    "    row, col = raster.index(x, y)\n",
    "    return row, col\n",
    "\n",
    "# Funzione per leggere i dati del vento dai raster\n",
    "def get_wind_data(x, y, wind_speed_raster_path, wind_direction_raster_path):\n",
    "    with rio.open(wind_speed_raster_path) as wind_speed_raster:\n",
    "        wind_speed_row, wind_speed_col = transform_coordinates(x, y, wind_speed_raster)\n",
    "        wind_speed = wind_speed_raster.read(1)[wind_speed_row, wind_speed_col]\n",
    "\n",
    "    with rio.open(wind_direction_raster_path) as wind_direction_raster:\n",
    "        wind_direction_row, wind_direction_col = transform_coordinates(x, y, wind_direction_raster)\n",
    "        wind_direction = wind_direction_raster.read(1)[wind_direction_row, wind_direction_col]\n",
    "\n",
    "    return wind_speed, wind_direction\n",
    "\n",
    "# Funzione per calcolare la traiettoria e creare la matrice di distanze\n",
    "def calcola_traiettoria_e_matrice(res, m, g, c, vxi, altitude_base, limite_distanza_verticale, wind_speed_x):\n",
    "    def y_adjusted(t):\n",
    "        return altitude_base - 0.5 * g * t ** 2\n",
    "\n",
    "    def vx_wind(t, wind_speed_x, angle):\n",
    "        wind_component = wind_speed_x * np.cos(np.radians(angle))\n",
    "        return (vxi + wind_component) * np.exp(-c / m * t)\n",
    "\n",
    "    time = 0\n",
    "    x_total, y_total_adjusted = 0, altitude_base\n",
    "    x_positions = []\n",
    "\n",
    "    while y_total_adjusted > limite_distanza_verticale:\n",
    "        angle = np.degrees(np.arctan2(y_total_adjusted - altitude_base, x_total)) if x_total != 0 else 90\n",
    "        time += dt\n",
    "        x_total += vx_wind(time, wind_speed_x, angle) * dt\n",
    "        y_total_adjusted = y_adjusted(time)  # Correzione qui\n",
    "        x_positions.append(x_total)\n",
    "\n",
    "    max_distanza_orizzontale = max(x_positions)\n",
    "    dimensione_matrice_orizzontale = int(np.ceil(max_distanza_orizzontale / res))\n",
    "    dimensione_matrice = 2 * dimensione_matrice_orizzontale\n",
    "    matrice_distanze = np.full((dimensione_matrice, dimensione_matrice), np.nan)\n",
    "\n",
    "    centro = dimensione_matrice // 2\n",
    "    epsilon = 1e-6\n",
    "\n",
    "    for i in range(dimensione_matrice):\n",
    "        for j in range(dimensione_matrice):\n",
    "            dx = (i - centro) * res\n",
    "            dy = (j - centro) * res\n",
    "            distanza_orizzontale = np.sqrt(dx**2 + dy**2)\n",
    "            angle = np.degrees(np.arctan2(dy, dx)) if distanza_orizzontale != 0 else 0\n",
    "\n",
    "            if distanza_orizzontale <= max_distanza_orizzontale:\n",
    "                velocità_orizzontale = max(vx_wind(0, wind_speed_x, angle), epsilon)\n",
    "                t = distanza_orizzontale / velocità_orizzontale\n",
    "                distanza_verticale = y_adjusted(t)\n",
    "                matrice_distanze[i, j] = distanza_verticale\n",
    "\n",
    "    return matrice_distanze, max_distanza_orizzontale\n",
    "\n",
    "def bresenham_line(x0, y0, x1, y1):\n",
    "    \"\"\"Genera i punti lungo una linea retta da (x0, y0) a (x1, y1) usando l'algoritmo di Bresenham.\"\"\"\n",
    "    dx = x1 - x0\n",
    "    dy = y1 - y0\n",
    "    x, y = x0, y0\n",
    "\n",
    "    ix = 1 if dx > 0 else -1\n",
    "    iy = 1 if dy > 0 else -1\n",
    "    dx = abs(dx)\n",
    "    dy = abs(dy)\n",
    "\n",
    "    if dx > dy:\n",
    "        err = dx / 2.0\n",
    "        while x != x1:\n",
    "            yield x, y\n",
    "            err -= dy\n",
    "            if err < 0:\n",
    "                y += iy\n",
    "                err += dx\n",
    "            x += ix\n",
    "    else:\n",
    "        err = dy / 2.0\n",
    "        while y != y1:\n",
    "            yield x, y\n",
    "            err -= dx\n",
    "            if err < 0:\n",
    "                x += ix\n",
    "                err += dy\n",
    "            y += iy\n",
    "\n",
    "    yield x1, y1\n",
    "\n",
    "def aggiorna_visibilita_bresenham(matrice_binaria, centro_x, centro_y):\n",
    "    altezza, larghezza = matrice_binaria.shape\n",
    "\n",
    "    for y in range(altezza):\n",
    "        for x in range(larghezza):\n",
    "            visibile = True\n",
    "            for punto_x, punto_y in bresenham_line(centro_x, centro_y, x, y):\n",
    "                if 0 <= punto_y < altezza and 0 <= punto_x < larghezza:\n",
    "                    if matrice_binaria[punto_y, punto_x] == 0:\n",
    "                        visibile = False\n",
    "                        break\n",
    "                else:\n",
    "                    break\n",
    "\n",
    "            if not visibile:\n",
    "                matrice_binaria[y, x] = 0\n",
    "\n",
    "    return matrice_binaria\n",
    "\n",
    "def calcola_sottrazione_e_matrice_binaria(dem_data, matrice_distanze, nodata, centro_x, centro_y):\n",
    "    offset_x = centro_x - matrice_distanze.shape[1] // 2\n",
    "    offset_y = centro_y - matrice_distanze.shape[0] // 2\n",
    "    sottrazione_matrice = np.full(matrice_distanze.shape, np.nan)\n",
    "\n",
    "    for i in range(matrice_distanze.shape[0]):\n",
    "        for j in range(matrice_distanze.shape[1]):\n",
    "            dem_x = j + offset_x\n",
    "            dem_y = i + offset_y\n",
    "            if 0 <= dem_x < dem_data.shape[1] and 0 <= dem_y < dem_data.shape[0]:\n",
    "                if not np.isnan(matrice_distanze[i, j]):\n",
    "                    valore_dem = dem_data[dem_y, dem_x] if dem_data[dem_y, dem_x] != nodata else 0\n",
    "                    sottrazione_matrice[i, j] = valore_dem - matrice_distanze[i, j]\n",
    "\n",
    "    matrice_binaria = np.where(sottrazione_matrice < 0, 1, 0)\n",
    "\n",
    "    # Aggiorna la matrice binaria utilizzando le coordinate di start come centro\n",
    "    matrice_binaria_aggiornata = aggiorna_visibilita_bresenham(matrice_binaria, centro_x, centro_y)\n",
    "\n",
    "    return sottrazione_matrice, matrice_binaria, matrice_binaria_aggiornata\n",
    "\n",
    "def salva_come_raster(matrice, nome_file_raster, start_x, start_y, transform, crs):\n",
    "    # Calcola la metà delle dimensioni della matrice\n",
    "    metà_larghezza = matrice.shape[1] / 2\n",
    "    metà_altezza = matrice.shape[0] / 2\n",
    "\n",
    "    # Sposta il punto d'origine verso il basso di una quantità pari all'altezza della matrice\n",
    "    new_origin_x = transform[2] + (start_x - metà_larghezza) * transform[0]\n",
    "    new_origin_y = transform[5] + (start_y + metà_altezza) * transform[4] - matrice.shape[0] * transform[4]\n",
    "\n",
    "    # Crea un nuovo profilo per il file raster\n",
    "    new_profile = {\n",
    "        'driver': 'GTiff',\n",
    "        'dtype': 'float32',\n",
    "        'nodata': None,\n",
    "        'width': matrice.shape[1],\n",
    "        'height': matrice.shape[0],\n",
    "        'count': 1,\n",
    "        'crs': crs,\n",
    "        'transform': from_origin(new_origin_x, new_origin_y, transform[0], -transform[4])\n",
    "    }\n",
    "\n",
    "    # Salva la matrice come file raster\n",
    "    with rio.open(nome_file_raster, 'w', **new_profile) as dst:\n",
    "        dst.write(matrice.astype(rio.float32), 1)"
   ],
   "metadata": {
    "collapsed": false
   }
  },
  {
   "cell_type": "code",
   "execution_count": null,
   "outputs": [],
   "source": [
    "%%time\n",
    "\n",
    "# Parametri per la traiettoria balistica\n",
    "m = 1.0\n",
    "g = 9.81\n",
    "c = 0.1\n",
    "vxi = 12\n",
    "altitude_base = 400\n",
    "limite_distanza_verticale = -1000\n",
    "\n",
    "# Percorsi ai file raster del vento\n",
    "wind_speed_raster_path = 'Storico meteo/Raster_export/predicted_B11002_1_Interval_1-15.tif'\n",
    "wind_direction_raster_path = 'Storico meteo/Raster_export/predicted_B11002_1_Interval_1-15.tif'\n",
    "\n",
    "file_raster = 'restricted_analysis/DEM_plus_buildings_raster_Bologna.tif'\n",
    "with rio.open(file_raster) as src:\n",
    "    dem_data = src.read(1)\n",
    "    nodata = src.nodata\n",
    "    res = src.res[0]\n",
    "    crs = src.crs\n",
    "    transform = src.transform\n",
    "\n",
    "    # Inizializza una matrice di conteggio delle dimensioni della DEM\n",
    "    conteggio_impatti = np.zeros_like(dem_data, dtype=int)\n",
    "\n",
    "    total_pixels = dem_data.shape[0] * dem_data.shape[1]\n",
    "    print(f\"Inizio elaborazione di {total_pixels} pixel.\")\n",
    "\n",
    "    for y in range(dem_data.shape[0]):\n",
    "        for x in range(dem_data.shape[1]):\n",
    "            # Ottieni le coordinate geografiche per il pixel corrente\n",
    "            coord_geo = src.xy(y, x)\n",
    "\n",
    "            # Estrai la velocità e la direzione del vento per il pixel corrente\n",
    "            wind_speed, wind_direction = get_wind_data(coord_geo[0], coord_geo[1], wind_speed_raster_path, wind_direction_raster_path)\n",
    "            wind_speed_x = wind_speed * np.cos(np.radians(wind_direction))\n",
    "\n",
    "            # Parametri per la traiettoria\n",
    "            m, g, c, vxi, altitude_base, dt, limite_distanza_verticale = 1.0, 9.81, 0.1, 10, 500, 0.01, -2000\n",
    "\n",
    "            # Calcola la matrice di distanze per il pixel corrente\n",
    "            matrice_distanze, max_distanza_orizzontale = calcola_traiettoria_e_matrice(res, m, g, c, vxi, altitude_base, limite_distanza_verticale, wind_speed_x)\n",
    "\n",
    "    # Numero totale di pixel\n",
    "    total_pixels = dem_data.shape[0] * dem_data.shape[1]\n",
    "    print(f\"Inizio elaborazione di {total_pixels} pixel.\")\n",
    "\n",
    "    # Loop sui pixel della DEM\n",
    "    for y in range(dem_data.shape[0]):\n",
    "        for x in range(dem_data.shape[1]):\n",
    "            # Calcola la matrice binaria per il pixel corrente\n",
    "            sottrazione_matrice, _, matrice_binaria = calcola_sottrazione_e_matrice_binaria(dem_data, matrice_distanze, nodata, x, y)\n",
    "\n",
    "            # Aggiorna la matrice di conteggio\n",
    "            for i in range(matrice_binaria.shape[0]):\n",
    "                for j in range(matrice_binaria.shape[1]):\n",
    "                    # Calcola le coordinate corrispondenti nella DEM\n",
    "                    dem_x = x + j - matrice_binaria.shape[1] // 2\n",
    "                    dem_y = y + i - matrice_binaria.shape[0] // 2\n",
    "                    if 0 <= dem_x < dem_data.shape[1] and 0 <= dem_y < dem_data.shape[0]:\n",
    "                        conteggio_impatti[dem_y, dem_x] += matrice_binaria[i, j]\n",
    "\n",
    "            # Stampa l'avanzamento ogni 10000 pixel processati\n",
    "            current_pixel = y * dem_data.shape[1] + x\n",
    "            if current_pixel % 10000 == 0:\n",
    "                print(f\"Elaborati {current_pixel} su {total_pixels} pixel.\")\n",
    "\n",
    "    # Salva la matrice di conteggio come raster\n",
    "    output_raster = 'restricted_analysis/conteggio_impatti.tif'\n",
    "    salva_come_raster(conteggio_impatti, output_raster, dem_data.shape[1] // 2, dem_data.shape[0] // 2, transform, crs)\n",
    "\n",
    "    print(\"Elaborazione completata.\")"
   ],
   "metadata": {
    "collapsed": false
   }
  },
  {
   "cell_type": "code",
   "execution_count": null,
   "outputs": [],
   "source": [],
   "metadata": {
    "collapsed": false
   }
  }
 ],
 "metadata": {
  "kernelspec": {
   "display_name": "Python 3",
   "language": "python",
   "name": "python3"
  },
  "language_info": {
   "codemirror_mode": {
    "name": "ipython",
    "version": 2
   },
   "file_extension": ".py",
   "mimetype": "text/x-python",
   "name": "python",
   "nbconvert_exporter": "python",
   "pygments_lexer": "ipython2",
   "version": "2.7.6"
  }
 },
 "nbformat": 4,
 "nbformat_minor": 0
}
