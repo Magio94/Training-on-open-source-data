{
 "cells": [
  {
   "cell_type": "code",
   "execution_count": 1,
   "outputs": [],
   "source": [
    "import geopandas as gpd\n",
    "from shapely.geometry import Point\n",
    "import whitebox\n",
    "import rasterio as rio\n",
    "from rasterio.warp import calculate_default_transform, reproject\n",
    "from rasterio.enums import Resampling\n",
    "from skyfield.api import Topos, load, utc\n",
    "from datetime import datetime, timedelta\n",
    "import numpy as np, math\n",
    "from pyproj import Geod, CRS\n",
    "\n",
    "# Initialize the geodetic calculator with the WGS84 ellipsoid\n",
    "geod = Geod(ellps='WGS84')"
   ],
   "metadata": {
    "collapsed": false,
    "ExecuteTime": {
     "end_time": "2023-11-10T16:39:51.068171900Z",
     "start_time": "2023-11-10T16:39:49.852154200Z"
    }
   },
   "id": "68cff163028b8fb9"
  },
  {
   "cell_type": "code",
   "execution_count": 2,
   "outputs": [],
   "source": [
    "def reproject_raster(input_raster, output_raster, dst_crs):\n",
    "    with rio.open(input_raster) as src:\n",
    "        transform, width, height = calculate_default_transform(\n",
    "            src.crs, dst_crs, src.width, src.height, *src.bounds)\n",
    "        kwargs = src.meta.copy()\n",
    "        kwargs.update({\n",
    "            'crs': dst_crs,\n",
    "            'transform': transform,\n",
    "            'width': width,\n",
    "            'height': height\n",
    "        })\n",
    "\n",
    "        with rio.open(output_raster, 'w', **kwargs) as dst:\n",
    "            for i in range(1, src.count + 1):\n",
    "                reproject(\n",
    "                    source=rio.band(src, i),\n",
    "                    destination=rio.band(dst, i),\n",
    "                    src_transform=src.transform,\n",
    "                    src_crs=src.crs,\n",
    "                    dst_transform=transform,\n",
    "                    dst_crs=dst_crs,\n",
    "                    resampling=Resampling.nearest)"
   ],
   "metadata": {
    "collapsed": false,
    "ExecuteTime": {
     "end_time": "2023-11-10T16:39:51.069180900Z",
     "start_time": "2023-11-10T16:39:51.061653200Z"
    }
   },
   "id": "3e141eafd53e3aa9"
  },
  {
   "cell_type": "code",
   "execution_count": 3,
   "outputs": [],
   "source": [
    "if __name__ == '__main__':\n",
    "    input_raster = 'DEM/dem_resample.tif'\n",
    "    output_raster = 'DEM/dem_reprojected.tif'\n",
    "    dst_epsg = 4326  # Destinazione EPSG\n",
    "    \n",
    "    # Creare un oggetto CRS per l'EPSG di destinazione\n",
    "    dst_crs = CRS.from_epsg(dst_epsg)\n",
    "    \n",
    "    reproject_raster(input_raster, output_raster, dst_crs)"
   ],
   "metadata": {
    "collapsed": false,
    "ExecuteTime": {
     "end_time": "2023-11-10T16:39:51.557020300Z",
     "start_time": "2023-11-10T16:39:51.063658500Z"
    }
   },
   "id": "39ad113cd3869421"
  },
  {
   "cell_type": "code",
   "execution_count": 4,
   "outputs": [
    {
     "name": "stdout",
     "output_type": "stream",
     "text": [
      ".\\whitebox_tools.exe --run=\"Viewshed\" --dem='E:\\Dati analisi\\DEM\\dem_reprojected.tif' --stations='E:\\Dati analisi\\DEM\\observer_location.shp' --output='E:\\Dati analisi\\DEM\\viewshed.tif' --height=1.75 -v --compress_rasters=False\n",
      "\n",
      "****************************\n",
      "* Welcome to Viewshed      *\n",
      "* Powered by WhiteboxTools *\n",
      "* www.whiteboxgeo.com      *\n",
      "****************************\n",
      "Reading data...\n",
      "Locating view stations: 0%\n",
      "Station 1 of 1\n",
      "Calculating view angle (Station 1 of 1): 1%\n",
      "Calculating view angle (Station 1 of 1): 2%\n",
      "Calculating view angle (Station 1 of 1): 3%\n",
      "Calculating view angle (Station 1 of 1): 4%\n",
      "Calculating view angle (Station 1 of 1): 5%\n",
      "Calculating view angle (Station 1 of 1): 6%\n",
      "Calculating view angle (Station 1 of 1): 7%\n",
      "Calculating view angle (Station 1 of 1): 8%\n",
      "Calculating view angle (Station 1 of 1): 9%\n",
      "Calculating view angle (Station 1 of 1): 10%\n",
      "Calculating view angle (Station 1 of 1): 11%\n",
      "Calculating view angle (Station 1 of 1): 12%\n",
      "Calculating view angle (Station 1 of 1): 13%\n",
      "Calculating view angle (Station 1 of 1): 14%\n",
      "Calculating view angle (Station 1 of 1): 15%\n",
      "Calculating view angle (Station 1 of 1): 16%\n",
      "Calculating view angle (Station 1 of 1): 17%\n",
      "Calculating view angle (Station 1 of 1): 18%\n",
      "Calculating view angle (Station 1 of 1): 19%\n",
      "Calculating view angle (Station 1 of 1): 20%\n",
      "Calculating view angle (Station 1 of 1): 21%\n",
      "Calculating view angle (Station 1 of 1): 22%\n",
      "Calculating view angle (Station 1 of 1): 23%\n",
      "Calculating view angle (Station 1 of 1): 24%\n",
      "Calculating view angle (Station 1 of 1): 25%\n",
      "Calculating view angle (Station 1 of 1): 26%\n",
      "Calculating view angle (Station 1 of 1): 27%\n",
      "Calculating view angle (Station 1 of 1): 28%\n",
      "Calculating view angle (Station 1 of 1): 29%\n",
      "Calculating view angle (Station 1 of 1): 30%\n",
      "Calculating view angle (Station 1 of 1): 31%\n",
      "Calculating view angle (Station 1 of 1): 32%\n",
      "Calculating view angle (Station 1 of 1): 33%\n",
      "Calculating view angle (Station 1 of 1): 34%\n",
      "Calculating view angle (Station 1 of 1): 35%\n",
      "Calculating view angle (Station 1 of 1): 36%\n",
      "Calculating view angle (Station 1 of 1): 37%\n",
      "Calculating view angle (Station 1 of 1): 38%\n",
      "Calculating view angle (Station 1 of 1): 39%\n",
      "Calculating view angle (Station 1 of 1): 40%\n",
      "Calculating view angle (Station 1 of 1): 41%\n",
      "Calculating view angle (Station 1 of 1): 42%\n",
      "Calculating view angle (Station 1 of 1): 43%\n",
      "Calculating view angle (Station 1 of 1): 44%\n",
      "Calculating view angle (Station 1 of 1): 45%\n",
      "Calculating view angle (Station 1 of 1): 46%\n",
      "Calculating view angle (Station 1 of 1): 47%\n",
      "Calculating view angle (Station 1 of 1): 48%\n",
      "Calculating view angle (Station 1 of 1): 49%\n",
      "Calculating view angle (Station 1 of 1): 50%\n",
      "Calculating view angle (Station 1 of 1): 51%\n",
      "Calculating view angle (Station 1 of 1): 52%\n",
      "Calculating view angle (Station 1 of 1): 53%\n",
      "Calculating view angle (Station 1 of 1): 54%\n",
      "Calculating view angle (Station 1 of 1): 55%\n",
      "Calculating view angle (Station 1 of 1): 56%\n",
      "Calculating view angle (Station 1 of 1): 57%\n",
      "Calculating view angle (Station 1 of 1): 58%\n",
      "Calculating view angle (Station 1 of 1): 59%\n",
      "Calculating view angle (Station 1 of 1): 60%\n",
      "Calculating view angle (Station 1 of 1): 61%\n",
      "Calculating view angle (Station 1 of 1): 62%\n",
      "Calculating view angle (Station 1 of 1): 63%\n",
      "Calculating view angle (Station 1 of 1): 64%\n",
      "Calculating view angle (Station 1 of 1): 65%\n",
      "Calculating view angle (Station 1 of 1): 66%\n",
      "Calculating view angle (Station 1 of 1): 67%\n",
      "Calculating view angle (Station 1 of 1): 68%\n",
      "Calculating view angle (Station 1 of 1): 69%\n",
      "Calculating view angle (Station 1 of 1): 70%\n",
      "Calculating view angle (Station 1 of 1): 71%\n",
      "Calculating view angle (Station 1 of 1): 72%\n",
      "Calculating view angle (Station 1 of 1): 73%\n",
      "Calculating view angle (Station 1 of 1): 74%\n",
      "Calculating view angle (Station 1 of 1): 75%\n",
      "Calculating view angle (Station 1 of 1): 76%\n",
      "Calculating view angle (Station 1 of 1): 77%\n",
      "Calculating view angle (Station 1 of 1): 78%\n",
      "Calculating view angle (Station 1 of 1): 79%\n",
      "Calculating view angle (Station 1 of 1): 80%\n",
      "Calculating view angle (Station 1 of 1): 81%\n",
      "Calculating view angle (Station 1 of 1): 82%\n",
      "Calculating view angle (Station 1 of 1): 83%\n",
      "Calculating view angle (Station 1 of 1): 84%\n",
      "Calculating view angle (Station 1 of 1): 85%\n",
      "Calculating view angle (Station 1 of 1): 86%\n",
      "Calculating view angle (Station 1 of 1): 87%\n",
      "Calculating view angle (Station 1 of 1): 88%\n",
      "Calculating view angle (Station 1 of 1): 89%\n",
      "Calculating view angle (Station 1 of 1): 90%\n",
      "Calculating view angle (Station 1 of 1): 91%\n",
      "Calculating view angle (Station 1 of 1): 92%\n",
      "Calculating view angle (Station 1 of 1): 93%\n",
      "Calculating view angle (Station 1 of 1): 94%\n",
      "Calculating view angle (Station 1 of 1): 95%\n",
      "Calculating view angle (Station 1 of 1): 96%\n",
      "Calculating view angle (Station 1 of 1): 97%\n",
      "Calculating view angle (Station 1 of 1): 98%\n",
      "Calculating view angle (Station 1 of 1): 99%\n",
      "Calculating view angle (Station 1 of 1): 100%\n",
      "Creating output: (Station 1 of 1): 0%\n",
      "Creating output: (Station 1 of 1): 1%\n",
      "Creating output: (Station 1 of 1): 2%\n",
      "Creating output: (Station 1 of 1): 3%\n",
      "Creating output: (Station 1 of 1): 4%\n",
      "Creating output: (Station 1 of 1): 5%\n",
      "Creating output: (Station 1 of 1): 6%\n",
      "Creating output: (Station 1 of 1): 7%\n",
      "Creating output: (Station 1 of 1): 8%\n",
      "Creating output: (Station 1 of 1): 9%\n",
      "Creating output: (Station 1 of 1): 10%\n",
      "Creating output: (Station 1 of 1): 11%\n",
      "Creating output: (Station 1 of 1): 12%\n",
      "Creating output: (Station 1 of 1): 13%\n",
      "Creating output: (Station 1 of 1): 14%\n",
      "Creating output: (Station 1 of 1): 15%\n",
      "Creating output: (Station 1 of 1): 16%\n",
      "Creating output: (Station 1 of 1): 17%\n",
      "Creating output: (Station 1 of 1): 18%\n",
      "Creating output: (Station 1 of 1): 19%\n",
      "Creating output: (Station 1 of 1): 20%\n",
      "Creating output: (Station 1 of 1): 21%\n",
      "Creating output: (Station 1 of 1): 22%\n",
      "Creating output: (Station 1 of 1): 23%\n",
      "Creating output: (Station 1 of 1): 24%\n",
      "Creating output: (Station 1 of 1): 25%\n",
      "Creating output: (Station 1 of 1): 26%\n",
      "Creating output: (Station 1 of 1): 27%\n",
      "Creating output: (Station 1 of 1): 28%\n",
      "Creating output: (Station 1 of 1): 29%\n",
      "Creating output: (Station 1 of 1): 30%\n",
      "Creating output: (Station 1 of 1): 31%\n",
      "Creating output: (Station 1 of 1): 32%\n",
      "Creating output: (Station 1 of 1): 33%\n",
      "Creating output: (Station 1 of 1): 34%\n",
      "Creating output: (Station 1 of 1): 35%\n",
      "Creating output: (Station 1 of 1): 36%\n",
      "Creating output: (Station 1 of 1): 37%\n",
      "Creating output: (Station 1 of 1): 38%\n",
      "Creating output: (Station 1 of 1): 39%\n",
      "Creating output: (Station 1 of 1): 40%\n",
      "Creating output: (Station 1 of 1): 41%\n",
      "Creating output: (Station 1 of 1): 42%\n",
      "Creating output: (Station 1 of 1): 43%\n",
      "Creating output: (Station 1 of 1): 44%\n",
      "Creating output: (Station 1 of 1): 45%\n",
      "Creating output: (Station 1 of 1): 46%\n",
      "Creating output: (Station 1 of 1): 47%\n",
      "Creating output: (Station 1 of 1): 48%\n",
      "Creating output: (Station 1 of 1): 49%\n",
      "Creating output: (Station 1 of 1): 50%\n",
      "Creating output: (Station 1 of 1): 51%\n",
      "Creating output: (Station 1 of 1): 52%\n",
      "Creating output: (Station 1 of 1): 53%\n",
      "Creating output: (Station 1 of 1): 54%\n",
      "Creating output: (Station 1 of 1): 55%\n",
      "Creating output: (Station 1 of 1): 56%\n",
      "Creating output: (Station 1 of 1): 57%\n",
      "Creating output: (Station 1 of 1): 58%\n",
      "Creating output: (Station 1 of 1): 59%\n",
      "Creating output: (Station 1 of 1): 60%\n",
      "Creating output: (Station 1 of 1): 61%\n",
      "Creating output: (Station 1 of 1): 62%\n",
      "Creating output: (Station 1 of 1): 63%\n",
      "Creating output: (Station 1 of 1): 64%\n",
      "Creating output: (Station 1 of 1): 65%\n",
      "Creating output: (Station 1 of 1): 66%\n",
      "Creating output: (Station 1 of 1): 67%\n",
      "Creating output: (Station 1 of 1): 68%\n",
      "Creating output: (Station 1 of 1): 69%\n",
      "Creating output: (Station 1 of 1): 70%\n",
      "Creating output: (Station 1 of 1): 71%\n",
      "Creating output: (Station 1 of 1): 72%\n",
      "Creating output: (Station 1 of 1): 73%\n",
      "Creating output: (Station 1 of 1): 74%\n",
      "Creating output: (Station 1 of 1): 75%\n",
      "Creating output: (Station 1 of 1): 76%\n",
      "Creating output: (Station 1 of 1): 77%\n",
      "Creating output: (Station 1 of 1): 78%\n",
      "Creating output: (Station 1 of 1): 79%\n",
      "Creating output: (Station 1 of 1): 80%\n",
      "Creating output: (Station 1 of 1): 81%\n",
      "Creating output: (Station 1 of 1): 82%\n",
      "Creating output: (Station 1 of 1): 83%\n",
      "Creating output: (Station 1 of 1): 84%\n",
      "Creating output: (Station 1 of 1): 85%\n",
      "Creating output: (Station 1 of 1): 86%\n",
      "Creating output: (Station 1 of 1): 87%\n",
      "Creating output: (Station 1 of 1): 88%\n",
      "Creating output: (Station 1 of 1): 89%\n",
      "Creating output: (Station 1 of 1): 90%\n",
      "Creating output: (Station 1 of 1): 91%\n",
      "Creating output: (Station 1 of 1): 92%\n",
      "Creating output: (Station 1 of 1): 93%\n",
      "Creating output: (Station 1 of 1): 94%\n",
      "Creating output: (Station 1 of 1): 95%\n",
      "Creating output: (Station 1 of 1): 96%\n",
      "Creating output: (Station 1 of 1): 97%\n",
      "Creating output: (Station 1 of 1): 98%\n",
      "Creating output: (Station 1 of 1): 99%\n",
      "Creating output: (Station 1 of 1): 100%\n",
      "Saving data...\n",
      "Output file written\n",
      "Elapsed Time (excluding I/O): 0.16s\n",
      "Viewshed analysis completed successfully.\n"
     ]
    }
   ],
   "source": [
    "wbt = whitebox.WhiteboxTools()\n",
    "\n",
    "# Percorsi ai file\n",
    "dem_file_path = r'E:\\Dati analisi\\DEM\\dem_reprojected.tif'  # Assicurati di usare un raw string o di fare escape dei backslash\n",
    "output_file_path = r'E:\\Dati analisi\\DEM\\viewshed.tif'\n",
    "observer_point_shp = r'E:\\Dati analisi\\DEM\\observer_location.shp'\n",
    "\n",
    "# Imposta le coordinate dell'osservatore e altri parametri\n",
    "observer_x = 44.6547465    # Coordinata X dell'osservatore (adattalo al tuo CRS)\n",
    "observer_y = 9.3065963 # Coordinata Y dell'osservatore (adattalo al tuo CRS)\n",
    "observer_z = 1.75  # Altezza dell'osservatore sopra il terreno in metri\n",
    "\n",
    "# Crea un GeoDataFrame per il punto dell'osservatore\n",
    "gdf = gpd.GeoDataFrame(\n",
    "    {'id': [1], 'geometry': [Point(observer_y, observer_x)], 'Z': [observer_z]},\n",
    "    crs=\"EPSG:4326\"  # Sostituisci con il codice EPSG adeguato per il tuo CRS\n",
    ")\n",
    "\n",
    "# Salva il GeoDataFrame come shapefile\n",
    "gdf.to_file(observer_point_shp)\n",
    "\n",
    "try:\n",
    "    # Esegui la viewshed analysis\n",
    "    wbt.viewshed(\n",
    "        dem_file_path,\n",
    "        observer_point_shp,\n",
    "        output_file_path,\n",
    "        height=observer_z,\n",
    "    )\n",
    "    print(\"Viewshed analysis completed successfully.\")\n",
    "except Exception as e:\n",
    "    print(f\"Error during viewshed analysis: {e}\")"
   ],
   "metadata": {
    "collapsed": false,
    "ExecuteTime": {
     "end_time": "2023-11-10T16:39:52.206534800Z",
     "start_time": "2023-11-10T16:39:51.546511700Z"
    }
   },
   "id": "78b48939afb6c133"
  },
  {
   "cell_type": "code",
   "execution_count": 5,
   "outputs": [
    {
     "name": "stderr",
     "output_type": "stream",
     "text": [
      "[#################################] 100% gnss.txt\n"
     ]
    }
   ],
   "source": [
    "# Load GNSS satellite data and the timescale\n",
    "stations_url = 'http://celestrak.com/NORAD/elements/gnss.txt'\n",
    "satellites = load.tle_file(stations_url)\n",
    "ts = load.timescale()"
   ],
   "metadata": {
    "collapsed": false,
    "ExecuteTime": {
     "end_time": "2023-11-10T16:39:53.438065300Z",
     "start_time": "2023-11-10T16:39:52.163098400Z"
    }
   },
   "id": "1fdf0cee2f93472c"
  },
  {
   "cell_type": "code",
   "execution_count": 6,
   "outputs": [],
   "source": [
    "# Define the time moments of interest\n",
    "start_time = datetime(2023, 11, 7, 0, 0, 0, tzinfo=utc)\n",
    "end_time = datetime(2023, 11, 8, 0, 0, 0, tzinfo=utc)\n",
    "times = [ts.utc(start_time + timedelta(minutes=i)) for i in range(int((end_time - start_time).total_seconds() // 60))]"
   ],
   "metadata": {
    "collapsed": false,
    "ExecuteTime": {
     "end_time": "2023-11-10T16:39:53.511381100Z",
     "start_time": "2023-11-10T16:39:53.438065300Z"
    }
   },
   "id": "59f59e4a8b94ad9c"
  },
  {
   "cell_type": "code",
   "execution_count": 7,
   "outputs": [],
   "source": [
    "# Load the DEM and viewshed raster datasets\n",
    "with rio.open(dem_file_path) as dem_dataset:\n",
    "    dem_array = dem_dataset.read(1)\n",
    "    dem_affine_transform = dem_dataset.transform\n",
    "    \n",
    "    # Assuming observer coordinates are in geospatial coordinates, we convert them to pixel coordinates\n",
    "    observer_row, observer_col = rio.transform.rowcol(dem_affine_transform, observer_y, observer_x)\n",
    "\n",
    "# The observer's elevation is the elevation at their location from the DEM plus their height\n",
    "observer_elevation = dem_array[observer_row, observer_col] + observer_z"
   ],
   "metadata": {
    "collapsed": false,
    "ExecuteTime": {
     "end_time": "2023-11-10T16:39:53.550444300Z",
     "start_time": "2023-11-10T16:39:53.513889200Z"
    }
   },
   "id": "affe87990f4199c7"
  },
  {
   "cell_type": "code",
   "execution_count": 8,
   "outputs": [],
   "source": [
    "observer = Topos(latitude_degrees=observer_y, longitude_degrees=observer_x, elevation_m=observer_elevation)"
   ],
   "metadata": {
    "collapsed": false,
    "ExecuteTime": {
     "end_time": "2023-11-10T16:39:53.551433300Z",
     "start_time": "2023-11-10T16:39:53.538861900Z"
    }
   },
   "id": "c89c912c8b469656"
  },
  {
   "cell_type": "code",
   "execution_count": 9,
   "outputs": [],
   "source": [
    "# Load the viewshed array\n",
    "with rio.open(output_file_path) as viewshed_dataset:\n",
    "    viewshed_array = viewshed_dataset.read(1)\n",
    "    affine_transform = viewshed_dataset.transform\n",
    "\n",
    "# Find the visible pixels (value = 1) in the viewshed array\n",
    "visible_pixels = np.argwhere(viewshed_array == 1)"
   ],
   "metadata": {
    "collapsed": false,
    "ExecuteTime": {
     "end_time": "2023-11-10T16:39:53.566535500Z",
     "start_time": "2023-11-10T16:39:53.541369900Z"
    }
   },
   "id": "9ade5421a5f7a96e"
  },
  {
   "cell_type": "code",
   "execution_count": 10,
   "outputs": [],
   "source": [
    "def calculate_horizon_angle(observer_x, observer_y, observer_elevation, pixel_x, pixel_y, pixel_elevation, affine, geod):\n",
    "    # Convert pixel coordinates to geographic coordinates\n",
    "    geo_y, geo_x = rio.transform.xy(affine, pixel_y, pixel_x, offset='center')\n",
    "    \n",
    "    # Calculate the horizontal geodesic distance\n",
    "    _, _, horizontal_distance = geod.inv(observer_x, observer_y, geo_x, geo_y)\n",
    "    \n",
    "    # Calculate the vertical distance (elevation difference)\n",
    "    vertical_distance = pixel_elevation - observer_elevation\n",
    "    \n",
    "    # Calculate the horizon angle\n",
    "    horizon_angle = math.atan2(vertical_distance, horizontal_distance)\n",
    "    horizon_angle_degrees = math.degrees(horizon_angle)\n",
    "    \n",
    "    return horizon_angle_degrees"
   ],
   "metadata": {
    "collapsed": false,
    "ExecuteTime": {
     "end_time": "2023-11-10T16:39:53.580389300Z",
     "start_time": "2023-11-10T16:39:53.566535500Z"
    }
   },
   "id": "4c3420f371b4108f"
  },
  {
   "cell_type": "code",
   "execution_count": 11,
   "outputs": [
    {
     "ename": "KeyboardInterrupt",
     "evalue": "",
     "output_type": "error",
     "traceback": [
      "\u001B[1;31m---------------------------------------------------------------------------\u001B[0m",
      "\u001B[1;31mKeyboardInterrupt\u001B[0m                         Traceback (most recent call last)",
      "File \u001B[1;32m<timed exec>:26\u001B[0m\n",
      "Cell \u001B[1;32mIn[10], line 6\u001B[0m, in \u001B[0;36mcalculate_horizon_angle\u001B[1;34m(observer_x, observer_y, observer_elevation, pixel_x, pixel_y, pixel_elevation, affine, geod)\u001B[0m\n\u001B[0;32m      3\u001B[0m geo_y, geo_x \u001B[38;5;241m=\u001B[39m rio\u001B[38;5;241m.\u001B[39mtransform\u001B[38;5;241m.\u001B[39mxy(affine, pixel_y, pixel_x, offset\u001B[38;5;241m=\u001B[39m\u001B[38;5;124m'\u001B[39m\u001B[38;5;124mcenter\u001B[39m\u001B[38;5;124m'\u001B[39m)\n\u001B[0;32m      5\u001B[0m \u001B[38;5;66;03m# Calculate the horizontal geodesic distance\u001B[39;00m\n\u001B[1;32m----> 6\u001B[0m _, _, horizontal_distance \u001B[38;5;241m=\u001B[39m geod\u001B[38;5;241m.\u001B[39minv(observer_x, observer_y, geo_x, geo_y)\n\u001B[0;32m      8\u001B[0m \u001B[38;5;66;03m# Calculate the vertical distance (elevation difference)\u001B[39;00m\n\u001B[0;32m      9\u001B[0m vertical_distance \u001B[38;5;241m=\u001B[39m pixel_elevation \u001B[38;5;241m-\u001B[39m observer_elevation\n",
      "File \u001B[1;32m~\\anaconda3\\Lib\\site-packages\\pyproj\\geod.py:404\u001B[0m, in \u001B[0;36mGeod.inv\u001B[1;34m(self, lons1, lats1, lons2, lats2, radians, inplace, return_back_azimuth)\u001B[0m\n\u001B[0;32m    347\u001B[0m \u001B[38;5;250m\u001B[39m\u001B[38;5;124;03m\"\"\"\u001B[39;00m\n\u001B[0;32m    348\u001B[0m \n\u001B[0;32m    349\u001B[0m \u001B[38;5;124;03mInverse transformation\u001B[39;00m\n\u001B[1;32m   (...)\u001B[0m\n\u001B[0;32m    399\u001B[0m \u001B[38;5;124;03m    in meters\u001B[39;00m\n\u001B[0;32m    400\u001B[0m \u001B[38;5;124;03m\"\"\"\u001B[39;00m\n\u001B[0;32m    401\u001B[0m \u001B[38;5;28;01mtry\u001B[39;00m:\n\u001B[0;32m    402\u001B[0m     \u001B[38;5;66;03m# Fast-path for scalar input, will raise if invalid types are input\u001B[39;00m\n\u001B[0;32m    403\u001B[0m     \u001B[38;5;66;03m# and we can fallback below\u001B[39;00m\n\u001B[1;32m--> 404\u001B[0m     \u001B[38;5;28;01mreturn\u001B[39;00m \u001B[38;5;28mself\u001B[39m\u001B[38;5;241m.\u001B[39m_inv_point(\n\u001B[0;32m    405\u001B[0m         lons1,\n\u001B[0;32m    406\u001B[0m         lats1,\n\u001B[0;32m    407\u001B[0m         lons2,\n\u001B[0;32m    408\u001B[0m         lats2,\n\u001B[0;32m    409\u001B[0m         radians\u001B[38;5;241m=\u001B[39mradians,\n\u001B[0;32m    410\u001B[0m         return_back_azimuth\u001B[38;5;241m=\u001B[39mreturn_back_azimuth,\n\u001B[0;32m    411\u001B[0m     )\n\u001B[0;32m    412\u001B[0m \u001B[38;5;28;01mexcept\u001B[39;00m \u001B[38;5;167;01mTypeError\u001B[39;00m:\n\u001B[0;32m    413\u001B[0m     \u001B[38;5;28;01mpass\u001B[39;00m\n",
      "\u001B[1;31mKeyboardInterrupt\u001B[0m: "
     ]
    }
   ],
   "source": [
    "%%time \n",
    "\n",
    "# Initialize the list to store the number of visible satellites\n",
    "visible_satellite_counts = []\n",
    "\n",
    "# Initialize the list to store the number of visible satellites\n",
    "visible_satellite_counts = []\n",
    "\n",
    "# Loop through each time and satellite to determine visibility\n",
    "for time in times:\n",
    "    visible_satellites = set()  # Use a set to store unique satellite IDs\n",
    "    \n",
    "    for sat in satellites:\n",
    "        difference = sat - observer\n",
    "        topocentric = difference.at(time)\n",
    "        alt, az, distance = topocentric.altaz()\n",
    "\n",
    "        # Skip if the satellite's elevation angle is below the horizon\n",
    "        if alt.degrees <= 0:\n",
    "            continue\n",
    "\n",
    "        # Check visibility for each pixel within the viewshed\n",
    "        for pixel in visible_pixels:\n",
    "            row, col = pixel\n",
    "            pixel_elevation = dem_array[row, col]\n",
    "            \n",
    "            # Call the function to get the horizon angle\n",
    "            horizon_angle = calculate_horizon_angle(\n",
    "                observer_x, observer_y, observer_elevation, col, row, pixel_elevation, affine_transform, geod\n",
    "            )\n",
    "\n",
    "            # Check if the satellite is above the horizon angle for the pixel\n",
    "            if alt.degrees > horizon_angle:\n",
    "                visible_satellites.add(sat)  # Add the satellite ID to the set\n",
    "                # Do not break since we want to check all pixels for visibility\n",
    "    \n",
    "    visible_satellite_counts.append(len(visible_satellites))  # Store the count of unique satellites\n",
    "\n",
    "# Determine the minimum number of visible satellites\n",
    "min_visible = min(visible_satellite_counts)\n",
    "print(f\"The minimum number of visible GNSS satellites during the day is: {min_visible}\")"
   ],
   "metadata": {
    "collapsed": false,
    "ExecuteTime": {
     "end_time": "2023-11-10T16:47:15.076621400Z",
     "start_time": "2023-11-10T16:39:53.570061Z"
    }
   },
   "id": "180aba06a7f4efe1"
  },
  {
   "cell_type": "markdown",
   "source": [
    "## Calcolo raster copertura"
   ],
   "metadata": {
    "collapsed": false
   },
   "id": "9b6592f2ec44a630"
  },
  {
   "cell_type": "code",
   "execution_count": 11,
   "outputs": [],
   "source": [
    "import numpy as np\n",
    "import rasterio as rio\n",
    "import math\n",
    "from skyfield.api import Topos, load\n",
    "from datetime import datetime, timedelta\n",
    "from pytz import utc\n",
    "from geographiclib.geodesic import Geodesic"
   ],
   "metadata": {
    "collapsed": false,
    "ExecuteTime": {
     "end_time": "2023-11-07T17:46:42.661762700Z",
     "start_time": "2023-11-07T17:46:42.641031500Z"
    }
   },
   "id": "fa0ce963a685f61a"
  },
  {
   "cell_type": "code",
   "execution_count": 14,
   "outputs": [
    {
     "name": "stdout",
     "output_type": "stream",
     "text": [
      "Il file con il numero minimo di satelliti GNSS visibili è stato salvato.\n"
     ]
    }
   ],
   "source": [
    "# Carica il DEM e inizializza i dati necessari\n",
    "dem_file_path = 'E:\\Dati analisi\\DEM\\dem_reprojected.tif'\n",
    "viewshed_file_path = 'E:\\\\Dati analisi\\\\DEM\\\\viewshed.tif'\n",
    "\n",
    "# Carica i dati GNSS e inizializza la scala temporale\n",
    "stations_url = 'http://celestrak.com/NORAD/elements/gnss.txt'\n",
    "satellites = load.tle_file(stations_url)\n",
    "ts = load.timescale()\n",
    "\n",
    "# Definisci i momenti temporali di interesse\n",
    "start_time = datetime(2023, 11, 7, 0, 0, 0, tzinfo=utc)\n",
    "end_time = datetime(2023, 11, 8, 0, 0, 0, tzinfo=utc)\n",
    "times = [ts.utc(start_time + timedelta(minutes=i)) for i in range(int((end_time - start_time).total_seconds() // 60))]\n",
    "\n",
    "geod = Geodesic.WGS84  # Inizializza l'oggetto per il calcolo geodetico\n",
    "\n",
    "# Carica il DEM e i dataset del viewshed\n",
    "with rio.open(dem_file_path) as dem_dataset:\n",
    "    dem_array = dem_dataset.read(1)\n",
    "    dem_affine_transform = dem_dataset.transform\n",
    "    observer_row, observer_col = rio.transform.rowcol(dem_affine_transform, observer_y, observer_x)\n",
    "    observer_elevation = dem_array[observer_row, observer_col] + observer_z\n",
    "\n",
    "# Carica l'array viewshed\n",
    "with rio.open(viewshed_file_path) as viewshed_dataset:\n",
    "    viewshed_array = viewshed_dataset.read(1)\n",
    "    viewshed_affine_transform = viewshed_dataset.transform\n",
    "\n",
    "# Trova i pixel visibili (valore = 1) nell'array del viewshed\n",
    "visible_pixels = np.argwhere(viewshed_array == 1)\n",
    "\n",
    "def calculate_distance_and_horizon_angle(pixel_x, pixel_y, observer_x, observer_y, pixel_elevation, observer_elevation, affine):\n",
    "    # Converti le coordinate del pixel in coordinate geografiche\n",
    "    geo_y, geo_x = rio.transform.xy(affine, pixel_y, pixel_x, offset='center')\n",
    "    \n",
    "    # Calcola la distanza geodetica orizzontale\n",
    "    g = geod.Inverse(observer_y, observer_x, geo_y, geo_x)\n",
    "    azimuth1, azimuth2, horizontal_distance = g['azi1'], g['azi2'], g['s12']\n",
    "    \n",
    "    # Calcola la distanza verticale (differenza di elevazione)\n",
    "    vertical_distance = pixel_elevation - observer_elevation\n",
    "    \n",
    "    # Calcola la distanza 3D usando il teorema di Pitagora\n",
    "    distance_3d = math.sqrt(horizontal_distance ** 2 + vertical_distance ** 2)\n",
    "    \n",
    "    # Calcola l'angolo all'orizzonte\n",
    "    horizon_angle = math.atan2(vertical_distance, horizontal_distance)\n",
    "    horizon_angle_degrees = math.degrees(horizon_angle)\n",
    "    \n",
    "    return distance_3d, horizon_angle_degrees\n",
    "\n",
    "# Inizializza la matrice per immagazzinare il conteggio minimo di satelliti visibili per ogni pixel\n",
    "min_visible_matrix = np.full(dem_array.shape, np.nan)\n",
    "\n",
    "# Loop sui pixel visibili dal punto di osservazione\n",
    "for pixel in visible_pixels:\n",
    "    row, col = pixel\n",
    "    pixel_elevation = dem_array[row, col] + observer_z  # Aggiungi l'altezza dell'osservatore se necessario\n",
    "    pixel_distance, horizon_angle = calculate_distance_and_horizon_angle(col, row, observer_x, observer_y, pixel_elevation, observer_elevation, dem_affine_transform)\n",
    "    visible_satellite_counts = []\n",
    "\n",
    "    # Calcola le coordinate dell'osservatore per il pixel attuale\n",
    "    observer_lat, observer_lon = rio.transform.xy(dem_affine_transform, row, col, offset='center')\n",
    "    observer = Topos(latitude_degrees=observer_lat, longitude_degrees=observer_lon, elevation_m=pixel_elevation)\n",
    "\n",
    "    # Loop su ogni tempo e satellite per determinare la visibilità\n",
    "    for time in times:\n",
    "        visible_satellites = 0\n",
    "        for sat in satellites:\n",
    "            difference = sat - observer\n",
    "            topocentric = difference.at(time)\n",
    "            alt, az, distance = topocentric.altaz()\n",
    "\n",
    "            # Controlla se il satellite è sopra l'angolo dell'orizzonte del pixel e l'elevazione è maggiore di 10 gradi\n",
    "            if alt.degrees > horizon_angle and alt.degrees > 10:\n",
    "                visible_satellites += 1\n",
    "\n",
    "        visible_satellite_counts.append(visible_satellites)\n",
    "\n",
    "    # Trova il numero minimo di satelliti visibili in tutti i tempi considerati\n",
    "    min_visible = min(visible_satellite_counts) if visible_satellite_counts else np.nan\n",
    "    min_visible_matrix[row, col] = min_visible\n",
    "\n",
    "# Ora `min_visible_matrix` contiene il numero minimo di satelliti visibili per ogni pixel nel viewshed\n",
    "\n",
    "# Salva `min_visible_matrix` in un nuovo raster\n",
    "output_min_visible_path = 'path_to_save_min_visible.tif'\n",
    "with rio.open(viewshed_file_path) as src:\n",
    "    profile = src.profile\n",
    "    profile.update(dtype=rio.float32, nodata=np.nan)\n",
    "\n",
    "    with rio.open(output_min_visible_path, 'w', **profile) as dst:\n",
    "        dst.write(min_visible_matrix, 1)\n",
    "\n",
    "print(\"Il file con il numero minimo di satelliti GNSS visibili è stato salvato.\")"
   ],
   "metadata": {
    "collapsed": false,
    "ExecuteTime": {
     "end_time": "2023-11-07T18:35:17.630922600Z",
     "start_time": "2023-11-07T17:56:59.443222200Z"
    }
   },
   "id": "26b25cb7c680feb3"
  },
  {
   "cell_type": "code",
   "execution_count": null,
   "outputs": [],
   "source": [],
   "metadata": {
    "collapsed": false
   },
   "id": "50b9bde80368dc9c"
  }
 ],
 "metadata": {
  "kernelspec": {
   "display_name": "Python 3",
   "language": "python",
   "name": "python3"
  },
  "language_info": {
   "codemirror_mode": {
    "name": "ipython",
    "version": 2
   },
   "file_extension": ".py",
   "mimetype": "text/x-python",
   "name": "python",
   "nbconvert_exporter": "python",
   "pygments_lexer": "ipython2",
   "version": "2.7.6"
  }
 },
 "nbformat": 4,
 "nbformat_minor": 5
}
