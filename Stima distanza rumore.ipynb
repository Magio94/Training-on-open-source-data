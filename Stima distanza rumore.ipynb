{
 "cells": [
  {
   "cell_type": "code",
   "execution_count": 9,
   "outputs": [],
   "source": [
    "import numpy as np"
   ],
   "metadata": {
    "collapsed": false,
    "ExecuteTime": {
     "end_time": "2023-12-15T14:01:49.918113800Z",
     "start_time": "2023-12-15T14:01:49.893547300Z"
    }
   },
   "id": "4e9d83ba47d884b5"
  },
  {
   "cell_type": "code",
   "execution_count": 46,
   "outputs": [],
   "source": [
    "def stima_distanza_rumore_drone(massa_drone, livello_rumore_target):\n",
    "    \"\"\"\n",
    "    Stima la distanza a cui il livello di rumore di un drone si riduce a un certo valore target,\n",
    "    partendo dal livello di rumore alla fonte calcolato in base alla massa del drone e corretto\n",
    "    per una stima a distanza zero.\n",
    "\n",
    "    Parametri:\n",
    "    - massa_drone: la massa del drone in kg.\n",
    "    - livello_rumore_target: il livello di pressione sonora in dB(A) desiderato a una certa distanza.\n",
    "\n",
    "    Ritorna:\n",
    "    - distanza: la distanza stimata in metri a cui il livello di rumore si riduce al valore target.\n",
    "    \"\"\"\n",
    "\n",
    "    # Calcolo del livello di rumore alla fonte in base alla massa del drone\n",
    "    # Utilizzo della formula di regressione della Figura 3 per la modalità hover\n",
    "    livello_rumore_1m = 7.2 * np.log(massa_drone) + 74.5\n",
    "\n",
    "    # Correzione per stimare il livello di rumore alla fonte (distanza zero)\n",
    "    livello_rumore_fonte = livello_rumore_1m + 6\n",
    "\n",
    "    # Calcola la distanza utilizzando il principio dell'inverso del quadrato della distanza\n",
    "    rapporto_db = livello_rumore_fonte - livello_rumore_target\n",
    "    fattore_attenuazione = 10 ** (rapporto_db / 20)\n",
    "    distanza = fattore_attenuazione\n",
    "    return distanza"
   ],
   "metadata": {
    "collapsed": false,
    "ExecuteTime": {
     "end_time": "2023-12-15T14:34:19.023400900Z",
     "start_time": "2023-12-15T14:34:19.022893400Z"
    }
   },
   "id": "3927e6edc7e99870"
  },
  {
   "cell_type": "code",
   "execution_count": 49,
   "outputs": [],
   "source": [
    "# Calcolo delle distanze per i droni da 1.6 kg e 2.5 kg con i livelli di rumore target rilevati a 400 piedi\n",
    "distanza_1_6kg = stima_distanza_rumore_drone(1.6, 50)\n",
    "distanza_2_5kg = stima_distanza_rumore_drone(20, 50)"
   ],
   "metadata": {
    "collapsed": false,
    "ExecuteTime": {
     "end_time": "2023-12-15T14:35:30.248762600Z",
     "start_time": "2023-12-15T14:35:30.248762600Z"
    }
   },
   "id": "initial_id"
  },
  {
   "cell_type": "code",
   "execution_count": 50,
   "outputs": [
    {
     "data": {
      "text/plain": "(49.45398656624289, 401.2948797617793)"
     },
     "execution_count": 50,
     "metadata": {},
     "output_type": "execute_result"
    }
   ],
   "source": [
    "distanza_1_6kg, distanza_2_5kg"
   ],
   "metadata": {
    "collapsed": false,
    "ExecuteTime": {
     "end_time": "2023-12-15T14:35:30.695330900Z",
     "start_time": "2023-12-15T14:35:30.695330900Z"
    }
   },
   "id": "4622103b574c4fab"
  },
  {
   "cell_type": "code",
   "execution_count": null,
   "outputs": [],
   "source": [],
   "metadata": {
    "collapsed": false
   },
   "id": "19340b97ad2fae2d"
  }
 ],
 "metadata": {
  "kernelspec": {
   "display_name": "Python 3",
   "language": "python",
   "name": "python3"
  },
  "language_info": {
   "codemirror_mode": {
    "name": "ipython",
    "version": 2
   },
   "file_extension": ".py",
   "mimetype": "text/x-python",
   "name": "python",
   "nbconvert_exporter": "python",
   "pygments_lexer": "ipython2",
   "version": "2.7.6"
  }
 },
 "nbformat": 4,
 "nbformat_minor": 5
}
