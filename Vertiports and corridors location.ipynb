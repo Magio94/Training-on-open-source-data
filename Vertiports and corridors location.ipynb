{
 "cells": [
  {
   "cell_type": "code",
   "execution_count": 1,
   "id": "129900a5",
   "metadata": {
    "ExecuteTime": {
     "end_time": "2023-09-12T05:50:55.571811Z",
     "start_time": "2023-09-12T05:50:54.634116700Z"
    }
   },
   "outputs": [],
   "source": [
    "import fiona, os, geopandas as gpd, pandas as pd"
   ]
  },
  {
   "cell_type": "markdown",
   "source": [
    "# Vertiports and corridors location"
   ],
   "metadata": {
    "collapsed": false
   },
   "id": "f8ca79d17bd17a1b"
  },
  {
   "cell_type": "markdown",
   "source": [
    "## Data preprocessing"
   ],
   "metadata": {
    "collapsed": false
   },
   "id": "6a5c182871c4618b"
  },
  {
   "cell_type": "markdown",
   "source": [
    "### Area definition "
   ],
   "metadata": {
    "collapsed": false
   },
   "id": "2e5546f9a96377fd"
  },
  {
   "cell_type": "code",
   "execution_count": 2,
   "outputs": [],
   "source": [
    "# individuo il path\n",
    "regional_borders_emilia = \"E:\\Dati analisi\\Limiti01012023\\Reg01012023\\Reg01012023_WGS84.shp\"\n",
    "\n",
    "# Leggi il file shapefile in un GeoDataFrame\n",
    "regional_borders_shp = gpd.read_file(regional_borders_emilia)\n",
    "\n",
    "# Seleziona solo la riga corrispondente alla regione \"Emilia-Romagna\" nella colonna \"DEN_REG\"\n",
    "emilia_romagna_geometry = regional_borders_shp[regional_borders_shp['DEN_REG'] == 'Emilia-Romagna']"
   ],
   "metadata": {
    "collapsed": false,
    "ExecuteTime": {
     "end_time": "2023-09-12T05:50:56.172272200Z",
     "start_time": "2023-09-12T05:50:55.572810800Z"
    }
   },
   "id": "1811520ee684002d"
  },
  {
   "cell_type": "markdown",
   "source": [
    "### Buildings "
   ],
   "metadata": {
    "collapsed": false
   },
   "id": "ad16ac2ccad00e84"
  },
  {
   "cell_type": "code",
   "execution_count": 2,
   "id": "3abfae95",
   "metadata": {
    "ExecuteTime": {
     "end_time": "2023-09-11T06:34:04.977542300Z",
     "start_time": "2023-09-11T06:34:04.977542300Z"
    }
   },
   "outputs": [],
   "source": [
    "layers_list = fiona.listlayers('E:\\Dati analisi\\DBMS_IGM\\BO_dbsn_3J0M0f\\Bologna_dbsn.gdb')"
   ]
  },
  {
   "cell_type": "code",
   "execution_count": 3,
   "outputs": [
    {
     "data": {
      "text/plain": "['ab_cda',\n 'acq_in',\n 'acq_ter',\n 'af_acq',\n 'alveo',\n 'argine',\n 'ar_mar',\n 'ar_nat',\n 'ar_vrd',\n 'a_scom',\n 'attr_sp',\n 'bi_ind',\n 'bosco',\n 'caposd',\n 'cascata',\n 'cl_agr',\n 'cm_mon',\n 'comune',\n 'condot',\n 'cs_mar',\n 'cv_aes',\n 'cv_dis',\n 'cv_liv',\n 'diga',\n 'edifc',\n 'edi_min',\n 'el_acq',\n 'el_fer',\n 'el_fne',\n 'el_fun',\n 'el_idr',\n 'el_met',\n 'el_trv',\n 'el_vms',\n 'f_nter',\n 'ghi_nv',\n 'gz_fer',\n 'gz_fun',\n 'gz_met',\n 'gz_trv',\n 'invaso',\n 'iz_str',\n 'lm_am',\n 'ln_btm',\n 'loc_sg',\n 'man_tr',\n 'meta',\n 'mn_ind',\n 'mn_int',\n 'mn_mau',\n 'mu_div',\n 'mu_sos',\n 'nd_ele',\n 'nd_idr',\n 'op_por',\n 'op_reg',\n 'pe_uins',\n 'provin',\n 'ps_inc',\n 'pt_btm',\n 'pt_quo',\n 'region',\n 'scarpt',\n 'sc_dis',\n 'sp_acq',\n 'stato',\n 'sv_aer',\n 'sv_fer',\n 'sv_por',\n 'sv_str',\n 'tralic',\n 'tr_ele',\n 'tr_str',\n 'v_rete',\n 'z_tin']"
     },
     "execution_count": 3,
     "metadata": {},
     "output_type": "execute_result"
    }
   ],
   "source": [
    "layers_list"
   ],
   "metadata": {
    "collapsed": false,
    "ExecuteTime": {
     "end_time": "2023-09-11T06:34:04.983580900Z",
     "start_time": "2023-09-11T06:34:04.977542300Z"
    }
   },
   "id": "ce9a8f95a06281e0"
  },
  {
   "cell_type": "code",
   "execution_count": 4,
   "outputs": [],
   "source": [
    "# Specifica la cartella che contiene i file .gdb\n",
    "folder_path = r'E:\\Dati analisi\\DBMS_IGM'\n",
    "\n",
    "# Crea una lista vuota per contenere i GeoDataFrame dei layer \"edifc\" e \"edi_min\"\n",
    "merged_layers = []\n",
    "\n",
    "# Itera attraverso tutti i file .gdb nella cartella\n",
    "for root, dirs, files in os.walk(folder_path):\n",
    "    for dir in dirs:\n",
    "        if dir.endswith('.gdb'):\n",
    "            gdb_path = os.path.join(root, dir)\n",
    "            \n",
    "            # Leggi il layer \"edifc\" dalla Geodatabase (se esiste)\n",
    "            try:\n",
    "                edifc = gpd.read_file(gdb_path, layer='edifc')\n",
    "                merged_layers.append(edifc)\n",
    "            except ValueError:\n",
    "                pass  # Il layer \"edifc\" non esiste in questa Geodatabase\n",
    "            \n",
    "            # Leggi il layer \"edi_min\" dalla Geodatabase (se esiste)\n",
    "            try:\n",
    "                edi_min = gpd.read_file(gdb_path, layer='edi_min')\n",
    "                \n",
    "                # Aggiungi i campi \"edifc_ty\" e \"edifc_uso\" con il valore \"edi_min\"\n",
    "                edi_min['edifc_ty'] = 'edi_min'\n",
    "                edi_min['edifc_uso'] = 'edi_min'\n",
    "                \n",
    "                merged_layers.append(edi_min)\n",
    "            except ValueError:\n",
    "                pass  # Il layer \"edi_min\" non esiste in questa Geodatabase\n",
    "\n",
    "# Unisci i GeoDataFrame dei layer \"edifc\" e \"edi_min\"\n",
    "if merged_layers:\n",
    "    merged_data = gpd.GeoDataFrame(pd.concat(merged_layers, ignore_index=True), crs=merged_layers[0].crs)"
   ],
   "metadata": {
    "collapsed": false,
    "ExecuteTime": {
     "end_time": "2023-09-11T06:38:40.943457200Z",
     "start_time": "2023-09-11T06:34:04.983580900Z"
    }
   },
   "id": "5fea9e7f2732888a"
  },
  {
   "cell_type": "code",
   "execution_count": 5,
   "outputs": [
    {
     "name": "stderr",
     "output_type": "stream",
     "text": [
      "C:\\Users\\niett\\AppData\\Local\\Temp\\ipykernel_19336\\3262264503.py:5: UserWarning: Column names longer than 10 characters will be truncated when saved to ESRI Shapefile.\n",
      "  merged_data.to_file(output_shp_path, driver='ESRI Shapefile')\n"
     ]
    }
   ],
   "source": [
    "# Specifica il percorso in cui desideri salvare il nuovo file shapefile\n",
    "output_shp_path = r'E:\\Dati analisi\\DBMS_IGM\\buildings_merged.shp'\n",
    "\n",
    "# Salva il GeoDataFrame in un nuovo file shapefile\n",
    "merged_data.to_file(output_shp_path, driver='ESRI Shapefile')"
   ],
   "metadata": {
    "collapsed": false,
    "ExecuteTime": {
     "end_time": "2023-09-11T06:43:00.961351300Z",
     "start_time": "2023-09-11T06:38:40.943457200Z"
    }
   },
   "id": "f5efad4a4be803a2"
  },
  {
   "cell_type": "code",
   "execution_count": 6,
   "outputs": [],
   "source": [
    "# Esegui il dissolve sulla colonna \"edifc_uso\"\n",
    "dissolved_data = merged_data.dissolve(by='edifc_uso')"
   ],
   "metadata": {
    "collapsed": false,
    "ExecuteTime": {
     "end_time": "2023-09-11T06:56:25.176710500Z",
     "start_time": "2023-09-11T06:43:01.239497Z"
    }
   },
   "id": "87e0868c8ccc37e1"
  },
  {
   "cell_type": "code",
   "execution_count": null,
   "outputs": [
    {
     "name": "stderr",
     "output_type": "stream",
     "text": [
      "C:\\Users\\niett\\AppData\\Local\\Temp\\ipykernel_19336\\1990260576.py:5: UserWarning: Column names longer than 10 characters will be truncated when saved to ESRI Shapefile.\n",
      "  dissolved_data.to_file(output_shp_path, driver='ESRI Shapefile')\n"
     ]
    }
   ],
   "source": [
    "# Specifica il percorso in cui desideri salvare il nuovo file shapefile\n",
    "output_shp_path = r'E:\\Dati analisi\\DBMS_IGM\\buildings_merged_dissolved.shp'\n",
    "\n",
    "# Salva il GeoDataFrame in un nuovo file shapefile\n",
    "dissolved_data.to_file(output_shp_path, driver='ESRI Shapefile')"
   ],
   "metadata": {
    "collapsed": false,
    "ExecuteTime": {
     "start_time": "2023-09-11T06:56:25.176710500Z"
    }
   },
   "id": "156fac65c612165d"
  },
  {
   "cell_type": "markdown",
   "source": [
    "### Get html table from IGM DBSN "
   ],
   "metadata": {
    "collapsed": false
   },
   "id": "142e5d079b3d54ad"
  },
  {
   "cell_type": "code",
   "execution_count": 4,
   "outputs": [],
   "source": [
    "# Specifica l'URL del sito web che contiene la tabella HTML\n",
    "url = \"https://www.igmi.org/dbsn_supporto/dbsn/\"\n",
    "\n",
    "# Leggi la tabella HTML dal sito web\n",
    "tables = pd.read_html(url)\n",
    "\n",
    "# Itera attraverso le tabelle per trovare quella con \"edifc_uso\" nella prima colonna\n",
    "target_table = None\n",
    "for table_df in tables:\n",
    "    if \"edifc_uso\" in table_df.iloc[:, 0].values:\n",
    "        target_table = table_df\n",
    "        break"
   ],
   "metadata": {
    "collapsed": false,
    "ExecuteTime": {
     "end_time": "2023-09-11T14:06:01.765001Z",
     "start_time": "2023-09-11T14:05:57.941417300Z"
    }
   },
   "id": "645197146e4756ab"
  },
  {
   "cell_type": "code",
   "execution_count": 5,
   "outputs": [],
   "source": [
    "tables_split = []\n",
    "current_table_rows = []\n",
    "count = 0\n",
    "\n",
    "for index, row in target_table.iterrows():\n",
    "    if not pd.isna(row.iloc[0]):\n",
    "        if count > 0:\n",
    "            tables_split.append(pd.DataFrame(current_table_rows, columns=target_table.columns))\n",
    "            current_table_rows = []            \n",
    "        \n",
    "        current_table_rows.append(row)\n",
    "        count += 1\n",
    "        \n",
    "    else:\n",
    "        # Se la prima colonna è NaN, aggiungi la riga alla lista delle righe correnti\n",
    "        current_table_rows.append(row)"
   ],
   "metadata": {
    "collapsed": false,
    "ExecuteTime": {
     "end_time": "2023-09-11T14:06:01.781245200Z",
     "start_time": "2023-09-11T14:06:01.775507700Z"
    }
   },
   "id": "15f022d89d248467"
  },
  {
   "cell_type": "code",
   "execution_count": 6,
   "outputs": [],
   "source": [
    "# Il testo che stai cercando\n",
    "text_to_find = \"edifc_uso\"\n",
    "\n",
    "# Cerca la tabella con il testo nella prima colonna\n",
    "selected_table = None\n",
    "for table_df in tables_split:\n",
    "    if text_to_find in table_df.iloc[:, 0].values:\n",
    "        selected_table = table_df\n",
    "        break"
   ],
   "metadata": {
    "collapsed": false,
    "ExecuteTime": {
     "end_time": "2023-09-11T14:06:01.791620100Z",
     "start_time": "2023-09-11T14:06:01.776923200Z"
    }
   },
   "id": "c4d767ef7f6848a1"
  },
  {
   "cell_type": "code",
   "execution_count": 7,
   "outputs": [],
   "source": [
    "# Seleziona solo le colonne \"Nome\", \"Definizione\" e \"Tipo\" dalla tabella\n",
    "selected_table = selected_table[[\"Definizione\", \"Tipo\"]].reset_index(drop=True)\n",
    "\n",
    "# Rinomina la colonna \"Definizione\" in \"NuovaColonna1\"\n",
    "selected_table = selected_table.rename(columns={\"Definizione\": \"edifc_uso\"})\n",
    "\n",
    "selected_table.drop(0, inplace=True)"
   ],
   "metadata": {
    "collapsed": false,
    "ExecuteTime": {
     "end_time": "2023-09-11T14:06:01.791620100Z",
     "start_time": "2023-09-11T14:06:01.781749100Z"
    }
   },
   "id": "bba26ad140accf5a"
  },
  {
   "cell_type": "code",
   "execution_count": 8,
   "outputs": [
    {
     "data": {
      "text/plain": "   edifc_uso                   Tipo\n1         01           residenziale\n2       0101              abitativa\n3         02         amministrativo\n4       0201              municipio\n5       0202         sede provincia\n..       ...                    ...\n86      1202  sede albergo, locanda\n87      1203              campeggio\n88      1204        rifugio montano\n89        93           non definito\n90        95                  altro\n\n[90 rows x 2 columns]",
      "text/html": "<div>\n<style scoped>\n    .dataframe tbody tr th:only-of-type {\n        vertical-align: middle;\n    }\n\n    .dataframe tbody tr th {\n        vertical-align: top;\n    }\n\n    .dataframe thead th {\n        text-align: right;\n    }\n</style>\n<table border=\"1\" class=\"dataframe\">\n  <thead>\n    <tr style=\"text-align: right;\">\n      <th></th>\n      <th>edifc_uso</th>\n      <th>Tipo</th>\n    </tr>\n  </thead>\n  <tbody>\n    <tr>\n      <th>1</th>\n      <td>01</td>\n      <td>residenziale</td>\n    </tr>\n    <tr>\n      <th>2</th>\n      <td>0101</td>\n      <td>abitativa</td>\n    </tr>\n    <tr>\n      <th>3</th>\n      <td>02</td>\n      <td>amministrativo</td>\n    </tr>\n    <tr>\n      <th>4</th>\n      <td>0201</td>\n      <td>municipio</td>\n    </tr>\n    <tr>\n      <th>5</th>\n      <td>0202</td>\n      <td>sede provincia</td>\n    </tr>\n    <tr>\n      <th>...</th>\n      <td>...</td>\n      <td>...</td>\n    </tr>\n    <tr>\n      <th>86</th>\n      <td>1202</td>\n      <td>sede albergo, locanda</td>\n    </tr>\n    <tr>\n      <th>87</th>\n      <td>1203</td>\n      <td>campeggio</td>\n    </tr>\n    <tr>\n      <th>88</th>\n      <td>1204</td>\n      <td>rifugio montano</td>\n    </tr>\n    <tr>\n      <th>89</th>\n      <td>93</td>\n      <td>non definito</td>\n    </tr>\n    <tr>\n      <th>90</th>\n      <td>95</td>\n      <td>altro</td>\n    </tr>\n  </tbody>\n</table>\n<p>90 rows × 2 columns</p>\n</div>"
     },
     "execution_count": 8,
     "metadata": {},
     "output_type": "execute_result"
    }
   ],
   "source": [
    "selected_table"
   ],
   "metadata": {
    "collapsed": false,
    "ExecuteTime": {
     "end_time": "2023-09-11T14:06:02.960141Z",
     "start_time": "2023-09-11T14:06:02.949904600Z"
    }
   },
   "id": "364885c4d5fdac56"
  },
  {
   "cell_type": "code",
   "execution_count": 9,
   "outputs": [],
   "source": [
    "# Salva il DataFrame in un file Excel\n",
    "selected_table.to_excel(r'E:\\Dati analisi\\DBMS_IGM\\use_description.xlsx', index=False) "
   ],
   "metadata": {
    "collapsed": false,
    "ExecuteTime": {
     "end_time": "2023-09-11T14:06:06.450239300Z",
     "start_time": "2023-09-11T14:06:06.039826900Z"
    }
   },
   "id": "88eb5e62994c4330"
  },
  {
   "cell_type": "markdown",
   "source": [
    "### Join dissolve buildings with use description"
   ],
   "metadata": {
    "collapsed": false
   },
   "id": "41a94b6dc79d37c9"
  },
  {
   "cell_type": "code",
   "execution_count": 14,
   "outputs": [],
   "source": [
    "# Specifica il percorso in cui desideri salvare il nuovo file shapefile\n",
    "output_shp_path = r'E:\\Dati analisi\\DBMS_IGM\\buildings_merged_dissolved.shp'\n",
    "\n",
    "# Leggi il file shapefile in un GeoDataFrame\n",
    "dissolved_data = gpd.read_file(output_shp_path)"
   ],
   "metadata": {
    "collapsed": false,
    "ExecuteTime": {
     "start_time": "2023-09-11T13:36:51.666373800Z"
    }
   },
   "id": "806de7f62b1c6022"
  },
  {
   "cell_type": "code",
   "execution_count": 20,
   "outputs": [],
   "source": [
    "# Esegui il join tra il DataFrame e il GeoDataFrame sulla colonna \"edifc_uso\"\n",
    "dissolved_data_join = dissolved_data.merge(selected_table, on=\"edifc_uso\", how=\"inner\")"
   ],
   "metadata": {
    "collapsed": false,
    "ExecuteTime": {
     "start_time": "2023-09-11T13:48:49.064946600Z"
    }
   },
   "id": "af2a1d9ba8c08933"
  },
  {
   "cell_type": "code",
   "execution_count": null,
   "outputs": [],
   "source": [
    "# Specifica il percorso in cui desideri salvare il nuovo file shapefile\n",
    "output_shp_path = r'E:\\Dati analisi\\DBMS_IGM\\buildings_merged_join.shp'\n",
    "\n",
    "# Salva il GeoDataFrame in un nuovo file shapefile\n",
    "dissolved_data_join.to_file(output_shp_path, driver='ESRI Shapefile')"
   ],
   "metadata": {
    "collapsed": false,
    "ExecuteTime": {
     "start_time": "2023-09-11T13:49:31.284053700Z"
    }
   },
   "id": "e98ad06021f45bbe"
  },
  {
   "cell_type": "code",
   "execution_count": null,
   "outputs": [],
   "source": [],
   "metadata": {
    "collapsed": false
   },
   "id": "b4fd3a47ce11468d"
  },
  {
   "cell_type": "code",
   "execution_count": 1,
   "outputs": [],
   "source": [
    "import geopandas as gpd\n",
    "from shapely.geometry import Point"
   ],
   "metadata": {
    "collapsed": false
   }
  },
  {
   "cell_type": "code",
   "execution_count": 2,
   "outputs": [],
   "source": [
    "# Carica il tuo GeoDataFrame\n",
    "gdf = gpd.read_file('Limiti01012023/Reg01012023/Reg01012023_WGS84.shp')  # Sostituisci 'tuofile.geojson' con il percorso del tuo file GeoJSON o Shapefile"
   ],
   "metadata": {
    "collapsed": false
   }
  },
  {
   "cell_type": "code",
   "execution_count": 3,
   "outputs": [
    {
     "data": {
      "text/plain": "    COD_RIP  COD_REG                DEN_REG    Shape_Leng    Shape_Area  \\\n0         1        1               Piemonte  1.333428e+06  2.538670e+10   \n1         1        2          Valle d'Aosta  3.258364e+05  3.260854e+09   \n2         1        3              Lombardia  1.511132e+06  2.386310e+10   \n3         2        4    Trentino-Alto Adige  8.598731e+05  1.360472e+10   \n4         2        5                 Veneto  1.140433e+06  1.834537e+10   \n5         2        6  Friuli Venezia Giulia  7.692437e+05  7.932482e+09   \n6         1        7                Liguria  1.079642e+06  5.416152e+09   \n7         2        8         Emilia-Romagna  1.289119e+06  2.250143e+10   \n8         3        9                Toscana  1.552065e+06  2.298744e+10   \n9         3       10                 Umbria  6.714160e+05  8.464223e+09   \n10        3       11                 Marche  7.026726e+05  9.344293e+09   \n11        3       12                  Lazio  1.201765e+06  1.723172e+10   \n12        4       13                Abruzzo  6.645380e+05  1.083150e+10   \n13        4       14                 Molise  4.711976e+05  4.460437e+09   \n14        4       15               Campania  1.090753e+06  1.367060e+10   \n15        4       16                 Puglia  1.507342e+06  1.954052e+10   \n16        4       17             Basilicata  6.757507e+05  1.007311e+10   \n17        4       18               Calabria  9.346575e+05  1.522161e+10   \n18        5       19                Sicilia  1.743759e+06  2.583255e+10   \n19        5       20               Sardegna  2.129143e+06  2.409945e+10   \n\n                                             geometry  \n0   POLYGON ((456874.626 5145767.794, 456879.627 5...  \n1   POLYGON ((389358.653 5093659.158, 389433.654 5...  \n2   MULTIPOLYGON (((485366.070 4984899.481, 485306...  \n3   POLYGON ((743387.812 5219741.793, 743414.749 5...  \n4   POLYGON ((768135.210 5175357.497, 768146.460 5...  \n5   MULTIPOLYGON (((872344.457 5061894.048, 872344...  \n6   MULTIPOLYGON (((568230.816 4874870.697, 568232...  \n7   MULTIPOLYGON (((618335.211 4893983.160, 618329...  \n8   MULTIPOLYGON (((673999.896 4681200.360, 674032...  \n9   MULTIPOLYGON (((776426.122 4834159.173, 776480...  \n10  POLYGON ((801317.492 4875251.455, 801336.492 4...  \n11  MULTIPOLYGON (((875819.121 4525280.544, 875832...  \n12  MULTIPOLYGON (((930273.425 4714737.743, 930147...  \n13  POLYGON ((979228.843 4673419.649, 979255.343 4...  \n14  MULTIPOLYGON (((1037266.901 4449456.848, 10372...  \n15  MULTIPOLYGON (((1280636.111 4454459.746, 12806...  \n16  MULTIPOLYGON (((1073851.435 4445828.604, 10738...  \n17  MULTIPOLYGON (((1083350.847 4416684.239, 10833...  \n18  MULTIPOLYGON (((822859.631 3935387.330, 822886...  \n19  MULTIPOLYGON (((448823.400 4301758.251, 448845...  ",
      "text/html": "<div>\n<style scoped>\n    .dataframe tbody tr th:only-of-type {\n        vertical-align: middle;\n    }\n\n    .dataframe tbody tr th {\n        vertical-align: top;\n    }\n\n    .dataframe thead th {\n        text-align: right;\n    }\n</style>\n<table border=\"1\" class=\"dataframe\">\n  <thead>\n    <tr style=\"text-align: right;\">\n      <th></th>\n      <th>COD_RIP</th>\n      <th>COD_REG</th>\n      <th>DEN_REG</th>\n      <th>Shape_Leng</th>\n      <th>Shape_Area</th>\n      <th>geometry</th>\n    </tr>\n  </thead>\n  <tbody>\n    <tr>\n      <th>0</th>\n      <td>1</td>\n      <td>1</td>\n      <td>Piemonte</td>\n      <td>1.333428e+06</td>\n      <td>2.538670e+10</td>\n      <td>POLYGON ((456874.626 5145767.794, 456879.627 5...</td>\n    </tr>\n    <tr>\n      <th>1</th>\n      <td>1</td>\n      <td>2</td>\n      <td>Valle d'Aosta</td>\n      <td>3.258364e+05</td>\n      <td>3.260854e+09</td>\n      <td>POLYGON ((389358.653 5093659.158, 389433.654 5...</td>\n    </tr>\n    <tr>\n      <th>2</th>\n      <td>1</td>\n      <td>3</td>\n      <td>Lombardia</td>\n      <td>1.511132e+06</td>\n      <td>2.386310e+10</td>\n      <td>MULTIPOLYGON (((485366.070 4984899.481, 485306...</td>\n    </tr>\n    <tr>\n      <th>3</th>\n      <td>2</td>\n      <td>4</td>\n      <td>Trentino-Alto Adige</td>\n      <td>8.598731e+05</td>\n      <td>1.360472e+10</td>\n      <td>POLYGON ((743387.812 5219741.793, 743414.749 5...</td>\n    </tr>\n    <tr>\n      <th>4</th>\n      <td>2</td>\n      <td>5</td>\n      <td>Veneto</td>\n      <td>1.140433e+06</td>\n      <td>1.834537e+10</td>\n      <td>POLYGON ((768135.210 5175357.497, 768146.460 5...</td>\n    </tr>\n    <tr>\n      <th>5</th>\n      <td>2</td>\n      <td>6</td>\n      <td>Friuli Venezia Giulia</td>\n      <td>7.692437e+05</td>\n      <td>7.932482e+09</td>\n      <td>MULTIPOLYGON (((872344.457 5061894.048, 872344...</td>\n    </tr>\n    <tr>\n      <th>6</th>\n      <td>1</td>\n      <td>7</td>\n      <td>Liguria</td>\n      <td>1.079642e+06</td>\n      <td>5.416152e+09</td>\n      <td>MULTIPOLYGON (((568230.816 4874870.697, 568232...</td>\n    </tr>\n    <tr>\n      <th>7</th>\n      <td>2</td>\n      <td>8</td>\n      <td>Emilia-Romagna</td>\n      <td>1.289119e+06</td>\n      <td>2.250143e+10</td>\n      <td>MULTIPOLYGON (((618335.211 4893983.160, 618329...</td>\n    </tr>\n    <tr>\n      <th>8</th>\n      <td>3</td>\n      <td>9</td>\n      <td>Toscana</td>\n      <td>1.552065e+06</td>\n      <td>2.298744e+10</td>\n      <td>MULTIPOLYGON (((673999.896 4681200.360, 674032...</td>\n    </tr>\n    <tr>\n      <th>9</th>\n      <td>3</td>\n      <td>10</td>\n      <td>Umbria</td>\n      <td>6.714160e+05</td>\n      <td>8.464223e+09</td>\n      <td>MULTIPOLYGON (((776426.122 4834159.173, 776480...</td>\n    </tr>\n    <tr>\n      <th>10</th>\n      <td>3</td>\n      <td>11</td>\n      <td>Marche</td>\n      <td>7.026726e+05</td>\n      <td>9.344293e+09</td>\n      <td>POLYGON ((801317.492 4875251.455, 801336.492 4...</td>\n    </tr>\n    <tr>\n      <th>11</th>\n      <td>3</td>\n      <td>12</td>\n      <td>Lazio</td>\n      <td>1.201765e+06</td>\n      <td>1.723172e+10</td>\n      <td>MULTIPOLYGON (((875819.121 4525280.544, 875832...</td>\n    </tr>\n    <tr>\n      <th>12</th>\n      <td>4</td>\n      <td>13</td>\n      <td>Abruzzo</td>\n      <td>6.645380e+05</td>\n      <td>1.083150e+10</td>\n      <td>MULTIPOLYGON (((930273.425 4714737.743, 930147...</td>\n    </tr>\n    <tr>\n      <th>13</th>\n      <td>4</td>\n      <td>14</td>\n      <td>Molise</td>\n      <td>4.711976e+05</td>\n      <td>4.460437e+09</td>\n      <td>POLYGON ((979228.843 4673419.649, 979255.343 4...</td>\n    </tr>\n    <tr>\n      <th>14</th>\n      <td>4</td>\n      <td>15</td>\n      <td>Campania</td>\n      <td>1.090753e+06</td>\n      <td>1.367060e+10</td>\n      <td>MULTIPOLYGON (((1037266.901 4449456.848, 10372...</td>\n    </tr>\n    <tr>\n      <th>15</th>\n      <td>4</td>\n      <td>16</td>\n      <td>Puglia</td>\n      <td>1.507342e+06</td>\n      <td>1.954052e+10</td>\n      <td>MULTIPOLYGON (((1280636.111 4454459.746, 12806...</td>\n    </tr>\n    <tr>\n      <th>16</th>\n      <td>4</td>\n      <td>17</td>\n      <td>Basilicata</td>\n      <td>6.757507e+05</td>\n      <td>1.007311e+10</td>\n      <td>MULTIPOLYGON (((1073851.435 4445828.604, 10738...</td>\n    </tr>\n    <tr>\n      <th>17</th>\n      <td>4</td>\n      <td>18</td>\n      <td>Calabria</td>\n      <td>9.346575e+05</td>\n      <td>1.522161e+10</td>\n      <td>MULTIPOLYGON (((1083350.847 4416684.239, 10833...</td>\n    </tr>\n    <tr>\n      <th>18</th>\n      <td>5</td>\n      <td>19</td>\n      <td>Sicilia</td>\n      <td>1.743759e+06</td>\n      <td>2.583255e+10</td>\n      <td>MULTIPOLYGON (((822859.631 3935387.330, 822886...</td>\n    </tr>\n    <tr>\n      <th>19</th>\n      <td>5</td>\n      <td>20</td>\n      <td>Sardegna</td>\n      <td>2.129143e+06</td>\n      <td>2.409945e+10</td>\n      <td>MULTIPOLYGON (((448823.400 4301758.251, 448845...</td>\n    </tr>\n  </tbody>\n</table>\n</div>"
     },
     "execution_count": 3,
     "metadata": {},
     "output_type": "execute_result"
    }
   ],
   "source": [
    "gdf"
   ],
   "metadata": {
    "collapsed": false
   }
  },
  {
   "cell_type": "code",
   "execution_count": 4,
   "outputs": [],
   "source": [
    "single_region = gdf[gdf['DEN_REG'] == 'Emilia-Romagna']"
   ],
   "metadata": {
    "collapsed": false
   }
  },
  {
   "cell_type": "code",
   "execution_count": 5,
   "outputs": [
    {
     "name": "stdout",
     "output_type": "stream",
     "text": [
      "Latitudine Minima: 4847056.959899999\n",
      "Longitudine Minima: 515693.1046000002\n",
      "Latitudine Massima: 4998812.3695\n",
      "Longitudine Massima: 801305.5542000001\n"
     ]
    }
   ],
   "source": [
    "# Calcola i valori minimi e massimi delle coordinate\n",
    "lat_min = single_region.geometry.bounds['miny'].min()\n",
    "lon_min = single_region.geometry.bounds['minx'].min()\n",
    "lat_max = single_region.geometry.bounds['maxy'].max()\n",
    "lon_max = single_region.geometry.bounds['maxx'].max()\n",
    "\n",
    "# Stampare i risultati\n",
    "print(\"Latitudine Minima:\", lat_min)\n",
    "print(\"Longitudine Minima:\", lon_min)\n",
    "print(\"Latitudine Massima:\", lat_max)\n",
    "print(\"Longitudine Massima:\", lon_max)"
   ],
   "metadata": {
    "collapsed": false
   }
  },
  {
   "cell_type": "code",
   "execution_count": 6,
   "outputs": [],
   "source": [
    "# Crea oggetti Point dai valori minimi e massimi delle coordinate\n",
    "min_point = Point(lon_min, lat_min)\n",
    "max_point = Point(lon_max, lat_max)\n",
    "\n",
    "# Crea un GeoDataFrame per i punti minimi e massimi\n",
    "points_gdf = gpd.GeoDataFrame(geometry=[min_point, max_point], crs=gdf.crs)\n",
    "\n",
    "# Salva il GeoDataFrame come un file Shapefile\n",
    "points_gdf.to_file('min_max_points.shp')"
   ],
   "metadata": {
    "collapsed": false
   }
  },
  {
   "cell_type": "code",
   "execution_count": 8,
   "outputs": [],
   "source": [
    "single_region_crs = single_region.to_crs(4326)"
   ],
   "metadata": {
    "collapsed": false
   }
  },
  {
   "cell_type": "code",
   "execution_count": 9,
   "outputs": [
    {
     "name": "stdout",
     "output_type": "stream",
     "text": [
      "Latitudine Minima: 43.7318917110636\n",
      "Longitudine Minima: 9.197911727336376\n",
      "Latitudine Massima: 45.13913153551511\n",
      "Longitudine Massima: 12.755640592249431\n"
     ]
    }
   ],
   "source": [
    "# Calcola i valori minimi e massimi delle coordinate\n",
    "lat_min = single_region_crs.geometry.bounds['miny'].min()\n",
    "lon_min = single_region_crs.geometry.bounds['minx'].min()\n",
    "lat_max = single_region_crs.geometry.bounds['maxy'].max()\n",
    "lon_max = single_region_crs.geometry.bounds['maxx'].max()\n",
    "\n",
    "# Stampare i risultati\n",
    "print(\"Latitudine Minima:\", lat_min)\n",
    "print(\"Longitudine Minima:\", lon_min)\n",
    "print(\"Latitudine Massima:\", lat_max)\n",
    "print(\"Longitudine Massima:\", lon_max)"
   ],
   "metadata": {
    "collapsed": false
   }
  },
  {
   "cell_type": "code",
   "execution_count": 11,
   "outputs": [],
   "source": [
    "# Crea oggetti Point dai valori minimi e massimi delle coordinate\n",
    "min_point = Point(lon_min, lat_min)\n",
    "max_point = Point(lon_max, lat_max)\n",
    "\n",
    "# Crea un GeoDataFrame per i punti minimi e massimi\n",
    "points_gdf = gpd.GeoDataFrame(geometry=[min_point, max_point], crs=single_region_crs.crs)\n",
    "\n",
    "# Salva il GeoDataFrame come un file Shapefile\n",
    "points_gdf.to_file('min_max_points.shp')"
   ],
   "metadata": {
    "collapsed": false
   }
  },
  {
   "cell_type": "code",
   "execution_count": 7,
   "outputs": [
    {
     "name": "stdout",
     "output_type": "stream",
     "text": [
      "Latitudine Minima (EPSG 4326): 6.669380890553629\n",
      "Longitudine Minima (EPSG 4326): 35.51244954620116\n",
      "Latitudine Massima (EPSG 4326): 5220292.2928\n",
      "Longitudine Massima (EPSG 4326): 1312016.1509999996\n"
     ]
    }
   ],
   "source": [
    "import geopandas as gpd\n",
    "from pyproj import Transformer\n",
    "from shapely.geometry import Point, box\n",
    "\n",
    "# Crea un GeoDataFrame con il box in EPSG 32632\n",
    "gdf32632 = gpd.read_file('Limiti01012023/Reg01012023/Reg01012023_WGS84.shp')\n",
    "\n",
    "# Definisci il trasformatore da EPSG 32632 a EPSG 4326\n",
    "transformer = Transformer.from_crs('EPSG:32632', 'EPSG:4326')\n",
    "\n",
    "# Trasforma il box in EPSG 4326\n",
    "box4326 = gdf32632.geometry.apply(lambda geom: box(*transformer.transform(*geom.bounds)))\n",
    "\n",
    "# Estrai i valori minimi e massimi delle coordinate in EPSG 4326\n",
    "lat_min = box4326.bounds['miny'].min()\n",
    "lon_min = box4326.bounds['minx'].min()\n",
    "lat_max = box4326.bounds['maxy'].max()\n",
    "lon_max = box4326.bounds['maxx'].max()\n",
    "\n",
    "# Crea oggetti Point dai valori minimi e massimi delle coordinate in EPSG 4326\n",
    "min_point = Point(lon_min, lat_min)\n",
    "max_point = Point(lon_max, lat_max)\n",
    "\n",
    "# Crea un GeoDataFrame per i punti minimi e massimi in EPSG 4326\n",
    "points_gdf = gpd.GeoDataFrame(geometry=[min_point, max_point], crs='EPSG:4326')\n",
    "\n",
    "# Salva il GeoDataFrame come file Shapefile\n",
    "points_gdf.to_file('min_max_points_EPSG4326.shp')\n",
    "\n",
    "# Stampa i risultati in EPSG 4326 (WGS84)\n",
    "print(\"Latitudine Minima (EPSG 4326):\", lat_min)\n",
    "print(\"Longitudine Minima (EPSG 4326):\", lon_min)\n",
    "print(\"Latitudine Massima (EPSG 4326):\", lat_max)\n",
    "print(\"Longitudine Massima (EPSG 4326):\", lon_max)"
   ],
   "metadata": {
    "collapsed": false
   }
  },
  {
   "cell_type": "code",
   "execution_count": 10,
   "outputs": [
    {
     "data": {
      "text/plain": "    COD_RIP  COD_REG                DEN_REG    Shape_Leng    Shape_Area  \\\n0         1        1               Piemonte  1.333428e+06  2.538670e+10   \n1         1        2          Valle d'Aosta  3.258364e+05  3.260854e+09   \n2         1        3              Lombardia  1.511132e+06  2.386310e+10   \n3         2        4    Trentino-Alto Adige  8.598731e+05  1.360472e+10   \n4         2        5                 Veneto  1.140433e+06  1.834537e+10   \n5         2        6  Friuli Venezia Giulia  7.692437e+05  7.932482e+09   \n6         1        7                Liguria  1.079642e+06  5.416152e+09   \n7         2        8         Emilia-Romagna  1.289119e+06  2.250143e+10   \n8         3        9                Toscana  1.552065e+06  2.298744e+10   \n9         3       10                 Umbria  6.714160e+05  8.464223e+09   \n10        3       11                 Marche  7.026726e+05  9.344293e+09   \n11        3       12                  Lazio  1.201765e+06  1.723172e+10   \n12        4       13                Abruzzo  6.645380e+05  1.083150e+10   \n13        4       14                 Molise  4.711976e+05  4.460437e+09   \n14        4       15               Campania  1.090753e+06  1.367060e+10   \n15        4       16                 Puglia  1.507342e+06  1.954052e+10   \n16        4       17             Basilicata  6.757507e+05  1.007311e+10   \n17        4       18               Calabria  9.346575e+05  1.522161e+10   \n18        5       19                Sicilia  1.743759e+06  2.583255e+10   \n19        5       20               Sardegna  2.129143e+06  2.409945e+10   \n\n                                             geometry  \n0   POLYGON ((456874.626 5145767.794, 456879.627 5...  \n1   POLYGON ((389358.653 5093659.158, 389433.654 5...  \n2   MULTIPOLYGON (((485366.070 4984899.481, 485306...  \n3   POLYGON ((743387.812 5219741.793, 743414.749 5...  \n4   POLYGON ((768135.210 5175357.497, 768146.460 5...  \n5   MULTIPOLYGON (((872344.457 5061894.048, 872344...  \n6   MULTIPOLYGON (((568230.816 4874870.697, 568232...  \n7   MULTIPOLYGON (((618335.211 4893983.160, 618329...  \n8   MULTIPOLYGON (((673999.896 4681200.360, 674032...  \n9   MULTIPOLYGON (((776426.122 4834159.173, 776480...  \n10  POLYGON ((801317.492 4875251.455, 801336.492 4...  \n11  MULTIPOLYGON (((875819.121 4525280.544, 875832...  \n12  MULTIPOLYGON (((930273.425 4714737.743, 930147...  \n13  POLYGON ((979228.843 4673419.649, 979255.343 4...  \n14  MULTIPOLYGON (((1037266.901 4449456.848, 10372...  \n15  MULTIPOLYGON (((1280636.111 4454459.746, 12806...  \n16  MULTIPOLYGON (((1073851.435 4445828.604, 10738...  \n17  MULTIPOLYGON (((1083350.847 4416684.239, 10833...  \n18  MULTIPOLYGON (((822859.631 3935387.330, 822886...  \n19  MULTIPOLYGON (((448823.400 4301758.251, 448845...  ",
      "text/html": "<div>\n<style scoped>\n    .dataframe tbody tr th:only-of-type {\n        vertical-align: middle;\n    }\n\n    .dataframe tbody tr th {\n        vertical-align: top;\n    }\n\n    .dataframe thead th {\n        text-align: right;\n    }\n</style>\n<table border=\"1\" class=\"dataframe\">\n  <thead>\n    <tr style=\"text-align: right;\">\n      <th></th>\n      <th>COD_RIP</th>\n      <th>COD_REG</th>\n      <th>DEN_REG</th>\n      <th>Shape_Leng</th>\n      <th>Shape_Area</th>\n      <th>geometry</th>\n    </tr>\n  </thead>\n  <tbody>\n    <tr>\n      <th>0</th>\n      <td>1</td>\n      <td>1</td>\n      <td>Piemonte</td>\n      <td>1.333428e+06</td>\n      <td>2.538670e+10</td>\n      <td>POLYGON ((456874.626 5145767.794, 456879.627 5...</td>\n    </tr>\n    <tr>\n      <th>1</th>\n      <td>1</td>\n      <td>2</td>\n      <td>Valle d'Aosta</td>\n      <td>3.258364e+05</td>\n      <td>3.260854e+09</td>\n      <td>POLYGON ((389358.653 5093659.158, 389433.654 5...</td>\n    </tr>\n    <tr>\n      <th>2</th>\n      <td>1</td>\n      <td>3</td>\n      <td>Lombardia</td>\n      <td>1.511132e+06</td>\n      <td>2.386310e+10</td>\n      <td>MULTIPOLYGON (((485366.070 4984899.481, 485306...</td>\n    </tr>\n    <tr>\n      <th>3</th>\n      <td>2</td>\n      <td>4</td>\n      <td>Trentino-Alto Adige</td>\n      <td>8.598731e+05</td>\n      <td>1.360472e+10</td>\n      <td>POLYGON ((743387.812 5219741.793, 743414.749 5...</td>\n    </tr>\n    <tr>\n      <th>4</th>\n      <td>2</td>\n      <td>5</td>\n      <td>Veneto</td>\n      <td>1.140433e+06</td>\n      <td>1.834537e+10</td>\n      <td>POLYGON ((768135.210 5175357.497, 768146.460 5...</td>\n    </tr>\n    <tr>\n      <th>5</th>\n      <td>2</td>\n      <td>6</td>\n      <td>Friuli Venezia Giulia</td>\n      <td>7.692437e+05</td>\n      <td>7.932482e+09</td>\n      <td>MULTIPOLYGON (((872344.457 5061894.048, 872344...</td>\n    </tr>\n    <tr>\n      <th>6</th>\n      <td>1</td>\n      <td>7</td>\n      <td>Liguria</td>\n      <td>1.079642e+06</td>\n      <td>5.416152e+09</td>\n      <td>MULTIPOLYGON (((568230.816 4874870.697, 568232...</td>\n    </tr>\n    <tr>\n      <th>7</th>\n      <td>2</td>\n      <td>8</td>\n      <td>Emilia-Romagna</td>\n      <td>1.289119e+06</td>\n      <td>2.250143e+10</td>\n      <td>MULTIPOLYGON (((618335.211 4893983.160, 618329...</td>\n    </tr>\n    <tr>\n      <th>8</th>\n      <td>3</td>\n      <td>9</td>\n      <td>Toscana</td>\n      <td>1.552065e+06</td>\n      <td>2.298744e+10</td>\n      <td>MULTIPOLYGON (((673999.896 4681200.360, 674032...</td>\n    </tr>\n    <tr>\n      <th>9</th>\n      <td>3</td>\n      <td>10</td>\n      <td>Umbria</td>\n      <td>6.714160e+05</td>\n      <td>8.464223e+09</td>\n      <td>MULTIPOLYGON (((776426.122 4834159.173, 776480...</td>\n    </tr>\n    <tr>\n      <th>10</th>\n      <td>3</td>\n      <td>11</td>\n      <td>Marche</td>\n      <td>7.026726e+05</td>\n      <td>9.344293e+09</td>\n      <td>POLYGON ((801317.492 4875251.455, 801336.492 4...</td>\n    </tr>\n    <tr>\n      <th>11</th>\n      <td>3</td>\n      <td>12</td>\n      <td>Lazio</td>\n      <td>1.201765e+06</td>\n      <td>1.723172e+10</td>\n      <td>MULTIPOLYGON (((875819.121 4525280.544, 875832...</td>\n    </tr>\n    <tr>\n      <th>12</th>\n      <td>4</td>\n      <td>13</td>\n      <td>Abruzzo</td>\n      <td>6.645380e+05</td>\n      <td>1.083150e+10</td>\n      <td>MULTIPOLYGON (((930273.425 4714737.743, 930147...</td>\n    </tr>\n    <tr>\n      <th>13</th>\n      <td>4</td>\n      <td>14</td>\n      <td>Molise</td>\n      <td>4.711976e+05</td>\n      <td>4.460437e+09</td>\n      <td>POLYGON ((979228.843 4673419.649, 979255.343 4...</td>\n    </tr>\n    <tr>\n      <th>14</th>\n      <td>4</td>\n      <td>15</td>\n      <td>Campania</td>\n      <td>1.090753e+06</td>\n      <td>1.367060e+10</td>\n      <td>MULTIPOLYGON (((1037266.901 4449456.848, 10372...</td>\n    </tr>\n    <tr>\n      <th>15</th>\n      <td>4</td>\n      <td>16</td>\n      <td>Puglia</td>\n      <td>1.507342e+06</td>\n      <td>1.954052e+10</td>\n      <td>MULTIPOLYGON (((1280636.111 4454459.746, 12806...</td>\n    </tr>\n    <tr>\n      <th>16</th>\n      <td>4</td>\n      <td>17</td>\n      <td>Basilicata</td>\n      <td>6.757507e+05</td>\n      <td>1.007311e+10</td>\n      <td>MULTIPOLYGON (((1073851.435 4445828.604, 10738...</td>\n    </tr>\n    <tr>\n      <th>17</th>\n      <td>4</td>\n      <td>18</td>\n      <td>Calabria</td>\n      <td>9.346575e+05</td>\n      <td>1.522161e+10</td>\n      <td>MULTIPOLYGON (((1083350.847 4416684.239, 10833...</td>\n    </tr>\n    <tr>\n      <th>18</th>\n      <td>5</td>\n      <td>19</td>\n      <td>Sicilia</td>\n      <td>1.743759e+06</td>\n      <td>2.583255e+10</td>\n      <td>MULTIPOLYGON (((822859.631 3935387.330, 822886...</td>\n    </tr>\n    <tr>\n      <th>19</th>\n      <td>5</td>\n      <td>20</td>\n      <td>Sardegna</td>\n      <td>2.129143e+06</td>\n      <td>2.409945e+10</td>\n      <td>MULTIPOLYGON (((448823.400 4301758.251, 448845...</td>\n    </tr>\n  </tbody>\n</table>\n</div>"
     },
     "execution_count": 10,
     "metadata": {},
     "output_type": "execute_result"
    }
   ],
   "source": [],
   "metadata": {
    "collapsed": false
   }
  }
 ],
 "metadata": {
  "kernelspec": {
   "display_name": "Python 3 (ipykernel)",
   "language": "python",
   "name": "python3"
  },
  "language_info": {
   "codemirror_mode": {
    "name": "ipython",
    "version": 3
   },
   "file_extension": ".py",
   "mimetype": "text/x-python",
   "name": "python",
   "nbconvert_exporter": "python",
   "pygments_lexer": "ipython3",
   "version": "3.11.4"
  }
 },
 "nbformat": 4,
 "nbformat_minor": 5
}
