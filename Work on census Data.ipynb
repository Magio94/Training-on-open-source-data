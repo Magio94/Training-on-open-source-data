{
 "cells": [
  {
   "cell_type": "code",
   "execution_count": null,
   "id": "initial_id",
   "metadata": {
    "collapsed": true
   },
   "outputs": [],
   "source": [
    "import geopandas as gpd, pandas as pd"
   ]
  },
  {
   "cell_type": "markdown",
   "source": [
    "## Open census shp"
   ],
   "metadata": {
    "collapsed": false
   },
   "id": "9f09902677044de3"
  },
  {
   "cell_type": "code",
   "execution_count": null,
   "outputs": [],
   "source": [
    "# read census 2011 shp\n",
    "read_census_geometries_2011 = gpd.read_file('Census_data/2011/R08_11_WGS84/R08_11_WGS84.shp')"
   ],
   "metadata": {
    "collapsed": false
   },
   "id": "6bc0c4d819b3368f"
  },
  {
   "cell_type": "code",
   "execution_count": null,
   "outputs": [],
   "source": [
    "read_census_geometries_2011"
   ],
   "metadata": {
    "collapsed": false
   },
   "id": "da1235c701980d61"
  },
  {
   "cell_type": "code",
   "execution_count": null,
   "outputs": [],
   "source": [
    "# read census 2021 shp\n",
    "read_census_geometries_2021 = gpd.read_file('Census_data/2021_provisional/R08_21_P/SHP/R08_21_WGS84_P.shp')"
   ],
   "metadata": {
    "collapsed": false
   },
   "id": "d5f5359ce06ec4a7"
  },
  {
   "cell_type": "code",
   "execution_count": null,
   "outputs": [],
   "source": [
    "read_census_geometries_2021"
   ],
   "metadata": {
    "collapsed": false
   },
   "id": "588a609e4accbead"
  },
  {
   "cell_type": "markdown",
   "source": [
    "##  Census data"
   ],
   "metadata": {
    "collapsed": false
   },
   "id": "6aab39c830bf5937"
  },
  {
   "cell_type": "code",
   "execution_count": null,
   "outputs": [],
   "source": [
    "read_census_info_2011 = pd.read_csv('Census_data/2011/dati-cpa_2011/Sezioni di Censimento/R08_indicatori_2011_sezioni.csv', sep=\";\" ,encoding='ISO-8859-1')"
   ],
   "metadata": {
    "collapsed": false
   },
   "id": "91e4eeac0ddd0fa7"
  },
  {
   "cell_type": "code",
   "execution_count": null,
   "outputs": [],
   "source": [
    "read_census_info_2011"
   ],
   "metadata": {
    "collapsed": false
   },
   "id": "3e181131e9be8ece"
  },
  {
   "cell_type": "code",
   "execution_count": null,
   "outputs": [],
   "source": [
    "read_census_info_2021 = pd.read_csv('Census_data/2021_provisional/Dati_regionali_2021/R08_indicatori_2021_sezioni.csv', sep=\";\" ,encoding='ISO-8859-1')"
   ],
   "metadata": {
    "collapsed": false
   },
   "id": "c124ab1e90ea1556"
  },
  {
   "cell_type": "code",
   "execution_count": null,
   "outputs": [],
   "source": [
    "read_census_info_2021"
   ],
   "metadata": {
    "collapsed": false
   },
   "id": "3ab965e8d3431e5d"
  },
  {
   "cell_type": "markdown",
   "source": [
    "## Join census data"
   ],
   "metadata": {
    "collapsed": false
   },
   "id": "b8236df6e822bf47"
  },
  {
   "cell_type": "code",
   "execution_count": null,
   "outputs": [],
   "source": [
    "# Main based on the 'SEZ2011' column\n",
    "df_merged_2021 = read_census_geometries_2011.merge(read_census_info_2021, left_on='SEZ2011', right_on='SEZ2011', how='inner')"
   ],
   "metadata": {
    "collapsed": false
   },
   "id": "62656b0d438d1b74"
  },
  {
   "cell_type": "code",
   "execution_count": null,
   "outputs": [],
   "source": [
    "df_merged_2021"
   ],
   "metadata": {
    "collapsed": false
   },
   "id": "da202cd8cd8fa2a9"
  },
  {
   "cell_type": "markdown",
   "source": [
    "## Read buildings data"
   ],
   "metadata": {
    "collapsed": false
   },
   "id": "497ef2448a59257f"
  },
  {
   "cell_type": "code",
   "execution_count": null,
   "outputs": [],
   "source": [
    "gdf_buildings_DB_emilia = gpd.read_file('Buildings_data/volumetria_edifici_uniti.shp')"
   ],
   "metadata": {
    "collapsed": false
   },
   "id": "8c8345ab4a937f04"
  },
  {
   "cell_type": "code",
   "execution_count": null,
   "outputs": [],
   "source": [
    "gdf_buildings_IGM = gpd.read_file('Buildings_data/IGM_Data/buildings_emili_romagna.shp')"
   ],
   "metadata": {
    "collapsed": false
   },
   "id": "4764c1514b89fa2b"
  },
  {
   "cell_type": "markdown",
   "source": [
    "## Clear buildings on a province for more speed"
   ],
   "metadata": {
    "collapsed": false
   },
   "id": "be87eac7f642950e"
  },
  {
   "cell_type": "code",
   "execution_count": null,
   "outputs": [],
   "source": [
    "# loading of provincial borders\n",
    "gdf_provincial_boundaries = gpd.read_file('Limiti01012023/ProvCM01012023/ProvCM01012023_WGS84.shp')"
   ],
   "metadata": {
    "collapsed": false
   },
   "id": "19b6f3b71829e4c4"
  },
  {
   "cell_type": "code",
   "execution_count": null,
   "outputs": [],
   "source": [
    "# select a single province\n",
    "gdf_single_province = gdf_provincial_boundaries[gdf_provincial_boundaries['DEN_PROV'] == 'Piacenza']"
   ],
   "metadata": {
    "collapsed": false
   },
   "id": "89abc8d9dac93586"
  },
  {
   "cell_type": "code",
   "execution_count": null,
   "outputs": [],
   "source": [
    "# standardize the reference systems\n",
    "gdf_single_province = gdf_single_province.to_crs(gdf_buildings_DB_emilia.crs)\n",
    "gdf_buildings_IGM = gdf_buildings_IGM.to_crs(gdf_buildings_DB_emilia.crs)"
   ],
   "metadata": {
    "collapsed": false
   },
   "id": "79f49334a2dc6285"
  },
  {
   "cell_type": "code",
   "execution_count": null,
   "outputs": [],
   "source": [
    "# select only one province to speed up the calculation\n",
    "gdf_sjoin_DB_emilia = gpd.sjoin(gdf_buildings_DB_emilia, gdf_single_province, how=\"inner\", op=\"intersects\")\n",
    "gdf_sjoin_IGM = gpd.sjoin(gdf_buildings_IGM, gdf_single_province, how=\"inner\", op=\"intersects\")"
   ],
   "metadata": {
    "collapsed": false
   },
   "id": "12dd6da60fdd7eae"
  },
  {
   "cell_type": "code",
   "execution_count": null,
   "outputs": [],
   "source": [
    "# reset gdf index\n",
    "gdf_sjoin_DB_emilia = gdf_sjoin_DB_emilia.reset_index(drop=True)\n",
    "gdf_sjoin_IGM = gdf_sjoin_DB_emilia.reset_index(drop=True)"
   ],
   "metadata": {
    "collapsed": false
   },
   "id": "a7a6b3e2fa1ed2ca"
  },
  {
   "cell_type": "code",
   "execution_count": null,
   "outputs": [],
   "source": [
    "# Create a new GeoDataFrame with points at the centroids of the polygons\n",
    "gdf_point = gdf_sjoin_IGM.copy()\n",
    "gdf_point['geometry'] = gdf_point['geometry'].centroid"
   ],
   "metadata": {
    "collapsed": false
   },
   "id": "ed19906e2e78ad69"
  },
  {
   "cell_type": "code",
   "execution_count": null,
   "outputs": [],
   "source": [
    "gdf_point.to_file('points.shp')"
   ],
   "metadata": {
    "collapsed": false
   },
   "id": "5397853154ba9958"
  },
  {
   "cell_type": "code",
   "execution_count": null,
   "outputs": [],
   "source": [
    "gdf_sjoin_DB_emilia = gdf_sjoin_DB_emilia.rename(columns={'index': 'left_index'})\n",
    "gdf_point = gdf_point.rename(columns={'index': 'right_index'})"
   ],
   "metadata": {
    "collapsed": false
   },
   "id": "e0d83007dd82233b"
  },
  {
   "cell_type": "code",
   "execution_count": null,
   "outputs": [],
   "source": [
    "# Perform a spatial join using the \"nearest\" operation\n",
    "gdf_all_info = gpd.sjoin(gdf_sjoin_DB_emilia, gdf_point, how=\"inner\", op=\"nearest\")"
   ],
   "metadata": {
    "collapsed": false
   },
   "id": "729d5e90dc8acb4b"
  },
  {
   "cell_type": "code",
   "execution_count": null,
   "outputs": [],
   "source": [],
   "metadata": {
    "collapsed": false
   },
   "id": "e088bb6238e4e738"
  }
 ],
 "metadata": {
  "kernelspec": {
   "display_name": "Python 3",
   "language": "python",
   "name": "python3"
  },
  "language_info": {
   "codemirror_mode": {
    "name": "ipython",
    "version": 2
   },
   "file_extension": ".py",
   "mimetype": "text/x-python",
   "name": "python",
   "nbconvert_exporter": "python",
   "pygments_lexer": "ipython2",
   "version": "2.7.6"
  }
 },
 "nbformat": 4,
 "nbformat_minor": 5
}
